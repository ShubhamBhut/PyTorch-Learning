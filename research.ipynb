{
 "cells": [
  {
   "cell_type": "code",
   "execution_count": 1,
   "id": "bdc54527",
   "metadata": {
    "_cell_guid": "ee37a71b-d5f0-4a69-97b4-479edd6cafd1",
    "_uuid": "33a3294e-47f9-422d-a6d8-dade344b05c8",
    "collapsed": false,
    "execution": {
     "iopub.execute_input": "2023-01-22T14:35:01.674122Z",
     "iopub.status.busy": "2023-01-22T14:35:01.673452Z",
     "iopub.status.idle": "2023-01-22T14:35:01.701993Z",
     "shell.execute_reply": "2023-01-22T14:35:01.700767Z"
    },
    "jupyter": {
     "outputs_hidden": false
    },
    "papermill": {
     "duration": 0.03636,
     "end_time": "2023-01-22T14:35:01.704744",
     "exception": false,
     "start_time": "2023-01-22T14:35:01.668384",
     "status": "completed"
    },
    "tags": []
   },
   "outputs": [
    {
     "name": "stdout",
     "output_type": "stream",
     "text": [
      "/kaggle/input/researchdata/Paper 2_Wear Depth data.xlsx\n"
     ]
    }
   ],
   "source": [
    "# This Python 3 environment comes with many helpful analytics libraries installed\n",
    "# It is defined by the kaggle/python Docker image: https://github.com/kaggle/docker-python\n",
    "# For example, here's several helpful packages to load\n",
    "\n",
    "import numpy as np # linear algebra\n",
    "import pandas as pd # data processing, CSV file I/O (e.g. pd.read_csv)\n",
    "\n",
    "# Input data files are available in the read-only \"../input/\" directory\n",
    "# For example, running this (by clicking run or pressing Shift+Enter) will list all files under the input directory\n",
    "\n",
    "import os\n",
    "for dirname, _, filenames in os.walk('/kaggle/input'):\n",
    "    for filename in filenames:\n",
    "        print(os.path.join(dirname, filename))\n",
    "\n",
    "# You can write up to 20GB to the current directory (/kaggle/working/) that gets preserved as output when you create a version using \"Save & Run All\" \n",
    "# You can also write temporary files to /kaggle/temp/, but they won't be saved outside of the current session"
   ]
  },
  {
   "cell_type": "code",
   "execution_count": 2,
   "id": "ee92293d",
   "metadata": {
    "execution": {
     "iopub.execute_input": "2023-01-22T14:35:01.710846Z",
     "iopub.status.busy": "2023-01-22T14:35:01.710068Z",
     "iopub.status.idle": "2023-01-22T14:35:02.173993Z",
     "shell.execute_reply": "2023-01-22T14:35:02.172816Z"
    },
    "papermill": {
     "duration": 0.470178,
     "end_time": "2023-01-22T14:35:02.177078",
     "exception": false,
     "start_time": "2023-01-22T14:35:01.706900",
     "status": "completed"
    },
    "tags": []
   },
   "outputs": [
    {
     "data": {
      "text/html": [
       "<div>\n",
       "<style scoped>\n",
       "    .dataframe tbody tr th:only-of-type {\n",
       "        vertical-align: middle;\n",
       "    }\n",
       "\n",
       "    .dataframe tbody tr th {\n",
       "        vertical-align: top;\n",
       "    }\n",
       "\n",
       "    .dataframe thead th {\n",
       "        text-align: right;\n",
       "    }\n",
       "</style>\n",
       "<table border=\"1\" class=\"dataframe\">\n",
       "  <thead>\n",
       "    <tr style=\"text-align: right;\">\n",
       "      <th></th>\n",
       "      <th>Rotation Speed (rpm)</th>\n",
       "      <th>Traverse speed (mm/min)</th>\n",
       "      <th>Traverse distance (mm)</th>\n",
       "      <th>Distance from Shoulder (mm)</th>\n",
       "      <th>Wear depth (average), mm</th>\n",
       "    </tr>\n",
       "  </thead>\n",
       "  <tbody>\n",
       "    <tr>\n",
       "      <th>0</th>\n",
       "      <td>800.0</td>\n",
       "      <td>30.0</td>\n",
       "      <td>300.0</td>\n",
       "      <td>0.0085</td>\n",
       "      <td>0.244100</td>\n",
       "    </tr>\n",
       "    <tr>\n",
       "      <th>1</th>\n",
       "      <td>800.0</td>\n",
       "      <td>30.0</td>\n",
       "      <td>300.0</td>\n",
       "      <td>0.3002</td>\n",
       "      <td>0.286150</td>\n",
       "    </tr>\n",
       "    <tr>\n",
       "      <th>2</th>\n",
       "      <td>800.0</td>\n",
       "      <td>30.0</td>\n",
       "      <td>300.0</td>\n",
       "      <td>0.6013</td>\n",
       "      <td>0.319000</td>\n",
       "    </tr>\n",
       "    <tr>\n",
       "      <th>3</th>\n",
       "      <td>800.0</td>\n",
       "      <td>30.0</td>\n",
       "      <td>300.0</td>\n",
       "      <td>0.9024</td>\n",
       "      <td>0.328550</td>\n",
       "    </tr>\n",
       "    <tr>\n",
       "      <th>4</th>\n",
       "      <td>800.0</td>\n",
       "      <td>30.0</td>\n",
       "      <td>300.0</td>\n",
       "      <td>1.2035</td>\n",
       "      <td>0.361150</td>\n",
       "    </tr>\n",
       "    <tr>\n",
       "      <th>...</th>\n",
       "      <td>...</td>\n",
       "      <td>...</td>\n",
       "      <td>...</td>\n",
       "      <td>...</td>\n",
       "      <td>...</td>\n",
       "    </tr>\n",
       "    <tr>\n",
       "      <th>236</th>\n",
       "      <td>1000.0</td>\n",
       "      <td>70.0</td>\n",
       "      <td>1000.0</td>\n",
       "      <td>2.7092</td>\n",
       "      <td>0.499550</td>\n",
       "    </tr>\n",
       "    <tr>\n",
       "      <th>237</th>\n",
       "      <td>1000.0</td>\n",
       "      <td>70.0</td>\n",
       "      <td>1000.0</td>\n",
       "      <td>3.0009</td>\n",
       "      <td>0.715650</td>\n",
       "    </tr>\n",
       "    <tr>\n",
       "      <th>238</th>\n",
       "      <td>1000.0</td>\n",
       "      <td>70.0</td>\n",
       "      <td>1000.0</td>\n",
       "      <td>3.3020</td>\n",
       "      <td>1.032850</td>\n",
       "    </tr>\n",
       "    <tr>\n",
       "      <th>239</th>\n",
       "      <td>1000.0</td>\n",
       "      <td>70.0</td>\n",
       "      <td>1000.0</td>\n",
       "      <td>3.5380</td>\n",
       "      <td>1.430650</td>\n",
       "    </tr>\n",
       "    <tr>\n",
       "      <th>240</th>\n",
       "      <td>1000.0</td>\n",
       "      <td>70.0</td>\n",
       "      <td>1000.0</td>\n",
       "      <td>3.7974</td>\n",
       "      <td>2.723295</td>\n",
       "    </tr>\n",
       "  </tbody>\n",
       "</table>\n",
       "<p>241 rows × 5 columns</p>\n",
       "</div>"
      ],
      "text/plain": [
       "     Rotation Speed (rpm)  Traverse speed (mm/min)  Traverse distance (mm)  \\\n",
       "0                   800.0                     30.0                   300.0   \n",
       "1                   800.0                     30.0                   300.0   \n",
       "2                   800.0                     30.0                   300.0   \n",
       "3                   800.0                     30.0                   300.0   \n",
       "4                   800.0                     30.0                   300.0   \n",
       "..                    ...                      ...                     ...   \n",
       "236                1000.0                     70.0                  1000.0   \n",
       "237                1000.0                     70.0                  1000.0   \n",
       "238                1000.0                     70.0                  1000.0   \n",
       "239                1000.0                     70.0                  1000.0   \n",
       "240                1000.0                     70.0                  1000.0   \n",
       "\n",
       "     Distance from Shoulder (mm)  Wear depth (average), mm  \n",
       "0                         0.0085                  0.244100  \n",
       "1                         0.3002                  0.286150  \n",
       "2                         0.6013                  0.319000  \n",
       "3                         0.9024                  0.328550  \n",
       "4                         1.2035                  0.361150  \n",
       "..                           ...                       ...  \n",
       "236                       2.7092                  0.499550  \n",
       "237                       3.0009                  0.715650  \n",
       "238                       3.3020                  1.032850  \n",
       "239                       3.5380                  1.430650  \n",
       "240                       3.7974                  2.723295  \n",
       "\n",
       "[241 rows x 5 columns]"
      ]
     },
     "execution_count": 2,
     "metadata": {},
     "output_type": "execute_result"
    }
   ],
   "source": [
    "pd.read_excel('/kaggle/input/researchdata/Paper 2_Wear Depth data.xlsx')"
   ]
  },
  {
   "cell_type": "code",
   "execution_count": null,
   "id": "02574a6e",
   "metadata": {
    "papermill": {
     "duration": 0.001915,
     "end_time": "2023-01-22T14:35:02.183241",
     "exception": false,
     "start_time": "2023-01-22T14:35:02.181326",
     "status": "completed"
    },
    "tags": []
   },
   "outputs": [],
   "source": []
  }
 ],
 "metadata": {
  "kernelspec": {
   "display_name": "Python 3",
   "language": "python",
   "name": "python3"
  },
  "language_info": {
   "codemirror_mode": {
    "name": "ipython",
    "version": 3
   },
   "file_extension": ".py",
   "mimetype": "text/x-python",
   "name": "python",
   "nbconvert_exporter": "python",
   "pygments_lexer": "ipython3",
   "version": "3.7.12"
  },
  "papermill": {
   "default_parameters": {},
   "duration": 9.972836,
   "end_time": "2023-01-22T14:35:02.908266",
   "environment_variables": {},
   "exception": null,
   "input_path": "__notebook__.ipynb",
   "output_path": "__notebook__.ipynb",
   "parameters": {},
   "start_time": "2023-01-22T14:34:52.935430",
   "version": "2.3.4"
  }
 },
 "nbformat": 4,
 "nbformat_minor": 5
}
