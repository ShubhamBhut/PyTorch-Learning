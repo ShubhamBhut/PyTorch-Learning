{
 "cells": [
  {
   "cell_type": "code",
   "execution_count": 1,
   "id": "3513c0fe",
   "metadata": {
    "_cell_guid": "b1076dfc-b9ad-4769-8c92-a6c4dae69d19",
    "_uuid": "8f2839f25d086af736a60e9eeb907d3b93b6e0e5",
    "execution": {
     "iopub.execute_input": "2022-10-06T16:04:36.186248Z",
     "iopub.status.busy": "2022-10-06T16:04:36.185236Z",
     "iopub.status.idle": "2022-10-06T16:04:36.198724Z",
     "shell.execute_reply": "2022-10-06T16:04:36.197957Z"
    },
    "papermill": {
     "duration": 0.046159,
     "end_time": "2022-10-06T16:04:36.201243",
     "exception": false,
     "start_time": "2022-10-06T16:04:36.155084",
     "status": "completed"
    },
    "tags": []
   },
   "outputs": [],
   "source": [
    "# This Python 3 environment comes with many helpful analytics libraries installed\n",
    "# It is defined by the kaggle/python Docker image: https://github.com/kaggle/docker-python\n",
    "# For example, here's several helpful packages to load\n",
    "\n",
    "import numpy as np # linear algebra\n",
    "import pandas as pd # data processing, CSV file I/O (e.g. pd.read_csv)\n",
    "\n",
    "# Input data files are available in the read-only \"../input/\" directory\n",
    "# For example, running this (by clicking run or pressing Shift+Enter) will list all files under the input directory\n",
    "\n",
    "import os\n",
    "for dirname, _, filenames in os.walk('/kaggle/input'):\n",
    "    for filename in filenames:\n",
    "        print(os.path.join(dirname, filename))\n",
    "\n",
    "# You can write up to 20GB to the current directory (/kaggle/working/) that gets preserved as output when you create a version using \"Save & Run All\" \n",
    "# You can also write temporary files to /kaggle/temp/, but they won't be saved outside of the current session"
   ]
  },
  {
   "cell_type": "markdown",
   "id": "a97a6819",
   "metadata": {
    "papermill": {
     "duration": 0.019777,
     "end_time": "2022-10-06T16:04:36.241512",
     "exception": false,
     "start_time": "2022-10-06T16:04:36.221735",
     "status": "completed"
    },
    "tags": []
   },
   "source": [
    "The full list of all the datasets stored inside torchvision.dataseets is [here](https://pytorch.org/vision/stable/datasets.html)"
   ]
  },
  {
   "cell_type": "markdown",
   "id": "f455d2b1",
   "metadata": {
    "papermill": {
     "duration": 0.02023,
     "end_time": "2022-10-06T16:04:36.281721",
     "exception": false,
     "start_time": "2022-10-06T16:04:36.261491",
     "status": "completed"
    },
    "tags": []
   },
   "source": [
    "# Tensors"
   ]
  },
  {
   "cell_type": "markdown",
   "id": "144727bf",
   "metadata": {
    "papermill": {
     "duration": 0.01937,
     "end_time": "2022-10-06T16:04:36.321368",
     "exception": false,
     "start_time": "2022-10-06T16:04:36.301998",
     "status": "completed"
    },
    "tags": []
   },
   "source": [
    "Tensors are just like multidimensional vectors, whose computations can also be prfomred on GPU and specially made TPUs. They are the most widely used data-sturctures in Deep learning."
   ]
  },
  {
   "cell_type": "code",
   "execution_count": 2,
   "id": "f7a1be45",
   "metadata": {
    "execution": {
     "iopub.execute_input": "2022-10-06T16:04:36.363495Z",
     "iopub.status.busy": "2022-10-06T16:04:36.362442Z",
     "iopub.status.idle": "2022-10-06T16:04:38.216237Z",
     "shell.execute_reply": "2022-10-06T16:04:38.215150Z"
    },
    "papermill": {
     "duration": 1.877896,
     "end_time": "2022-10-06T16:04:38.219168",
     "exception": false,
     "start_time": "2022-10-06T16:04:36.341272",
     "status": "completed"
    },
    "tags": []
   },
   "outputs": [],
   "source": [
    "import torch\n",
    "import numpy as np"
   ]
  },
  {
   "cell_type": "markdown",
   "id": "de444f86",
   "metadata": {
    "papermill": {
     "duration": 0.019436,
     "end_time": "2022-10-06T16:04:38.258445",
     "exception": false,
     "start_time": "2022-10-06T16:04:38.239009",
     "status": "completed"
    },
    "tags": []
   },
   "source": [
    "### Tensors intialization"
   ]
  },
  {
   "cell_type": "markdown",
   "id": "49a9a888",
   "metadata": {
    "papermill": {
     "duration": 0.019459,
     "end_time": "2022-10-06T16:04:38.297722",
     "exception": false,
     "start_time": "2022-10-06T16:04:38.278263",
     "status": "completed"
    },
    "tags": []
   },
   "source": [
    "Directly from data"
   ]
  },
  {
   "cell_type": "code",
   "execution_count": 3,
   "id": "560725cd",
   "metadata": {
    "execution": {
     "iopub.execute_input": "2022-10-06T16:04:38.339843Z",
     "iopub.status.busy": "2022-10-06T16:04:38.338777Z",
     "iopub.status.idle": "2022-10-06T16:04:38.344219Z",
     "shell.execute_reply": "2022-10-06T16:04:38.343468Z"
    },
    "papermill": {
     "duration": 0.029076,
     "end_time": "2022-10-06T16:04:38.346548",
     "exception": false,
     "start_time": "2022-10-06T16:04:38.317472",
     "status": "completed"
    },
    "tags": []
   },
   "outputs": [],
   "source": [
    "data = [[1,2], [3,4]]\n",
    "x_data = torch.tensor(data)"
   ]
  },
  {
   "cell_type": "markdown",
   "id": "5f8013f2",
   "metadata": {
    "papermill": {
     "duration": 0.01947,
     "end_time": "2022-10-06T16:04:38.385805",
     "exception": false,
     "start_time": "2022-10-06T16:04:38.366335",
     "status": "completed"
    },
    "tags": []
   },
   "source": [
    "From numpy array"
   ]
  },
  {
   "cell_type": "code",
   "execution_count": 4,
   "id": "37c5d5be",
   "metadata": {
    "execution": {
     "iopub.execute_input": "2022-10-06T16:04:38.427971Z",
     "iopub.status.busy": "2022-10-06T16:04:38.427157Z",
     "iopub.status.idle": "2022-10-06T16:04:38.432330Z",
     "shell.execute_reply": "2022-10-06T16:04:38.431504Z"
    },
    "papermill": {
     "duration": 0.028815,
     "end_time": "2022-10-06T16:04:38.434598",
     "exception": false,
     "start_time": "2022-10-06T16:04:38.405783",
     "status": "completed"
    },
    "tags": []
   },
   "outputs": [],
   "source": [
    "np_array = np.array(data)\n",
    "x_np = torch.from_numpy(np_array)"
   ]
  },
  {
   "cell_type": "markdown",
   "id": "7c30e5b5",
   "metadata": {
    "papermill": {
     "duration": 0.019565,
     "end_time": "2022-10-06T16:04:38.474007",
     "exception": false,
     "start_time": "2022-10-06T16:04:38.454442",
     "status": "completed"
    },
    "tags": []
   },
   "source": [
    "From other tensor"
   ]
  },
  {
   "cell_type": "code",
   "execution_count": 5,
   "id": "9303ae56",
   "metadata": {
    "execution": {
     "iopub.execute_input": "2022-10-06T16:04:38.515915Z",
     "iopub.status.busy": "2022-10-06T16:04:38.515129Z",
     "iopub.status.idle": "2022-10-06T16:04:38.526020Z",
     "shell.execute_reply": "2022-10-06T16:04:38.524630Z"
    },
    "papermill": {
     "duration": 0.034761,
     "end_time": "2022-10-06T16:04:38.528558",
     "exception": false,
     "start_time": "2022-10-06T16:04:38.493797",
     "status": "completed"
    },
    "tags": []
   },
   "outputs": [
    {
     "name": "stdout",
     "output_type": "stream",
     "text": [
      "Ones Tensor: \n",
      " tensor([[1, 1],\n",
      "        [1, 1]]) \n",
      "\n",
      "Random Tensor: \n",
      " tensor([[0.0796, 0.2105],\n",
      "        [0.9695, 0.0659]]) \n",
      "\n"
     ]
    }
   ],
   "source": [
    "x_ones = torch.ones_like(x_data) # retains the properties of x_data\n",
    "print(f\"Ones Tensor: \\n {x_ones} \\n\")\n",
    "\n",
    "x_rand = torch.rand_like(x_data, dtype=torch.float) # overrides the datatype of x_data\n",
    "print(f\"Random Tensor: \\n {x_rand} \\n\")"
   ]
  },
  {
   "cell_type": "markdown",
   "id": "3670278a",
   "metadata": {
    "papermill": {
     "duration": 0.020053,
     "end_time": "2022-10-06T16:04:38.568797",
     "exception": false,
     "start_time": "2022-10-06T16:04:38.548744",
     "status": "completed"
    },
    "tags": []
   },
   "source": [
    "With random or constant values"
   ]
  },
  {
   "cell_type": "markdown",
   "id": "867e2c06",
   "metadata": {
    "papermill": {
     "duration": 0.019721,
     "end_time": "2022-10-06T16:04:38.608844",
     "exception": false,
     "start_time": "2022-10-06T16:04:38.589123",
     "status": "completed"
    },
    "tags": []
   },
   "source": [
    "Where you’ll want some assurance of the reproducibility of your results. Manually setting your random number generator’s seed is the way to do this. Seeding basically fixes the randomly generated value for the desired instance"
   ]
  },
  {
   "cell_type": "code",
   "execution_count": 6,
   "id": "4323e395",
   "metadata": {
    "execution": {
     "iopub.execute_input": "2022-10-06T16:04:38.651462Z",
     "iopub.status.busy": "2022-10-06T16:04:38.650689Z",
     "iopub.status.idle": "2022-10-06T16:04:38.660035Z",
     "shell.execute_reply": "2022-10-06T16:04:38.659039Z"
    },
    "papermill": {
     "duration": 0.033159,
     "end_time": "2022-10-06T16:04:38.662354",
     "exception": false,
     "start_time": "2022-10-06T16:04:38.629195",
     "status": "completed"
    },
    "tags": []
   },
   "outputs": [
    {
     "name": "stdout",
     "output_type": "stream",
     "text": [
      "tensor([[0.3126, 0.3791, 0.3087],\n",
      "        [0.0736, 0.4216, 0.0691]])\n"
     ]
    }
   ],
   "source": [
    "torch.manual_seed(1729)\n",
    "random_tensor = torch.rand(2, 3)\n",
    "print(random_tensor)"
   ]
  },
  {
   "cell_type": "code",
   "execution_count": 7,
   "id": "68b8a510",
   "metadata": {
    "execution": {
     "iopub.execute_input": "2022-10-06T16:04:38.706660Z",
     "iopub.status.busy": "2022-10-06T16:04:38.706263Z",
     "iopub.status.idle": "2022-10-06T16:04:38.716970Z",
     "shell.execute_reply": "2022-10-06T16:04:38.715396Z"
    },
    "papermill": {
     "duration": 0.035727,
     "end_time": "2022-10-06T16:04:38.719460",
     "exception": false,
     "start_time": "2022-10-06T16:04:38.683733",
     "status": "completed"
    },
    "tags": []
   },
   "outputs": [
    {
     "name": "stdout",
     "output_type": "stream",
     "text": [
      "Random Tensor: \n",
      " tensor([[0.2332, 0.4047, 0.2162],\n",
      "        [0.9927, 0.4128, 0.5938]]) \n",
      "\n",
      "Ones Tensor: \n",
      " tensor([[1., 1., 1.],\n",
      "        [1., 1., 1.]]) \n",
      "\n",
      "Zeros Tensor: \n",
      " tensor([[0., 0., 0.],\n",
      "        [0., 0., 0.]])\n",
      "New Tensor: \n",
      " tensor([[0.6128, 0.1519, 0.0453],\n",
      "        [0.5035, 0.9978, 0.3884]])\n"
     ]
    }
   ],
   "source": [
    "shape = (2,3,)\n",
    "rand_tensor = torch.rand(shape)\n",
    "ones_tensor = torch.ones(shape)\n",
    "zeros_tensor = torch.zeros(shape)\n",
    "\n",
    "new_tensor = torch.rand_like(ones_tensor)\n",
    "\n",
    "print(f\"Random Tensor: \\n {rand_tensor} \\n\")\n",
    "print(f\"Ones Tensor: \\n {ones_tensor} \\n\")\n",
    "print(f\"Zeros Tensor: \\n {zeros_tensor}\")\n",
    "print(f\"New Tensor: \\n {new_tensor}\")"
   ]
  },
  {
   "cell_type": "markdown",
   "id": "5ab163b8",
   "metadata": {
    "papermill": {
     "duration": 0.020327,
     "end_time": "2022-10-06T16:04:38.760649",
     "exception": false,
     "start_time": "2022-10-06T16:04:38.740322",
     "status": "completed"
    },
    "tags": []
   },
   "source": [
    "### Operations on tensor"
   ]
  },
  {
   "cell_type": "code",
   "execution_count": 8,
   "id": "60ab17c1",
   "metadata": {
    "execution": {
     "iopub.execute_input": "2022-10-06T16:04:38.804260Z",
     "iopub.status.busy": "2022-10-06T16:04:38.803460Z",
     "iopub.status.idle": "2022-10-06T16:04:38.810895Z",
     "shell.execute_reply": "2022-10-06T16:04:38.809389Z"
    },
    "papermill": {
     "duration": 0.031811,
     "end_time": "2022-10-06T16:04:38.813225",
     "exception": false,
     "start_time": "2022-10-06T16:04:38.781414",
     "status": "completed"
    },
    "tags": []
   },
   "outputs": [
    {
     "name": "stdout",
     "output_type": "stream",
     "text": [
      "Shape of tensor: torch.Size([3, 4])\n",
      "Datatype of tensor: torch.float32\n",
      "Device tensor is stored on: cpu\n"
     ]
    }
   ],
   "source": [
    "tensor = torch.rand(3,4)\n",
    "\n",
    "print(f\"Shape of tensor: {tensor.shape}\")\n",
    "print(f\"Datatype of tensor: {tensor.dtype}\")\n",
    "print(f\"Device tensor is stored on: {tensor.device}\")"
   ]
  },
  {
   "cell_type": "markdown",
   "id": "47300f79",
   "metadata": {
    "papermill": {
     "duration": 0.020324,
     "end_time": "2022-10-06T16:04:38.854255",
     "exception": false,
     "start_time": "2022-10-06T16:04:38.833931",
     "status": "completed"
    },
    "tags": []
   },
   "source": [
    "## Full list - https://pytorch.org/docs/stable/torch.html"
   ]
  },
  {
   "cell_type": "markdown",
   "id": "6e364fa7",
   "metadata": {
    "papermill": {
     "duration": 0.020358,
     "end_time": "2022-10-06T16:04:38.895201",
     "exception": false,
     "start_time": "2022-10-06T16:04:38.874843",
     "status": "completed"
    },
    "tags": []
   },
   "source": [
    "Slicing and indexing"
   ]
  },
  {
   "cell_type": "code",
   "execution_count": 9,
   "id": "cbbc3527",
   "metadata": {
    "execution": {
     "iopub.execute_input": "2022-10-06T16:04:38.938567Z",
     "iopub.status.busy": "2022-10-06T16:04:38.937471Z",
     "iopub.status.idle": "2022-10-06T16:04:38.947571Z",
     "shell.execute_reply": "2022-10-06T16:04:38.945589Z"
    },
    "papermill": {
     "duration": 0.034334,
     "end_time": "2022-10-06T16:04:38.950082",
     "exception": false,
     "start_time": "2022-10-06T16:04:38.915748",
     "status": "completed"
    },
    "tags": []
   },
   "outputs": [
    {
     "name": "stdout",
     "output_type": "stream",
     "text": [
      "First row: tensor([1., 1., 1., 1.])\n",
      "First column: tensor([1., 1., 1., 1.])\n",
      "Last column: tensor([1., 1., 1., 1.])\n",
      "tensor([[1., 0., 1., 1.],\n",
      "        [1., 0., 1., 1.],\n",
      "        [1., 0., 1., 1.],\n",
      "        [1., 0., 1., 1.]])\n"
     ]
    }
   ],
   "source": [
    "tensor = torch.ones(4, 4)\n",
    "print(f\"First row: {tensor[0]}\")\n",
    "print(f\"First column: {tensor[:, 0]}\")\n",
    "print(f\"Last column: {tensor[..., -1]}\")\n",
    "\n",
    "tensor[:,1] = 0\n",
    "\n",
    "print(tensor)"
   ]
  },
  {
   "cell_type": "code",
   "execution_count": null,
   "id": "f82d7fe6",
   "metadata": {
    "papermill": {
     "duration": 0.021022,
     "end_time": "2022-10-06T16:04:38.992153",
     "exception": false,
     "start_time": "2022-10-06T16:04:38.971131",
     "status": "completed"
    },
    "tags": []
   },
   "outputs": [],
   "source": []
  },
  {
   "cell_type": "markdown",
   "id": "71008ef4",
   "metadata": {
    "papermill": {
     "duration": 0.020345,
     "end_time": "2022-10-06T16:04:39.033256",
     "exception": false,
     "start_time": "2022-10-06T16:04:39.012911",
     "status": "completed"
    },
    "tags": []
   },
   "source": [
    "### Joining the tensors"
   ]
  },
  {
   "cell_type": "code",
   "execution_count": 10,
   "id": "72913813",
   "metadata": {
    "execution": {
     "iopub.execute_input": "2022-10-06T16:04:39.078227Z",
     "iopub.status.busy": "2022-10-06T16:04:39.077511Z",
     "iopub.status.idle": "2022-10-06T16:04:39.089006Z",
     "shell.execute_reply": "2022-10-06T16:04:39.087866Z"
    },
    "papermill": {
     "duration": 0.036038,
     "end_time": "2022-10-06T16:04:39.091174",
     "exception": false,
     "start_time": "2022-10-06T16:04:39.055136",
     "status": "completed"
    },
    "tags": []
   },
   "outputs": [
    {
     "data": {
      "text/plain": [
       "tensor([[1., 1., 1., 0., 0., 0., 0.],\n",
       "        [1., 1., 1., 0., 0., 0., 0.],\n",
       "        [1., 1., 1., 0., 0., 0., 0.]])"
      ]
     },
     "execution_count": 10,
     "metadata": {},
     "output_type": "execute_result"
    }
   ],
   "source": [
    "t1 = torch.ones(3,3)\n",
    "t2 = torch.zeros(3,4)\n",
    "t3 = torch.cat([t1, t2], dim=1)\n",
    "t3"
   ]
  },
  {
   "cell_type": "code",
   "execution_count": 11,
   "id": "3271bd05",
   "metadata": {
    "execution": {
     "iopub.execute_input": "2022-10-06T16:04:39.136511Z",
     "iopub.status.busy": "2022-10-06T16:04:39.136082Z",
     "iopub.status.idle": "2022-10-06T16:04:39.148199Z",
     "shell.execute_reply": "2022-10-06T16:04:39.146931Z"
    },
    "papermill": {
     "duration": 0.037462,
     "end_time": "2022-10-06T16:04:39.150668",
     "exception": false,
     "start_time": "2022-10-06T16:04:39.113206",
     "status": "completed"
    },
    "tags": []
   },
   "outputs": [
    {
     "data": {
      "text/plain": [
       "tensor([[[0., 0., 0., 0.],\n",
       "         [0., 0., 0., 0.],\n",
       "         [0., 0., 0., 0.]],\n",
       "\n",
       "        [[1., 1., 1., 1.],\n",
       "         [1., 1., 1., 1.],\n",
       "         [1., 1., 1., 1.]]])"
      ]
     },
     "execution_count": 11,
     "metadata": {},
     "output_type": "execute_result"
    }
   ],
   "source": [
    "t4 = torch.ones(3,4)\n",
    "t5 = torch.stack([t2, t4], dim=0)\n",
    "t5"
   ]
  },
  {
   "cell_type": "code",
   "execution_count": null,
   "id": "cb92fac1",
   "metadata": {
    "papermill": {
     "duration": 0.020859,
     "end_time": "2022-10-06T16:04:39.192853",
     "exception": false,
     "start_time": "2022-10-06T16:04:39.171994",
     "status": "completed"
    },
    "tags": []
   },
   "outputs": [],
   "source": []
  },
  {
   "cell_type": "markdown",
   "id": "ea730d9a",
   "metadata": {
    "papermill": {
     "duration": 0.021301,
     "end_time": "2022-10-06T16:04:39.235091",
     "exception": false,
     "start_time": "2022-10-06T16:04:39.213790",
     "status": "completed"
    },
    "tags": []
   },
   "source": [
    "### Arithmatic Opearations"
   ]
  },
  {
   "cell_type": "markdown",
   "id": "6e0ef403",
   "metadata": {
    "papermill": {
     "duration": 0.020734,
     "end_time": "2022-10-06T16:04:39.276843",
     "exception": false,
     "start_time": "2022-10-06T16:04:39.256109",
     "status": "completed"
    },
    "tags": []
   },
   "source": [
    "Multiplication"
   ]
  },
  {
   "cell_type": "code",
   "execution_count": 12,
   "id": "ae54a7b2",
   "metadata": {
    "execution": {
     "iopub.execute_input": "2022-10-06T16:04:39.320442Z",
     "iopub.status.busy": "2022-10-06T16:04:39.320072Z",
     "iopub.status.idle": "2022-10-06T16:04:39.336049Z",
     "shell.execute_reply": "2022-10-06T16:04:39.334727Z"
    },
    "papermill": {
     "duration": 0.040801,
     "end_time": "2022-10-06T16:04:39.338503",
     "exception": false,
     "start_time": "2022-10-06T16:04:39.297702",
     "status": "completed"
    },
    "tags": []
   },
   "outputs": [
    {
     "name": "stdout",
     "output_type": "stream",
     "text": [
      "tensor([[1.5258, 0.7665, 1.7158],\n",
      "        [1.5258, 0.7665, 1.7158],\n",
      "        [1.5258, 0.7665, 1.7158]])\n",
      "tensor([[1.5258, 0.7665, 1.7158],\n",
      "        [1.5258, 0.7665, 1.7158],\n",
      "        [1.5258, 0.7665, 1.7158]])\n",
      "tensor([[1.5258, 0.7665, 1.7158],\n",
      "        [1.5258, 0.7665, 1.7158],\n",
      "        [1.5258, 0.7665, 1.7158]])\n"
     ]
    }
   ],
   "source": [
    "t5 = torch.rand(3, 3)\n",
    "multi1 = t1 @ t5.T\n",
    "multi2 = t1.matmul(t5.T)\n",
    "multi3 = torch.rand_like(t1)\n",
    "torch.matmul(t1, t5.T, out=multi3)\n",
    "\n",
    "print(multi1)\n",
    "print(multi2)\n",
    "print(multi3)"
   ]
  },
  {
   "cell_type": "markdown",
   "id": "b8e5edfa",
   "metadata": {
    "papermill": {
     "duration": 0.020727,
     "end_time": "2022-10-06T16:04:39.380648",
     "exception": false,
     "start_time": "2022-10-06T16:04:39.359921",
     "status": "completed"
    },
    "tags": []
   },
   "source": [
    "Sum"
   ]
  },
  {
   "cell_type": "code",
   "execution_count": 13,
   "id": "260142cb",
   "metadata": {
    "execution": {
     "iopub.execute_input": "2022-10-06T16:04:39.424289Z",
     "iopub.status.busy": "2022-10-06T16:04:39.423886Z",
     "iopub.status.idle": "2022-10-06T16:04:39.431645Z",
     "shell.execute_reply": "2022-10-06T16:04:39.430035Z"
    },
    "papermill": {
     "duration": 0.032705,
     "end_time": "2022-10-06T16:04:39.434337",
     "exception": false,
     "start_time": "2022-10-06T16:04:39.401632",
     "status": "completed"
    },
    "tags": []
   },
   "outputs": [
    {
     "name": "stdout",
     "output_type": "stream",
     "text": [
      "tensor(4.0081)\n",
      "4.008126258850098\n"
     ]
    }
   ],
   "source": [
    "agg = t5.sum()\n",
    "agg_item = agg.item()\n",
    "\n",
    "print(agg)\n",
    "print(agg_item)"
   ]
  },
  {
   "cell_type": "markdown",
   "id": "ca61bb64",
   "metadata": {
    "papermill": {
     "duration": 0.021004,
     "end_time": "2022-10-06T16:04:39.476683",
     "exception": false,
     "start_time": "2022-10-06T16:04:39.455679",
     "status": "completed"
    },
    "tags": []
   },
   "source": [
    "In-place operations Operations that store the result into the operand are called in-place. They are denoted by a _ suffix. For example: x.copy_(y), x.t_(), will change x."
   ]
  },
  {
   "cell_type": "code",
   "execution_count": 14,
   "id": "b6fa327b",
   "metadata": {
    "execution": {
     "iopub.execute_input": "2022-10-06T16:04:39.521624Z",
     "iopub.status.busy": "2022-10-06T16:04:39.521241Z",
     "iopub.status.idle": "2022-10-06T16:04:39.528705Z",
     "shell.execute_reply": "2022-10-06T16:04:39.527724Z"
    },
    "papermill": {
     "duration": 0.032803,
     "end_time": "2022-10-06T16:04:39.530867",
     "exception": false,
     "start_time": "2022-10-06T16:04:39.498064",
     "status": "completed"
    },
    "tags": []
   },
   "outputs": [
    {
     "data": {
      "text/plain": [
       "tensor([[3.0703, 3.5105, 3.9451],\n",
       "        [3.2359, 3.1979, 3.3327],\n",
       "        [3.6146, 3.5999, 3.5013]])"
      ]
     },
     "execution_count": 14,
     "metadata": {},
     "output_type": "execute_result"
    }
   ],
   "source": [
    "t5.add_(3)\n",
    "t5"
   ]
  },
  {
   "cell_type": "code",
   "execution_count": 15,
   "id": "9de5d11e",
   "metadata": {
    "execution": {
     "iopub.execute_input": "2022-10-06T16:04:39.576795Z",
     "iopub.status.busy": "2022-10-06T16:04:39.575478Z",
     "iopub.status.idle": "2022-10-06T16:04:39.584633Z",
     "shell.execute_reply": "2022-10-06T16:04:39.583563Z"
    },
    "papermill": {
     "duration": 0.034542,
     "end_time": "2022-10-06T16:04:39.587148",
     "exception": false,
     "start_time": "2022-10-06T16:04:39.552606",
     "status": "completed"
    },
    "tags": []
   },
   "outputs": [
    {
     "data": {
      "text/plain": [
       "tensor([[6.0703, 6.5105, 6.9451],\n",
       "        [6.2359, 6.1979, 6.3327],\n",
       "        [6.6146, 6.5999, 6.5013]])"
      ]
     },
     "execution_count": 15,
     "metadata": {},
     "output_type": "execute_result"
    }
   ],
   "source": [
    "t7 = t5 + 3\n",
    "t7"
   ]
  },
  {
   "cell_type": "markdown",
   "id": "d9515c2a",
   "metadata": {
    "papermill": {
     "duration": 0.021247,
     "end_time": "2022-10-06T16:04:39.630034",
     "exception": false,
     "start_time": "2022-10-06T16:04:39.608787",
     "status": "completed"
    },
    "tags": []
   },
   "source": [
    "Tensors supports almost all mathematical operations"
   ]
  },
  {
   "cell_type": "code",
   "execution_count": 16,
   "id": "a91c39f1",
   "metadata": {
    "execution": {
     "iopub.execute_input": "2022-10-06T16:04:39.674797Z",
     "iopub.status.busy": "2022-10-06T16:04:39.674416Z",
     "iopub.status.idle": "2022-10-06T16:04:39.679518Z",
     "shell.execute_reply": "2022-10-06T16:04:39.678354Z"
    },
    "papermill": {
     "duration": 0.030184,
     "end_time": "2022-10-06T16:04:39.681797",
     "exception": false,
     "start_time": "2022-10-06T16:04:39.651613",
     "status": "completed"
    },
    "tags": []
   },
   "outputs": [],
   "source": [
    "import math"
   ]
  },
  {
   "cell_type": "code",
   "execution_count": 17,
   "id": "95478c9c",
   "metadata": {
    "execution": {
     "iopub.execute_input": "2022-10-06T16:04:39.728016Z",
     "iopub.status.busy": "2022-10-06T16:04:39.727109Z",
     "iopub.status.idle": "2022-10-06T16:04:39.806084Z",
     "shell.execute_reply": "2022-10-06T16:04:39.804682Z"
    },
    "papermill": {
     "duration": 0.104849,
     "end_time": "2022-10-06T16:04:39.809046",
     "exception": false,
     "start_time": "2022-10-06T16:04:39.704197",
     "status": "completed"
    },
    "tags": []
   },
   "outputs": [
    {
     "name": "stdout",
     "output_type": "stream",
     "text": [
      "Common functions:\n",
      "tensor([[0.5951, 0.1461, 0.4382, 0.1866],\n",
      "        [0.4602, 0.2551, 0.4715, 0.9238]])\n",
      "tensor([[-0., 1., 1., -0.],\n",
      "        [1., 1., 1., -0.]])\n",
      "tensor([[-1.,  0.,  0., -1.],\n",
      "        [ 0.,  0.,  0., -1.]])\n",
      "tensor([[-0.5000,  0.1461,  0.4382, -0.1866],\n",
      "        [ 0.4602,  0.2551,  0.4715, -0.5000]])\n",
      "\n",
      "Sine and arcsine:\n",
      "tensor([0.0000, 0.7854, 1.5708, 2.3562])\n",
      "tensor([0.0000, 0.7071, 1.0000, 0.7071])\n",
      "tensor([0.0000, 0.7854, 1.5708, 0.7854])\n",
      "\n",
      "Bitwise XOR:\n",
      "tensor([3, 2, 1])\n",
      "\n",
      "Broadcasted, element-wise equality comparison:\n",
      "tensor([[ True, False],\n",
      "        [False, False]])\n",
      "\n",
      "Reduction ops:\n",
      "tensor(4.)\n",
      "4.0\n",
      "tensor(2.5000)\n",
      "tensor(1.2910)\n",
      "tensor(24.)\n",
      "tensor([1, 2])\n",
      "\n",
      "Vectors & Matrices:\n",
      "tensor([ 0.,  0., -1.])\n",
      "tensor([[0.2138, 0.5395],\n",
      "        [0.3686, 0.4007]])\n",
      "tensor([[0.6414, 1.6186],\n",
      "        [1.1057, 1.2021]])\n",
      "torch.return_types.svd(\n",
      "U=tensor([[-0.7309, -0.6825],\n",
      "        [-0.6825,  0.7309]]),\n",
      "S=tensor([2.3475, 0.4339]),\n",
      "V=tensor([[-0.5212,  0.8535],\n",
      "        [-0.8535, -0.5212]]))\n"
     ]
    }
   ],
   "source": [
    "# common functions\n",
    "a = torch.rand(2, 4) * 2 - 1\n",
    "print('Common functions:')\n",
    "print(torch.abs(a))\n",
    "print(torch.ceil(a))\n",
    "print(torch.floor(a))\n",
    "print(torch.clamp(a, -0.5, 0.5))\n",
    "\n",
    "# trigonometric functions and their inverses\n",
    "angles = torch.tensor([0, math.pi / 4, math.pi / 2, 3 * math.pi / 4])\n",
    "sines = torch.sin(angles)\n",
    "inverses = torch.asin(sines)\n",
    "print('\\nSine and arcsine:')\n",
    "print(angles)\n",
    "print(sines)\n",
    "print(inverses)\n",
    "\n",
    "# bitwise operations\n",
    "print('\\nBitwise XOR:')\n",
    "b = torch.tensor([1, 5, 11])\n",
    "c = torch.tensor([2, 7, 10])\n",
    "print(torch.bitwise_xor(b, c))\n",
    "\n",
    "# comparisons:\n",
    "print('\\nBroadcasted, element-wise equality comparison:')\n",
    "d = torch.tensor([[1., 2.], [3., 4.]])\n",
    "e = torch.ones(1, 2)  # many comparison ops support broadcasting!\n",
    "print(torch.eq(d, e)) # returns a tensor of type bool\n",
    "\n",
    "# reductions:\n",
    "print('\\nReduction ops:')\n",
    "print(torch.max(d))        # returns a single-element tensor\n",
    "print(torch.max(d).item()) # extracts the value from the returned tensor\n",
    "print(torch.mean(d))       # average\n",
    "print(torch.std(d))        # standard deviation\n",
    "print(torch.prod(d))       # product of all numbers\n",
    "print(torch.unique(torch.tensor([1, 2, 1, 2, 1, 2]))) # filter unique elements\n",
    "\n",
    "# vector and linear algebra operations\n",
    "v1 = torch.tensor([1., 0., 0.])         # x unit vector\n",
    "v2 = torch.tensor([0., 1., 0.])         # y unit vector\n",
    "m1 = torch.rand(2, 2)                   # random matrix\n",
    "m2 = torch.tensor([[3., 0.], [0., 3.]]) # three times identity matrix\n",
    "\n",
    "print('\\nVectors & Matrices:')\n",
    "print(torch.cross(v2, v1)) # negative of z unit vector (v1 x v2 == -v2 x v1)\n",
    "print(m1)\n",
    "m3 = torch.matmul(m1, m2)\n",
    "print(m3)                  # 3 times m1\n",
    "print(torch.svd(m3))       # singular value decomposition"
   ]
  },
  {
   "cell_type": "markdown",
   "id": "97bb07f0",
   "metadata": {
    "papermill": {
     "duration": 0.021885,
     "end_time": "2022-10-06T16:04:39.853897",
     "exception": false,
     "start_time": "2022-10-06T16:04:39.832012",
     "status": "completed"
    },
    "tags": []
   },
   "source": [
    "Tensors on the CPU and NumPy arrays can share their underlying memory locations, and changing one will change the other."
   ]
  },
  {
   "cell_type": "markdown",
   "id": "6a90cff9",
   "metadata": {
    "papermill": {
     "duration": 0.021545,
     "end_time": "2022-10-06T16:04:39.897230",
     "exception": false,
     "start_time": "2022-10-06T16:04:39.875685",
     "status": "completed"
    },
    "tags": []
   },
   "source": [
    "### Squeeze and Unsqueeze"
   ]
  },
  {
   "cell_type": "markdown",
   "id": "63533373",
   "metadata": {
    "papermill": {
     "duration": 0.021979,
     "end_time": "2022-10-06T16:04:39.940907",
     "exception": false,
     "start_time": "2022-10-06T16:04:39.918928",
     "status": "completed"
    },
    "tags": []
   },
   "source": [
    "One case where you might need to change the number of dimensions is passing a single instance of input to your model. PyTorch models generally expect batches of input.\n",
    "\n",
    "For example, imagine having a model that works on 3 x 226 x 226 images - a 226-pixel square with 3 color channels. When you load and transform it, you’ll get a tensor of shape (3, 226, 226). Your model, though, is expecting input of shape (N, 3, 226, 226), where N is the number of images in the batch. So how do you make a batch of one?\n",
    "\n",
    "The unsqueeze() method adds a dimension of extent 1. unsqueeze(0) adds it as a new zeroth dimension - now you have a batch of one!"
   ]
  },
  {
   "cell_type": "code",
   "execution_count": 18,
   "id": "654bb128",
   "metadata": {
    "execution": {
     "iopub.execute_input": "2022-10-06T16:04:39.986284Z",
     "iopub.status.busy": "2022-10-06T16:04:39.985869Z",
     "iopub.status.idle": "2022-10-06T16:04:39.994424Z",
     "shell.execute_reply": "2022-10-06T16:04:39.992879Z"
    },
    "papermill": {
     "duration": 0.034162,
     "end_time": "2022-10-06T16:04:39.997084",
     "exception": false,
     "start_time": "2022-10-06T16:04:39.962922",
     "status": "completed"
    },
    "tags": []
   },
   "outputs": [
    {
     "name": "stdout",
     "output_type": "stream",
     "text": [
      "torch.Size([3, 226, 226])\n",
      "torch.Size([1, 3, 226, 226])\n",
      "torch.Size([3, 226, 226])\n"
     ]
    }
   ],
   "source": [
    "a = torch.rand(3, 226, 226)\n",
    "b = a.unsqueeze(0)\n",
    "c = b.squeeze(0)\n",
    "\n",
    "print(a.shape)\n",
    "print(b.shape)\n",
    "print(c.shape)"
   ]
  },
  {
   "cell_type": "markdown",
   "id": "2a7e330a",
   "metadata": {
    "papermill": {
     "duration": 0.022985,
     "end_time": "2022-10-06T16:04:40.042960",
     "exception": false,
     "start_time": "2022-10-06T16:04:40.019975",
     "status": "completed"
    },
    "tags": []
   },
   "source": [
    "So if that’s unsqueezing? What do we mean by squeezing? We’re taking advantage of the fact that any dimension of extent 1 does not change the number of elements in the tensor.\n",
    "\n"
   ]
  },
  {
   "cell_type": "code",
   "execution_count": 19,
   "id": "7b81c62f",
   "metadata": {
    "execution": {
     "iopub.execute_input": "2022-10-06T16:04:40.089977Z",
     "iopub.status.busy": "2022-10-06T16:04:40.089564Z",
     "iopub.status.idle": "2022-10-06T16:04:40.097072Z",
     "shell.execute_reply": "2022-10-06T16:04:40.095555Z"
    },
    "papermill": {
     "duration": 0.034273,
     "end_time": "2022-10-06T16:04:40.099775",
     "exception": false,
     "start_time": "2022-10-06T16:04:40.065502",
     "status": "completed"
    },
    "tags": []
   },
   "outputs": [
    {
     "name": "stdout",
     "output_type": "stream",
     "text": [
      "tensor([[[[[0.8083]]]]])\n"
     ]
    }
   ],
   "source": [
    "c = torch.rand(1, 1, 1, 1, 1)\n",
    "print(c)"
   ]
  },
  {
   "cell_type": "markdown",
   "id": "1c00f68e",
   "metadata": {
    "papermill": {
     "duration": 0.02279,
     "end_time": "2022-10-06T16:04:40.145654",
     "exception": false,
     "start_time": "2022-10-06T16:04:40.122864",
     "status": "completed"
    },
    "tags": []
   },
   "source": [
    "# GPU and TPUs\n"
   ]
  },
  {
   "cell_type": "markdown",
   "id": "8cd88f34",
   "metadata": {
    "papermill": {
     "duration": 0.022046,
     "end_time": "2022-10-06T16:04:40.189996",
     "exception": false,
     "start_time": "2022-10-06T16:04:40.167950",
     "status": "completed"
    },
    "tags": []
   },
   "source": [
    "As we discussed before, tensor operations can be performed on GPU and TPUs faster compare to CPU. Let's check if we have a supporting GPU or not."
   ]
  },
  {
   "cell_type": "code",
   "execution_count": 20,
   "id": "51d8c087",
   "metadata": {
    "execution": {
     "iopub.execute_input": "2022-10-06T16:04:40.236532Z",
     "iopub.status.busy": "2022-10-06T16:04:40.235658Z",
     "iopub.status.idle": "2022-10-06T16:04:40.242284Z",
     "shell.execute_reply": "2022-10-06T16:04:40.240938Z"
    },
    "papermill": {
     "duration": 0.032563,
     "end_time": "2022-10-06T16:04:40.244690",
     "exception": false,
     "start_time": "2022-10-06T16:04:40.212127",
     "status": "completed"
    },
    "tags": []
   },
   "outputs": [
    {
     "name": "stdout",
     "output_type": "stream",
     "text": [
      "Sorry, CPU only.\n"
     ]
    }
   ],
   "source": [
    "if torch.cuda.is_available():\n",
    "    print('We have a GPU!')\n",
    "else:\n",
    "    print('Sorry, CPU only.')"
   ]
  },
  {
   "cell_type": "markdown",
   "id": "949c218b",
   "metadata": {
    "papermill": {
     "duration": 0.021905,
     "end_time": "2022-10-06T16:04:40.288954",
     "exception": false,
     "start_time": "2022-10-06T16:04:40.267049",
     "status": "completed"
    },
    "tags": []
   },
   "source": [
    "* By default, new tensors are created on the CPU, so we have to specify when we want to create our tensor on the GPU with the optional device argument. You can see when we print the new tensor, PyTorch informs us which device it’s on (if it’s not on CPU).\n",
    "\n",
    "* You can query the number of GPUs with torch.cuda.device_count(). If you have more than one GPU, you can specify them by index: device='cuda:0', device='cuda:1', etc.\n",
    "\n",
    "* As a coding practice, specifying our devices everywhere with string constants is pretty fragile. In an ideal world, your code would perform robustly whether you’re on CPU or GPU hardware. You can do this by creating a device handle that can be passed to your tensors instead of a string:"
   ]
  },
  {
   "cell_type": "code",
   "execution_count": 21,
   "id": "7febf2dd",
   "metadata": {
    "execution": {
     "iopub.execute_input": "2022-10-06T16:04:40.335685Z",
     "iopub.status.busy": "2022-10-06T16:04:40.335305Z",
     "iopub.status.idle": "2022-10-06T16:04:40.343062Z",
     "shell.execute_reply": "2022-10-06T16:04:40.341773Z"
    },
    "papermill": {
     "duration": 0.034118,
     "end_time": "2022-10-06T16:04:40.345427",
     "exception": false,
     "start_time": "2022-10-06T16:04:40.311309",
     "status": "completed"
    },
    "tags": []
   },
   "outputs": [
    {
     "name": "stdout",
     "output_type": "stream",
     "text": [
      "Device: cpu\n",
      "tensor([[0.5408, 0.2576],\n",
      "        [0.5258, 0.5329]])\n"
     ]
    }
   ],
   "source": [
    "if torch.cuda.is_available():\n",
    "    my_device = torch.device('cuda')\n",
    "else:\n",
    "    my_device = torch.device('cpu')\n",
    "print('Device: {}'.format(my_device))\n",
    "\n",
    "x = torch.rand(2, 2, device=my_device)\n",
    "print(x)"
   ]
  },
  {
   "cell_type": "markdown",
   "id": "562f231c",
   "metadata": {
    "papermill": {
     "duration": 0.02266,
     "end_time": "2022-10-06T16:04:40.390699",
     "exception": false,
     "start_time": "2022-10-06T16:04:40.368039",
     "status": "completed"
    },
    "tags": []
   },
   "source": [
    "If you have an existing tensor living on one device, you can move it to another with the to() method. The following line of code creates a tensor on CPU, and moves it to whichever device handle you acquired in the previous cell.\n",
    "\n"
   ]
  },
  {
   "cell_type": "code",
   "execution_count": 22,
   "id": "a384df79",
   "metadata": {
    "execution": {
     "iopub.execute_input": "2022-10-06T16:04:40.438048Z",
     "iopub.status.busy": "2022-10-06T16:04:40.437591Z",
     "iopub.status.idle": "2022-10-06T16:04:40.443278Z",
     "shell.execute_reply": "2022-10-06T16:04:40.441893Z"
    },
    "papermill": {
     "duration": 0.031382,
     "end_time": "2022-10-06T16:04:40.445410",
     "exception": false,
     "start_time": "2022-10-06T16:04:40.414028",
     "status": "completed"
    },
    "tags": []
   },
   "outputs": [],
   "source": [
    "y = torch.rand(2, 2)\n",
    "y = y.to(my_device)"
   ]
  },
  {
   "cell_type": "markdown",
   "id": "42917919",
   "metadata": {
    "papermill": {
     "duration": 0.021997,
     "end_time": "2022-10-06T16:04:40.489945",
     "exception": false,
     "start_time": "2022-10-06T16:04:40.467948",
     "status": "completed"
    },
    "tags": []
   },
   "source": [
    "# Datasets and Dataloaders"
   ]
  },
  {
   "cell_type": "markdown",
   "id": "2610cceb",
   "metadata": {
    "papermill": {
     "duration": 0.022103,
     "end_time": "2022-10-06T16:04:40.534545",
     "exception": false,
     "start_time": "2022-10-06T16:04:40.512442",
     "status": "completed"
    },
    "tags": []
   },
   "source": [
    "### Loading dataset"
   ]
  },
  {
   "cell_type": "code",
   "execution_count": 23,
   "id": "4376a3ba",
   "metadata": {
    "execution": {
     "iopub.execute_input": "2022-10-06T16:04:40.581929Z",
     "iopub.status.busy": "2022-10-06T16:04:40.581495Z",
     "iopub.status.idle": "2022-10-06T16:04:40.859331Z",
     "shell.execute_reply": "2022-10-06T16:04:40.858159Z"
    },
    "papermill": {
     "duration": 0.304897,
     "end_time": "2022-10-06T16:04:40.862134",
     "exception": false,
     "start_time": "2022-10-06T16:04:40.557237",
     "status": "completed"
    },
    "tags": []
   },
   "outputs": [],
   "source": [
    "import torch\n",
    "from torch.utils.data import Dataset\n",
    "from torchvision import datasets\n",
    "from torchvision.transforms import ToTensor\n",
    "import matplotlib.pyplot as plt"
   ]
  },
  {
   "cell_type": "code",
   "execution_count": 24,
   "id": "ad9c6445",
   "metadata": {
    "execution": {
     "iopub.execute_input": "2022-10-06T16:04:40.910135Z",
     "iopub.status.busy": "2022-10-06T16:04:40.909655Z",
     "iopub.status.idle": "2022-10-06T16:04:48.449318Z",
     "shell.execute_reply": "2022-10-06T16:04:48.447763Z"
    },
    "papermill": {
     "duration": 7.567576,
     "end_time": "2022-10-06T16:04:48.452925",
     "exception": false,
     "start_time": "2022-10-06T16:04:40.885349",
     "status": "completed"
    },
    "tags": []
   },
   "outputs": [
    {
     "name": "stdout",
     "output_type": "stream",
     "text": [
      "Downloading http://fashion-mnist.s3-website.eu-central-1.amazonaws.com/train-images-idx3-ubyte.gz\n",
      "Downloading http://fashion-mnist.s3-website.eu-central-1.amazonaws.com/train-images-idx3-ubyte.gz to data/FashionMNIST/raw/train-images-idx3-ubyte.gz\n"
     ]
    },
    {
     "data": {
      "application/vnd.jupyter.widget-view+json": {
       "model_id": "5e8944c07a5e41629e5de3835f05f8a3",
       "version_major": 2,
       "version_minor": 0
      },
      "text/plain": [
       "  0%|          | 0/26421880 [00:00<?, ?it/s]"
      ]
     },
     "metadata": {},
     "output_type": "display_data"
    },
    {
     "name": "stdout",
     "output_type": "stream",
     "text": [
      "Extracting data/FashionMNIST/raw/train-images-idx3-ubyte.gz to data/FashionMNIST/raw\n",
      "\n",
      "Downloading http://fashion-mnist.s3-website.eu-central-1.amazonaws.com/train-labels-idx1-ubyte.gz\n",
      "Downloading http://fashion-mnist.s3-website.eu-central-1.amazonaws.com/train-labels-idx1-ubyte.gz to data/FashionMNIST/raw/train-labels-idx1-ubyte.gz\n"
     ]
    },
    {
     "data": {
      "application/vnd.jupyter.widget-view+json": {
       "model_id": "cbc2cc7153c24fe8a1abb8516272488f",
       "version_major": 2,
       "version_minor": 0
      },
      "text/plain": [
       "  0%|          | 0/29515 [00:00<?, ?it/s]"
      ]
     },
     "metadata": {},
     "output_type": "display_data"
    },
    {
     "name": "stdout",
     "output_type": "stream",
     "text": [
      "Extracting data/FashionMNIST/raw/train-labels-idx1-ubyte.gz to data/FashionMNIST/raw\n",
      "\n",
      "Downloading http://fashion-mnist.s3-website.eu-central-1.amazonaws.com/t10k-images-idx3-ubyte.gz\n",
      "Downloading http://fashion-mnist.s3-website.eu-central-1.amazonaws.com/t10k-images-idx3-ubyte.gz to data/FashionMNIST/raw/t10k-images-idx3-ubyte.gz\n"
     ]
    },
    {
     "data": {
      "application/vnd.jupyter.widget-view+json": {
       "model_id": "e44fbd029fd143dcbbaf824ec791db5e",
       "version_major": 2,
       "version_minor": 0
      },
      "text/plain": [
       "  0%|          | 0/4422102 [00:00<?, ?it/s]"
      ]
     },
     "metadata": {},
     "output_type": "display_data"
    },
    {
     "name": "stdout",
     "output_type": "stream",
     "text": [
      "Extracting data/FashionMNIST/raw/t10k-images-idx3-ubyte.gz to data/FashionMNIST/raw\n",
      "\n",
      "Downloading http://fashion-mnist.s3-website.eu-central-1.amazonaws.com/t10k-labels-idx1-ubyte.gz\n",
      "Downloading http://fashion-mnist.s3-website.eu-central-1.amazonaws.com/t10k-labels-idx1-ubyte.gz to data/FashionMNIST/raw/t10k-labels-idx1-ubyte.gz\n"
     ]
    },
    {
     "data": {
      "application/vnd.jupyter.widget-view+json": {
       "model_id": "7b66ce8f46d64ef087c28475a6586f35",
       "version_major": 2,
       "version_minor": 0
      },
      "text/plain": [
       "  0%|          | 0/5148 [00:00<?, ?it/s]"
      ]
     },
     "metadata": {},
     "output_type": "display_data"
    },
    {
     "name": "stdout",
     "output_type": "stream",
     "text": [
      "Extracting data/FashionMNIST/raw/t10k-labels-idx1-ubyte.gz to data/FashionMNIST/raw\n",
      "\n"
     ]
    }
   ],
   "source": [
    "training_data = datasets.FashionMNIST(\n",
    "    root = \"data\",\n",
    "    train = True,\n",
    "    download = True,\n",
    "    transform = ToTensor()\n",
    ")\n",
    "\n",
    "test_data = datasets.FashionMNIST(\n",
    "    root = \"data\",\n",
    "    train = False,\n",
    "    download = True,\n",
    "    transform = ToTensor()\n",
    ")"
   ]
  },
  {
   "cell_type": "markdown",
   "id": "466328e6",
   "metadata": {
    "papermill": {
     "duration": 0.024484,
     "end_time": "2022-10-06T16:04:48.502180",
     "exception": false,
     "start_time": "2022-10-06T16:04:48.477696",
     "status": "completed"
    },
    "tags": []
   },
   "source": [
    "### Visualizing dataset"
   ]
  },
  {
   "cell_type": "code",
   "execution_count": 25,
   "id": "06871307",
   "metadata": {
    "execution": {
     "iopub.execute_input": "2022-10-06T16:04:48.552011Z",
     "iopub.status.busy": "2022-10-06T16:04:48.551617Z",
     "iopub.status.idle": "2022-10-06T16:04:48.556520Z",
     "shell.execute_reply": "2022-10-06T16:04:48.555365Z"
    },
    "papermill": {
     "duration": 0.03278,
     "end_time": "2022-10-06T16:04:48.559015",
     "exception": false,
     "start_time": "2022-10-06T16:04:48.526235",
     "status": "completed"
    },
    "tags": []
   },
   "outputs": [],
   "source": [
    "import pandas as pd"
   ]
  },
  {
   "cell_type": "code",
   "execution_count": 26,
   "id": "531faa77",
   "metadata": {
    "execution": {
     "iopub.execute_input": "2022-10-06T16:04:48.630247Z",
     "iopub.status.busy": "2022-10-06T16:04:48.629172Z",
     "iopub.status.idle": "2022-10-06T16:04:48.634630Z",
     "shell.execute_reply": "2022-10-06T16:04:48.633308Z"
    },
    "papermill": {
     "duration": 0.04352,
     "end_time": "2022-10-06T16:04:48.637172",
     "exception": false,
     "start_time": "2022-10-06T16:04:48.593652",
     "status": "completed"
    },
    "tags": []
   },
   "outputs": [],
   "source": [
    "# for i, j in training_data:\n",
    "#     print(j)"
   ]
  },
  {
   "cell_type": "code",
   "execution_count": 27,
   "id": "925db3fd",
   "metadata": {
    "execution": {
     "iopub.execute_input": "2022-10-06T16:04:48.692400Z",
     "iopub.status.busy": "2022-10-06T16:04:48.691968Z",
     "iopub.status.idle": "2022-10-06T16:04:49.186721Z",
     "shell.execute_reply": "2022-10-06T16:04:49.185441Z"
    },
    "papermill": {
     "duration": 0.522818,
     "end_time": "2022-10-06T16:04:49.189471",
     "exception": false,
     "start_time": "2022-10-06T16:04:48.666653",
     "status": "completed"
    },
    "tags": []
   },
   "outputs": [
    {
     "data": {
      "image/png": "[encoded data removed]",
      "text/plain": [
       "<Figure size 720x720 with 9 Axes>"
      ]
     },
     "metadata": {
      "needs_background": "light"
     },
     "output_type": "display_data"
    }
   ],
   "source": [
    "labels_map = {0: \"T-Shirt\",\n",
    "    1: \"Trouser\",\n",
    "    2: \"Pullover\",\n",
    "    3: \"Dress\",\n",
    "    4: \"Coat\",\n",
    "    5: \"Sandal\",\n",
    "    6: \"Shirt\",\n",
    "    7: \"Sneaker\",\n",
    "    8: \"Bag\",\n",
    "    9: \"Ankle Boot\",}\n",
    "\n",
    "figure = plt.figure(figsize = (10,10))\n",
    "cols ,rows = 3, 3\n",
    "\n",
    "for i in range (1, rows*cols+1):\n",
    "    sample_idx = torch.randint(len(training_data), size=(1,)).item()\n",
    "    img, label = training_data[sample_idx]\n",
    "    figure.add_subplot(rows, cols, i)\n",
    "    plt.title(labels_map[label])\n",
    "    plt.axis(\"off\")\n",
    "    plt.imshow(img.squeeze(), cmap=\"gray\")\n",
    "plt.show()"
   ]
  },
  {
   "cell_type": "markdown",
   "id": "a3b0b57d",
   "metadata": {
    "papermill": {
     "duration": 0.023898,
     "end_time": "2022-10-06T16:04:49.237785",
     "exception": false,
     "start_time": "2022-10-06T16:04:49.213887",
     "status": "completed"
    },
    "tags": []
   },
   "source": [
    "Custom dataset"
   ]
  },
  {
   "cell_type": "code",
   "execution_count": 28,
   "id": "8024185c",
   "metadata": {
    "execution": {
     "iopub.execute_input": "2022-10-06T16:04:49.288591Z",
     "iopub.status.busy": "2022-10-06T16:04:49.287936Z",
     "iopub.status.idle": "2022-10-06T16:04:49.296580Z",
     "shell.execute_reply": "2022-10-06T16:04:49.295777Z"
    },
    "papermill": {
     "duration": 0.036907,
     "end_time": "2022-10-06T16:04:49.298863",
     "exception": false,
     "start_time": "2022-10-06T16:04:49.261956",
     "status": "completed"
    },
    "tags": []
   },
   "outputs": [],
   "source": [
    "import os\n",
    "import pandas as pd\n",
    "from torchvision.io import read_image\n",
    "\n",
    "class CustomImageDataset(Dataset):\n",
    "    def __init__(self, annotations_file, img_dir, transform=None, target_transform=None):\n",
    "        self.img_labels = pd.read_csv(annotations_file)\n",
    "        self.img_dir = img_dir\n",
    "        self.transform = transform\n",
    "        self.target_transform = target_transform\n",
    "\n",
    "    def __len__(self):\n",
    "        return len(self.img_labels)\n",
    "\n",
    "    def __getitem__(self, idx):\n",
    "        img_path = os.path.join(self.img_dir, self.img_labels.iloc[idx, 0])\n",
    "        image = read_image(img_path)\n",
    "        label = self.img_labels.iloc[idx, 1]\n",
    "        if self.transform:\n",
    "            image = self.transform(image)\n",
    "        if self.target_transform:\n",
    "            label = self.target_transform(label)\n",
    "        return image, label"
   ]
  },
  {
   "cell_type": "markdown",
   "id": "55019747",
   "metadata": {
    "papermill": {
     "duration": 0.024045,
     "end_time": "2022-10-06T16:04:49.347219",
     "exception": false,
     "start_time": "2022-10-06T16:04:49.323174",
     "status": "completed"
    },
    "tags": []
   },
   "source": [
    "Preparing your data for training with DataLoaders"
   ]
  },
  {
   "cell_type": "code",
   "execution_count": 29,
   "id": "41da1fb1",
   "metadata": {
    "execution": {
     "iopub.execute_input": "2022-10-06T16:04:49.397873Z",
     "iopub.status.busy": "2022-10-06T16:04:49.397438Z",
     "iopub.status.idle": "2022-10-06T16:04:49.403172Z",
     "shell.execute_reply": "2022-10-06T16:04:49.401998Z"
    },
    "papermill": {
     "duration": 0.033946,
     "end_time": "2022-10-06T16:04:49.405499",
     "exception": false,
     "start_time": "2022-10-06T16:04:49.371553",
     "status": "completed"
    },
    "tags": []
   },
   "outputs": [],
   "source": [
    "from torch.utils.data import DataLoader\n",
    "\n",
    "train_dataloader = DataLoader(training_data, batch_size=64, shuffle=True)\n",
    "test_dataloader = DataLoader(test_data, batch_size=64, shuffle=True)"
   ]
  },
  {
   "cell_type": "markdown",
   "id": "82232b68",
   "metadata": {
    "papermill": {
     "duration": 0.024032,
     "end_time": "2022-10-06T16:04:49.454111",
     "exception": false,
     "start_time": "2022-10-06T16:04:49.430079",
     "status": "completed"
    },
    "tags": []
   },
   "source": [
    "Iterate through dataset"
   ]
  },
  {
   "cell_type": "code",
   "execution_count": 30,
   "id": "b7af3f90",
   "metadata": {
    "execution": {
     "iopub.execute_input": "2022-10-06T16:04:49.505840Z",
     "iopub.status.busy": "2022-10-06T16:04:49.504555Z",
     "iopub.status.idle": "2022-10-06T16:04:49.708227Z",
     "shell.execute_reply": "2022-10-06T16:04:49.706931Z"
    },
    "papermill": {
     "duration": 0.231687,
     "end_time": "2022-10-06T16:04:49.710526",
     "exception": false,
     "start_time": "2022-10-06T16:04:49.478839",
     "status": "completed"
    },
    "tags": []
   },
   "outputs": [
    {
     "name": "stdout",
     "output_type": "stream",
     "text": [
      "Feature batch shape: torch.Size([64, 1, 28, 28])\n",
      "Labels batch shape: torch.Size([64])\n"
     ]
    },
    {
     "data": {
      "image/png": "[encoded data removed]",
      "text/plain": [
       "<Figure size 432x288 with 1 Axes>"
      ]
     },
     "metadata": {
      "needs_background": "light"
     },
     "output_type": "display_data"
    },
    {
     "name": "stdout",
     "output_type": "stream",
     "text": [
      "Label: 4\n"
     ]
    }
   ],
   "source": [
    "train_features, train_labels = next(iter(train_dataloader))\n",
    "print(f\"Feature batch shape: {train_features.size()}\")\n",
    "print(f\"Labels batch shape: {train_labels.size()}\")\n",
    "img = train_features[0].squeeze()\n",
    "label = train_labels[0]\n",
    "plt.imshow(img, cmap=\"gray\")\n",
    "plt.show()\n",
    "print(f\"Label: {label}\")"
   ]
  },
  {
   "cell_type": "markdown",
   "id": "1cae57da",
   "metadata": {
    "papermill": {
     "duration": 0.02451,
     "end_time": "2022-10-06T16:04:49.760372",
     "exception": false,
     "start_time": "2022-10-06T16:04:49.735862",
     "status": "completed"
    },
    "tags": []
   },
   "source": [
    "#### For further reading - https://pytorch.org/docs/stable/data.html"
   ]
  },
  {
   "cell_type": "markdown",
   "id": "6f62fc47",
   "metadata": {
    "papermill": {
     "duration": 0.024508,
     "end_time": "2022-10-06T16:04:49.809634",
     "exception": false,
     "start_time": "2022-10-06T16:04:49.785126",
     "status": "completed"
    },
    "tags": []
   },
   "source": [
    "# Transform for data manipulation"
   ]
  },
  {
   "cell_type": "markdown",
   "id": "cad24b3f",
   "metadata": {
    "papermill": {
     "duration": 0.02459,
     "end_time": "2022-10-06T16:04:49.859154",
     "exception": false,
     "start_time": "2022-10-06T16:04:49.834564",
     "status": "completed"
    },
    "tags": []
   },
   "source": [
    "All TorchVision datasets have two parameters -transform to modify the features and target_transform to modify the labels - that accept callables containing the transformation logic. "
   ]
  },
  {
   "cell_type": "code",
   "execution_count": 31,
   "id": "82e080f5",
   "metadata": {
    "execution": {
     "iopub.execute_input": "2022-10-06T16:04:49.911101Z",
     "iopub.status.busy": "2022-10-06T16:04:49.909907Z",
     "iopub.status.idle": "2022-10-06T16:04:49.915559Z",
     "shell.execute_reply": "2022-10-06T16:04:49.914690Z"
    },
    "papermill": {
     "duration": 0.033889,
     "end_time": "2022-10-06T16:04:49.917763",
     "exception": false,
     "start_time": "2022-10-06T16:04:49.883874",
     "status": "completed"
    },
    "tags": []
   },
   "outputs": [],
   "source": [
    "import torch \n",
    "from torchvision import datasets\n",
    "from torchvision.transforms import ToTensor, Lambda"
   ]
  },
  {
   "cell_type": "code",
   "execution_count": 32,
   "id": "62892adb",
   "metadata": {
    "execution": {
     "iopub.execute_input": "2022-10-06T16:04:49.971574Z",
     "iopub.status.busy": "2022-10-06T16:04:49.970744Z",
     "iopub.status.idle": "2022-10-06T16:04:50.065854Z",
     "shell.execute_reply": "2022-10-06T16:04:50.064662Z"
    },
    "papermill": {
     "duration": 0.124658,
     "end_time": "2022-10-06T16:04:50.068765",
     "exception": false,
     "start_time": "2022-10-06T16:04:49.944107",
     "status": "completed"
    },
    "tags": []
   },
   "outputs": [
    {
     "data": {
      "text/plain": [
       "Dataset FashionMNIST\n",
       "    Number of datapoints: 60000\n",
       "    Root location: data\n",
       "    Split: Train\n",
       "    StandardTransform\n",
       "Transform: ToTensor()\n",
       "Target transform: Lambda()"
      ]
     },
     "execution_count": 32,
     "metadata": {},
     "output_type": "execute_result"
    }
   ],
   "source": [
    "ds = datasets.FashionMNIST(\n",
    "    root=\"data\",\n",
    "    train=True,\n",
    "    download=True,\n",
    "    transform=ToTensor(),\n",
    "    target_transform=Lambda(lambda y: torch.zeros(10, dtype=torch.float).scatter_(0, torch.tensor(y), value=1))\n",
    ")\n",
    "\n",
    "ds"
   ]
  },
  {
   "cell_type": "markdown",
   "id": "a378d76c",
   "metadata": {
    "papermill": {
     "duration": 0.025495,
     "end_time": "2022-10-06T16:04:50.121273",
     "exception": false,
     "start_time": "2022-10-06T16:04:50.095778",
     "status": "completed"
    },
    "tags": []
   },
   "source": [
    "ToTensor converts a PIL image or NumPy ndarray into a FloatTensor. and scales the image’s pixel intensity values in the range [0., 1.], \n",
    "\n",
    "Lambda transforms apply any user-defined lambda function. Here, we define a function to turn the integer into a one-hot encoded tensor. It first creates a zero tensor of size 10 (the number of labels in our dataset) and calls scatter_ which assigns a value=1 on the index as given by the label y.\n"
   ]
  },
  {
   "cell_type": "markdown",
   "id": "1e65d5c6",
   "metadata": {
    "papermill": {
     "duration": 0.02473,
     "end_time": "2022-10-06T16:04:50.172234",
     "exception": false,
     "start_time": "2022-10-06T16:04:50.147504",
     "status": "completed"
    },
    "tags": []
   },
   "source": [
    "#### For further info - https://pytorch.org/vision/stable/transforms.html"
   ]
  },
  {
   "cell_type": "markdown",
   "id": "1e8ebcd0",
   "metadata": {
    "papermill": {
     "duration": 0.024761,
     "end_time": "2022-10-06T16:04:50.222134",
     "exception": false,
     "start_time": "2022-10-06T16:04:50.197373",
     "status": "completed"
    },
    "tags": []
   },
   "source": [
    "# Autograd "
   ]
  },
  {
   "cell_type": "markdown",
   "id": "6340234e",
   "metadata": {
    "papermill": {
     "duration": 0.024672,
     "end_time": "2022-10-06T16:04:50.272458",
     "exception": false,
     "start_time": "2022-10-06T16:04:50.247786",
     "status": "completed"
    },
    "tags": []
   },
   "source": [
    "Autograd helps in computing loss function, applying optimization and change values of weights and biases to keep the loss min."
   ]
  },
  {
   "cell_type": "code",
   "execution_count": 33,
   "id": "f9edf9b0",
   "metadata": {
    "execution": {
     "iopub.execute_input": "2022-10-06T16:04:50.325516Z",
     "iopub.status.busy": "2022-10-06T16:04:50.324511Z",
     "iopub.status.idle": "2022-10-06T16:04:50.329177Z",
     "shell.execute_reply": "2022-10-06T16:04:50.328396Z"
    },
    "papermill": {
     "duration": 0.033748,
     "end_time": "2022-10-06T16:04:50.331204",
     "exception": false,
     "start_time": "2022-10-06T16:04:50.297456",
     "status": "completed"
    },
    "tags": []
   },
   "outputs": [],
   "source": [
    "import torch\n",
    "\n",
    "import matplotlib.pyplot as plt\n",
    "import matplotlib.ticker as ticker\n",
    "import math"
   ]
  },
  {
   "cell_type": "markdown",
   "id": "52728e1a",
   "metadata": {
    "papermill": {
     "duration": 0.024695,
     "end_time": "2022-10-06T16:04:50.381132",
     "exception": false,
     "start_time": "2022-10-06T16:04:50.356437",
     "status": "completed"
    },
    "tags": []
   },
   "source": [
    "Next, we’ll create an input tensor full of evenly spaced values on the interval [0,2π], and specify requires_grad=True"
   ]
  },
  {
   "cell_type": "code",
   "execution_count": 34,
   "id": "53a05d83",
   "metadata": {
    "execution": {
     "iopub.execute_input": "2022-10-06T16:04:50.433947Z",
     "iopub.status.busy": "2022-10-06T16:04:50.433194Z",
     "iopub.status.idle": "2022-10-06T16:04:50.443784Z",
     "shell.execute_reply": "2022-10-06T16:04:50.442594Z"
    },
    "papermill": {
     "duration": 0.04024,
     "end_time": "2022-10-06T16:04:50.446707",
     "exception": false,
     "start_time": "2022-10-06T16:04:50.406467",
     "status": "completed"
    },
    "tags": []
   },
   "outputs": [
    {
     "data": {
      "text/plain": [
       "tensor([0.0000, 0.2618, 0.5236, 0.7854, 1.0472, 1.3090, 1.5708, 1.8326, 2.0944,\n",
       "        2.3562, 2.6180, 2.8798, 3.1416, 3.4034, 3.6652, 3.9270, 4.1888, 4.4506,\n",
       "        4.7124, 4.9742, 5.2360, 5.4978, 5.7596, 6.0214, 6.2832],\n",
       "       requires_grad=True)"
      ]
     },
     "execution_count": 34,
     "metadata": {},
     "output_type": "execute_result"
    }
   ],
   "source": [
    "a = torch.linspace(0, 2*math.pi, steps = 25, requires_grad=True)\n",
    "a"
   ]
  },
  {
   "cell_type": "markdown",
   "id": "ce45501b",
   "metadata": {
    "papermill": {
     "duration": 0.024852,
     "end_time": "2022-10-06T16:04:50.497139",
     "exception": false,
     "start_time": "2022-10-06T16:04:50.472287",
     "status": "completed"
    },
    "tags": []
   },
   "source": [
    "Next, we’ll perform a computation, and plot its output in terms of its inputs:"
   ]
  },
  {
   "cell_type": "code",
   "execution_count": 35,
   "id": "6db56b9b",
   "metadata": {
    "execution": {
     "iopub.execute_input": "2022-10-06T16:04:50.550109Z",
     "iopub.status.busy": "2022-10-06T16:04:50.549696Z",
     "iopub.status.idle": "2022-10-06T16:04:50.773381Z",
     "shell.execute_reply": "2022-10-06T16:04:50.772558Z"
    },
    "papermill": {
     "duration": 0.252463,
     "end_time": "2022-10-06T16:04:50.775477",
     "exception": false,
     "start_time": "2022-10-06T16:04:50.523014",
     "status": "completed"
    },
    "tags": []
   },
   "outputs": [
    {
     "data": {
      "text/plain": [
       "[<matplotlib.lines.Line2D at 0x7fad05cd9350>]"
      ]
     },
     "execution_count": 35,
     "metadata": {},
     "output_type": "execute_result"
    },
    {
     "data": {
      "image/png": "[encoded data removed]",
      "text/plain": [
       "<Figure size 432x288 with 1 Axes>"
      ]
     },
     "metadata": {
      "needs_background": "light"
     },
     "output_type": "display_data"
    }
   ],
   "source": [
    "b = torch.sin(a)\n",
    "plt.plot(a.detach(), b.detach())"
   ]
  },
  {
   "cell_type": "markdown",
   "id": "5ad2bc62",
   "metadata": {
    "papermill": {
     "duration": 0.025297,
     "end_time": "2022-10-06T16:04:50.826535",
     "exception": false,
     "start_time": "2022-10-06T16:04:50.801238",
     "status": "completed"
    },
    "tags": []
   },
   "source": [
    "Now lets do some more operations on b, jsut like happens in layers of Neural Network"
   ]
  },
  {
   "cell_type": "code",
   "execution_count": 36,
   "id": "a7089ac8",
   "metadata": {
    "execution": {
     "iopub.execute_input": "2022-10-06T16:04:50.880091Z",
     "iopub.status.busy": "2022-10-06T16:04:50.879624Z",
     "iopub.status.idle": "2022-10-06T16:04:50.889603Z",
     "shell.execute_reply": "2022-10-06T16:04:50.887574Z"
    },
    "papermill": {
     "duration": 0.040437,
     "end_time": "2022-10-06T16:04:50.892765",
     "exception": false,
     "start_time": "2022-10-06T16:04:50.852328",
     "status": "completed"
    },
    "tags": []
   },
   "outputs": [
    {
     "name": "stdout",
     "output_type": "stream",
     "text": [
      "tensor([ 0.0000e+00,  2.5882e-01,  5.0000e-01,  7.0711e-01,  8.6603e-01,\n",
      "         9.6593e-01,  1.0000e+00,  9.6593e-01,  8.6603e-01,  7.0711e-01,\n",
      "         5.0000e-01,  2.5882e-01, -8.7423e-08, -2.5882e-01, -5.0000e-01,\n",
      "        -7.0711e-01, -8.6603e-01, -9.6593e-01, -1.0000e+00, -9.6593e-01,\n",
      "        -8.6603e-01, -7.0711e-01, -5.0000e-01, -2.5882e-01,  1.7485e-07],\n",
      "       grad_fn=<SinBackward0>)\n",
      "tensor([ 0.0000e+00,  5.1764e-01,  1.0000e+00,  1.4142e+00,  1.7321e+00,\n",
      "         1.9319e+00,  2.0000e+00,  1.9319e+00,  1.7321e+00,  1.4142e+00,\n",
      "         1.0000e+00,  5.1764e-01, -1.7485e-07, -5.1764e-01, -1.0000e+00,\n",
      "        -1.4142e+00, -1.7321e+00, -1.9319e+00, -2.0000e+00, -1.9319e+00,\n",
      "        -1.7321e+00, -1.4142e+00, -1.0000e+00, -5.1764e-01,  3.4969e-07],\n",
      "       grad_fn=<MulBackward0>)\n",
      "tensor([ 1.0000e+00,  1.5176e+00,  2.0000e+00,  2.4142e+00,  2.7321e+00,\n",
      "         2.9319e+00,  3.0000e+00,  2.9319e+00,  2.7321e+00,  2.4142e+00,\n",
      "         2.0000e+00,  1.5176e+00,  1.0000e+00,  4.8236e-01, -3.5763e-07,\n",
      "        -4.1421e-01, -7.3205e-01, -9.3185e-01, -1.0000e+00, -9.3185e-01,\n",
      "        -7.3205e-01, -4.1421e-01,  4.7684e-07,  4.8236e-01,  1.0000e+00],\n",
      "       grad_fn=<AddBackward0>)\n"
     ]
    }
   ],
   "source": [
    "c = 2*b\n",
    "d = c+1\n",
    "\n",
    "print(b)\n",
    "print(c)\n",
    "print(d)"
   ]
  },
  {
   "cell_type": "markdown",
   "id": "c90fae34",
   "metadata": {
    "papermill": {
     "duration": 0.025243,
     "end_time": "2022-10-06T16:04:50.944931",
     "exception": false,
     "start_time": "2022-10-06T16:04:50.919688",
     "status": "completed"
    },
    "tags": []
   },
   "source": [
    "All the values of matrics are stored in one variable (single variable output).  When we call .backward() on a tensor with no arguments, it expects the calling tensor to contain only a single element, as is the case when computing a loss function."
   ]
  },
  {
   "cell_type": "code",
   "execution_count": 37,
   "id": "dbe9d916",
   "metadata": {
    "execution": {
     "iopub.execute_input": "2022-10-06T16:04:50.999073Z",
     "iopub.status.busy": "2022-10-06T16:04:50.997973Z",
     "iopub.status.idle": "2022-10-06T16:04:51.004667Z",
     "shell.execute_reply": "2022-10-06T16:04:51.003460Z"
    },
    "papermill": {
     "duration": 0.036199,
     "end_time": "2022-10-06T16:04:51.007242",
     "exception": false,
     "start_time": "2022-10-06T16:04:50.971043",
     "status": "completed"
    },
    "tags": []
   },
   "outputs": [
    {
     "name": "stdout",
     "output_type": "stream",
     "text": [
      "tensor(25., grad_fn=<SumBackward0>)\n"
     ]
    }
   ],
   "source": [
    "out = d.sum()\n",
    "print(out)"
   ]
  },
  {
   "cell_type": "markdown",
   "id": "f4e8e6cc",
   "metadata": {
    "papermill": {
     "duration": 0.025952,
     "end_time": "2022-10-06T16:04:51.058996",
     "exception": false,
     "start_time": "2022-10-06T16:04:51.033044",
     "status": "completed"
    },
    "tags": []
   },
   "source": [
    "Every grad_fn associated with every tensor is stored in it. We can access it and go all the way back to its inputs with its next_functions property"
   ]
  },
  {
   "cell_type": "code",
   "execution_count": 38,
   "id": "84211184",
   "metadata": {
    "execution": {
     "iopub.execute_input": "2022-10-06T16:04:51.112460Z",
     "iopub.status.busy": "2022-10-06T16:04:51.112077Z",
     "iopub.status.idle": "2022-10-06T16:04:51.119757Z",
     "shell.execute_reply": "2022-10-06T16:04:51.119012Z"
    },
    "papermill": {
     "duration": 0.037115,
     "end_time": "2022-10-06T16:04:51.122208",
     "exception": false,
     "start_time": "2022-10-06T16:04:51.085093",
     "status": "completed"
    },
    "tags": []
   },
   "outputs": [
    {
     "name": "stdout",
     "output_type": "stream",
     "text": [
      "d:\n",
      "<AddBackward0 object at 0x7fad05cbbf10>\n",
      "((<MulBackward0 object at 0x7fad05cbbfd0>, 0), (None, 0))\n",
      "((<SinBackward0 object at 0x7fad05cbbf10>, 0), (None, 0))\n",
      "((<AccumulateGrad object at 0x7fad05cab110>, 0),)\n",
      "()\n",
      "\n",
      "c:\n",
      "<MulBackward0 object at 0x7fad05cbbf10>\n",
      "\n",
      "b:\n",
      "<SinBackward0 object at 0x7fad05cbbf10>\n",
      "\n",
      "a:\n",
      "None\n"
     ]
    }
   ],
   "source": [
    "print('d:')\n",
    "print(d.grad_fn)\n",
    "print(d.grad_fn.next_functions)\n",
    "print(d.grad_fn.next_functions[0][0].next_functions)\n",
    "print(d.grad_fn.next_functions[0][0].next_functions[0][0].next_functions)\n",
    "print(d.grad_fn.next_functions[0][0].next_functions[0][0].next_functions[0][0].next_functions)\n",
    "print('\\nc:')\n",
    "print(c.grad_fn)\n",
    "print('\\nb:')\n",
    "print(b.grad_fn)\n",
    "print('\\na:')\n",
    "print(a.grad_fn)"
   ]
  },
  {
   "cell_type": "markdown",
   "id": "3ff57745",
   "metadata": {
    "papermill": {
     "duration": 0.025614,
     "end_time": "2022-10-06T16:04:51.175332",
     "exception": false,
     "start_time": "2022-10-06T16:04:51.149718",
     "status": "completed"
    },
    "tags": []
   },
   "source": [
    "backwards() method is used to get value of gradient\n",
    "\n",
    "the derivative should be 2 * cos(a)2∗cos(a). Looking at the graph above, that’s just what we see."
   ]
  },
  {
   "cell_type": "code",
   "execution_count": 39,
   "id": "d1ba776a",
   "metadata": {
    "execution": {
     "iopub.execute_input": "2022-10-06T16:04:51.229230Z",
     "iopub.status.busy": "2022-10-06T16:04:51.228563Z",
     "iopub.status.idle": "2022-10-06T16:04:51.460299Z",
     "shell.execute_reply": "2022-10-06T16:04:51.459452Z"
    },
    "papermill": {
     "duration": 0.261171,
     "end_time": "2022-10-06T16:04:51.462645",
     "exception": false,
     "start_time": "2022-10-06T16:04:51.201474",
     "status": "completed"
    },
    "tags": []
   },
   "outputs": [
    {
     "name": "stdout",
     "output_type": "stream",
     "text": [
      "tensor([ 2.0000e+00,  1.9319e+00,  1.7321e+00,  1.4142e+00,  1.0000e+00,\n",
      "         5.1764e-01, -8.7423e-08, -5.1764e-01, -1.0000e+00, -1.4142e+00,\n",
      "        -1.7321e+00, -1.9319e+00, -2.0000e+00, -1.9319e+00, -1.7321e+00,\n",
      "        -1.4142e+00, -1.0000e+00, -5.1764e-01,  2.3850e-08,  5.1764e-01,\n",
      "         1.0000e+00,  1.4142e+00,  1.7321e+00,  1.9319e+00,  2.0000e+00])\n"
     ]
    },
    {
     "data": {
      "text/plain": [
       "[<matplotlib.lines.Line2D at 0x7fad05c6ac10>]"
      ]
     },
     "execution_count": 39,
     "metadata": {},
     "output_type": "execute_result"
    },
    {
     "data": {
      "image/png": "[encoded data removed]",
      "text/plain": [
       "<Figure size 432x288 with 1 Axes>"
      ]
     },
     "metadata": {
      "needs_background": "light"
     },
     "output_type": "display_data"
    }
   ],
   "source": [
    "out.backward()\n",
    "print(a.grad)\n",
    "plt.plot(a.detach(), a.grad.detach())"
   ]
  },
  {
   "cell_type": "markdown",
   "id": "659b5bb5",
   "metadata": {
    "papermill": {
     "duration": 0.025704,
     "end_time": "2022-10-06T16:04:51.514794",
     "exception": false,
     "start_time": "2022-10-06T16:04:51.489090",
     "status": "completed"
    },
    "tags": []
   },
   "source": [
    "### Autograd profiler"
   ]
  },
  {
   "cell_type": "markdown",
   "id": "7688467e",
   "metadata": {
    "papermill": {
     "duration": 0.025789,
     "end_time": "2022-10-06T16:04:51.566789",
     "exception": false,
     "start_time": "2022-10-06T16:04:51.541000",
     "status": "completed"
    },
    "tags": []
   },
   "source": [
    "Autograd tracks every step of your computation in detail. Such a computation history, combined with timing information, would make a handy profiler - and autograd has that feature baked in. Here’s a quick example usage:"
   ]
  },
  {
   "cell_type": "code",
   "execution_count": 40,
   "id": "dbca7d6f",
   "metadata": {
    "execution": {
     "iopub.execute_input": "2022-10-06T16:04:51.621199Z",
     "iopub.status.busy": "2022-10-06T16:04:51.620206Z",
     "iopub.status.idle": "2022-10-06T16:04:51.885973Z",
     "shell.execute_reply": "2022-10-06T16:04:51.884759Z"
    },
    "papermill": {
     "duration": 0.295615,
     "end_time": "2022-10-06T16:04:51.888535",
     "exception": false,
     "start_time": "2022-10-06T16:04:51.592920",
     "status": "completed"
    },
    "tags": []
   },
   "outputs": [
    {
     "name": "stdout",
     "output_type": "stream",
     "text": [
      "-------------  ------------  ------------  ------------  ------------  ------------  ------------  \n",
      "         Name    Self CPU %      Self CPU   CPU total %     CPU total  CPU time avg    # of Calls  \n",
      "-------------  ------------  ------------  ------------  ------------  ------------  ------------  \n",
      "    aten::div        50.80%       3.832ms        50.80%       3.832ms       3.832us          1000  \n",
      "    aten::mul        49.20%       3.712ms        49.20%       3.712ms       3.712us          1000  \n",
      "-------------  ------------  ------------  ------------  ------------  ------------  ------------  \n",
      "Self CPU time total: 7.544ms\n",
      "\n"
     ]
    }
   ],
   "source": [
    "device = torch.device('cpu')\n",
    "run_on_gpu = False\n",
    "if torch.cuda.is_available():\n",
    "    device = torch.device('cuda')\n",
    "    run_on_gpu = True\n",
    "\n",
    "x = torch.randn(2, 3, requires_grad=True)\n",
    "y = torch.rand(2, 3, requires_grad=True)\n",
    "z = torch.ones(2, 3, requires_grad=True)\n",
    "\n",
    "with torch.autograd.profiler.profile(use_cuda=run_on_gpu) as prf:\n",
    "    for _ in range(1000):\n",
    "        z = (z / x) * y\n",
    "\n",
    "print(prf.key_averages().table(sort_by='self_cpu_time_total'))"
   ]
  },
  {
   "cell_type": "markdown",
   "id": "ad70d81d",
   "metadata": {
    "papermill": {
     "duration": 0.02762,
     "end_time": "2022-10-06T16:04:51.943173",
     "exception": false,
     "start_time": "2022-10-06T16:04:51.915553",
     "status": "completed"
    },
    "tags": []
   },
   "source": [
    "# Building a simple Neural Network"
   ]
  },
  {
   "cell_type": "code",
   "execution_count": 41,
   "id": "165e42d8",
   "metadata": {
    "execution": {
     "iopub.execute_input": "2022-10-06T16:04:51.997859Z",
     "iopub.status.busy": "2022-10-06T16:04:51.997447Z",
     "iopub.status.idle": "2022-10-06T16:04:52.002232Z",
     "shell.execute_reply": "2022-10-06T16:04:52.001401Z"
    },
    "papermill": {
     "duration": 0.034513,
     "end_time": "2022-10-06T16:04:52.004094",
     "exception": false,
     "start_time": "2022-10-06T16:04:51.969581",
     "status": "completed"
    },
    "tags": []
   },
   "outputs": [],
   "source": [
    "import os\n",
    "import torch\n",
    "from torch import nn\n",
    "from torch.utils.data import DataLoader\n",
    "from torchvision import datasets, transforms\n",
    "from torchvision.transforms import ToTensor"
   ]
  },
  {
   "cell_type": "code",
   "execution_count": 42,
   "id": "f318550f",
   "metadata": {
    "execution": {
     "iopub.execute_input": "2022-10-06T16:04:52.059685Z",
     "iopub.status.busy": "2022-10-06T16:04:52.058725Z",
     "iopub.status.idle": "2022-10-06T16:04:52.065178Z",
     "shell.execute_reply": "2022-10-06T16:04:52.063978Z"
    },
    "papermill": {
     "duration": 0.036672,
     "end_time": "2022-10-06T16:04:52.067699",
     "exception": false,
     "start_time": "2022-10-06T16:04:52.031027",
     "status": "completed"
    },
    "tags": []
   },
   "outputs": [
    {
     "name": "stdout",
     "output_type": "stream",
     "text": [
      "Using cpu device\n"
     ]
    }
   ],
   "source": [
    "device = \"cuda\" if torch.cuda.is_available() else \"cpu\"\n",
    "print(f\"Using {device} device\")"
   ]
  },
  {
   "cell_type": "code",
   "execution_count": 43,
   "id": "366f809b",
   "metadata": {
    "execution": {
     "iopub.execute_input": "2022-10-06T16:04:52.122998Z",
     "iopub.status.busy": "2022-10-06T16:04:52.122541Z",
     "iopub.status.idle": "2022-10-06T16:04:52.227819Z",
     "shell.execute_reply": "2022-10-06T16:04:52.226830Z"
    },
    "papermill": {
     "duration": 0.136243,
     "end_time": "2022-10-06T16:04:52.230513",
     "exception": false,
     "start_time": "2022-10-06T16:04:52.094270",
     "status": "completed"
    },
    "tags": []
   },
   "outputs": [],
   "source": [
    "training_data = datasets.FashionMNIST(\n",
    "    root=\"data\",\n",
    "    train=True,\n",
    "    download=True,\n",
    "    transform=ToTensor()\n",
    ")\n",
    "\n",
    "test_data = datasets.FashionMNIST(\n",
    "    root=\"data\",\n",
    "    train=False,\n",
    "    download=True,\n",
    "    transform=ToTensor()\n",
    ")\n",
    "\n",
    "train_dataloader = DataLoader(training_data, batch_size=64)\n",
    "test_dataloader = DataLoader(test_data, batch_size=64)\n"
   ]
  },
  {
   "cell_type": "code",
   "execution_count": 44,
   "id": "295ec260",
   "metadata": {
    "execution": {
     "iopub.execute_input": "2022-10-06T16:04:52.286895Z",
     "iopub.status.busy": "2022-10-06T16:04:52.285501Z",
     "iopub.status.idle": "2022-10-06T16:04:52.293608Z",
     "shell.execute_reply": "2022-10-06T16:04:52.292186Z"
    },
    "papermill": {
     "duration": 0.038987,
     "end_time": "2022-10-06T16:04:52.296269",
     "exception": false,
     "start_time": "2022-10-06T16:04:52.257282",
     "status": "completed"
    },
    "tags": []
   },
   "outputs": [],
   "source": [
    "class NeuralNetwork(nn.Module):\n",
    "    def __init__(self):\n",
    "        super(NeuralNetwork, self).__init__()\n",
    "        self.flatten = nn.Flatten()\n",
    "        self.linear_relu_stack = nn.Sequential(\n",
    "            nn.Linear(28*28, 512),\n",
    "            nn.ReLU(),\n",
    "            nn.Linear(512, 512),\n",
    "            nn.ReLU(),\n",
    "            nn.Linear(512, 10),\n",
    "        )\n",
    "        \n",
    "    def forward(self, x):\n",
    "        x = self.flatten(x)\n",
    "        logits = self.linear_relu_stack(x)\n",
    "        return logits"
   ]
  },
  {
   "cell_type": "code",
   "execution_count": 45,
   "id": "be4e43ca",
   "metadata": {
    "execution": {
     "iopub.execute_input": "2022-10-06T16:04:52.351877Z",
     "iopub.status.busy": "2022-10-06T16:04:52.350799Z",
     "iopub.status.idle": "2022-10-06T16:04:52.363206Z",
     "shell.execute_reply": "2022-10-06T16:04:52.361618Z"
    },
    "papermill": {
     "duration": 0.042469,
     "end_time": "2022-10-06T16:04:52.365386",
     "exception": false,
     "start_time": "2022-10-06T16:04:52.322917",
     "status": "completed"
    },
    "tags": []
   },
   "outputs": [
    {
     "name": "stdout",
     "output_type": "stream",
     "text": [
      "NeuralNetwork(\n",
      "  (flatten): Flatten(start_dim=1, end_dim=-1)\n",
      "  (linear_relu_stack): Sequential(\n",
      "    (0): Linear(in_features=784, out_features=512, bias=True)\n",
      "    (1): ReLU()\n",
      "    (2): Linear(in_features=512, out_features=512, bias=True)\n",
      "    (3): ReLU()\n",
      "    (4): Linear(in_features=512, out_features=10, bias=True)\n",
      "  )\n",
      ")\n"
     ]
    }
   ],
   "source": [
    "model = NeuralNetwork().to(device)\n",
    "print(model)"
   ]
  },
  {
   "cell_type": "code",
   "execution_count": 46,
   "id": "1807c582",
   "metadata": {
    "execution": {
     "iopub.execute_input": "2022-10-06T16:04:52.421779Z",
     "iopub.status.busy": "2022-10-06T16:04:52.420575Z",
     "iopub.status.idle": "2022-10-06T16:04:52.434189Z",
     "shell.execute_reply": "2022-10-06T16:04:52.432672Z"
    },
    "papermill": {
     "duration": 0.044407,
     "end_time": "2022-10-06T16:04:52.436953",
     "exception": false,
     "start_time": "2022-10-06T16:04:52.392546",
     "status": "completed"
    },
    "tags": []
   },
   "outputs": [
    {
     "name": "stdout",
     "output_type": "stream",
     "text": [
      "Predicted class: tensor([8])\n"
     ]
    }
   ],
   "source": [
    "X = torch.rand(1, 28, 28, device=device)\n",
    "logits = model(X)\n",
    "pred_probab = nn.Softmax(dim=1)(logits)\n",
    "y_pred = pred_probab.argmax(1)\n",
    "print(f\"Predicted class: {y_pred}\")"
   ]
  },
  {
   "cell_type": "markdown",
   "id": "f92f1898",
   "metadata": {
    "papermill": {
     "duration": 0.026696,
     "end_time": "2022-10-06T16:04:52.492112",
     "exception": false,
     "start_time": "2022-10-06T16:04:52.465416",
     "status": "completed"
    },
    "tags": []
   },
   "source": [
    "## Backpropagation"
   ]
  },
  {
   "cell_type": "markdown",
   "id": "65929a28",
   "metadata": {
    "papermill": {
     "duration": 0.026325,
     "end_time": "2022-10-06T16:04:52.545194",
     "exception": false,
     "start_time": "2022-10-06T16:04:52.518869",
     "status": "completed"
    },
    "tags": []
   },
   "source": [
    "Here the different matrices are - x input , w weight, b bias and y output\n",
    "\n",
    "Since w and b are the one who need to be optimized, they have requires_grad = True\n",
    "\n",
    "Loss function used here is Cross entropy"
   ]
  },
  {
   "cell_type": "code",
   "execution_count": 47,
   "id": "1de312a1",
   "metadata": {
    "execution": {
     "iopub.execute_input": "2022-10-06T16:04:52.601800Z",
     "iopub.status.busy": "2022-10-06T16:04:52.600715Z",
     "iopub.status.idle": "2022-10-06T16:04:52.618527Z",
     "shell.execute_reply": "2022-10-06T16:04:52.617505Z"
    },
    "papermill": {
     "duration": 0.048617,
     "end_time": "2022-10-06T16:04:52.620916",
     "exception": false,
     "start_time": "2022-10-06T16:04:52.572299",
     "status": "completed"
    },
    "tags": []
   },
   "outputs": [
    {
     "data": {
      "text/plain": [
       "tensor(0.9833, grad_fn=<BinaryCrossEntropyWithLogitsBackward0>)"
      ]
     },
     "execution_count": 47,
     "metadata": {},
     "output_type": "execute_result"
    }
   ],
   "source": [
    "x = torch.ones(5)  # input tensor\n",
    "y = torch.zeros(3)  # expected output\n",
    "w = torch.randn(5, 3, requires_grad=True)\n",
    "b = torch.randn(3, requires_grad=True)\n",
    "z = torch.matmul(x, w)+b\n",
    "loss = torch.nn.functional.binary_cross_entropy_with_logits(z, y)\n",
    "loss"
   ]
  },
  {
   "cell_type": "markdown",
   "id": "b584fd2f",
   "metadata": {
    "papermill": {
     "duration": 0.026682,
     "end_time": "2022-10-06T16:04:52.675031",
     "exception": false,
     "start_time": "2022-10-06T16:04:52.648349",
     "status": "completed"
    },
    "tags": []
   },
   "source": [
    "A function that we apply to tensors to construct computational graph is in fact an object of class Function. This object knows how to compute the function in the forward direction, and also how to compute its derivative during the backward propagation step. A reference to the backward propagation function is stored in grad_fn property of a tensor. You can find more information of Function in the documentation - https://pytorch.org/docs/stable/autograd.html#function"
   ]
  },
  {
   "cell_type": "code",
   "execution_count": 48,
   "id": "08522eb2",
   "metadata": {
    "execution": {
     "iopub.execute_input": "2022-10-06T16:04:52.733680Z",
     "iopub.status.busy": "2022-10-06T16:04:52.732985Z",
     "iopub.status.idle": "2022-10-06T16:04:52.739019Z",
     "shell.execute_reply": "2022-10-06T16:04:52.737374Z"
    },
    "papermill": {
     "duration": 0.037467,
     "end_time": "2022-10-06T16:04:52.741906",
     "exception": false,
     "start_time": "2022-10-06T16:04:52.704439",
     "status": "completed"
    },
    "tags": []
   },
   "outputs": [
    {
     "name": "stdout",
     "output_type": "stream",
     "text": [
      "Gradient function for z = <AddBackward0 object at 0x7fad05b80a90>\n",
      "Gradient function for loss = <BinaryCrossEntropyWithLogitsBackward0 object at 0x7fad05b80090>\n"
     ]
    }
   ],
   "source": [
    "print(f\"Gradient function for z = {z.grad_fn}\")\n",
    "print(f\"Gradient function for loss = {loss.grad_fn}\")"
   ]
  },
  {
   "cell_type": "markdown",
   "id": "decd76dd",
   "metadata": {
    "papermill": {
     "duration": 0.026998,
     "end_time": "2022-10-06T16:04:52.796658",
     "exception": false,
     "start_time": "2022-10-06T16:04:52.769660",
     "status": "completed"
    },
    "tags": []
   },
   "source": [
    "Computing gradients"
   ]
  },
  {
   "cell_type": "code",
   "execution_count": 49,
   "id": "3f98d08b",
   "metadata": {
    "execution": {
     "iopub.execute_input": "2022-10-06T16:04:52.853466Z",
     "iopub.status.busy": "2022-10-06T16:04:52.853066Z",
     "iopub.status.idle": "2022-10-06T16:04:52.861961Z",
     "shell.execute_reply": "2022-10-06T16:04:52.860672Z"
    },
    "papermill": {
     "duration": 0.040122,
     "end_time": "2022-10-06T16:04:52.864476",
     "exception": false,
     "start_time": "2022-10-06T16:04:52.824354",
     "status": "completed"
    },
    "tags": []
   },
   "outputs": [
    {
     "name": "stdout",
     "output_type": "stream",
     "text": [
      "tensor([[0.2357, 0.1561, 0.2213],\n",
      "        [0.2357, 0.1561, 0.2213],\n",
      "        [0.2357, 0.1561, 0.2213],\n",
      "        [0.2357, 0.1561, 0.2213],\n",
      "        [0.2357, 0.1561, 0.2213]])\n",
      "tensor([0.2357, 0.1561, 0.2213])\n"
     ]
    }
   ],
   "source": [
    "loss.backward()\n",
    "print(w.grad)\n",
    "print(b.grad)"
   ]
  },
  {
   "cell_type": "markdown",
   "id": "5e7b82f1",
   "metadata": {
    "papermill": {
     "duration": 0.027264,
     "end_time": "2022-10-06T16:04:52.918963",
     "exception": false,
     "start_time": "2022-10-06T16:04:52.891699",
     "status": "completed"
    },
    "tags": []
   },
   "source": [
    "We can only perform gradient calculations using backward once on a given graph, for performance reasons. If we need to do several backward calls on the same graph, we need to pass retain_graph=True to the backward call."
   ]
  },
  {
   "cell_type": "markdown",
   "id": "cb7a9032",
   "metadata": {
    "papermill": {
     "duration": 0.027179,
     "end_time": "2022-10-06T16:04:52.974609",
     "exception": false,
     "start_time": "2022-10-06T16:04:52.947430",
     "status": "completed"
    },
    "tags": []
   },
   "source": [
    "Disabling gradient tracking with no_grad() and detach()"
   ]
  },
  {
   "cell_type": "code",
   "execution_count": 50,
   "id": "d8d2e024",
   "metadata": {
    "execution": {
     "iopub.execute_input": "2022-10-06T16:04:53.030930Z",
     "iopub.status.busy": "2022-10-06T16:04:53.030512Z",
     "iopub.status.idle": "2022-10-06T16:04:53.039081Z",
     "shell.execute_reply": "2022-10-06T16:04:53.037379Z"
    },
    "papermill": {
     "duration": 0.0394,
     "end_time": "2022-10-06T16:04:53.041413",
     "exception": false,
     "start_time": "2022-10-06T16:04:53.002013",
     "status": "completed"
    },
    "tags": []
   },
   "outputs": [
    {
     "name": "stdout",
     "output_type": "stream",
     "text": [
      "True\n",
      "False\n",
      "False\n"
     ]
    }
   ],
   "source": [
    "z = torch.matmul(x, w)+b\n",
    "print(z.requires_grad)\n",
    "\n",
    "with torch.no_grad():\n",
    "    z = torch.matmul(x, w)+b\n",
    "print(z.requires_grad)\n",
    "\n",
    "z = torch.matmul(x, w)+b\n",
    "z_det = z.detach()\n",
    "print(z_det.requires_grad)"
   ]
  },
  {
   "cell_type": "markdown",
   "id": "8944845b",
   "metadata": {
    "papermill": {
     "duration": 0.027719,
     "end_time": "2022-10-06T16:04:53.097125",
     "exception": false,
     "start_time": "2022-10-06T16:04:53.069406",
     "status": "completed"
    },
    "tags": []
   },
   "source": [
    "There are reasons you might want to disable gradient tracking:\n",
    "\n",
    "* To mark some parameters in your neural network as frozen parameters. This is a very common scenario for finetuning a pretrained network\n",
    "\n",
    "* To speed up computations when you are only doing forward pass, because computations on tensors that do not track gradients would be more efficient.\n",
    "\n"
   ]
  },
  {
   "cell_type": "markdown",
   "id": "4ce06d0a",
   "metadata": {
    "papermill": {
     "duration": 0.027438,
     "end_time": "2022-10-06T16:04:53.152501",
     "exception": false,
     "start_time": "2022-10-06T16:04:53.125063",
     "status": "completed"
    },
    "tags": []
   },
   "source": [
    "In many cases, we have a scalar loss function, and we need to compute the gradient with respect to some parameters. However, there are cases when the output function is an arbitrary tensor. In this case, PyTorch allows you to compute so-called Jacobian product, and not the actual gradient."
   ]
  },
  {
   "cell_type": "code",
   "execution_count": 51,
   "id": "4fed5eda",
   "metadata": {
    "execution": {
     "iopub.execute_input": "2022-10-06T16:04:53.209718Z",
     "iopub.status.busy": "2022-10-06T16:04:53.208970Z",
     "iopub.status.idle": "2022-10-06T16:04:53.221442Z",
     "shell.execute_reply": "2022-10-06T16:04:53.219912Z"
    },
    "papermill": {
     "duration": 0.044275,
     "end_time": "2022-10-06T16:04:53.224746",
     "exception": false,
     "start_time": "2022-10-06T16:04:53.180471",
     "status": "completed"
    },
    "tags": []
   },
   "outputs": [
    {
     "name": "stdout",
     "output_type": "stream",
     "text": [
      "First call\n",
      "tensor([[4., 2., 2., 2., 2.],\n",
      "        [2., 4., 2., 2., 2.],\n",
      "        [2., 2., 4., 2., 2.],\n",
      "        [2., 2., 2., 4., 2.],\n",
      "        [2., 2., 2., 2., 4.]])\n",
      "\n",
      "Second call\n",
      "tensor([[8., 4., 4., 4., 4.],\n",
      "        [4., 8., 4., 4., 4.],\n",
      "        [4., 4., 8., 4., 4.],\n",
      "        [4., 4., 4., 8., 4.],\n",
      "        [4., 4., 4., 4., 8.]])\n",
      "\n",
      "Call after zeroing gradients\n",
      "tensor([[4., 2., 2., 2., 2.],\n",
      "        [2., 4., 2., 2., 2.],\n",
      "        [2., 2., 4., 2., 2.],\n",
      "        [2., 2., 2., 4., 2.],\n",
      "        [2., 2., 2., 2., 4.]])\n"
     ]
    }
   ],
   "source": [
    "inp = torch.eye(5, requires_grad=True)\n",
    "out = (inp+1).pow(2)\n",
    "out.backward(torch.ones_like(inp), retain_graph=True)\n",
    "print(f\"First call\\n{inp.grad}\")\n",
    "out.backward(torch.ones_like(inp), retain_graph=True)\n",
    "print(f\"\\nSecond call\\n{inp.grad}\")\n",
    "inp.grad.zero_()\n",
    "out.backward(torch.ones_like(inp), retain_graph=True)\n",
    "print(f\"\\nCall after zeroing gradients\\n{inp.grad}\")"
   ]
  },
  {
   "cell_type": "markdown",
   "id": "db983979",
   "metadata": {
    "papermill": {
     "duration": 0.027309,
     "end_time": "2022-10-06T16:04:53.280638",
     "exception": false,
     "start_time": "2022-10-06T16:04:53.253329",
     "status": "completed"
    },
    "tags": []
   },
   "source": [
    "### Optimzing model parameters"
   ]
  },
  {
   "cell_type": "code",
   "execution_count": 52,
   "id": "257a4740",
   "metadata": {
    "execution": {
     "iopub.execute_input": "2022-10-06T16:04:53.337144Z",
     "iopub.status.busy": "2022-10-06T16:04:53.336733Z",
     "iopub.status.idle": "2022-10-06T16:04:53.341020Z",
     "shell.execute_reply": "2022-10-06T16:04:53.340212Z"
    },
    "papermill": {
     "duration": 0.034908,
     "end_time": "2022-10-06T16:04:53.342986",
     "exception": false,
     "start_time": "2022-10-06T16:04:53.308078",
     "status": "completed"
    },
    "tags": []
   },
   "outputs": [],
   "source": [
    "learning_rate = 1e-3\n",
    "batch_size = 64\n",
    "epochs = 5"
   ]
  },
  {
   "cell_type": "markdown",
   "id": "be154055",
   "metadata": {
    "papermill": {
     "duration": 0.028271,
     "end_time": "2022-10-06T16:04:53.399630",
     "exception": false,
     "start_time": "2022-10-06T16:04:53.371359",
     "status": "completed"
    },
    "tags": []
   },
   "source": [
    "Loss function\n",
    "\n",
    "Common loss functions include nn.MSELoss (Mean Square Error) for regression tasks, and nn.NLLLoss (Negative Log Likelihood) for classification. nn.CrossEntropyLoss combines nn.LogSoftmax and nn.NLLLoss.\n"
   ]
  },
  {
   "cell_type": "code",
   "execution_count": 53,
   "id": "11d882c0",
   "metadata": {
    "execution": {
     "iopub.execute_input": "2022-10-06T16:04:53.457571Z",
     "iopub.status.busy": "2022-10-06T16:04:53.456847Z",
     "iopub.status.idle": "2022-10-06T16:04:53.461512Z",
     "shell.execute_reply": "2022-10-06T16:04:53.460336Z"
    },
    "papermill": {
     "duration": 0.036445,
     "end_time": "2022-10-06T16:04:53.463938",
     "exception": false,
     "start_time": "2022-10-06T16:04:53.427493",
     "status": "completed"
    },
    "tags": []
   },
   "outputs": [],
   "source": [
    "loss_fn = nn.CrossEntropyLoss()"
   ]
  },
  {
   "cell_type": "markdown",
   "id": "1b86db7c",
   "metadata": {
    "papermill": {
     "duration": 0.027284,
     "end_time": "2022-10-06T16:04:53.518934",
     "exception": false,
     "start_time": "2022-10-06T16:04:53.491650",
     "status": "completed"
    },
    "tags": []
   },
   "source": [
    "Optimizer\n",
    "\n",
    "PyTorch suppoort all commonly used optimizersa like ADAM and RMSProp, we are using Stochastic Gradient Descent here"
   ]
  },
  {
   "cell_type": "code",
   "execution_count": 54,
   "id": "42b47f05",
   "metadata": {
    "execution": {
     "iopub.execute_input": "2022-10-06T16:04:53.577620Z",
     "iopub.status.busy": "2022-10-06T16:04:53.576894Z",
     "iopub.status.idle": "2022-10-06T16:04:53.581934Z",
     "shell.execute_reply": "2022-10-06T16:04:53.581126Z"
    },
    "papermill": {
     "duration": 0.03669,
     "end_time": "2022-10-06T16:04:53.584053",
     "exception": false,
     "start_time": "2022-10-06T16:04:53.547363",
     "status": "completed"
    },
    "tags": []
   },
   "outputs": [],
   "source": [
    "optimizer = torch.optim.SGD(model.parameters(), lr=learning_rate)"
   ]
  },
  {
   "cell_type": "markdown",
   "id": "18c12b1d",
   "metadata": {
    "papermill": {
     "duration": 0.02736,
     "end_time": "2022-10-06T16:04:53.639334",
     "exception": false,
     "start_time": "2022-10-06T16:04:53.611974",
     "status": "completed"
    },
    "tags": []
   },
   "source": [
    "Inside the training loop, optimization happens in three steps:\n",
    "\n",
    "* Call optimizer.zero_grad() to reset the gradients of model parameters. Gradients by default add up; to prevent double-counting, we explicitly zero them at each iteration.\n",
    "\n",
    "* Backpropagate the prediction loss with a call to loss.backward(). PyTorch deposits the gradients of the loss w.r.t. each parameter.\n",
    "\n",
    "* Once we have our gradients, we call optimizer.step() to adjust the parameters by the gradients collected in the backward pass."
   ]
  },
  {
   "cell_type": "markdown",
   "id": "af853c2b",
   "metadata": {
    "papermill": {
     "duration": 0.027593,
     "end_time": "2022-10-06T16:04:53.694588",
     "exception": false,
     "start_time": "2022-10-06T16:04:53.666995",
     "status": "completed"
    },
    "tags": []
   },
   "source": [
    "Full Implementation"
   ]
  },
  {
   "cell_type": "code",
   "execution_count": 55,
   "id": "4f7722ac",
   "metadata": {
    "execution": {
     "iopub.execute_input": "2022-10-06T16:04:53.751935Z",
     "iopub.status.busy": "2022-10-06T16:04:53.751495Z",
     "iopub.status.idle": "2022-10-06T16:04:53.760532Z",
     "shell.execute_reply": "2022-10-06T16:04:53.759653Z"
    },
    "papermill": {
     "duration": 0.04042,
     "end_time": "2022-10-06T16:04:53.762576",
     "exception": false,
     "start_time": "2022-10-06T16:04:53.722156",
     "status": "completed"
    },
    "tags": []
   },
   "outputs": [],
   "source": [
    "def train_loop(dataloader, model, loss_fn, optimizer):\n",
    "    size = len(dataloader.dataset)\n",
    "    for batch, (X, y) in enumerate(dataloader):\n",
    "        pred = model(X)\n",
    "        loss = loss_fn(pred, y)\n",
    "        \n",
    "        #Backpropogation\n",
    "        optimizer.zero_grad()\n",
    "        loss.backward()\n",
    "        optimizer.step()\n",
    "        \n",
    "        if batch % 100 == 0:\n",
    "            loss, current = loss.item(), batch * len(X)\n",
    "            print(f\"loss: {loss:>7f}  [{current:>5d}/{size:>5d}]\")\n",
    "            \n",
    "def test_loop(dataloader, model, loss_fn):\n",
    "    size = len(dataloader.dataset)\n",
    "    num_batches = len(dataloader)\n",
    "    test_loss, correct = 0, 0\n",
    "\n",
    "    with torch.no_grad():\n",
    "        for X, y in dataloader:\n",
    "            pred = model(X)\n",
    "            test_loss += loss_fn(pred, y).item()\n",
    "            correct += (pred.argmax(1) == y).type(torch.float).sum().item()\n",
    "\n",
    "    test_loss /= num_batches\n",
    "    correct /= size\n",
    "    print(f\"Test Error: \\n Accuracy: {(100*correct):>0.1f}%, Avg loss: {test_loss:>8f} \\n\")"
   ]
  },
  {
   "cell_type": "code",
   "execution_count": 56,
   "id": "661d84a1",
   "metadata": {
    "execution": {
     "iopub.execute_input": "2022-10-06T16:04:53.820066Z",
     "iopub.status.busy": "2022-10-06T16:04:53.819340Z",
     "iopub.status.idle": "2022-10-06T16:05:46.885953Z",
     "shell.execute_reply": "2022-10-06T16:05:46.885026Z"
    },
    "papermill": {
     "duration": 53.09787,
     "end_time": "2022-10-06T16:05:46.888316",
     "exception": false,
     "start_time": "2022-10-06T16:04:53.790446",
     "status": "completed"
    },
    "tags": []
   },
   "outputs": [
    {
     "name": "stdout",
     "output_type": "stream",
     "text": [
      "epoch 1\n",
      "...........\n",
      "loss: 2.306976  [    0/60000]\n",
      "loss: 2.289382  [ 6400/60000]\n",
      "loss: 2.274937  [12800/60000]\n",
      "loss: 2.266212  [19200/60000]\n",
      "loss: 2.246749  [25600/60000]\n",
      "loss: 2.228864  [32000/60000]\n",
      "loss: 2.223107  [38400/60000]\n",
      "loss: 2.195741  [44800/60000]\n",
      "loss: 2.197128  [51200/60000]\n",
      "loss: 2.167128  [57600/60000]\n",
      "Test Error: \n",
      " Accuracy: 53.3%, Avg loss: 2.157806 \n",
      "\n",
      "epoch 2\n",
      "...........\n",
      "loss: 2.170939  [    0/60000]\n",
      "loss: 2.157278  [ 6400/60000]\n",
      "loss: 2.104571  [12800/60000]\n",
      "loss: 2.120327  [19200/60000]\n",
      "loss: 2.067564  [25600/60000]\n",
      "loss: 2.017985  [32000/60000]\n",
      "loss: 2.036682  [38400/60000]\n",
      "loss: 1.961626  [44800/60000]\n",
      "loss: 1.973718  [51200/60000]\n",
      "loss: 1.902453  [57600/60000]\n",
      "Test Error: \n",
      " Accuracy: 56.8%, Avg loss: 1.897000 \n",
      "\n",
      "epoch 3\n",
      "...........\n",
      "loss: 1.931727  [    0/60000]\n",
      "loss: 1.900553  [ 6400/60000]\n",
      "loss: 1.783901  [12800/60000]\n",
      "loss: 1.827076  [19200/60000]\n",
      "loss: 1.714399  [25600/60000]\n",
      "loss: 1.671398  [32000/60000]\n",
      "loss: 1.686155  [38400/60000]\n",
      "loss: 1.586551  [44800/60000]\n",
      "loss: 1.619261  [51200/60000]\n",
      "loss: 1.509281  [57600/60000]\n",
      "Test Error: \n",
      " Accuracy: 59.9%, Avg loss: 1.525726 \n",
      "\n",
      "epoch 4\n",
      "...........\n",
      "loss: 1.592389  [    0/60000]\n",
      "loss: 1.560596  [ 6400/60000]\n",
      "loss: 1.404921  [12800/60000]\n",
      "loss: 1.479304  [19200/60000]\n",
      "loss: 1.354792  [25600/60000]\n",
      "loss: 1.356074  [32000/60000]\n",
      "loss: 1.363122  [38400/60000]\n",
      "loss: 1.286090  [44800/60000]\n",
      "loss: 1.332193  [51200/60000]\n",
      "loss: 1.226257  [57600/60000]\n",
      "Test Error: \n",
      " Accuracy: 62.5%, Avg loss: 1.253162 \n",
      "\n",
      "epoch 5\n",
      "...........\n",
      "loss: 1.329680  [    0/60000]\n",
      "loss: 1.318805  [ 6400/60000]\n",
      "loss: 1.146376  [12800/60000]\n",
      "loss: 1.254603  [19200/60000]\n",
      "loss: 1.123693  [25600/60000]\n",
      "loss: 1.155468  [32000/60000]\n",
      "loss: 1.170977  [38400/60000]\n",
      "loss: 1.104569  [44800/60000]\n",
      "loss: 1.157852  [51200/60000]\n",
      "loss: 1.068015  [57600/60000]\n",
      "Test Error: \n",
      " Accuracy: 63.9%, Avg loss: 1.089195 \n",
      "\n",
      "Done\n"
     ]
    }
   ],
   "source": [
    "for t in range(epochs):\n",
    "    print(f\"epoch {t+1}\\n...........\")\n",
    "    train_loop(train_dataloader, model,  loss_fn, optimizer)\n",
    "    test_loop(test_dataloader, model, loss_fn)\n",
    "print(\"Done\")"
   ]
  },
  {
   "cell_type": "markdown",
   "id": "741ea1bc",
   "metadata": {
    "papermill": {
     "duration": 0.096977,
     "end_time": "2022-10-06T16:05:47.017074",
     "exception": false,
     "start_time": "2022-10-06T16:05:46.920097",
     "status": "completed"
    },
    "tags": []
   },
   "source": [
    "### Using pretrained model"
   ]
  },
  {
   "cell_type": "markdown",
   "id": "bd6906b3",
   "metadata": {
    "papermill": {
     "duration": 0.036637,
     "end_time": "2022-10-06T16:05:47.091551",
     "exception": false,
     "start_time": "2022-10-06T16:05:47.054914",
     "status": "completed"
    },
    "tags": []
   },
   "source": [
    "You probably should have heard about vgg16 model, its a CNN classifier model which can classify input image into 1000 different categories. Let's use it here."
   ]
  },
  {
   "cell_type": "code",
   "execution_count": 57,
   "id": "3427657c",
   "metadata": {
    "execution": {
     "iopub.execute_input": "2022-10-06T16:05:47.160897Z",
     "iopub.status.busy": "2022-10-06T16:05:47.160449Z",
     "iopub.status.idle": "2022-10-06T16:05:47.165080Z",
     "shell.execute_reply": "2022-10-06T16:05:47.163897Z"
    },
    "papermill": {
     "duration": 0.042795,
     "end_time": "2022-10-06T16:05:47.167359",
     "exception": false,
     "start_time": "2022-10-06T16:05:47.124564",
     "status": "completed"
    },
    "tags": []
   },
   "outputs": [],
   "source": [
    "import torchvision.models as models"
   ]
  },
  {
   "cell_type": "markdown",
   "id": "3882500b",
   "metadata": {
    "papermill": {
     "duration": 0.030768,
     "end_time": "2022-10-06T16:05:47.229624",
     "exception": false,
     "start_time": "2022-10-06T16:05:47.198856",
     "status": "completed"
    },
    "tags": []
   },
   "source": [
    "Saving the model"
   ]
  },
  {
   "cell_type": "code",
   "execution_count": 58,
   "id": "acc1f2f4",
   "metadata": {
    "execution": {
     "iopub.execute_input": "2022-10-06T16:05:47.299526Z",
     "iopub.status.busy": "2022-10-06T16:05:47.299126Z",
     "iopub.status.idle": "2022-10-06T16:06:01.211126Z",
     "shell.execute_reply": "2022-10-06T16:06:01.210021Z"
    },
    "papermill": {
     "duration": 13.948397,
     "end_time": "2022-10-06T16:06:01.213910",
     "exception": false,
     "start_time": "2022-10-06T16:05:47.265513",
     "status": "completed"
    },
    "tags": []
   },
   "outputs": [
    {
     "name": "stderr",
     "output_type": "stream",
     "text": [
      "Downloading: \"https://download.pytorch.org/models/vgg16-397923af.pth\" to /root/.cache/torch/hub/checkpoints/vgg16-397923af.pth\n"
     ]
    },
    {
     "data": {
      "application/vnd.jupyter.widget-view+json": {
       "model_id": "d9dd693057ef456bb10fb6191844721b",
       "version_major": 2,
       "version_minor": 0
      },
      "text/plain": [
       "  0%|          | 0.00/528M [00:00<?, ?B/s]"
      ]
     },
     "metadata": {},
     "output_type": "display_data"
    }
   ],
   "source": [
    "model = models.vgg16(pretrained = True)\n",
    "torch.save(model.state_dict(), 'model_weights.pth')"
   ]
  },
  {
   "cell_type": "markdown",
   "id": "0bb7cd43",
   "metadata": {
    "papermill": {
     "duration": 0.031113,
     "end_time": "2022-10-06T16:06:01.276705",
     "exception": false,
     "start_time": "2022-10-06T16:06:01.245592",
     "status": "completed"
    },
    "tags": []
   },
   "source": [
    "Loading the model"
   ]
  },
  {
   "cell_type": "code",
   "execution_count": 59,
   "id": "d3f8757e",
   "metadata": {
    "execution": {
     "iopub.execute_input": "2022-10-06T16:06:01.342430Z",
     "iopub.status.busy": "2022-10-06T16:06:01.342015Z",
     "iopub.status.idle": "2022-10-06T16:06:04.047680Z",
     "shell.execute_reply": "2022-10-06T16:06:04.046562Z"
    },
    "papermill": {
     "duration": 2.742245,
     "end_time": "2022-10-06T16:06:04.050322",
     "exception": false,
     "start_time": "2022-10-06T16:06:01.308077",
     "status": "completed"
    },
    "tags": []
   },
   "outputs": [
    {
     "data": {
      "text/plain": [
       "VGG(\n",
       "  (features): Sequential(\n",
       "    (0): Conv2d(3, 64, kernel_size=(3, 3), stride=(1, 1), padding=(1, 1))\n",
       "    (1): ReLU(inplace=True)\n",
       "    (2): Conv2d(64, 64, kernel_size=(3, 3), stride=(1, 1), padding=(1, 1))\n",
       "    (3): ReLU(inplace=True)\n",
       "    (4): MaxPool2d(kernel_size=2, stride=2, padding=0, dilation=1, ceil_mode=False)\n",
       "    (5): Conv2d(64, 128, kernel_size=(3, 3), stride=(1, 1), padding=(1, 1))\n",
       "    (6): ReLU(inplace=True)\n",
       "    (7): Conv2d(128, 128, kernel_size=(3, 3), stride=(1, 1), padding=(1, 1))\n",
       "    (8): ReLU(inplace=True)\n",
       "    (9): MaxPool2d(kernel_size=2, stride=2, padding=0, dilation=1, ceil_mode=False)\n",
       "    (10): Conv2d(128, 256, kernel_size=(3, 3), stride=(1, 1), padding=(1, 1))\n",
       "    (11): ReLU(inplace=True)\n",
       "    (12): Conv2d(256, 256, kernel_size=(3, 3), stride=(1, 1), padding=(1, 1))\n",
       "    (13): ReLU(inplace=True)\n",
       "    (14): Conv2d(256, 256, kernel_size=(3, 3), stride=(1, 1), padding=(1, 1))\n",
       "    (15): ReLU(inplace=True)\n",
       "    (16): MaxPool2d(kernel_size=2, stride=2, padding=0, dilation=1, ceil_mode=False)\n",
       "    (17): Conv2d(256, 512, kernel_size=(3, 3), stride=(1, 1), padding=(1, 1))\n",
       "    (18): ReLU(inplace=True)\n",
       "    (19): Conv2d(512, 512, kernel_size=(3, 3), stride=(1, 1), padding=(1, 1))\n",
       "    (20): ReLU(inplace=True)\n",
       "    (21): Conv2d(512, 512, kernel_size=(3, 3), stride=(1, 1), padding=(1, 1))\n",
       "    (22): ReLU(inplace=True)\n",
       "    (23): MaxPool2d(kernel_size=2, stride=2, padding=0, dilation=1, ceil_mode=False)\n",
       "    (24): Conv2d(512, 512, kernel_size=(3, 3), stride=(1, 1), padding=(1, 1))\n",
       "    (25): ReLU(inplace=True)\n",
       "    (26): Conv2d(512, 512, kernel_size=(3, 3), stride=(1, 1), padding=(1, 1))\n",
       "    (27): ReLU(inplace=True)\n",
       "    (28): Conv2d(512, 512, kernel_size=(3, 3), stride=(1, 1), padding=(1, 1))\n",
       "    (29): ReLU(inplace=True)\n",
       "    (30): MaxPool2d(kernel_size=2, stride=2, padding=0, dilation=1, ceil_mode=False)\n",
       "  )\n",
       "  (avgpool): AdaptiveAvgPool2d(output_size=(7, 7))\n",
       "  (classifier): Sequential(\n",
       "    (0): Linear(in_features=25088, out_features=4096, bias=True)\n",
       "    (1): ReLU(inplace=True)\n",
       "    (2): Dropout(p=0.5, inplace=False)\n",
       "    (3): Linear(in_features=4096, out_features=4096, bias=True)\n",
       "    (4): ReLU(inplace=True)\n",
       "    (5): Dropout(p=0.5, inplace=False)\n",
       "    (6): Linear(in_features=4096, out_features=1000, bias=True)\n",
       "  )\n",
       ")"
      ]
     },
     "execution_count": 59,
     "metadata": {},
     "output_type": "execute_result"
    }
   ],
   "source": [
    "model = models.vgg16() # we do not specify pretrained=True, i.e. do not load default weights\n",
    "model.load_state_dict(torch.load('model_weights.pth'))\n",
    "model.eval()"
   ]
  },
  {
   "cell_type": "code",
   "execution_count": null,
   "id": "9d1d6b38",
   "metadata": {
    "papermill": {
     "duration": 0.035439,
     "end_time": "2022-10-06T16:06:04.121687",
     "exception": false,
     "start_time": "2022-10-06T16:06:04.086248",
     "status": "completed"
    },
    "tags": []
   },
   "outputs": [],
   "source": []
  }
 ],
 "metadata": {
  "kernelspec": {
   "display_name": "Python 3",
   "language": "python",
   "name": "python3"
  },
  "language_info": {
   "codemirror_mode": {
    "name": "ipython",
    "version": 3
   },
   "file_extension": ".py",
   "mimetype": "text/x-python",
   "name": "python",
   "nbconvert_exporter": "python",
   "pygments_lexer": "ipython3",
   "version": "3.7.12"
  },
  "papermill": {
   "default_parameters": {},
   "duration": 98.158554,
   "end_time": "2022-10-06T16:06:05.078264",
   "environment_variables": {},
   "exception": null,
   "input_path": "__notebook__.ipynb",
   "output_path": "__notebook__.ipynb",
   "parameters": {},
   "start_time": "2022-10-06T16:04:26.919710",
   "version": "2.3.4"
  },
  "widgets": {
   "application/vnd.jupyter.widget-state+json": {
    "state": {
     "00f3e5085a2c4bad9783db57479e1b09": {
      "model_module": "@jupyter-widgets/base",
      "model_module_version": "1.2.0",
      "model_name": "LayoutModel",
      "state": {
       "_model_module": "@jupyter-widgets/base",
       "_model_module_version": "1.2.0",
       "_model_name": "LayoutModel",
       "_view_count": null,
       "_view_module": "@jupyter-widgets/base",
       "_view_module_version": "1.2.0",
       "_view_name": "LayoutView",
       "align_content": null,
       "align_items": null,
       "align_self": null,
       "border": null,
       "bottom": null,
       "display": null,
       "flex": null,
       "flex_flow": null,
       "grid_area": null,
       "grid_auto_columns": null,
       "grid_auto_flow": null,
       "grid_auto_rows": null,
       "grid_column": null,
       "grid_gap": null,
       "grid_row": null,
       "grid_template_areas": null,
       "grid_template_columns": null,
       "grid_template_rows": null,
       "height": null,
       "justify_content": null,
       "justify_items": null,
       "left": null,
       "margin": null,
       "max_height": null,
       "max_width": null,
       "min_height": null,
       "min_width": null,
       "object_fit": null,
       "object_position": null,
       "order": null,
       "overflow": null,
       "overflow_x": null,
       "overflow_y": null,
       "padding": null,
       "right": null,
       "top": null,
       "visibility": null,
       "width": null
      }
     },
     "0877a13d62764606864ca52ba513d727": {
      "model_module": "@jupyter-widgets/base",
      "model_module_version": "1.2.0",
      "model_name": "LayoutModel",
      "state": {
       "_model_module": "@jupyter-widgets/base",
       "_model_module_version": "1.2.0",
       "_model_name": "LayoutModel",
       "_view_count": null,
       "_view_module": "@jupyter-widgets/base",
       "_view_module_version": "1.2.0",
       "_view_name": "LayoutView",
       "align_content": null,
       "align_items": null,
       "align_self": null,
       "border": null,
       "bottom": null,
       "display": null,
       "flex": null,
       "flex_flow": null,
       "grid_area": null,
       "grid_auto_columns": null,
       "grid_auto_flow": null,
       "grid_auto_rows": null,
       "grid_column": null,
       "grid_gap": null,
       "grid_row": null,
       "grid_template_areas": null,
       "grid_template_columns": null,
       "grid_template_rows": null,
       "height": null,
       "justify_content": null,
       "justify_items": null,
       "left": null,
       "margin": null,
       "max_height": null,
       "max_width": null,
       "min_height": null,
       "min_width": null,
       "object_fit": null,
       "object_position": null,
       "order": null,
       "overflow": null,
       "overflow_x": null,
       "overflow_y": null,
       "padding": null,
       "right": null,
       "top": null,
       "visibility": null,
       "width": null
      }
     },
     "0debf0a25ad24ce0b02c15e2f791eced": {
      "model_module": "@jupyter-widgets/controls",
      "model_module_version": "1.5.0",
      "model_name": "ProgressStyleModel",
      "state": {
       "_model_module": "@jupyter-widgets/controls",
       "_model_module_version": "1.5.0",
       "_model_name": "ProgressStyleModel",
       "_view_count": null,
       "_view_module": "@jupyter-widgets/base",
       "_view_module_version": "1.2.0",
       "_view_name": "StyleView",
       "bar_color": null,
       "description_width": ""
      }
     },
     "10d2602a6a794c67bb70381bc1ec5c24": {
      "model_module": "@jupyter-widgets/base",
      "model_module_version": "1.2.0",
      "model_name": "LayoutModel",
      "state": {
       "_model_module": "@jupyter-widgets/base",
       "_model_module_version": "1.2.0",
       "_model_name": "LayoutModel",
       "_view_count": null,
       "_view_module": "@jupyter-widgets/base",
       "_view_module_version": "1.2.0",
       "_view_name": "LayoutView",
       "align_content": null,
       "align_items": null,
       "align_self": null,
       "border": null,
       "bottom": null,
       "display": null,
       "flex": null,
       "flex_flow": null,
       "grid_area": null,
       "grid_auto_columns": null,
       "grid_auto_flow": null,
       "grid_auto_rows": null,
       "grid_column": null,
       "grid_gap": null,
       "grid_row": null,
       "grid_template_areas": null,
       "grid_template_columns": null,
       "grid_template_rows": null,
       "height": null,
       "justify_content": null,
       "justify_items": null,
       "left": null,
       "margin": null,
       "max_height": null,
       "max_width": null,
       "min_height": null,
       "min_width": null,
       "object_fit": null,
       "object_position": null,
       "order": null,
       "overflow": null,
       "overflow_x": null,
       "overflow_y": null,
       "padding": null,
       "right": null,
       "top": null,
       "visibility": null,
       "width": null
      }
     },
     "11623b032b9c4176ba7b282682bef3a2": {
      "model_module": "@jupyter-widgets/base",
      "model_module_version": "1.2.0",
      "model_name": "LayoutModel",
      "state": {
       "_model_module": "@jupyter-widgets/base",
       "_model_module_version": "1.2.0",
       "_model_name": "LayoutModel",
       "_view_count": null,
       "_view_module": "@jupyter-widgets/base",
       "_view_module_version": "1.2.0",
       "_view_name": "LayoutView",
       "align_content": null,
       "align_items": null,
       "align_self": null,
       "border": null,
       "bottom": null,
       "display": null,
       "flex": null,
       "flex_flow": null,
       "grid_area": null,
       "grid_auto_columns": null,
       "grid_auto_flow": null,
       "grid_auto_rows": null,
       "grid_column": null,
       "grid_gap": null,
       "grid_row": null,
       "grid_template_areas": null,
       "grid_template_columns": null,
       "grid_template_rows": null,
       "height": null,
       "justify_content": null,
       "justify_items": null,
       "left": null,
       "margin": null,
       "max_height": null,
       "max_width": null,
       "min_height": null,
       "min_width": null,
       "object_fit": null,
       "object_position": null,
       "order": null,
       "overflow": null,
       "overflow_x": null,
       "overflow_y": null,
       "padding": null,
       "right": null,
       "top": null,
       "visibility": null,
       "width": null
      }
     },
     "1444232ecd3d427092bb94593d31b5ac": {
      "model_module": "@jupyter-widgets/controls",
      "model_module_version": "1.5.0",
      "model_name": "FloatProgressModel",
      "state": {
       "_dom_classes": [],
       "_model_module": "@jupyter-widgets/controls",
       "_model_module_version": "1.5.0",
       "_model_name": "FloatProgressModel",
       "_view_count": null,
       "_view_module": "@jupyter-widgets/controls",
       "_view_module_version": "1.5.0",
       "_view_name": "ProgressView",
       "bar_style": "success",
       "description": "",
       "description_tooltip": null,
       "layout": "IPY_MODEL_2f3945af2e154d90986f6c0bbe570bcd",
       "max": 4422102.0,
       "min": 0.0,
       "orientation": "horizontal",
       "style": "IPY_MODEL_0debf0a25ad24ce0b02c15e2f791eced",
       "value": 4422102.0
      }
     },
     "18c406f351b5418a96324e349cb4a782": {
      "model_module": "@jupyter-widgets/controls",
      "model_module_version": "1.5.0",
      "model_name": "FloatProgressModel",
      "state": {
       "_dom_classes": [],
       "_model_module": "@jupyter-widgets/controls",
       "_model_module_version": "1.5.0",
       "_model_name": "FloatProgressModel",
       "_view_count": null,
       "_view_module": "@jupyter-widgets/controls",
       "_view_module_version": "1.5.0",
       "_view_name": "ProgressView",
       "bar_style": "success",
       "description": "",
       "description_tooltip": null,
       "layout": "IPY_MODEL_00f3e5085a2c4bad9783db57479e1b09",
       "max": 553433881.0,
       "min": 0.0,
       "orientation": "horizontal",
       "style": "IPY_MODEL_d860b7a96b224664aed3282416e7040e",
       "value": 553433881.0
      }
     },
     "1d39a515bdce4539865da3858e2464a4": {
      "model_module": "@jupyter-widgets/controls",
      "model_module_version": "1.5.0",
      "model_name": "DescriptionStyleModel",
      "state": {
       "_model_module": "@jupyter-widgets/controls",
       "_model_module_version": "1.5.0",
       "_model_name": "DescriptionStyleModel",
       "_view_count": null,
       "_view_module": "@jupyter-widgets/base",
       "_view_module_version": "1.2.0",
       "_view_name": "StyleView",
       "description_width": ""
      }
     },
     "230b8f91475c4b7d834293b2041ce8d1": {
      "model_module": "@jupyter-widgets/controls",
      "model_module_version": "1.5.0",
      "model_name": "HTMLModel",
      "state": {
       "_dom_classes": [],
       "_model_module": "@jupyter-widgets/controls",
       "_model_module_version": "1.5.0",
       "_model_name": "HTMLModel",
       "_view_count": null,
       "_view_module": "@jupyter-widgets/controls",
       "_view_module_version": "1.5.0",
       "_view_name": "HTMLView",
       "description": "",
       "description_tooltip": null,
       "layout": "IPY_MODEL_f750b2551e304c768fead6be7b75fda6",
       "placeholder": "​",
       "style": "IPY_MODEL_ba8ed502f83d4973a1047e66b54777aa",
       "value": " 6144/? [00:00&lt;00:00, 235278.36it/s]"
      }
     },
     "2601cfb418f740f0a4c618c7e278bd5a": {
      "model_module": "@jupyter-widgets/controls",
      "model_module_version": "1.5.0",
      "model_name": "DescriptionStyleModel",
      "state": {
       "_model_module": "@jupyter-widgets/controls",
       "_model_module_version": "1.5.0",
       "_model_name": "DescriptionStyleModel",
       "_view_count": null,
       "_view_module": "@jupyter-widgets/base",
       "_view_module_version": "1.2.0",
       "_view_name": "StyleView",
       "description_width": ""
      }
     },
     "2f3945af2e154d90986f6c0bbe570bcd": {
      "model_module": "@jupyter-widgets/base",
      "model_module_version": "1.2.0",
      "model_name": "LayoutModel",
      "state": {
       "_model_module": "@jupyter-widgets/base",
       "_model_module_version": "1.2.0",
       "_model_name": "LayoutModel",
       "_view_count": null,
       "_view_module": "@jupyter-widgets/base",
       "_view_module_version": "1.2.0",
       "_view_name": "LayoutView",
       "align_content": null,
       "align_items": null,
       "align_self": null,
       "border": null,
       "bottom": null,
       "display": null,
       "flex": null,
       "flex_flow": null,
       "grid_area": null,
       "grid_auto_columns": null,
       "grid_auto_flow": null,
       "grid_auto_rows": null,
       "grid_column": null,
       "grid_gap": null,
       "grid_row": null,
       "grid_template_areas": null,
       "grid_template_columns": null,
       "grid_template_rows": null,
       "height": null,
       "justify_content": null,
       "justify_items": null,
       "left": null,
       "margin": null,
       "max_height": null,
       "max_width": null,
       "min_height": null,
       "min_width": null,
       "object_fit": null,
       "object_position": null,
       "order": null,
       "overflow": null,
       "overflow_x": null,
       "overflow_y": null,
       "padding": null,
       "right": null,
       "top": null,
       "visibility": null,
       "width": null
      }
     },
     "3646fbe4f3b744d2beeedefe37f8e7a7": {
      "model_module": "@jupyter-widgets/controls",
      "model_module_version": "1.5.0",
      "model_name": "FloatProgressModel",
      "state": {
       "_dom_classes": [],
       "_model_module": "@jupyter-widgets/controls",
       "_model_module_version": "1.5.0",
       "_model_name": "FloatProgressModel",
       "_view_count": null,
       "_view_module": "@jupyter-widgets/controls",
       "_view_module_version": "1.5.0",
       "_view_name": "ProgressView",
       "bar_style": "success",
       "description": "",
       "description_tooltip": null,
       "layout": "IPY_MODEL_ad26d36ce29a47c188714a7437d116eb",
       "max": 29515.0,
       "min": 0.0,
       "orientation": "horizontal",
       "style": "IPY_MODEL_b003812e4cc843d1b541bd8c4e543858",
       "value": 29515.0
      }
     },
     "37d40edcc88a41088b99ff1a9e8dcdea": {
      "model_module": "@jupyter-widgets/base",
      "model_module_version": "1.2.0",
      "model_name": "LayoutModel",
      "state": {
       "_model_module": "@jupyter-widgets/base",
       "_model_module_version": "1.2.0",
       "_model_name": "LayoutModel",
       "_view_count": null,
       "_view_module": "@jupyter-widgets/base",
       "_view_module_version": "1.2.0",
       "_view_name": "LayoutView",
       "align_content": null,
       "align_items": null,
       "align_self": null,
       "border": null,
       "bottom": null,
       "display": null,
       "flex": null,
       "flex_flow": null,
       "grid_area": null,
       "grid_auto_columns": null,
       "grid_auto_flow": null,
       "grid_auto_rows": null,
       "grid_column": null,
       "grid_gap": null,
       "grid_row": null,
       "grid_template_areas": null,
       "grid_template_columns": null,
       "grid_template_rows": null,
       "height": null,
       "justify_content": null,
       "justify_items": null,
       "left": null,
       "margin": null,
       "max_height": null,
       "max_width": null,
       "min_height": null,
       "min_width": null,
       "object_fit": null,
       "object_position": null,
       "order": null,
       "overflow": null,
       "overflow_x": null,
       "overflow_y": null,
       "padding": null,
       "right": null,
       "top": null,
       "visibility": null,
       "width": null
      }
     },
     "514de3b6ff054e6d97de63bf66a3955e": {
      "model_module": "@jupyter-widgets/controls",
      "model_module_version": "1.5.0",
      "model_name": "DescriptionStyleModel",
      "state": {
       "_model_module": "@jupyter-widgets/controls",
       "_model_module_version": "1.5.0",
       "_model_name": "DescriptionStyleModel",
       "_view_count": null,
       "_view_module": "@jupyter-widgets/base",
       "_view_module_version": "1.2.0",
       "_view_name": "StyleView",
       "description_width": ""
      }
     },
     "599492032be943f8adb9ed1506b8fc97": {
      "model_module": "@jupyter-widgets/controls",
      "model_module_version": "1.5.0",
      "model_name": "HTMLModel",
      "state": {
       "_dom_classes": [],
       "_model_module": "@jupyter-widgets/controls",
       "_model_module_version": "1.5.0",
       "_model_name": "HTMLModel",
       "_view_count": null,
       "_view_module": "@jupyter-widgets/controls",
       "_view_module_version": "1.5.0",
       "_view_name": "HTMLView",
       "description": "",
       "description_tooltip": null,
       "layout": "IPY_MODEL_a26e5b0dfbc246b8934b46c77ed5a519",
       "placeholder": "​",
       "style": "IPY_MODEL_a6a88c9380104a4686fa098567e353f6",
       "value": " 29696/? [00:00&lt;00:00, 101969.44it/s]"
      }
     },
     "5e8944c07a5e41629e5de3835f05f8a3": {
      "model_module": "@jupyter-widgets/controls",
      "model_module_version": "1.5.0",
      "model_name": "HBoxModel",
      "state": {
       "_dom_classes": [],
       "_model_module": "@jupyter-widgets/controls",
       "_model_module_version": "1.5.0",
       "_model_name": "HBoxModel",
       "_view_count": null,
       "_view_module": "@jupyter-widgets/controls",
       "_view_module_version": "1.5.0",
       "_view_name": "HBoxView",
       "box_style": "",
       "children": [
        "IPY_MODEL_ff67b695382644f5b29eebf0b255bd50",
        "IPY_MODEL_78ba52df84824791b4282c8387cdbe4c",
        "IPY_MODEL_a84596aefaed4790bad3904d14508253"
       ],
       "layout": "IPY_MODEL_f5753854cc724262810b83a86269e937"
      }
     },
     "5fe34546263b4df4acfa78c7c37fdfbd": {
      "model_module": "@jupyter-widgets/controls",
      "model_module_version": "1.5.0",
      "model_name": "DescriptionStyleModel",
      "state": {
       "_model_module": "@jupyter-widgets/controls",
       "_model_module_version": "1.5.0",
       "_model_name": "DescriptionStyleModel",
       "_view_count": null,
       "_view_module": "@jupyter-widgets/base",
       "_view_module_version": "1.2.0",
       "_view_name": "StyleView",
       "description_width": ""
      }
     },
     "60a982e53b684764963609df16627226": {
      "model_module": "@jupyter-widgets/base",
      "model_module_version": "1.2.0",
      "model_name": "LayoutModel",
      "state": {
       "_model_module": "@jupyter-widgets/base",
       "_model_module_version": "1.2.0",
       "_model_name": "LayoutModel",
       "_view_count": null,
       "_view_module": "@jupyter-widgets/base",
       "_view_module_version": "1.2.0",
       "_view_name": "LayoutView",
       "align_content": null,
       "align_items": null,
       "align_self": null,
       "border": null,
       "bottom": null,
       "display": null,
       "flex": null,
       "flex_flow": null,
       "grid_area": null,
       "grid_auto_columns": null,
       "grid_auto_flow": null,
       "grid_auto_rows": null,
       "grid_column": null,
       "grid_gap": null,
       "grid_row": null,
       "grid_template_areas": null,
       "grid_template_columns": null,
       "grid_template_rows": null,
       "height": null,
       "justify_content": null,
       "justify_items": null,
       "left": null,
       "margin": null,
       "max_height": null,
       "max_width": null,
       "min_height": null,
       "min_width": null,
       "object_fit": null,
       "object_position": null,
       "order": null,
       "overflow": null,
       "overflow_x": null,
       "overflow_y": null,
       "padding": null,
       "right": null,
       "top": null,
       "visibility": null,
       "width": null
      }
     },
     "6320e0d874fe4d64bbb6127c05d8f958": {
      "model_module": "@jupyter-widgets/controls",
      "model_module_version": "1.5.0",
      "model_name": "ProgressStyleModel",
      "state": {
       "_model_module": "@jupyter-widgets/controls",
       "_model_module_version": "1.5.0",
       "_model_name": "ProgressStyleModel",
       "_view_count": null,
       "_view_module": "@jupyter-widgets/base",
       "_view_module_version": "1.2.0",
       "_view_name": "StyleView",
       "bar_color": null,
       "description_width": ""
      }
     },
     "6b08d20752e04c87bdf30300126032d9": {
      "model_module": "@jupyter-widgets/base",
      "model_module_version": "1.2.0",
      "model_name": "LayoutModel",
      "state": {
       "_model_module": "@jupyter-widgets/base",
       "_model_module_version": "1.2.0",
       "_model_name": "LayoutModel",
       "_view_count": null,
       "_view_module": "@jupyter-widgets/base",
       "_view_module_version": "1.2.0",
       "_view_name": "LayoutView",
       "align_content": null,
       "align_items": null,
       "align_self": null,
       "border": null,
       "bottom": null,
       "display": null,
       "flex": null,
       "flex_flow": null,
       "grid_area": null,
       "grid_auto_columns": null,
       "grid_auto_flow": null,
       "grid_auto_rows": null,
       "grid_column": null,
       "grid_gap": null,
       "grid_row": null,
       "grid_template_areas": null,
       "grid_template_columns": null,
       "grid_template_rows": null,
       "height": null,
       "justify_content": null,
       "justify_items": null,
       "left": null,
       "margin": null,
       "max_height": null,
       "max_width": null,
       "min_height": null,
       "min_width": null,
       "object_fit": null,
       "object_position": null,
       "order": null,
       "overflow": null,
       "overflow_x": null,
       "overflow_y": null,
       "padding": null,
       "right": null,
       "top": null,
       "visibility": null,
       "width": null
      }
     },
     "78ba52df84824791b4282c8387cdbe4c": {
      "model_module": "@jupyter-widgets/controls",
      "model_module_version": "1.5.0",
      "model_name": "FloatProgressModel",
      "state": {
       "_dom_classes": [],
       "_model_module": "@jupyter-widgets/controls",
       "_model_module_version": "1.5.0",
       "_model_name": "FloatProgressModel",
       "_view_count": null,
       "_view_module": "@jupyter-widgets/controls",
       "_view_module_version": "1.5.0",
       "_view_name": "ProgressView",
       "bar_style": "success",
       "description": "",
       "description_tooltip": null,
       "layout": "IPY_MODEL_b43caa0f076e472c854d71e37205a9db",
       "max": 26421880.0,
       "min": 0.0,
       "orientation": "horizontal",
       "style": "IPY_MODEL_d1ca4604da31431881101b479d07fdee",
       "value": 26421880.0
      }
     },
     "79578dec34f54c0d8cf7dc55aff1224e": {
      "model_module": "@jupyter-widgets/controls",
      "model_module_version": "1.5.0",
      "model_name": "HTMLModel",
      "state": {
       "_dom_classes": [],
       "_model_module": "@jupyter-widgets/controls",
       "_model_module_version": "1.5.0",
       "_model_name": "HTMLModel",
       "_view_count": null,
       "_view_module": "@jupyter-widgets/controls",
       "_view_module_version": "1.5.0",
       "_view_name": "HTMLView",
       "description": "",
       "description_tooltip": null,
       "layout": "IPY_MODEL_caa0bb3ded084e8da1a0090b7833e4da",
       "placeholder": "​",
       "style": "IPY_MODEL_f652a646aa7f4176be9cdb39f9bc68df",
       "value": ""
      }
     },
     "7af5758a71844fb188705e336e8c774a": {
      "model_module": "@jupyter-widgets/base",
      "model_module_version": "1.2.0",
      "model_name": "LayoutModel",
      "state": {
       "_model_module": "@jupyter-widgets/base",
       "_model_module_version": "1.2.0",
       "_model_name": "LayoutModel",
       "_view_count": null,
       "_view_module": "@jupyter-widgets/base",
       "_view_module_version": "1.2.0",
       "_view_name": "LayoutView",
       "align_content": null,
       "align_items": null,
       "align_self": null,
       "border": null,
       "bottom": null,
       "display": null,
       "flex": null,
       "flex_flow": null,
       "grid_area": null,
       "grid_auto_columns": null,
       "grid_auto_flow": null,
       "grid_auto_rows": null,
       "grid_column": null,
       "grid_gap": null,
       "grid_row": null,
       "grid_template_areas": null,
       "grid_template_columns": null,
       "grid_template_rows": null,
       "height": null,
       "justify_content": null,
       "justify_items": null,
       "left": null,
       "margin": null,
       "max_height": null,
       "max_width": null,
       "min_height": null,
       "min_width": null,
       "object_fit": null,
       "object_position": null,
       "order": null,
       "overflow": null,
       "overflow_x": null,
       "overflow_y": null,
       "padding": null,
       "right": null,
       "top": null,
       "visibility": null,
       "width": null
      }
     },
     "7b66ce8f46d64ef087c28475a6586f35": {
      "model_module": "@jupyter-widgets/controls",
      "model_module_version": "1.5.0",
      "model_name": "HBoxModel",
      "state": {
       "_dom_classes": [],
       "_model_module": "@jupyter-widgets/controls",
       "_model_module_version": "1.5.0",
       "_model_name": "HBoxModel",
       "_view_count": null,
       "_view_module": "@jupyter-widgets/controls",
       "_view_module_version": "1.5.0",
       "_view_name": "HBoxView",
       "box_style": "",
       "children": [
        "IPY_MODEL_fceff003b1294703958d21f016896afa",
        "IPY_MODEL_8efae531d17a4905a088d7f9ca9d102a",
        "IPY_MODEL_230b8f91475c4b7d834293b2041ce8d1"
       ],
       "layout": "IPY_MODEL_0877a13d62764606864ca52ba513d727"
      }
     },
     "7e9dd51409b1459f93398b10dba68195": {
      "model_module": "@jupyter-widgets/base",
      "model_module_version": "1.2.0",
      "model_name": "LayoutModel",
      "state": {
       "_model_module": "@jupyter-widgets/base",
       "_model_module_version": "1.2.0",
       "_model_name": "LayoutModel",
       "_view_count": null,
       "_view_module": "@jupyter-widgets/base",
       "_view_module_version": "1.2.0",
       "_view_name": "LayoutView",
       "align_content": null,
       "align_items": null,
       "align_self": null,
       "border": null,
       "bottom": null,
       "display": null,
       "flex": null,
       "flex_flow": null,
       "grid_area": null,
       "grid_auto_columns": null,
       "grid_auto_flow": null,
       "grid_auto_rows": null,
       "grid_column": null,
       "grid_gap": null,
       "grid_row": null,
       "grid_template_areas": null,
       "grid_template_columns": null,
       "grid_template_rows": null,
       "height": null,
       "justify_content": null,
       "justify_items": null,
       "left": null,
       "margin": null,
       "max_height": null,
       "max_width": null,
       "min_height": null,
       "min_width": null,
       "object_fit": null,
       "object_position": null,
       "order": null,
       "overflow": null,
       "overflow_x": null,
       "overflow_y": null,
       "padding": null,
       "right": null,
       "top": null,
       "visibility": null,
       "width": null
      }
     },
     "8658ed2b12a44127a73e3776f6a53aa6": {
      "model_module": "@jupyter-widgets/controls",
      "model_module_version": "1.5.0",
      "model_name": "HTMLModel",
      "state": {
       "_dom_classes": [],
       "_model_module": "@jupyter-widgets/controls",
       "_model_module_version": "1.5.0",
       "_model_name": "HTMLModel",
       "_view_count": null,
       "_view_module": "@jupyter-widgets/controls",
       "_view_module_version": "1.5.0",
       "_view_name": "HTMLView",
       "description": "",
       "description_tooltip": null,
       "layout": "IPY_MODEL_7af5758a71844fb188705e336e8c774a",
       "placeholder": "​",
       "style": "IPY_MODEL_1d39a515bdce4539865da3858e2464a4",
       "value": " 528M/528M [00:10&lt;00:00, 55.1MB/s]"
      }
     },
     "8efae531d17a4905a088d7f9ca9d102a": {
      "model_module": "@jupyter-widgets/controls",
      "model_module_version": "1.5.0",
      "model_name": "FloatProgressModel",
      "state": {
       "_dom_classes": [],
       "_model_module": "@jupyter-widgets/controls",
       "_model_module_version": "1.5.0",
       "_model_name": "FloatProgressModel",
       "_view_count": null,
       "_view_module": "@jupyter-widgets/controls",
       "_view_module_version": "1.5.0",
       "_view_name": "ProgressView",
       "bar_style": "success",
       "description": "",
       "description_tooltip": null,
       "layout": "IPY_MODEL_d6a3063c18ca450292b071dfd6d58873",
       "max": 5148.0,
       "min": 0.0,
       "orientation": "horizontal",
       "style": "IPY_MODEL_6320e0d874fe4d64bbb6127c05d8f958",
       "value": 5148.0
      }
     },
     "a26e5b0dfbc246b8934b46c77ed5a519": {
      "model_module": "@jupyter-widgets/base",
      "model_module_version": "1.2.0",
      "model_name": "LayoutModel",
      "state": {
       "_model_module": "@jupyter-widgets/base",
       "_model_module_version": "1.2.0",
       "_model_name": "LayoutModel",
       "_view_count": null,
       "_view_module": "@jupyter-widgets/base",
       "_view_module_version": "1.2.0",
       "_view_name": "LayoutView",
       "align_content": null,
       "align_items": null,
       "align_self": null,
       "border": null,
       "bottom": null,
       "display": null,
       "flex": null,
       "flex_flow": null,
       "grid_area": null,
       "grid_auto_columns": null,
       "grid_auto_flow": null,
       "grid_auto_rows": null,
       "grid_column": null,
       "grid_gap": null,
       "grid_row": null,
       "grid_template_areas": null,
       "grid_template_columns": null,
       "grid_template_rows": null,
       "height": null,
       "justify_content": null,
       "justify_items": null,
       "left": null,
       "margin": null,
       "max_height": null,
       "max_width": null,
       "min_height": null,
       "min_width": null,
       "object_fit": null,
       "object_position": null,
       "order": null,
       "overflow": null,
       "overflow_x": null,
       "overflow_y": null,
       "padding": null,
       "right": null,
       "top": null,
       "visibility": null,
       "width": null
      }
     },
     "a6a88c9380104a4686fa098567e353f6": {
      "model_module": "@jupyter-widgets/controls",
      "model_module_version": "1.5.0",
      "model_name": "DescriptionStyleModel",
      "state": {
       "_model_module": "@jupyter-widgets/controls",
       "_model_module_version": "1.5.0",
       "_model_name": "DescriptionStyleModel",
       "_view_count": null,
       "_view_module": "@jupyter-widgets/base",
       "_view_module_version": "1.2.0",
       "_view_name": "StyleView",
       "description_width": ""
      }
     },
     "a83beba3201644e0b7fe26c94938b63d": {
      "model_module": "@jupyter-widgets/controls",
      "model_module_version": "1.5.0",
      "model_name": "DescriptionStyleModel",
      "state": {
       "_model_module": "@jupyter-widgets/controls",
       "_model_module_version": "1.5.0",
       "_model_name": "DescriptionStyleModel",
       "_view_count": null,
       "_view_module": "@jupyter-widgets/base",
       "_view_module_version": "1.2.0",
       "_view_name": "StyleView",
       "description_width": ""
      }
     },
     "a84596aefaed4790bad3904d14508253": {
      "model_module": "@jupyter-widgets/controls",
      "model_module_version": "1.5.0",
      "model_name": "HTMLModel",
      "state": {
       "_dom_classes": [],
       "_model_module": "@jupyter-widgets/controls",
       "_model_module_version": "1.5.0",
       "_model_name": "HTMLModel",
       "_view_count": null,
       "_view_module": "@jupyter-widgets/controls",
       "_view_module_version": "1.5.0",
       "_view_name": "HTMLView",
       "description": "",
       "description_tooltip": null,
       "layout": "IPY_MODEL_e5076271305c431ba2dbbb8b97268fba",
       "placeholder": "​",
       "style": "IPY_MODEL_5fe34546263b4df4acfa78c7c37fdfbd",
       "value": " 26422272/? [00:02&lt;00:00, 17042235.23it/s]"
      }
     },
     "ad26d36ce29a47c188714a7437d116eb": {
      "model_module": "@jupyter-widgets/base",
      "model_module_version": "1.2.0",
      "model_name": "LayoutModel",
      "state": {
       "_model_module": "@jupyter-widgets/base",
       "_model_module_version": "1.2.0",
       "_model_name": "LayoutModel",
       "_view_count": null,
       "_view_module": "@jupyter-widgets/base",
       "_view_module_version": "1.2.0",
       "_view_name": "LayoutView",
       "align_content": null,
       "align_items": null,
       "align_self": null,
       "border": null,
       "bottom": null,
       "display": null,
       "flex": null,
       "flex_flow": null,
       "grid_area": null,
       "grid_auto_columns": null,
       "grid_auto_flow": null,
       "grid_auto_rows": null,
       "grid_column": null,
       "grid_gap": null,
       "grid_row": null,
       "grid_template_areas": null,
       "grid_template_columns": null,
       "grid_template_rows": null,
       "height": null,
       "justify_content": null,
       "justify_items": null,
       "left": null,
       "margin": null,
       "max_height": null,
       "max_width": null,
       "min_height": null,
       "min_width": null,
       "object_fit": null,
       "object_position": null,
       "order": null,
       "overflow": null,
       "overflow_x": null,
       "overflow_y": null,
       "padding": null,
       "right": null,
       "top": null,
       "visibility": null,
       "width": null
      }
     },
     "b003812e4cc843d1b541bd8c4e543858": {
      "model_module": "@jupyter-widgets/controls",
      "model_module_version": "1.5.0",
      "model_name": "ProgressStyleModel",
      "state": {
       "_model_module": "@jupyter-widgets/controls",
       "_model_module_version": "1.5.0",
       "_model_name": "ProgressStyleModel",
       "_view_count": null,
       "_view_module": "@jupyter-widgets/base",
       "_view_module_version": "1.2.0",
       "_view_name": "StyleView",
       "bar_color": null,
       "description_width": ""
      }
     },
     "b43caa0f076e472c854d71e37205a9db": {
      "model_module": "@jupyter-widgets/base",
      "model_module_version": "1.2.0",
      "model_name": "LayoutModel",
      "state": {
       "_model_module": "@jupyter-widgets/base",
       "_model_module_version": "1.2.0",
       "_model_name": "LayoutModel",
       "_view_count": null,
       "_view_module": "@jupyter-widgets/base",
       "_view_module_version": "1.2.0",
       "_view_name": "LayoutView",
       "align_content": null,
       "align_items": null,
       "align_self": null,
       "border": null,
       "bottom": null,
       "display": null,
       "flex": null,
       "flex_flow": null,
       "grid_area": null,
       "grid_auto_columns": null,
       "grid_auto_flow": null,
       "grid_auto_rows": null,
       "grid_column": null,
       "grid_gap": null,
       "grid_row": null,
       "grid_template_areas": null,
       "grid_template_columns": null,
       "grid_template_rows": null,
       "height": null,
       "justify_content": null,
       "justify_items": null,
       "left": null,
       "margin": null,
       "max_height": null,
       "max_width": null,
       "min_height": null,
       "min_width": null,
       "object_fit": null,
       "object_position": null,
       "order": null,
       "overflow": null,
       "overflow_x": null,
       "overflow_y": null,
       "padding": null,
       "right": null,
       "top": null,
       "visibility": null,
       "width": null
      }
     },
     "ba8ed502f83d4973a1047e66b54777aa": {
      "model_module": "@jupyter-widgets/controls",
      "model_module_version": "1.5.0",
      "model_name": "DescriptionStyleModel",
      "state": {
       "_model_module": "@jupyter-widgets/controls",
       "_model_module_version": "1.5.0",
       "_model_name": "DescriptionStyleModel",
       "_view_count": null,
       "_view_module": "@jupyter-widgets/base",
       "_view_module_version": "1.2.0",
       "_view_name": "StyleView",
       "description_width": ""
      }
     },
     "bd0006a13d0c4655a7842cae1063e707": {
      "model_module": "@jupyter-widgets/controls",
      "model_module_version": "1.5.0",
      "model_name": "DescriptionStyleModel",
      "state": {
       "_model_module": "@jupyter-widgets/controls",
       "_model_module_version": "1.5.0",
       "_model_name": "DescriptionStyleModel",
       "_view_count": null,
       "_view_module": "@jupyter-widgets/base",
       "_view_module_version": "1.2.0",
       "_view_name": "StyleView",
       "description_width": ""
      }
     },
     "c21b12cff34846caa3954cc10f4b0fc3": {
      "model_module": "@jupyter-widgets/controls",
      "model_module_version": "1.5.0",
      "model_name": "HTMLModel",
      "state": {
       "_dom_classes": [],
       "_model_module": "@jupyter-widgets/controls",
       "_model_module_version": "1.5.0",
       "_model_name": "HTMLModel",
       "_view_count": null,
       "_view_module": "@jupyter-widgets/controls",
       "_view_module_version": "1.5.0",
       "_view_name": "HTMLView",
       "description": "",
       "description_tooltip": null,
       "layout": "IPY_MODEL_11623b032b9c4176ba7b282682bef3a2",
       "placeholder": "​",
       "style": "IPY_MODEL_a83beba3201644e0b7fe26c94938b63d",
       "value": ""
      }
     },
     "c5049502703a447a9dc8354fb75d7ba3": {
      "model_module": "@jupyter-widgets/base",
      "model_module_version": "1.2.0",
      "model_name": "LayoutModel",
      "state": {
       "_model_module": "@jupyter-widgets/base",
       "_model_module_version": "1.2.0",
       "_model_name": "LayoutModel",
       "_view_count": null,
       "_view_module": "@jupyter-widgets/base",
       "_view_module_version": "1.2.0",
       "_view_name": "LayoutView",
       "align_content": null,
       "align_items": null,
       "align_self": null,
       "border": null,
       "bottom": null,
       "display": null,
       "flex": null,
       "flex_flow": null,
       "grid_area": null,
       "grid_auto_columns": null,
       "grid_auto_flow": null,
       "grid_auto_rows": null,
       "grid_column": null,
       "grid_gap": null,
       "grid_row": null,
       "grid_template_areas": null,
       "grid_template_columns": null,
       "grid_template_rows": null,
       "height": null,
       "justify_content": null,
       "justify_items": null,
       "left": null,
       "margin": null,
       "max_height": null,
       "max_width": null,
       "min_height": null,
       "min_width": null,
       "object_fit": null,
       "object_position": null,
       "order": null,
       "overflow": null,
       "overflow_x": null,
       "overflow_y": null,
       "padding": null,
       "right": null,
       "top": null,
       "visibility": null,
       "width": null
      }
     },
     "c7e6a551daf946e8bbee69d669f95902": {
      "model_module": "@jupyter-widgets/controls",
      "model_module_version": "1.5.0",
      "model_name": "HTMLModel",
      "state": {
       "_dom_classes": [],
       "_model_module": "@jupyter-widgets/controls",
       "_model_module_version": "1.5.0",
       "_model_name": "HTMLModel",
       "_view_count": null,
       "_view_module": "@jupyter-widgets/controls",
       "_view_module_version": "1.5.0",
       "_view_name": "HTMLView",
       "description": "",
       "description_tooltip": null,
       "layout": "IPY_MODEL_60a982e53b684764963609df16627226",
       "placeholder": "​",
       "style": "IPY_MODEL_e068ac145bb0416d8a452b8b21e8eae2",
       "value": "100%"
      }
     },
     "caa0bb3ded084e8da1a0090b7833e4da": {
      "model_module": "@jupyter-widgets/base",
      "model_module_version": "1.2.0",
      "model_name": "LayoutModel",
      "state": {
       "_model_module": "@jupyter-widgets/base",
       "_model_module_version": "1.2.0",
       "_model_name": "LayoutModel",
       "_view_count": null,
       "_view_module": "@jupyter-widgets/base",
       "_view_module_version": "1.2.0",
       "_view_name": "LayoutView",
       "align_content": null,
       "align_items": null,
       "align_self": null,
       "border": null,
       "bottom": null,
       "display": null,
       "flex": null,
       "flex_flow": null,
       "grid_area": null,
       "grid_auto_columns": null,
       "grid_auto_flow": null,
       "grid_auto_rows": null,
       "grid_column": null,
       "grid_gap": null,
       "grid_row": null,
       "grid_template_areas": null,
       "grid_template_columns": null,
       "grid_template_rows": null,
       "height": null,
       "justify_content": null,
       "justify_items": null,
       "left": null,
       "margin": null,
       "max_height": null,
       "max_width": null,
       "min_height": null,
       "min_width": null,
       "object_fit": null,
       "object_position": null,
       "order": null,
       "overflow": null,
       "overflow_x": null,
       "overflow_y": null,
       "padding": null,
       "right": null,
       "top": null,
       "visibility": null,
       "width": null
      }
     },
     "cbc2cc7153c24fe8a1abb8516272488f": {
      "model_module": "@jupyter-widgets/controls",
      "model_module_version": "1.5.0",
      "model_name": "HBoxModel",
      "state": {
       "_dom_classes": [],
       "_model_module": "@jupyter-widgets/controls",
       "_model_module_version": "1.5.0",
       "_model_name": "HBoxModel",
       "_view_count": null,
       "_view_module": "@jupyter-widgets/controls",
       "_view_module_version": "1.5.0",
       "_view_name": "HBoxView",
       "box_style": "",
       "children": [
        "IPY_MODEL_79578dec34f54c0d8cf7dc55aff1224e",
        "IPY_MODEL_3646fbe4f3b744d2beeedefe37f8e7a7",
        "IPY_MODEL_599492032be943f8adb9ed1506b8fc97"
       ],
       "layout": "IPY_MODEL_37d40edcc88a41088b99ff1a9e8dcdea"
      }
     },
     "d1ca4604da31431881101b479d07fdee": {
      "model_module": "@jupyter-widgets/controls",
      "model_module_version": "1.5.0",
      "model_name": "ProgressStyleModel",
      "state": {
       "_model_module": "@jupyter-widgets/controls",
       "_model_module_version": "1.5.0",
       "_model_name": "ProgressStyleModel",
       "_view_count": null,
       "_view_module": "@jupyter-widgets/base",
       "_view_module_version": "1.2.0",
       "_view_name": "StyleView",
       "bar_color": null,
       "description_width": ""
      }
     },
     "d3bba5bfce6c4b0a9b9685e16f6847b7": {
      "model_module": "@jupyter-widgets/controls",
      "model_module_version": "1.5.0",
      "model_name": "HTMLModel",
      "state": {
       "_dom_classes": [],
       "_model_module": "@jupyter-widgets/controls",
       "_model_module_version": "1.5.0",
       "_model_name": "HTMLModel",
       "_view_count": null,
       "_view_module": "@jupyter-widgets/controls",
       "_view_module_version": "1.5.0",
       "_view_name": "HTMLView",
       "description": "",
       "description_tooltip": null,
       "layout": "IPY_MODEL_e9cc506334b0467abe8a2ee88088c23e",
       "placeholder": "​",
       "style": "IPY_MODEL_bd0006a13d0c4655a7842cae1063e707",
       "value": " 4422656/? [00:01&lt;00:00, 6209929.80it/s]"
      }
     },
     "d6a3063c18ca450292b071dfd6d58873": {
      "model_module": "@jupyter-widgets/base",
      "model_module_version": "1.2.0",
      "model_name": "LayoutModel",
      "state": {
       "_model_module": "@jupyter-widgets/base",
       "_model_module_version": "1.2.0",
       "_model_name": "LayoutModel",
       "_view_count": null,
       "_view_module": "@jupyter-widgets/base",
       "_view_module_version": "1.2.0",
       "_view_name": "LayoutView",
       "align_content": null,
       "align_items": null,
       "align_self": null,
       "border": null,
       "bottom": null,
       "display": null,
       "flex": null,
       "flex_flow": null,
       "grid_area": null,
       "grid_auto_columns": null,
       "grid_auto_flow": null,
       "grid_auto_rows": null,
       "grid_column": null,
       "grid_gap": null,
       "grid_row": null,
       "grid_template_areas": null,
       "grid_template_columns": null,
       "grid_template_rows": null,
       "height": null,
       "justify_content": null,
       "justify_items": null,
       "left": null,
       "margin": null,
       "max_height": null,
       "max_width": null,
       "min_height": null,
       "min_width": null,
       "object_fit": null,
       "object_position": null,
       "order": null,
       "overflow": null,
       "overflow_x": null,
       "overflow_y": null,
       "padding": null,
       "right": null,
       "top": null,
       "visibility": null,
       "width": null
      }
     },
     "d860b7a96b224664aed3282416e7040e": {
      "model_module": "@jupyter-widgets/controls",
      "model_module_version": "1.5.0",
      "model_name": "ProgressStyleModel",
      "state": {
       "_model_module": "@jupyter-widgets/controls",
       "_model_module_version": "1.5.0",
       "_model_name": "ProgressStyleModel",
       "_view_count": null,
       "_view_module": "@jupyter-widgets/base",
       "_view_module_version": "1.2.0",
       "_view_name": "StyleView",
       "bar_color": null,
       "description_width": ""
      }
     },
     "d9dd693057ef456bb10fb6191844721b": {
      "model_module": "@jupyter-widgets/controls",
      "model_module_version": "1.5.0",
      "model_name": "HBoxModel",
      "state": {
       "_dom_classes": [],
       "_model_module": "@jupyter-widgets/controls",
       "_model_module_version": "1.5.0",
       "_model_name": "HBoxModel",
       "_view_count": null,
       "_view_module": "@jupyter-widgets/controls",
       "_view_module_version": "1.5.0",
       "_view_name": "HBoxView",
       "box_style": "",
       "children": [
        "IPY_MODEL_c7e6a551daf946e8bbee69d669f95902",
        "IPY_MODEL_18c406f351b5418a96324e349cb4a782",
        "IPY_MODEL_8658ed2b12a44127a73e3776f6a53aa6"
       ],
       "layout": "IPY_MODEL_6b08d20752e04c87bdf30300126032d9"
      }
     },
     "e068ac145bb0416d8a452b8b21e8eae2": {
      "model_module": "@jupyter-widgets/controls",
      "model_module_version": "1.5.0",
      "model_name": "DescriptionStyleModel",
      "state": {
       "_model_module": "@jupyter-widgets/controls",
       "_model_module_version": "1.5.0",
       "_model_name": "DescriptionStyleModel",
       "_view_count": null,
       "_view_module": "@jupyter-widgets/base",
       "_view_module_version": "1.2.0",
       "_view_name": "StyleView",
       "description_width": ""
      }
     },
     "e44fbd029fd143dcbbaf824ec791db5e": {
      "model_module": "@jupyter-widgets/controls",
      "model_module_version": "1.5.0",
      "model_name": "HBoxModel",
      "state": {
       "_dom_classes": [],
       "_model_module": "@jupyter-widgets/controls",
       "_model_module_version": "1.5.0",
       "_model_name": "HBoxModel",
       "_view_count": null,
       "_view_module": "@jupyter-widgets/controls",
       "_view_module_version": "1.5.0",
       "_view_name": "HBoxView",
       "box_style": "",
       "children": [
        "IPY_MODEL_c21b12cff34846caa3954cc10f4b0fc3",
        "IPY_MODEL_1444232ecd3d427092bb94593d31b5ac",
        "IPY_MODEL_d3bba5bfce6c4b0a9b9685e16f6847b7"
       ],
       "layout": "IPY_MODEL_c5049502703a447a9dc8354fb75d7ba3"
      }
     },
     "e5076271305c431ba2dbbb8b97268fba": {
      "model_module": "@jupyter-widgets/base",
      "model_module_version": "1.2.0",
      "model_name": "LayoutModel",
      "state": {
       "_model_module": "@jupyter-widgets/base",
       "_model_module_version": "1.2.0",
       "_model_name": "LayoutModel",
       "_view_count": null,
       "_view_module": "@jupyter-widgets/base",
       "_view_module_version": "1.2.0",
       "_view_name": "LayoutView",
       "align_content": null,
       "align_items": null,
       "align_self": null,
       "border": null,
       "bottom": null,
       "display": null,
       "flex": null,
       "flex_flow": null,
       "grid_area": null,
       "grid_auto_columns": null,
       "grid_auto_flow": null,
       "grid_auto_rows": null,
       "grid_column": null,
       "grid_gap": null,
       "grid_row": null,
       "grid_template_areas": null,
       "grid_template_columns": null,
       "grid_template_rows": null,
       "height": null,
       "justify_content": null,
       "justify_items": null,
       "left": null,
       "margin": null,
       "max_height": null,
       "max_width": null,
       "min_height": null,
       "min_width": null,
       "object_fit": null,
       "object_position": null,
       "order": null,
       "overflow": null,
       "overflow_x": null,
       "overflow_y": null,
       "padding": null,
       "right": null,
       "top": null,
       "visibility": null,
       "width": null
      }
     },
     "e9cc506334b0467abe8a2ee88088c23e": {
      "model_module": "@jupyter-widgets/base",
      "model_module_version": "1.2.0",
      "model_name": "LayoutModel",
      "state": {
       "_model_module": "@jupyter-widgets/base",
       "_model_module_version": "1.2.0",
       "_model_name": "LayoutModel",
       "_view_count": null,
       "_view_module": "@jupyter-widgets/base",
       "_view_module_version": "1.2.0",
       "_view_name": "LayoutView",
       "align_content": null,
       "align_items": null,
       "align_self": null,
       "border": null,
       "bottom": null,
       "display": null,
       "flex": null,
       "flex_flow": null,
       "grid_area": null,
       "grid_auto_columns": null,
       "grid_auto_flow": null,
       "grid_auto_rows": null,
       "grid_column": null,
       "grid_gap": null,
       "grid_row": null,
       "grid_template_areas": null,
       "grid_template_columns": null,
       "grid_template_rows": null,
       "height": null,
       "justify_content": null,
       "justify_items": null,
       "left": null,
       "margin": null,
       "max_height": null,
       "max_width": null,
       "min_height": null,
       "min_width": null,
       "object_fit": null,
       "object_position": null,
       "order": null,
       "overflow": null,
       "overflow_x": null,
       "overflow_y": null,
       "padding": null,
       "right": null,
       "top": null,
       "visibility": null,
       "width": null
      }
     },
     "f5753854cc724262810b83a86269e937": {
      "model_module": "@jupyter-widgets/base",
      "model_module_version": "1.2.0",
      "model_name": "LayoutModel",
      "state": {
       "_model_module": "@jupyter-widgets/base",
       "_model_module_version": "1.2.0",
       "_model_name": "LayoutModel",
       "_view_count": null,
       "_view_module": "@jupyter-widgets/base",
       "_view_module_version": "1.2.0",
       "_view_name": "LayoutView",
       "align_content": null,
       "align_items": null,
       "align_self": null,
       "border": null,
       "bottom": null,
       "display": null,
       "flex": null,
       "flex_flow": null,
       "grid_area": null,
       "grid_auto_columns": null,
       "grid_auto_flow": null,
       "grid_auto_rows": null,
       "grid_column": null,
       "grid_gap": null,
       "grid_row": null,
       "grid_template_areas": null,
       "grid_template_columns": null,
       "grid_template_rows": null,
       "height": null,
       "justify_content": null,
       "justify_items": null,
       "left": null,
       "margin": null,
       "max_height": null,
       "max_width": null,
       "min_height": null,
       "min_width": null,
       "object_fit": null,
       "object_position": null,
       "order": null,
       "overflow": null,
       "overflow_x": null,
       "overflow_y": null,
       "padding": null,
       "right": null,
       "top": null,
       "visibility": null,
       "width": null
      }
     },
     "f652a646aa7f4176be9cdb39f9bc68df": {
      "model_module": "@jupyter-widgets/controls",
      "model_module_version": "1.5.0",
      "model_name": "DescriptionStyleModel",
      "state": {
       "_model_module": "@jupyter-widgets/controls",
       "_model_module_version": "1.5.0",
       "_model_name": "DescriptionStyleModel",
       "_view_count": null,
       "_view_module": "@jupyter-widgets/base",
       "_view_module_version": "1.2.0",
       "_view_name": "StyleView",
       "description_width": ""
      }
     },
     "f750b2551e304c768fead6be7b75fda6": {
      "model_module": "@jupyter-widgets/base",
      "model_module_version": "1.2.0",
      "model_name": "LayoutModel",
      "state": {
       "_model_module": "@jupyter-widgets/base",
       "_model_module_version": "1.2.0",
       "_model_name": "LayoutModel",
       "_view_count": null,
       "_view_module": "@jupyter-widgets/base",
       "_view_module_version": "1.2.0",
       "_view_name": "LayoutView",
       "align_content": null,
       "align_items": null,
       "align_self": null,
       "border": null,
       "bottom": null,
       "display": null,
       "flex": null,
       "flex_flow": null,
       "grid_area": null,
       "grid_auto_columns": null,
       "grid_auto_flow": null,
       "grid_auto_rows": null,
       "grid_column": null,
       "grid_gap": null,
       "grid_row": null,
       "grid_template_areas": null,
       "grid_template_columns": null,
       "grid_template_rows": null,
       "height": null,
       "justify_content": null,
       "justify_items": null,
       "left": null,
       "margin": null,
       "max_height": null,
       "max_width": null,
       "min_height": null,
       "min_width": null,
       "object_fit": null,
       "object_position": null,
       "order": null,
       "overflow": null,
       "overflow_x": null,
       "overflow_y": null,
       "padding": null,
       "right": null,
       "top": null,
       "visibility": null,
       "width": null
      }
     },
     "fceff003b1294703958d21f016896afa": {
      "model_module": "@jupyter-widgets/controls",
      "model_module_version": "1.5.0",
      "model_name": "HTMLModel",
      "state": {
       "_dom_classes": [],
       "_model_module": "@jupyter-widgets/controls",
       "_model_module_version": "1.5.0",
       "_model_name": "HTMLModel",
       "_view_count": null,
       "_view_module": "@jupyter-widgets/controls",
       "_view_module_version": "1.5.0",
       "_view_name": "HTMLView",
       "description": "",
       "description_tooltip": null,
       "layout": "IPY_MODEL_10d2602a6a794c67bb70381bc1ec5c24",
       "placeholder": "​",
       "style": "IPY_MODEL_2601cfb418f740f0a4c618c7e278bd5a",
       "value": ""
      }
     },
     "ff67b695382644f5b29eebf0b255bd50": {
      "model_module": "@jupyter-widgets/controls",
      "model_module_version": "1.5.0",
      "model_name": "HTMLModel",
      "state": {
       "_dom_classes": [],
       "_model_module": "@jupyter-widgets/controls",
       "_model_module_version": "1.5.0",
       "_model_name": "HTMLModel",
       "_view_count": null,
       "_view_module": "@jupyter-widgets/controls",
       "_view_module_version": "1.5.0",
       "_view_name": "HTMLView",
       "description": "",
       "description_tooltip": null,
       "layout": "IPY_MODEL_7e9dd51409b1459f93398b10dba68195",
       "placeholder": "​",
       "style": "IPY_MODEL_514de3b6ff054e6d97de63bf66a3955e",
       "value": ""
      }
     }
    },
    "version_major": 2,
    "version_minor": 0
   }
  }
 },
 "nbformat": 4,
 "nbformat_minor": 5
}
