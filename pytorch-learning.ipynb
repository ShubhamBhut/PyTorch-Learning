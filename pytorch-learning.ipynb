{
 "cells": [
  {
   "cell_type": "code",
   "execution_count": 1,
   "id": "87704d90",
   "metadata": {
    "_cell_guid": "b1076dfc-b9ad-4769-8c92-a6c4dae69d19",
    "_uuid": "8f2839f25d086af736a60e9eeb907d3b93b6e0e5",
    "execution": {
     "iopub.execute_input": "2022-10-06T15:33:46.895118Z",
     "iopub.status.busy": "2022-10-06T15:33:46.894639Z",
     "iopub.status.idle": "2022-10-06T15:33:46.908627Z",
     "shell.execute_reply": "2022-10-06T15:33:46.907663Z"
    },
    "papermill": {
     "duration": 0.038593,
     "end_time": "2022-10-06T15:33:46.910692",
     "exception": false,
     "start_time": "2022-10-06T15:33:46.872099",
     "status": "completed"
    },
    "tags": []
   },
   "outputs": [],
   "source": [
    "# This Python 3 environment comes with many helpful analytics libraries installed\n",
    "# It is defined by the kaggle/python Docker image: https://github.com/kaggle/docker-python\n",
    "# For example, here's several helpful packages to load\n",
    "\n",
    "import numpy as np # linear algebra\n",
    "import pandas as pd # data processing, CSV file I/O (e.g. pd.read_csv)\n",
    "\n",
    "# Input data files are available in the read-only \"../input/\" directory\n",
    "# For example, running this (by clicking run or pressing Shift+Enter) will list all files under the input directory\n",
    "\n",
    "import os\n",
    "for dirname, _, filenames in os.walk('/kaggle/input'):\n",
    "    for filename in filenames:\n",
    "        print(os.path.join(dirname, filename))\n",
    "\n",
    "# You can write up to 20GB to the current directory (/kaggle/working/) that gets preserved as output when you create a version using \"Save & Run All\" \n",
    "# You can also write temporary files to /kaggle/temp/, but they won't be saved outside of the current session"
   ]
  },
  {
   "cell_type": "markdown",
   "id": "6ff43649",
   "metadata": {
    "papermill": {
     "duration": 0.017585,
     "end_time": "2022-10-06T15:33:46.946518",
     "exception": false,
     "start_time": "2022-10-06T15:33:46.928933",
     "status": "completed"
    },
    "tags": []
   },
   "source": [
    "The full list of all the datasets stored inside torchvision.dataseets is [here](https://pytorch.org/vision/stable/datasets.html)"
   ]
  },
  {
   "cell_type": "markdown",
   "id": "57c119b4",
   "metadata": {
    "papermill": {
     "duration": 0.017751,
     "end_time": "2022-10-06T15:33:46.985682",
     "exception": false,
     "start_time": "2022-10-06T15:33:46.967931",
     "status": "completed"
    },
    "tags": []
   },
   "source": [
    "# Tensors"
   ]
  },
  {
   "cell_type": "markdown",
   "id": "ca0a72ee",
   "metadata": {
    "papermill": {
     "duration": 0.017629,
     "end_time": "2022-10-06T15:33:47.021376",
     "exception": false,
     "start_time": "2022-10-06T15:33:47.003747",
     "status": "completed"
    },
    "tags": []
   },
   "source": [
    "Tensors are just like multidimensional vectors, whose computations can also be prfomred on GPU and specially made TPUs. They are the most widely used data-sturctures in Deep learning."
   ]
  },
  {
   "cell_type": "code",
   "execution_count": 2,
   "id": "f9906222",
   "metadata": {
    "execution": {
     "iopub.execute_input": "2022-10-06T15:33:47.059536Z",
     "iopub.status.busy": "2022-10-06T15:33:47.059185Z",
     "iopub.status.idle": "2022-10-06T15:33:48.992752Z",
     "shell.execute_reply": "2022-10-06T15:33:48.991251Z"
    },
    "papermill": {
     "duration": 1.955368,
     "end_time": "2022-10-06T15:33:48.995034",
     "exception": false,
     "start_time": "2022-10-06T15:33:47.039666",
     "status": "completed"
    },
    "tags": []
   },
   "outputs": [],
   "source": [
    "import torch\n",
    "import numpy as np"
   ]
  },
  {
   "cell_type": "markdown",
   "id": "e7c52385",
   "metadata": {
    "papermill": {
     "duration": 0.017616,
     "end_time": "2022-10-06T15:33:49.030230",
     "exception": false,
     "start_time": "2022-10-06T15:33:49.012614",
     "status": "completed"
    },
    "tags": []
   },
   "source": [
    "### Tensors intialization"
   ]
  },
  {
   "cell_type": "markdown",
   "id": "460a8afc",
   "metadata": {
    "papermill": {
     "duration": 0.017874,
     "end_time": "2022-10-06T15:33:49.066293",
     "exception": false,
     "start_time": "2022-10-06T15:33:49.048419",
     "status": "completed"
    },
    "tags": []
   },
   "source": [
    "Directly from data"
   ]
  },
  {
   "cell_type": "code",
   "execution_count": 3,
   "id": "2df8b10b",
   "metadata": {
    "execution": {
     "iopub.execute_input": "2022-10-06T15:33:49.104206Z",
     "iopub.status.busy": "2022-10-06T15:33:49.103711Z",
     "iopub.status.idle": "2022-10-06T15:33:49.109009Z",
     "shell.execute_reply": "2022-10-06T15:33:49.107702Z"
    },
    "papermill": {
     "duration": 0.026294,
     "end_time": "2022-10-06T15:33:49.110799",
     "exception": false,
     "start_time": "2022-10-06T15:33:49.084505",
     "status": "completed"
    },
    "tags": []
   },
   "outputs": [],
   "source": [
    "data = [[1,2], [3,4]]\n",
    "x_data = torch.tensor(data)"
   ]
  },
  {
   "cell_type": "markdown",
   "id": "e077d202",
   "metadata": {
    "papermill": {
     "duration": 0.018192,
     "end_time": "2022-10-06T15:33:49.147234",
     "exception": false,
     "start_time": "2022-10-06T15:33:49.129042",
     "status": "completed"
    },
    "tags": []
   },
   "source": [
    "From numpy array"
   ]
  },
  {
   "cell_type": "code",
   "execution_count": 4,
   "id": "6f9e3715",
   "metadata": {
    "execution": {
     "iopub.execute_input": "2022-10-06T15:33:49.184862Z",
     "iopub.status.busy": "2022-10-06T15:33:49.184486Z",
     "iopub.status.idle": "2022-10-06T15:33:49.189577Z",
     "shell.execute_reply": "2022-10-06T15:33:49.188142Z"
    },
    "papermill": {
     "duration": 0.025615,
     "end_time": "2022-10-06T15:33:49.191206",
     "exception": false,
     "start_time": "2022-10-06T15:33:49.165591",
     "status": "completed"
    },
    "tags": []
   },
   "outputs": [],
   "source": [
    "np_array = np.array(data)\n",
    "x_np = torch.from_numpy(np_array)"
   ]
  },
  {
   "cell_type": "markdown",
   "id": "49693005",
   "metadata": {
    "papermill": {
     "duration": 0.021328,
     "end_time": "2022-10-06T15:33:49.230843",
     "exception": false,
     "start_time": "2022-10-06T15:33:49.209515",
     "status": "completed"
    },
    "tags": []
   },
   "source": [
    "From other tensor"
   ]
  },
  {
   "cell_type": "code",
   "execution_count": 5,
   "id": "441da590",
   "metadata": {
    "execution": {
     "iopub.execute_input": "2022-10-06T15:33:49.280690Z",
     "iopub.status.busy": "2022-10-06T15:33:49.280252Z",
     "iopub.status.idle": "2022-10-06T15:33:49.292057Z",
     "shell.execute_reply": "2022-10-06T15:33:49.291065Z"
    },
    "papermill": {
     "duration": 0.038115,
     "end_time": "2022-10-06T15:33:49.294099",
     "exception": false,
     "start_time": "2022-10-06T15:33:49.255984",
     "status": "completed"
    },
    "tags": []
   },
   "outputs": [
    {
     "name": "stdout",
     "output_type": "stream",
     "text": [
      "Ones Tensor: \n",
      " tensor([[1, 1],\n",
      "        [1, 1]]) \n",
      "\n",
      "Random Tensor: \n",
      " tensor([[0.7955, 0.8620],\n",
      "        [0.1990, 0.7944]]) \n",
      "\n"
     ]
    }
   ],
   "source": [
    "x_ones = torch.ones_like(x_data) # retains the properties of x_data\n",
    "print(f\"Ones Tensor: \\n {x_ones} \\n\")\n",
    "\n",
    "x_rand = torch.rand_like(x_data, dtype=torch.float) # overrides the datatype of x_data\n",
    "print(f\"Random Tensor: \\n {x_rand} \\n\")"
   ]
  },
  {
   "cell_type": "markdown",
   "id": "ef71194b",
   "metadata": {
    "papermill": {
     "duration": 0.018342,
     "end_time": "2022-10-06T15:33:49.331331",
     "exception": false,
     "start_time": "2022-10-06T15:33:49.312989",
     "status": "completed"
    },
    "tags": []
   },
   "source": [
    "With random or constant values"
   ]
  },
  {
   "cell_type": "markdown",
   "id": "0e46f3cb",
   "metadata": {
    "papermill": {
     "duration": 0.019264,
     "end_time": "2022-10-06T15:33:49.369100",
     "exception": false,
     "start_time": "2022-10-06T15:33:49.349836",
     "status": "completed"
    },
    "tags": []
   },
   "source": [
    "Where you’ll want some assurance of the reproducibility of your results. Manually setting your random number generator’s seed is the way to do this. Seeding basically fixes the randomly generated value for the desired instance"
   ]
  },
  {
   "cell_type": "code",
   "execution_count": 6,
   "id": "3ae1953e",
   "metadata": {
    "execution": {
     "iopub.execute_input": "2022-10-06T15:33:49.409123Z",
     "iopub.status.busy": "2022-10-06T15:33:49.408424Z",
     "iopub.status.idle": "2022-10-06T15:33:49.420195Z",
     "shell.execute_reply": "2022-10-06T15:33:49.418105Z"
    },
    "papermill": {
     "duration": 0.034934,
     "end_time": "2022-10-06T15:33:49.423006",
     "exception": false,
     "start_time": "2022-10-06T15:33:49.388072",
     "status": "completed"
    },
    "tags": []
   },
   "outputs": [
    {
     "name": "stdout",
     "output_type": "stream",
     "text": [
      "tensor([[0.3126, 0.3791, 0.3087],\n",
      "        [0.0736, 0.4216, 0.0691]])\n"
     ]
    }
   ],
   "source": [
    "torch.manual_seed(1729)\n",
    "random_tensor = torch.rand(2, 3)\n",
    "print(random_tensor)"
   ]
  },
  {
   "cell_type": "code",
   "execution_count": 7,
   "id": "5dfbe3ec",
   "metadata": {
    "execution": {
     "iopub.execute_input": "2022-10-06T15:33:49.462554Z",
     "iopub.status.busy": "2022-10-06T15:33:49.462212Z",
     "iopub.status.idle": "2022-10-06T15:33:49.470900Z",
     "shell.execute_reply": "2022-10-06T15:33:49.469214Z"
    },
    "papermill": {
     "duration": 0.031432,
     "end_time": "2022-10-06T15:33:49.473325",
     "exception": false,
     "start_time": "2022-10-06T15:33:49.441893",
     "status": "completed"
    },
    "tags": []
   },
   "outputs": [
    {
     "name": "stdout",
     "output_type": "stream",
     "text": [
      "Random Tensor: \n",
      " tensor([[0.2332, 0.4047, 0.2162],\n",
      "        [0.9927, 0.4128, 0.5938]]) \n",
      "\n",
      "Ones Tensor: \n",
      " tensor([[1., 1., 1.],\n",
      "        [1., 1., 1.]]) \n",
      "\n",
      "Zeros Tensor: \n",
      " tensor([[0., 0., 0.],\n",
      "        [0., 0., 0.]])\n",
      "New Tensor: \n",
      " tensor([[0.6128, 0.1519, 0.0453],\n",
      "        [0.5035, 0.9978, 0.3884]])\n"
     ]
    }
   ],
   "source": [
    "shape = (2,3,)\n",
    "rand_tensor = torch.rand(shape)\n",
    "ones_tensor = torch.ones(shape)\n",
    "zeros_tensor = torch.zeros(shape)\n",
    "\n",
    "new_tensor = torch.rand_like(ones_tensor)\n",
    "\n",
    "print(f\"Random Tensor: \\n {rand_tensor} \\n\")\n",
    "print(f\"Ones Tensor: \\n {ones_tensor} \\n\")\n",
    "print(f\"Zeros Tensor: \\n {zeros_tensor}\")\n",
    "print(f\"New Tensor: \\n {new_tensor}\")"
   ]
  },
  {
   "cell_type": "markdown",
   "id": "51c77280",
   "metadata": {
    "papermill": {
     "duration": 0.017599,
     "end_time": "2022-10-06T15:33:49.510260",
     "exception": false,
     "start_time": "2022-10-06T15:33:49.492661",
     "status": "completed"
    },
    "tags": []
   },
   "source": [
    "### Operations on tensor"
   ]
  },
  {
   "cell_type": "code",
   "execution_count": 8,
   "id": "d7971977",
   "metadata": {
    "execution": {
     "iopub.execute_input": "2022-10-06T15:33:49.548944Z",
     "iopub.status.busy": "2022-10-06T15:33:49.548604Z",
     "iopub.status.idle": "2022-10-06T15:33:49.554966Z",
     "shell.execute_reply": "2022-10-06T15:33:49.553740Z"
    },
    "papermill": {
     "duration": 0.028521,
     "end_time": "2022-10-06T15:33:49.557045",
     "exception": false,
     "start_time": "2022-10-06T15:33:49.528524",
     "status": "completed"
    },
    "tags": []
   },
   "outputs": [
    {
     "name": "stdout",
     "output_type": "stream",
     "text": [
      "Shape of tensor: torch.Size([3, 4])\n",
      "Datatype of tensor: torch.float32\n",
      "Device tensor is stored on: cpu\n"
     ]
    }
   ],
   "source": [
    "tensor = torch.rand(3,4)\n",
    "\n",
    "print(f\"Shape of tensor: {tensor.shape}\")\n",
    "print(f\"Datatype of tensor: {tensor.dtype}\")\n",
    "print(f\"Device tensor is stored on: {tensor.device}\")"
   ]
  },
  {
   "cell_type": "markdown",
   "id": "7962c336",
   "metadata": {
    "papermill": {
     "duration": 0.018512,
     "end_time": "2022-10-06T15:33:49.594271",
     "exception": false,
     "start_time": "2022-10-06T15:33:49.575759",
     "status": "completed"
    },
    "tags": []
   },
   "source": [
    "## Full list - https://pytorch.org/docs/stable/torch.html"
   ]
  },
  {
   "cell_type": "markdown",
   "id": "dcad9cf9",
   "metadata": {
    "papermill": {
     "duration": 0.01836,
     "end_time": "2022-10-06T15:33:49.631477",
     "exception": false,
     "start_time": "2022-10-06T15:33:49.613117",
     "status": "completed"
    },
    "tags": []
   },
   "source": [
    "Slicing and indexing"
   ]
  },
  {
   "cell_type": "code",
   "execution_count": 9,
   "id": "5683a6b0",
   "metadata": {
    "execution": {
     "iopub.execute_input": "2022-10-06T15:33:49.670163Z",
     "iopub.status.busy": "2022-10-06T15:33:49.669844Z",
     "iopub.status.idle": "2022-10-06T15:33:49.679325Z",
     "shell.execute_reply": "2022-10-06T15:33:49.678292Z"
    },
    "papermill": {
     "duration": 0.031482,
     "end_time": "2022-10-06T15:33:49.681684",
     "exception": false,
     "start_time": "2022-10-06T15:33:49.650202",
     "status": "completed"
    },
    "tags": []
   },
   "outputs": [
    {
     "name": "stdout",
     "output_type": "stream",
     "text": [
      "First row: tensor([1., 1., 1., 1.])\n",
      "First column: tensor([1., 1., 1., 1.])\n",
      "Last column: tensor([1., 1., 1., 1.])\n",
      "tensor([[1., 0., 1., 1.],\n",
      "        [1., 0., 1., 1.],\n",
      "        [1., 0., 1., 1.],\n",
      "        [1., 0., 1., 1.]])\n"
     ]
    }
   ],
   "source": [
    "tensor = torch.ones(4, 4)\n",
    "print(f\"First row: {tensor[0]}\")\n",
    "print(f\"First column: {tensor[:, 0]}\")\n",
    "print(f\"Last column: {tensor[..., -1]}\")\n",
    "\n",
    "tensor[:,1] = 0\n",
    "\n",
    "print(tensor)"
   ]
  },
  {
   "cell_type": "code",
   "execution_count": null,
   "id": "6bb0fa3b",
   "metadata": {
    "papermill": {
     "duration": 0.017938,
     "end_time": "2022-10-06T15:33:49.718185",
     "exception": false,
     "start_time": "2022-10-06T15:33:49.700247",
     "status": "completed"
    },
    "tags": []
   },
   "outputs": [],
   "source": []
  },
  {
   "cell_type": "markdown",
   "id": "405e6193",
   "metadata": {
    "papermill": {
     "duration": 0.018361,
     "end_time": "2022-10-06T15:33:49.754514",
     "exception": false,
     "start_time": "2022-10-06T15:33:49.736153",
     "status": "completed"
    },
    "tags": []
   },
   "source": [
    "### Joining the tensors"
   ]
  },
  {
   "cell_type": "code",
   "execution_count": 10,
   "id": "b7690b52",
   "metadata": {
    "execution": {
     "iopub.execute_input": "2022-10-06T15:33:49.791994Z",
     "iopub.status.busy": "2022-10-06T15:33:49.791634Z",
     "iopub.status.idle": "2022-10-06T15:33:49.803437Z",
     "shell.execute_reply": "2022-10-06T15:33:49.802011Z"
    },
    "papermill": {
     "duration": 0.033477,
     "end_time": "2022-10-06T15:33:49.805984",
     "exception": false,
     "start_time": "2022-10-06T15:33:49.772507",
     "status": "completed"
    },
    "tags": []
   },
   "outputs": [
    {
     "data": {
      "text/plain": [
       "tensor([[1., 1., 1., 0., 0., 0., 0.],\n",
       "        [1., 1., 1., 0., 0., 0., 0.],\n",
       "        [1., 1., 1., 0., 0., 0., 0.]])"
      ]
     },
     "execution_count": 10,
     "metadata": {},
     "output_type": "execute_result"
    }
   ],
   "source": [
    "t1 = torch.ones(3,3)\n",
    "t2 = torch.zeros(3,4)\n",
    "t3 = torch.cat([t1, t2], dim=1)\n",
    "t3"
   ]
  },
  {
   "cell_type": "code",
   "execution_count": 11,
   "id": "c0f72a14",
   "metadata": {
    "execution": {
     "iopub.execute_input": "2022-10-06T15:33:49.844848Z",
     "iopub.status.busy": "2022-10-06T15:33:49.844517Z",
     "iopub.status.idle": "2022-10-06T15:33:49.855172Z",
     "shell.execute_reply": "2022-10-06T15:33:49.854136Z"
    },
    "papermill": {
     "duration": 0.03257,
     "end_time": "2022-10-06T15:33:49.856983",
     "exception": false,
     "start_time": "2022-10-06T15:33:49.824413",
     "status": "completed"
    },
    "tags": []
   },
   "outputs": [
    {
     "data": {
      "text/plain": [
       "tensor([[[0., 0., 0., 0.],\n",
       "         [0., 0., 0., 0.],\n",
       "         [0., 0., 0., 0.]],\n",
       "\n",
       "        [[1., 1., 1., 1.],\n",
       "         [1., 1., 1., 1.],\n",
       "         [1., 1., 1., 1.]]])"
      ]
     },
     "execution_count": 11,
     "metadata": {},
     "output_type": "execute_result"
    }
   ],
   "source": [
    "t4 = torch.ones(3,4)\n",
    "t5 = torch.stack([t2, t4], dim=0)\n",
    "t5"
   ]
  },
  {
   "cell_type": "code",
   "execution_count": null,
   "id": "fa40cac5",
   "metadata": {
    "papermill": {
     "duration": 0.018433,
     "end_time": "2022-10-06T15:33:49.894756",
     "exception": false,
     "start_time": "2022-10-06T15:33:49.876323",
     "status": "completed"
    },
    "tags": []
   },
   "outputs": [],
   "source": []
  },
  {
   "cell_type": "markdown",
   "id": "d16cd0b0",
   "metadata": {
    "papermill": {
     "duration": 0.017715,
     "end_time": "2022-10-06T15:33:49.930472",
     "exception": false,
     "start_time": "2022-10-06T15:33:49.912757",
     "status": "completed"
    },
    "tags": []
   },
   "source": [
    "### Arithmatic Opearations"
   ]
  },
  {
   "cell_type": "markdown",
   "id": "286f2b42",
   "metadata": {
    "papermill": {
     "duration": 0.018844,
     "end_time": "2022-10-06T15:33:49.967213",
     "exception": false,
     "start_time": "2022-10-06T15:33:49.948369",
     "status": "completed"
    },
    "tags": []
   },
   "source": [
    "Multiplication"
   ]
  },
  {
   "cell_type": "code",
   "execution_count": 12,
   "id": "be967927",
   "metadata": {
    "execution": {
     "iopub.execute_input": "2022-10-06T15:33:50.005012Z",
     "iopub.status.busy": "2022-10-06T15:33:50.004675Z",
     "iopub.status.idle": "2022-10-06T15:33:50.026602Z",
     "shell.execute_reply": "2022-10-06T15:33:50.024961Z"
    },
    "papermill": {
     "duration": 0.043428,
     "end_time": "2022-10-06T15:33:50.028926",
     "exception": false,
     "start_time": "2022-10-06T15:33:49.985498",
     "status": "completed"
    },
    "tags": []
   },
   "outputs": [
    {
     "name": "stdout",
     "output_type": "stream",
     "text": [
      "tensor([[1.5258, 0.7665, 1.7158],\n",
      "        [1.5258, 0.7665, 1.7158],\n",
      "        [1.5258, 0.7665, 1.7158]])\n",
      "tensor([[1.5258, 0.7665, 1.7158],\n",
      "        [1.5258, 0.7665, 1.7158],\n",
      "        [1.5258, 0.7665, 1.7158]])\n",
      "tensor([[1.5258, 0.7665, 1.7158],\n",
      "        [1.5258, 0.7665, 1.7158],\n",
      "        [1.5258, 0.7665, 1.7158]])\n"
     ]
    }
   ],
   "source": [
    "t5 = torch.rand(3, 3)\n",
    "multi1 = t1 @ t5.T\n",
    "multi2 = t1.matmul(t5.T)\n",
    "multi3 = torch.rand_like(t1)\n",
    "torch.matmul(t1, t5.T, out=multi3)\n",
    "\n",
    "print(multi1)\n",
    "print(multi2)\n",
    "print(multi3)"
   ]
  },
  {
   "cell_type": "markdown",
   "id": "105768ef",
   "metadata": {
    "papermill": {
     "duration": 0.018154,
     "end_time": "2022-10-06T15:33:50.066573",
     "exception": false,
     "start_time": "2022-10-06T15:33:50.048419",
     "status": "completed"
    },
    "tags": []
   },
   "source": [
    "Sum"
   ]
  },
  {
   "cell_type": "code",
   "execution_count": 13,
   "id": "80eca86b",
   "metadata": {
    "execution": {
     "iopub.execute_input": "2022-10-06T15:33:50.105721Z",
     "iopub.status.busy": "2022-10-06T15:33:50.105364Z",
     "iopub.status.idle": "2022-10-06T15:33:50.112706Z",
     "shell.execute_reply": "2022-10-06T15:33:50.111203Z"
    },
    "papermill": {
     "duration": 0.030147,
     "end_time": "2022-10-06T15:33:50.115116",
     "exception": false,
     "start_time": "2022-10-06T15:33:50.084969",
     "status": "completed"
    },
    "tags": []
   },
   "outputs": [
    {
     "name": "stdout",
     "output_type": "stream",
     "text": [
      "tensor(4.0081)\n",
      "4.008126258850098\n"
     ]
    }
   ],
   "source": [
    "agg = t5.sum()\n",
    "agg_item = agg.item()\n",
    "\n",
    "print(agg)\n",
    "print(agg_item)"
   ]
  },
  {
   "cell_type": "markdown",
   "id": "6e20082e",
   "metadata": {
    "papermill": {
     "duration": 0.019979,
     "end_time": "2022-10-06T15:33:50.154929",
     "exception": false,
     "start_time": "2022-10-06T15:33:50.134950",
     "status": "completed"
    },
    "tags": []
   },
   "source": [
    "In-place operations Operations that store the result into the operand are called in-place. They are denoted by a _ suffix. For example: x.copy_(y), x.t_(), will change x."
   ]
  },
  {
   "cell_type": "code",
   "execution_count": 14,
   "id": "5fa7fa0b",
   "metadata": {
    "execution": {
     "iopub.execute_input": "2022-10-06T15:33:50.195958Z",
     "iopub.status.busy": "2022-10-06T15:33:50.195619Z",
     "iopub.status.idle": "2022-10-06T15:33:50.203325Z",
     "shell.execute_reply": "2022-10-06T15:33:50.201900Z"
    },
    "papermill": {
     "duration": 0.03131,
     "end_time": "2022-10-06T15:33:50.206104",
     "exception": false,
     "start_time": "2022-10-06T15:33:50.174794",
     "status": "completed"
    },
    "tags": []
   },
   "outputs": [
    {
     "data": {
      "text/plain": [
       "tensor([[3.0703, 3.5105, 3.9451],\n",
       "        [3.2359, 3.1979, 3.3327],\n",
       "        [3.6146, 3.5999, 3.5013]])"
      ]
     },
     "execution_count": 14,
     "metadata": {},
     "output_type": "execute_result"
    }
   ],
   "source": [
    "t5.add_(3)\n",
    "t5"
   ]
  },
  {
   "cell_type": "code",
   "execution_count": 15,
   "id": "d4afbfba",
   "metadata": {
    "execution": {
     "iopub.execute_input": "2022-10-06T15:33:50.248589Z",
     "iopub.status.busy": "2022-10-06T15:33:50.248154Z",
     "iopub.status.idle": "2022-10-06T15:33:50.257371Z",
     "shell.execute_reply": "2022-10-06T15:33:50.256150Z"
    },
    "papermill": {
     "duration": 0.033367,
     "end_time": "2022-10-06T15:33:50.259775",
     "exception": false,
     "start_time": "2022-10-06T15:33:50.226408",
     "status": "completed"
    },
    "tags": []
   },
   "outputs": [
    {
     "data": {
      "text/plain": [
       "tensor([[6.0703, 6.5105, 6.9451],\n",
       "        [6.2359, 6.1979, 6.3327],\n",
       "        [6.6146, 6.5999, 6.5013]])"
      ]
     },
     "execution_count": 15,
     "metadata": {},
     "output_type": "execute_result"
    }
   ],
   "source": [
    "t7 = t5 + 3\n",
    "t7"
   ]
  },
  {
   "cell_type": "markdown",
   "id": "c0a812f6",
   "metadata": {
    "papermill": {
     "duration": 0.019971,
     "end_time": "2022-10-06T15:33:50.300141",
     "exception": false,
     "start_time": "2022-10-06T15:33:50.280170",
     "status": "completed"
    },
    "tags": []
   },
   "source": [
    "Tensors supports almost all mathematical operations"
   ]
  },
  {
   "cell_type": "code",
   "execution_count": 16,
   "id": "d3b0dd29",
   "metadata": {
    "execution": {
     "iopub.execute_input": "2022-10-06T15:33:50.340321Z",
     "iopub.status.busy": "2022-10-06T15:33:50.339971Z",
     "iopub.status.idle": "2022-10-06T15:33:50.346764Z",
     "shell.execute_reply": "2022-10-06T15:33:50.344870Z"
    },
    "papermill": {
     "duration": 0.029874,
     "end_time": "2022-10-06T15:33:50.349258",
     "exception": false,
     "start_time": "2022-10-06T15:33:50.319384",
     "status": "completed"
    },
    "tags": []
   },
   "outputs": [],
   "source": [
    "import math"
   ]
  },
  {
   "cell_type": "code",
   "execution_count": 17,
   "id": "92e8e4c5",
   "metadata": {
    "execution": {
     "iopub.execute_input": "2022-10-06T15:33:50.391150Z",
     "iopub.status.busy": "2022-10-06T15:33:50.390821Z",
     "iopub.status.idle": "2022-10-06T15:33:50.473093Z",
     "shell.execute_reply": "2022-10-06T15:33:50.472178Z"
    },
    "papermill": {
     "duration": 0.105877,
     "end_time": "2022-10-06T15:33:50.475727",
     "exception": false,
     "start_time": "2022-10-06T15:33:50.369850",
     "status": "completed"
    },
    "tags": []
   },
   "outputs": [
    {
     "name": "stdout",
     "output_type": "stream",
     "text": [
      "Common functions:\n",
      "tensor([[0.5951, 0.1461, 0.4382, 0.1866],\n",
      "        [0.4602, 0.2551, 0.4715, 0.9238]])\n",
      "tensor([[-0., 1., 1., -0.],\n",
      "        [1., 1., 1., -0.]])\n",
      "tensor([[-1.,  0.,  0., -1.],\n",
      "        [ 0.,  0.,  0., -1.]])\n",
      "tensor([[-0.5000,  0.1461,  0.4382, -0.1866],\n",
      "        [ 0.4602,  0.2551,  0.4715, -0.5000]])\n",
      "\n",
      "Sine and arcsine:\n",
      "tensor([0.0000, 0.7854, 1.5708, 2.3562])\n",
      "tensor([0.0000, 0.7071, 1.0000, 0.7071])\n",
      "tensor([0.0000, 0.7854, 1.5708, 0.7854])\n",
      "\n",
      "Bitwise XOR:\n",
      "tensor([3, 2, 1])\n",
      "\n",
      "Broadcasted, element-wise equality comparison:\n",
      "tensor([[ True, False],\n",
      "        [False, False]])\n",
      "\n",
      "Reduction ops:\n",
      "tensor(4.)\n",
      "4.0\n",
      "tensor(2.5000)\n",
      "tensor(1.2910)\n",
      "tensor(24.)\n",
      "tensor([1, 2])\n",
      "\n",
      "Vectors & Matrices:\n",
      "tensor([ 0.,  0., -1.])\n",
      "tensor([[0.2138, 0.5395],\n",
      "        [0.3686, 0.4007]])\n",
      "tensor([[0.6414, 1.6186],\n",
      "        [1.1057, 1.2021]])\n",
      "torch.return_types.svd(\n",
      "U=tensor([[-0.7309, -0.6825],\n",
      "        [-0.6825,  0.7309]]),\n",
      "S=tensor([2.3475, 0.4339]),\n",
      "V=tensor([[-0.5212,  0.8535],\n",
      "        [-0.8535, -0.5212]]))\n"
     ]
    }
   ],
   "source": [
    "# common functions\n",
    "a = torch.rand(2, 4) * 2 - 1\n",
    "print('Common functions:')\n",
    "print(torch.abs(a))\n",
    "print(torch.ceil(a))\n",
    "print(torch.floor(a))\n",
    "print(torch.clamp(a, -0.5, 0.5))\n",
    "\n",
    "# trigonometric functions and their inverses\n",
    "angles = torch.tensor([0, math.pi / 4, math.pi / 2, 3 * math.pi / 4])\n",
    "sines = torch.sin(angles)\n",
    "inverses = torch.asin(sines)\n",
    "print('\\nSine and arcsine:')\n",
    "print(angles)\n",
    "print(sines)\n",
    "print(inverses)\n",
    "\n",
    "# bitwise operations\n",
    "print('\\nBitwise XOR:')\n",
    "b = torch.tensor([1, 5, 11])\n",
    "c = torch.tensor([2, 7, 10])\n",
    "print(torch.bitwise_xor(b, c))\n",
    "\n",
    "# comparisons:\n",
    "print('\\nBroadcasted, element-wise equality comparison:')\n",
    "d = torch.tensor([[1., 2.], [3., 4.]])\n",
    "e = torch.ones(1, 2)  # many comparison ops support broadcasting!\n",
    "print(torch.eq(d, e)) # returns a tensor of type bool\n",
    "\n",
    "# reductions:\n",
    "print('\\nReduction ops:')\n",
    "print(torch.max(d))        # returns a single-element tensor\n",
    "print(torch.max(d).item()) # extracts the value from the returned tensor\n",
    "print(torch.mean(d))       # average\n",
    "print(torch.std(d))        # standard deviation\n",
    "print(torch.prod(d))       # product of all numbers\n",
    "print(torch.unique(torch.tensor([1, 2, 1, 2, 1, 2]))) # filter unique elements\n",
    "\n",
    "# vector and linear algebra operations\n",
    "v1 = torch.tensor([1., 0., 0.])         # x unit vector\n",
    "v2 = torch.tensor([0., 1., 0.])         # y unit vector\n",
    "m1 = torch.rand(2, 2)                   # random matrix\n",
    "m2 = torch.tensor([[3., 0.], [0., 3.]]) # three times identity matrix\n",
    "\n",
    "print('\\nVectors & Matrices:')\n",
    "print(torch.cross(v2, v1)) # negative of z unit vector (v1 x v2 == -v2 x v1)\n",
    "print(m1)\n",
    "m3 = torch.matmul(m1, m2)\n",
    "print(m3)                  # 3 times m1\n",
    "print(torch.svd(m3))       # singular value decomposition"
   ]
  },
  {
   "cell_type": "markdown",
   "id": "6ef0cd42",
   "metadata": {
    "papermill": {
     "duration": 0.020176,
     "end_time": "2022-10-06T15:33:50.516814",
     "exception": false,
     "start_time": "2022-10-06T15:33:50.496638",
     "status": "completed"
    },
    "tags": []
   },
   "source": [
    "Tensors on the CPU and NumPy arrays can share their underlying memory locations, and changing one will change the other."
   ]
  },
  {
   "cell_type": "markdown",
   "id": "91d71a5a",
   "metadata": {
    "papermill": {
     "duration": 0.021194,
     "end_time": "2022-10-06T15:33:50.559148",
     "exception": false,
     "start_time": "2022-10-06T15:33:50.537954",
     "status": "completed"
    },
    "tags": []
   },
   "source": [
    "### Squeeze and Unsqueeze"
   ]
  },
  {
   "cell_type": "markdown",
   "id": "d6fdc0fa",
   "metadata": {
    "papermill": {
     "duration": 0.019726,
     "end_time": "2022-10-06T15:33:50.599749",
     "exception": false,
     "start_time": "2022-10-06T15:33:50.580023",
     "status": "completed"
    },
    "tags": []
   },
   "source": [
    "One case where you might need to change the number of dimensions is passing a single instance of input to your model. PyTorch models generally expect batches of input.\n",
    "\n",
    "For example, imagine having a model that works on 3 x 226 x 226 images - a 226-pixel square with 3 color channels. When you load and transform it, you’ll get a tensor of shape (3, 226, 226). Your model, though, is expecting input of shape (N, 3, 226, 226), where N is the number of images in the batch. So how do you make a batch of one?\n",
    "\n",
    "The unsqueeze() method adds a dimension of extent 1. unsqueeze(0) adds it as a new zeroth dimension - now you have a batch of one!"
   ]
  },
  {
   "cell_type": "code",
   "execution_count": 18,
   "id": "d72a81f4",
   "metadata": {
    "execution": {
     "iopub.execute_input": "2022-10-06T15:33:50.641885Z",
     "iopub.status.busy": "2022-10-06T15:33:50.641208Z",
     "iopub.status.idle": "2022-10-06T15:33:50.651278Z",
     "shell.execute_reply": "2022-10-06T15:33:50.648831Z"
    },
    "papermill": {
     "duration": 0.034733,
     "end_time": "2022-10-06T15:33:50.654626",
     "exception": false,
     "start_time": "2022-10-06T15:33:50.619893",
     "status": "completed"
    },
    "tags": []
   },
   "outputs": [
    {
     "name": "stdout",
     "output_type": "stream",
     "text": [
      "torch.Size([3, 226, 226])\n",
      "torch.Size([1, 3, 226, 226])\n",
      "torch.Size([3, 226, 226])\n"
     ]
    }
   ],
   "source": [
    "a = torch.rand(3, 226, 226)\n",
    "b = a.unsqueeze(0)\n",
    "c = b.squeeze(0)\n",
    "\n",
    "print(a.shape)\n",
    "print(b.shape)\n",
    "print(c.shape)"
   ]
  },
  {
   "cell_type": "markdown",
   "id": "dad124fd",
   "metadata": {
    "papermill": {
     "duration": 0.019916,
     "end_time": "2022-10-06T15:33:50.695177",
     "exception": false,
     "start_time": "2022-10-06T15:33:50.675261",
     "status": "completed"
    },
    "tags": []
   },
   "source": [
    "So if that’s unsqueezing? What do we mean by squeezing? We’re taking advantage of the fact that any dimension of extent 1 does not change the number of elements in the tensor.\n",
    "\n"
   ]
  },
  {
   "cell_type": "code",
   "execution_count": 19,
   "id": "6f793deb",
   "metadata": {
    "execution": {
     "iopub.execute_input": "2022-10-06T15:33:50.736624Z",
     "iopub.status.busy": "2022-10-06T15:33:50.736113Z",
     "iopub.status.idle": "2022-10-06T15:33:50.743331Z",
     "shell.execute_reply": "2022-10-06T15:33:50.741808Z"
    },
    "papermill": {
     "duration": 0.030498,
     "end_time": "2022-10-06T15:33:50.745504",
     "exception": false,
     "start_time": "2022-10-06T15:33:50.715006",
     "status": "completed"
    },
    "tags": []
   },
   "outputs": [
    {
     "name": "stdout",
     "output_type": "stream",
     "text": [
      "tensor([[[[[0.8083]]]]])\n"
     ]
    }
   ],
   "source": [
    "c = torch.rand(1, 1, 1, 1, 1)\n",
    "print(c)"
   ]
  },
  {
   "cell_type": "markdown",
   "id": "f5fb72e0",
   "metadata": {
    "papermill": {
     "duration": 0.019947,
     "end_time": "2022-10-06T15:33:50.786292",
     "exception": false,
     "start_time": "2022-10-06T15:33:50.766345",
     "status": "completed"
    },
    "tags": []
   },
   "source": [
    "# GPU and TPUs\n"
   ]
  },
  {
   "cell_type": "markdown",
   "id": "11c9ab16",
   "metadata": {
    "papermill": {
     "duration": 0.019085,
     "end_time": "2022-10-06T15:33:50.825476",
     "exception": false,
     "start_time": "2022-10-06T15:33:50.806391",
     "status": "completed"
    },
    "tags": []
   },
   "source": [
    "As we discussed before, tensor operations can be performed on GPU and TPUs faster compare to CPU. Let's check if we have a supporting GPU or not."
   ]
  },
  {
   "cell_type": "code",
   "execution_count": 20,
   "id": "5affa411",
   "metadata": {
    "execution": {
     "iopub.execute_input": "2022-10-06T15:33:50.868346Z",
     "iopub.status.busy": "2022-10-06T15:33:50.867817Z",
     "iopub.status.idle": "2022-10-06T15:33:50.874426Z",
     "shell.execute_reply": "2022-10-06T15:33:50.872832Z"
    },
    "papermill": {
     "duration": 0.032754,
     "end_time": "2022-10-06T15:33:50.878313",
     "exception": false,
     "start_time": "2022-10-06T15:33:50.845559",
     "status": "completed"
    },
    "tags": []
   },
   "outputs": [
    {
     "name": "stdout",
     "output_type": "stream",
     "text": [
      "Sorry, CPU only.\n"
     ]
    }
   ],
   "source": [
    "if torch.cuda.is_available():\n",
    "    print('We have a GPU!')\n",
    "else:\n",
    "    print('Sorry, CPU only.')"
   ]
  },
  {
   "cell_type": "markdown",
   "id": "1f9aa2d5",
   "metadata": {
    "papermill": {
     "duration": 0.020681,
     "end_time": "2022-10-06T15:33:50.920191",
     "exception": false,
     "start_time": "2022-10-06T15:33:50.899510",
     "status": "completed"
    },
    "tags": []
   },
   "source": [
    "* By default, new tensors are created on the CPU, so we have to specify when we want to create our tensor on the GPU with the optional device argument. You can see when we print the new tensor, PyTorch informs us which device it’s on (if it’s not on CPU).\n",
    "\n",
    "* You can query the number of GPUs with torch.cuda.device_count(). If you have more than one GPU, you can specify them by index: device='cuda:0', device='cuda:1', etc.\n",
    "\n",
    "* As a coding practice, specifying our devices everywhere with string constants is pretty fragile. In an ideal world, your code would perform robustly whether you’re on CPU or GPU hardware. You can do this by creating a device handle that can be passed to your tensors instead of a string:"
   ]
  },
  {
   "cell_type": "code",
   "execution_count": 21,
   "id": "81e0c2cb",
   "metadata": {
    "execution": {
     "iopub.execute_input": "2022-10-06T15:33:50.963889Z",
     "iopub.status.busy": "2022-10-06T15:33:50.963509Z",
     "iopub.status.idle": "2022-10-06T15:33:50.972817Z",
     "shell.execute_reply": "2022-10-06T15:33:50.970307Z"
    },
    "papermill": {
     "duration": 0.034386,
     "end_time": "2022-10-06T15:33:50.975493",
     "exception": false,
     "start_time": "2022-10-06T15:33:50.941107",
     "status": "completed"
    },
    "tags": []
   },
   "outputs": [
    {
     "name": "stdout",
     "output_type": "stream",
     "text": [
      "Device: cpu\n",
      "tensor([[0.5408, 0.2576],\n",
      "        [0.5258, 0.5329]])\n"
     ]
    }
   ],
   "source": [
    "if torch.cuda.is_available():\n",
    "    my_device = torch.device('cuda')\n",
    "else:\n",
    "    my_device = torch.device('cpu')\n",
    "print('Device: {}'.format(my_device))\n",
    "\n",
    "x = torch.rand(2, 2, device=my_device)\n",
    "print(x)"
   ]
  },
  {
   "cell_type": "markdown",
   "id": "94a4d816",
   "metadata": {
    "papermill": {
     "duration": 0.019972,
     "end_time": "2022-10-06T15:33:51.015926",
     "exception": false,
     "start_time": "2022-10-06T15:33:50.995954",
     "status": "completed"
    },
    "tags": []
   },
   "source": [
    "If you have an existing tensor living on one device, you can move it to another with the to() method. The following line of code creates a tensor on CPU, and moves it to whichever device handle you acquired in the previous cell.\n",
    "\n"
   ]
  },
  {
   "cell_type": "code",
   "execution_count": 22,
   "id": "6528623e",
   "metadata": {
    "execution": {
     "iopub.execute_input": "2022-10-06T15:33:51.058554Z",
     "iopub.status.busy": "2022-10-06T15:33:51.058180Z",
     "iopub.status.idle": "2022-10-06T15:33:51.063870Z",
     "shell.execute_reply": "2022-10-06T15:33:51.062581Z"
    },
    "papermill": {
     "duration": 0.029605,
     "end_time": "2022-10-06T15:33:51.066000",
     "exception": false,
     "start_time": "2022-10-06T15:33:51.036395",
     "status": "completed"
    },
    "tags": []
   },
   "outputs": [],
   "source": [
    "y = torch.rand(2, 2)\n",
    "y = y.to(my_device)"
   ]
  },
  {
   "cell_type": "markdown",
   "id": "1d7a086d",
   "metadata": {
    "papermill": {
     "duration": 0.019785,
     "end_time": "2022-10-06T15:33:51.106276",
     "exception": false,
     "start_time": "2022-10-06T15:33:51.086491",
     "status": "completed"
    },
    "tags": []
   },
   "source": [
    "# Datasets and Dataloaders"
   ]
  },
  {
   "cell_type": "markdown",
   "id": "f11750eb",
   "metadata": {
    "papermill": {
     "duration": 0.019591,
     "end_time": "2022-10-06T15:33:51.145730",
     "exception": false,
     "start_time": "2022-10-06T15:33:51.126139",
     "status": "completed"
    },
    "tags": []
   },
   "source": [
    "### Loading dataset"
   ]
  },
  {
   "cell_type": "code",
   "execution_count": 23,
   "id": "a5858736",
   "metadata": {
    "execution": {
     "iopub.execute_input": "2022-10-06T15:33:51.187874Z",
     "iopub.status.busy": "2022-10-06T15:33:51.187526Z",
     "iopub.status.idle": "2022-10-06T15:33:51.496610Z",
     "shell.execute_reply": "2022-10-06T15:33:51.494620Z"
    },
    "papermill": {
     "duration": 0.333333,
     "end_time": "2022-10-06T15:33:51.499380",
     "exception": false,
     "start_time": "2022-10-06T15:33:51.166047",
     "status": "completed"
    },
    "tags": []
   },
   "outputs": [],
   "source": [
    "import torch\n",
    "from torch.utils.data import Dataset\n",
    "from torchvision import datasets\n",
    "from torchvision.transforms import ToTensor\n",
    "import matplotlib.pyplot as plt"
   ]
  },
  {
   "cell_type": "code",
   "execution_count": 24,
   "id": "73789f96",
   "metadata": {
    "execution": {
     "iopub.execute_input": "2022-10-06T15:33:51.542070Z",
     "iopub.status.busy": "2022-10-06T15:33:51.541702Z",
     "iopub.status.idle": "2022-10-06T15:33:56.625975Z",
     "shell.execute_reply": "2022-10-06T15:33:56.624611Z"
    },
    "papermill": {
     "duration": 5.108431,
     "end_time": "2022-10-06T15:33:56.628400",
     "exception": false,
     "start_time": "2022-10-06T15:33:51.519969",
     "status": "completed"
    },
    "tags": []
   },
   "outputs": [
    {
     "name": "stdout",
     "output_type": "stream",
     "text": [
      "Downloading http://fashion-mnist.s3-website.eu-central-1.amazonaws.com/train-images-idx3-ubyte.gz\n",
      "Downloading http://fashion-mnist.s3-website.eu-central-1.amazonaws.com/train-images-idx3-ubyte.gz to data/FashionMNIST/raw/train-images-idx3-ubyte.gz\n"
     ]
    },
    {
     "data": {
      "application/vnd.jupyter.widget-view+json": {
       "model_id": "f72bc1bee9984934bb2e87beacc02198",
       "version_major": 2,
       "version_minor": 0
      },
      "text/plain": [
       "  0%|          | 0/26421880 [00:00<?, ?it/s]"
      ]
     },
     "metadata": {},
     "output_type": "display_data"
    },
    {
     "name": "stdout",
     "output_type": "stream",
     "text": [
      "Extracting data/FashionMNIST/raw/train-images-idx3-ubyte.gz to data/FashionMNIST/raw\n",
      "\n",
      "Downloading http://fashion-mnist.s3-website.eu-central-1.amazonaws.com/train-labels-idx1-ubyte.gz\n",
      "Downloading http://fashion-mnist.s3-website.eu-central-1.amazonaws.com/train-labels-idx1-ubyte.gz to data/FashionMNIST/raw/train-labels-idx1-ubyte.gz\n"
     ]
    },
    {
     "data": {
      "application/vnd.jupyter.widget-view+json": {
       "model_id": "c21bf68651d44d1ebdb138b0f1f8c216",
       "version_major": 2,
       "version_minor": 0
      },
      "text/plain": [
       "  0%|          | 0/29515 [00:00<?, ?it/s]"
      ]
     },
     "metadata": {},
     "output_type": "display_data"
    },
    {
     "name": "stdout",
     "output_type": "stream",
     "text": [
      "Extracting data/FashionMNIST/raw/train-labels-idx1-ubyte.gz to data/FashionMNIST/raw\n",
      "\n",
      "Downloading http://fashion-mnist.s3-website.eu-central-1.amazonaws.com/t10k-images-idx3-ubyte.gz\n",
      "Downloading http://fashion-mnist.s3-website.eu-central-1.amazonaws.com/t10k-images-idx3-ubyte.gz to data/FashionMNIST/raw/t10k-images-idx3-ubyte.gz\n"
     ]
    },
    {
     "data": {
      "application/vnd.jupyter.widget-view+json": {
       "model_id": "8dd261d075b240f8ac0f2c4540460ab5",
       "version_major": 2,
       "version_minor": 0
      },
      "text/plain": [
       "  0%|          | 0/4422102 [00:00<?, ?it/s]"
      ]
     },
     "metadata": {},
     "output_type": "display_data"
    },
    {
     "name": "stdout",
     "output_type": "stream",
     "text": [
      "Extracting data/FashionMNIST/raw/t10k-images-idx3-ubyte.gz to data/FashionMNIST/raw\n",
      "\n",
      "Downloading http://fashion-mnist.s3-website.eu-central-1.amazonaws.com/t10k-labels-idx1-ubyte.gz\n",
      "Downloading http://fashion-mnist.s3-website.eu-central-1.amazonaws.com/t10k-labels-idx1-ubyte.gz to data/FashionMNIST/raw/t10k-labels-idx1-ubyte.gz\n"
     ]
    },
    {
     "data": {
      "application/vnd.jupyter.widget-view+json": {
       "model_id": "260e758f14eb47b8b261d5c4d720fa0c",
       "version_major": 2,
       "version_minor": 0
      },
      "text/plain": [
       "  0%|          | 0/5148 [00:00<?, ?it/s]"
      ]
     },
     "metadata": {},
     "output_type": "display_data"
    },
    {
     "name": "stdout",
     "output_type": "stream",
     "text": [
      "Extracting data/FashionMNIST/raw/t10k-labels-idx1-ubyte.gz to data/FashionMNIST/raw\n",
      "\n"
     ]
    }
   ],
   "source": [
    "training_data = datasets.FashionMNIST(\n",
    "    root = \"data\",\n",
    "    train = True,\n",
    "    download = True,\n",
    "    transform = ToTensor()\n",
    ")\n",
    "\n",
    "test_data = datasets.FashionMNIST(\n",
    "    root = \"data\",\n",
    "    train = False,\n",
    "    download = True,\n",
    "    transform = ToTensor()\n",
    ")"
   ]
  },
  {
   "cell_type": "markdown",
   "id": "f2b0dc84",
   "metadata": {
    "papermill": {
     "duration": 0.02102,
     "end_time": "2022-10-06T15:33:56.670372",
     "exception": false,
     "start_time": "2022-10-06T15:33:56.649352",
     "status": "completed"
    },
    "tags": []
   },
   "source": [
    "### Visualizing dataset"
   ]
  },
  {
   "cell_type": "code",
   "execution_count": 25,
   "id": "dfe51c20",
   "metadata": {
    "execution": {
     "iopub.execute_input": "2022-10-06T15:33:56.714902Z",
     "iopub.status.busy": "2022-10-06T15:33:56.714570Z",
     "iopub.status.idle": "2022-10-06T15:33:56.719070Z",
     "shell.execute_reply": "2022-10-06T15:33:56.717780Z"
    },
    "papermill": {
     "duration": 0.028928,
     "end_time": "2022-10-06T15:33:56.720806",
     "exception": false,
     "start_time": "2022-10-06T15:33:56.691878",
     "status": "completed"
    },
    "tags": []
   },
   "outputs": [],
   "source": [
    "import pandas as pd"
   ]
  },
  {
   "cell_type": "code",
   "execution_count": 26,
   "id": "7230d238",
   "metadata": {
    "execution": {
     "iopub.execute_input": "2022-10-06T15:33:56.766647Z",
     "iopub.status.busy": "2022-10-06T15:33:56.766299Z",
     "iopub.status.idle": "2022-10-06T15:33:56.770829Z",
     "shell.execute_reply": "2022-10-06T15:33:56.769566Z"
    },
    "papermill": {
     "duration": 0.029376,
     "end_time": "2022-10-06T15:33:56.772757",
     "exception": false,
     "start_time": "2022-10-06T15:33:56.743381",
     "status": "completed"
    },
    "tags": []
   },
   "outputs": [],
   "source": [
    "# for i, j in training_data:\n",
    "#     print(j)"
   ]
  },
  {
   "cell_type": "code",
   "execution_count": 27,
   "id": "66838f3e",
   "metadata": {
    "execution": {
     "iopub.execute_input": "2022-10-06T15:33:56.818720Z",
     "iopub.status.busy": "2022-10-06T15:33:56.818309Z",
     "iopub.status.idle": "2022-10-06T15:33:57.219985Z",
     "shell.execute_reply": "2022-10-06T15:33:57.218890Z"
    },
    "papermill": {
     "duration": 0.427301,
     "end_time": "2022-10-06T15:33:57.222360",
     "exception": false,
     "start_time": "2022-10-06T15:33:56.795059",
     "status": "completed"
    },
    "tags": []
   },
   "outputs": [
    {
     "data": {
      "image/png": "[encoded data removed]",
      "text/plain": [
       "<Figure size 720x720 with 9 Axes>"
      ]
     },
     "metadata": {
      "needs_background": "light"
     },
     "output_type": "display_data"
    }
   ],
   "source": [
    "labels_map = {0: \"T-Shirt\",\n",
    "    1: \"Trouser\",\n",
    "    2: \"Pullover\",\n",
    "    3: \"Dress\",\n",
    "    4: \"Coat\",\n",
    "    5: \"Sandal\",\n",
    "    6: \"Shirt\",\n",
    "    7: \"Sneaker\",\n",
    "    8: \"Bag\",\n",
    "    9: \"Ankle Boot\",}\n",
    "\n",
    "figure = plt.figure(figsize = (10,10))\n",
    "cols ,rows = 3, 3\n",
    "\n",
    "for i in range (1, rows*cols+1):\n",
    "    sample_idx = torch.randint(len(training_data), size=(1,)).item()\n",
    "    img, label = training_data[sample_idx]\n",
    "    figure.add_subplot(rows, cols, i)\n",
    "    plt.title(labels_map[label])\n",
    "    plt.axis(\"off\")\n",
    "    plt.imshow(img.squeeze(), cmap=\"gray\")\n",
    "plt.show()"
   ]
  },
  {
   "cell_type": "markdown",
   "id": "59c63a5f",
   "metadata": {
    "papermill": {
     "duration": 0.021124,
     "end_time": "2022-10-06T15:33:57.266258",
     "exception": false,
     "start_time": "2022-10-06T15:33:57.245134",
     "status": "completed"
    },
    "tags": []
   },
   "source": [
    "Custom dataset"
   ]
  },
  {
   "cell_type": "code",
   "execution_count": 28,
   "id": "060bcada",
   "metadata": {
    "execution": {
     "iopub.execute_input": "2022-10-06T15:33:57.311375Z",
     "iopub.status.busy": "2022-10-06T15:33:57.310087Z",
     "iopub.status.idle": "2022-10-06T15:33:57.318790Z",
     "shell.execute_reply": "2022-10-06T15:33:57.317573Z"
    },
    "papermill": {
     "duration": 0.033734,
     "end_time": "2022-10-06T15:33:57.320837",
     "exception": false,
     "start_time": "2022-10-06T15:33:57.287103",
     "status": "completed"
    },
    "tags": []
   },
   "outputs": [],
   "source": [
    "import os\n",
    "import pandas as pd\n",
    "from torchvision.io import read_image\n",
    "\n",
    "class CustomImageDataset(Dataset):\n",
    "    def __init__(self, annotations_file, img_dir, transform=None, target_transform=None):\n",
    "        self.img_labels = pd.read_csv(annotations_file)\n",
    "        self.img_dir = img_dir\n",
    "        self.transform = transform\n",
    "        self.target_transform = target_transform\n",
    "\n",
    "    def __len__(self):\n",
    "        return len(self.img_labels)\n",
    "\n",
    "    def __getitem__(self, idx):\n",
    "        img_path = os.path.join(self.img_dir, self.img_labels.iloc[idx, 0])\n",
    "        image = read_image(img_path)\n",
    "        label = self.img_labels.iloc[idx, 1]\n",
    "        if self.transform:\n",
    "            image = self.transform(image)\n",
    "        if self.target_transform:\n",
    "            label = self.target_transform(label)\n",
    "        return image, label"
   ]
  },
  {
   "cell_type": "markdown",
   "id": "673316f7",
   "metadata": {
    "papermill": {
     "duration": 0.02165,
     "end_time": "2022-10-06T15:33:57.364061",
     "exception": false,
     "start_time": "2022-10-06T15:33:57.342411",
     "status": "completed"
    },
    "tags": []
   },
   "source": [
    "Preparing your data for training with DataLoaders"
   ]
  },
  {
   "cell_type": "code",
   "execution_count": 29,
   "id": "f57361b5",
   "metadata": {
    "execution": {
     "iopub.execute_input": "2022-10-06T15:33:57.410459Z",
     "iopub.status.busy": "2022-10-06T15:33:57.409086Z",
     "iopub.status.idle": "2022-10-06T15:33:57.415392Z",
     "shell.execute_reply": "2022-10-06T15:33:57.413742Z"
    },
    "papermill": {
     "duration": 0.031882,
     "end_time": "2022-10-06T15:33:57.417870",
     "exception": false,
     "start_time": "2022-10-06T15:33:57.385988",
     "status": "completed"
    },
    "tags": []
   },
   "outputs": [],
   "source": [
    "from torch.utils.data import DataLoader\n",
    "\n",
    "train_dataloader = DataLoader(training_data, batch_size=64, shuffle=True)\n",
    "test_dataloader = DataLoader(test_data, batch_size=64, shuffle=True)"
   ]
  },
  {
   "cell_type": "markdown",
   "id": "c513b244",
   "metadata": {
    "papermill": {
     "duration": 0.021564,
     "end_time": "2022-10-06T15:33:57.461618",
     "exception": false,
     "start_time": "2022-10-06T15:33:57.440054",
     "status": "completed"
    },
    "tags": []
   },
   "source": [
    "Iterate through dataset"
   ]
  },
  {
   "cell_type": "code",
   "execution_count": 30,
   "id": "ad6ed63e",
   "metadata": {
    "execution": {
     "iopub.execute_input": "2022-10-06T15:33:57.508996Z",
     "iopub.status.busy": "2022-10-06T15:33:57.508644Z",
     "iopub.status.idle": "2022-10-06T15:33:57.647398Z",
     "shell.execute_reply": "2022-10-06T15:33:57.646686Z"
    },
    "papermill": {
     "duration": 0.164932,
     "end_time": "2022-10-06T15:33:57.650000",
     "exception": false,
     "start_time": "2022-10-06T15:33:57.485068",
     "status": "completed"
    },
    "tags": []
   },
   "outputs": [
    {
     "name": "stdout",
     "output_type": "stream",
     "text": [
      "Feature batch shape: torch.Size([64, 1, 28, 28])\n",
      "Labels batch shape: torch.Size([64])\n"
     ]
    },
    {
     "data": {
      "image/png": "[encoded data removed]",
      "text/plain": [
       "<Figure size 432x288 with 1 Axes>"
      ]
     },
     "metadata": {
      "needs_background": "light"
     },
     "output_type": "display_data"
    },
    {
     "name": "stdout",
     "output_type": "stream",
     "text": [
      "Label: 4\n"
     ]
    }
   ],
   "source": [
    "train_features, train_labels = next(iter(train_dataloader))\n",
    "print(f\"Feature batch shape: {train_features.size()}\")\n",
    "print(f\"Labels batch shape: {train_labels.size()}\")\n",
    "img = train_features[0].squeeze()\n",
    "label = train_labels[0]\n",
    "plt.imshow(img, cmap=\"gray\")\n",
    "plt.show()\n",
    "print(f\"Label: {label}\")"
   ]
  },
  {
   "cell_type": "markdown",
   "id": "d32416ec",
   "metadata": {
    "papermill": {
     "duration": 0.022042,
     "end_time": "2022-10-06T15:33:57.696252",
     "exception": false,
     "start_time": "2022-10-06T15:33:57.674210",
     "status": "completed"
    },
    "tags": []
   },
   "source": [
    "#### For further reading - https://pytorch.org/docs/stable/data.html"
   ]
  },
  {
   "cell_type": "markdown",
   "id": "d716fed7",
   "metadata": {
    "papermill": {
     "duration": 0.022436,
     "end_time": "2022-10-06T15:33:57.741292",
     "exception": false,
     "start_time": "2022-10-06T15:33:57.718856",
     "status": "completed"
    },
    "tags": []
   },
   "source": [
    "# Transform for data manipulation"
   ]
  },
  {
   "cell_type": "markdown",
   "id": "4cac34a9",
   "metadata": {
    "papermill": {
     "duration": 0.021666,
     "end_time": "2022-10-06T15:33:57.785552",
     "exception": false,
     "start_time": "2022-10-06T15:33:57.763886",
     "status": "completed"
    },
    "tags": []
   },
   "source": [
    "All TorchVision datasets have two parameters -transform to modify the features and target_transform to modify the labels - that accept callables containing the transformation logic. "
   ]
  },
  {
   "cell_type": "code",
   "execution_count": 31,
   "id": "7dad4973",
   "metadata": {
    "execution": {
     "iopub.execute_input": "2022-10-06T15:33:57.832607Z",
     "iopub.status.busy": "2022-10-06T15:33:57.832091Z",
     "iopub.status.idle": "2022-10-06T15:33:57.836142Z",
     "shell.execute_reply": "2022-10-06T15:33:57.835122Z"
    },
    "papermill": {
     "duration": 0.030393,
     "end_time": "2022-10-06T15:33:57.838244",
     "exception": false,
     "start_time": "2022-10-06T15:33:57.807851",
     "status": "completed"
    },
    "tags": []
   },
   "outputs": [],
   "source": [
    "import torch \n",
    "from torchvision import datasets\n",
    "from torchvision.transforms import ToTensor, Lambda"
   ]
  },
  {
   "cell_type": "code",
   "execution_count": 32,
   "id": "694db6f4",
   "metadata": {
    "execution": {
     "iopub.execute_input": "2022-10-06T15:33:57.884196Z",
     "iopub.status.busy": "2022-10-06T15:33:57.883863Z",
     "iopub.status.idle": "2022-10-06T15:33:57.937313Z",
     "shell.execute_reply": "2022-10-06T15:33:57.936224Z"
    },
    "papermill": {
     "duration": 0.079049,
     "end_time": "2022-10-06T15:33:57.939481",
     "exception": false,
     "start_time": "2022-10-06T15:33:57.860432",
     "status": "completed"
    },
    "tags": []
   },
   "outputs": [
    {
     "data": {
      "text/plain": [
       "Dataset FashionMNIST\n",
       "    Number of datapoints: 60000\n",
       "    Root location: data\n",
       "    Split: Train\n",
       "    StandardTransform\n",
       "Transform: ToTensor()\n",
       "Target transform: Lambda()"
      ]
     },
     "execution_count": 32,
     "metadata": {},
     "output_type": "execute_result"
    }
   ],
   "source": [
    "ds = datasets.FashionMNIST(\n",
    "    root=\"data\",\n",
    "    train=True,\n",
    "    download=True,\n",
    "    transform=ToTensor(),\n",
    "    target_transform=Lambda(lambda y: torch.zeros(10, dtype=torch.float).scatter_(0, torch.tensor(y), value=1))\n",
    ")\n",
    "\n",
    "ds"
   ]
  },
  {
   "cell_type": "markdown",
   "id": "ad42a815",
   "metadata": {
    "papermill": {
     "duration": 0.022112,
     "end_time": "2022-10-06T15:33:57.984490",
     "exception": false,
     "start_time": "2022-10-06T15:33:57.962378",
     "status": "completed"
    },
    "tags": []
   },
   "source": [
    "ToTensor converts a PIL image or NumPy ndarray into a FloatTensor. and scales the image’s pixel intensity values in the range [0., 1.], \n",
    "\n",
    "Lambda transforms apply any user-defined lambda function. Here, we define a function to turn the integer into a one-hot encoded tensor. It first creates a zero tensor of size 10 (the number of labels in our dataset) and calls scatter_ which assigns a value=1 on the index as given by the label y.\n"
   ]
  },
  {
   "cell_type": "markdown",
   "id": "1ef7e770",
   "metadata": {
    "papermill": {
     "duration": 0.022031,
     "end_time": "2022-10-06T15:33:58.028695",
     "exception": false,
     "start_time": "2022-10-06T15:33:58.006664",
     "status": "completed"
    },
    "tags": []
   },
   "source": [
    "#### For further info - https://pytorch.org/vision/stable/transforms.html"
   ]
  },
  {
   "cell_type": "markdown",
   "id": "6d1624eb",
   "metadata": {
    "papermill": {
     "duration": 0.022204,
     "end_time": "2022-10-06T15:33:58.073912",
     "exception": false,
     "start_time": "2022-10-06T15:33:58.051708",
     "status": "completed"
    },
    "tags": []
   },
   "source": [
    "# Autograd "
   ]
  },
  {
   "cell_type": "markdown",
   "id": "0b1ac913",
   "metadata": {
    "papermill": {
     "duration": 0.021484,
     "end_time": "2022-10-06T15:33:58.117825",
     "exception": false,
     "start_time": "2022-10-06T15:33:58.096341",
     "status": "completed"
    },
    "tags": []
   },
   "source": [
    "Autograd helps in computing loss function, applying optimization and change values of weights and biases to keep the loss min."
   ]
  },
  {
   "cell_type": "code",
   "execution_count": 33,
   "id": "deb0d299",
   "metadata": {
    "execution": {
     "iopub.execute_input": "2022-10-06T15:33:58.162306Z",
     "iopub.status.busy": "2022-10-06T15:33:58.162001Z",
     "iopub.status.idle": "2022-10-06T15:33:58.166737Z",
     "shell.execute_reply": "2022-10-06T15:33:58.165580Z"
    },
    "papermill": {
     "duration": 0.029371,
     "end_time": "2022-10-06T15:33:58.168578",
     "exception": false,
     "start_time": "2022-10-06T15:33:58.139207",
     "status": "completed"
    },
    "tags": []
   },
   "outputs": [],
   "source": [
    "import torch\n",
    "\n",
    "import matplotlib.pyplot as plt\n",
    "import matplotlib.ticker as ticker\n",
    "import math"
   ]
  },
  {
   "cell_type": "markdown",
   "id": "888f22f3",
   "metadata": {
    "papermill": {
     "duration": 0.021373,
     "end_time": "2022-10-06T15:33:58.211610",
     "exception": false,
     "start_time": "2022-10-06T15:33:58.190237",
     "status": "completed"
    },
    "tags": []
   },
   "source": [
    "Next, we’ll create an input tensor full of evenly spaced values on the interval [0,2π], and specify requires_grad=True"
   ]
  },
  {
   "cell_type": "code",
   "execution_count": 34,
   "id": "c5a7a822",
   "metadata": {
    "execution": {
     "iopub.execute_input": "2022-10-06T15:33:58.257481Z",
     "iopub.status.busy": "2022-10-06T15:33:58.257138Z",
     "iopub.status.idle": "2022-10-06T15:33:58.267146Z",
     "shell.execute_reply": "2022-10-06T15:33:58.266196Z"
    },
    "papermill": {
     "duration": 0.034966,
     "end_time": "2022-10-06T15:33:58.268777",
     "exception": false,
     "start_time": "2022-10-06T15:33:58.233811",
     "status": "completed"
    },
    "tags": []
   },
   "outputs": [
    {
     "data": {
      "text/plain": [
       "tensor([0.0000, 0.2618, 0.5236, 0.7854, 1.0472, 1.3090, 1.5708, 1.8326, 2.0944,\n",
       "        2.3562, 2.6180, 2.8798, 3.1416, 3.4034, 3.6652, 3.9270, 4.1888, 4.4506,\n",
       "        4.7124, 4.9742, 5.2360, 5.4978, 5.7596, 6.0214, 6.2832],\n",
       "       requires_grad=True)"
      ]
     },
     "execution_count": 34,
     "metadata": {},
     "output_type": "execute_result"
    }
   ],
   "source": [
    "a = torch.linspace(0, 2*math.pi, steps = 25, requires_grad=True)\n",
    "a"
   ]
  },
  {
   "cell_type": "markdown",
   "id": "14ad0e3f",
   "metadata": {
    "papermill": {
     "duration": 0.022656,
     "end_time": "2022-10-06T15:33:58.313254",
     "exception": false,
     "start_time": "2022-10-06T15:33:58.290598",
     "status": "completed"
    },
    "tags": []
   },
   "source": [
    "Next, we’ll perform a computation, and plot its output in terms of its inputs:"
   ]
  },
  {
   "cell_type": "code",
   "execution_count": 35,
   "id": "53aa2b23",
   "metadata": {
    "execution": {
     "iopub.execute_input": "2022-10-06T15:33:58.360005Z",
     "iopub.status.busy": "2022-10-06T15:33:58.359483Z",
     "iopub.status.idle": "2022-10-06T15:33:58.525766Z",
     "shell.execute_reply": "2022-10-06T15:33:58.524816Z"
    },
    "papermill": {
     "duration": 0.191515,
     "end_time": "2022-10-06T15:33:58.527887",
     "exception": false,
     "start_time": "2022-10-06T15:33:58.336372",
     "status": "completed"
    },
    "tags": []
   },
   "outputs": [
    {
     "data": {
      "text/plain": [
       "[<matplotlib.lines.Line2D at 0x7efd058ca210>]"
      ]
     },
     "execution_count": 35,
     "metadata": {},
     "output_type": "execute_result"
    },
    {
     "data": {
      "image/png": "[encoded data removed]",
      "text/plain": [
       "<Figure size 432x288 with 1 Axes>"
      ]
     },
     "metadata": {
      "needs_background": "light"
     },
     "output_type": "display_data"
    }
   ],
   "source": [
    "b = torch.sin(a)\n",
    "plt.plot(a.detach(), b.detach())"
   ]
  },
  {
   "cell_type": "code",
   "execution_count": null,
   "id": "d5554202",
   "metadata": {
    "papermill": {
     "duration": 0.023268,
     "end_time": "2022-10-06T15:33:58.574190",
     "exception": false,
     "start_time": "2022-10-06T15:33:58.550922",
     "status": "completed"
    },
    "tags": []
   },
   "outputs": [],
   "source": []
  },
  {
   "cell_type": "markdown",
   "id": "5a977120",
   "metadata": {
    "papermill": {
     "duration": 0.022,
     "end_time": "2022-10-06T15:33:58.619370",
     "exception": false,
     "start_time": "2022-10-06T15:33:58.597370",
     "status": "completed"
    },
    "tags": []
   },
   "source": [
    "# Building a simple Neural Network"
   ]
  },
  {
   "cell_type": "code",
   "execution_count": 36,
   "id": "9bc03cb1",
   "metadata": {
    "execution": {
     "iopub.execute_input": "2022-10-06T15:33:58.666758Z",
     "iopub.status.busy": "2022-10-06T15:33:58.666398Z",
     "iopub.status.idle": "2022-10-06T15:33:58.671000Z",
     "shell.execute_reply": "2022-10-06T15:33:58.669729Z"
    },
    "papermill": {
     "duration": 0.031306,
     "end_time": "2022-10-06T15:33:58.673555",
     "exception": false,
     "start_time": "2022-10-06T15:33:58.642249",
     "status": "completed"
    },
    "tags": []
   },
   "outputs": [],
   "source": [
    "import os\n",
    "import torch\n",
    "from torch import nn\n",
    "from torch.utils.data import DataLoader\n",
    "from torchvision import datasets, transforms\n",
    "from torchvision.transforms import ToTensor"
   ]
  },
  {
   "cell_type": "code",
   "execution_count": 37,
   "id": "2eedd5b3",
   "metadata": {
    "execution": {
     "iopub.execute_input": "2022-10-06T15:33:58.722766Z",
     "iopub.status.busy": "2022-10-06T15:33:58.722195Z",
     "iopub.status.idle": "2022-10-06T15:33:58.727177Z",
     "shell.execute_reply": "2022-10-06T15:33:58.726296Z"
    },
    "papermill": {
     "duration": 0.03286,
     "end_time": "2022-10-06T15:33:58.729652",
     "exception": false,
     "start_time": "2022-10-06T15:33:58.696792",
     "status": "completed"
    },
    "tags": []
   },
   "outputs": [
    {
     "name": "stdout",
     "output_type": "stream",
     "text": [
      "Using cpu device\n"
     ]
    }
   ],
   "source": [
    "device = \"cuda\" if torch.cuda.is_available() else \"cpu\"\n",
    "print(f\"Using {device} device\")"
   ]
  },
  {
   "cell_type": "code",
   "execution_count": 38,
   "id": "67137e73",
   "metadata": {
    "execution": {
     "iopub.execute_input": "2022-10-06T15:33:58.777273Z",
     "iopub.status.busy": "2022-10-06T15:33:58.776909Z",
     "iopub.status.idle": "2022-10-06T15:33:58.829191Z",
     "shell.execute_reply": "2022-10-06T15:33:58.828429Z"
    },
    "papermill": {
     "duration": 0.078841,
     "end_time": "2022-10-06T15:33:58.831410",
     "exception": false,
     "start_time": "2022-10-06T15:33:58.752569",
     "status": "completed"
    },
    "tags": []
   },
   "outputs": [],
   "source": [
    "training_data = datasets.FashionMNIST(\n",
    "    root=\"data\",\n",
    "    train=True,\n",
    "    download=True,\n",
    "    transform=ToTensor()\n",
    ")\n",
    "\n",
    "test_data = datasets.FashionMNIST(\n",
    "    root=\"data\",\n",
    "    train=False,\n",
    "    download=True,\n",
    "    transform=ToTensor()\n",
    ")\n",
    "\n",
    "train_dataloader = DataLoader(training_data, batch_size=64)\n",
    "test_dataloader = DataLoader(test_data, batch_size=64)\n"
   ]
  },
  {
   "cell_type": "code",
   "execution_count": 39,
   "id": "145d674c",
   "metadata": {
    "execution": {
     "iopub.execute_input": "2022-10-06T15:33:58.878431Z",
     "iopub.status.busy": "2022-10-06T15:33:58.877574Z",
     "iopub.status.idle": "2022-10-06T15:33:58.885586Z",
     "shell.execute_reply": "2022-10-06T15:33:58.884411Z"
    },
    "papermill": {
     "duration": 0.033923,
     "end_time": "2022-10-06T15:33:58.888135",
     "exception": false,
     "start_time": "2022-10-06T15:33:58.854212",
     "status": "completed"
    },
    "tags": []
   },
   "outputs": [],
   "source": [
    "class NeuralNetwork(nn.Module):\n",
    "    def __init__(self):\n",
    "        super(NeuralNetwork, self).__init__()\n",
    "        self.flatten = nn.Flatten()\n",
    "        self.linear_relu_stack = nn.Sequential(\n",
    "            nn.Linear(28*28, 512),\n",
    "            nn.ReLU(),\n",
    "            nn.Linear(512, 512),\n",
    "            nn.ReLU(),\n",
    "            nn.Linear(512, 10),\n",
    "        )\n",
    "        \n",
    "    def forward(self, x):\n",
    "        x = self.flatten(x)\n",
    "        logits = self.linear_relu_stack(x)\n",
    "        return logits"
   ]
  },
  {
   "cell_type": "code",
   "execution_count": 40,
   "id": "992eeaf9",
   "metadata": {
    "execution": {
     "iopub.execute_input": "2022-10-06T15:33:58.936780Z",
     "iopub.status.busy": "2022-10-06T15:33:58.936425Z",
     "iopub.status.idle": "2022-10-06T15:33:58.947457Z",
     "shell.execute_reply": "2022-10-06T15:33:58.946229Z"
    },
    "papermill": {
     "duration": 0.037739,
     "end_time": "2022-10-06T15:33:58.949755",
     "exception": false,
     "start_time": "2022-10-06T15:33:58.912016",
     "status": "completed"
    },
    "tags": []
   },
   "outputs": [
    {
     "name": "stdout",
     "output_type": "stream",
     "text": [
      "NeuralNetwork(\n",
      "  (flatten): Flatten(start_dim=1, end_dim=-1)\n",
      "  (linear_relu_stack): Sequential(\n",
      "    (0): Linear(in_features=784, out_features=512, bias=True)\n",
      "    (1): ReLU()\n",
      "    (2): Linear(in_features=512, out_features=512, bias=True)\n",
      "    (3): ReLU()\n",
      "    (4): Linear(in_features=512, out_features=10, bias=True)\n",
      "  )\n",
      ")\n"
     ]
    }
   ],
   "source": [
    "model = NeuralNetwork().to(device)\n",
    "print(model)"
   ]
  },
  {
   "cell_type": "code",
   "execution_count": 41,
   "id": "cfe99617",
   "metadata": {
    "execution": {
     "iopub.execute_input": "2022-10-06T15:33:58.996664Z",
     "iopub.status.busy": "2022-10-06T15:33:58.995579Z",
     "iopub.status.idle": "2022-10-06T15:33:59.008654Z",
     "shell.execute_reply": "2022-10-06T15:33:59.007402Z"
    },
    "papermill": {
     "duration": 0.038952,
     "end_time": "2022-10-06T15:33:59.011189",
     "exception": false,
     "start_time": "2022-10-06T15:33:58.972237",
     "status": "completed"
    },
    "tags": []
   },
   "outputs": [
    {
     "name": "stdout",
     "output_type": "stream",
     "text": [
      "Predicted class: tensor([3])\n"
     ]
    }
   ],
   "source": [
    "X = torch.rand(1, 28, 28, device=device)\n",
    "logits = model(X)\n",
    "pred_probab = nn.Softmax(dim=1)(logits)\n",
    "y_pred = pred_probab.argmax(1)\n",
    "print(f\"Predicted class: {y_pred}\")"
   ]
  },
  {
   "cell_type": "markdown",
   "id": "5c965154",
   "metadata": {
    "papermill": {
     "duration": 0.022131,
     "end_time": "2022-10-06T15:33:59.055991",
     "exception": false,
     "start_time": "2022-10-06T15:33:59.033860",
     "status": "completed"
    },
    "tags": []
   },
   "source": [
    "## Backpropagation"
   ]
  },
  {
   "cell_type": "markdown",
   "id": "a4b66db4",
   "metadata": {
    "papermill": {
     "duration": 0.021839,
     "end_time": "2022-10-06T15:33:59.100703",
     "exception": false,
     "start_time": "2022-10-06T15:33:59.078864",
     "status": "completed"
    },
    "tags": []
   },
   "source": [
    "Here the different matrices are - x input , w weight, b bias and y output\n",
    "\n",
    "Since w and b are the one who need to be optimized, they have requires_grad = True\n",
    "\n",
    "Loss function used here is Cross entropy"
   ]
  },
  {
   "cell_type": "code",
   "execution_count": 42,
   "id": "2c81bf30",
   "metadata": {
    "execution": {
     "iopub.execute_input": "2022-10-06T15:33:59.146833Z",
     "iopub.status.busy": "2022-10-06T15:33:59.146226Z",
     "iopub.status.idle": "2022-10-06T15:33:59.159109Z",
     "shell.execute_reply": "2022-10-06T15:33:59.158069Z"
    },
    "papermill": {
     "duration": 0.038465,
     "end_time": "2022-10-06T15:33:59.160938",
     "exception": false,
     "start_time": "2022-10-06T15:33:59.122473",
     "status": "completed"
    },
    "tags": []
   },
   "outputs": [
    {
     "data": {
      "text/plain": [
       "tensor(0.6843, grad_fn=<BinaryCrossEntropyWithLogitsBackward0>)"
      ]
     },
     "execution_count": 42,
     "metadata": {},
     "output_type": "execute_result"
    }
   ],
   "source": [
    "x = torch.ones(5)  # input tensor\n",
    "y = torch.zeros(3)  # expected output\n",
    "w = torch.randn(5, 3, requires_grad=True)\n",
    "b = torch.randn(3, requires_grad=True)\n",
    "z = torch.matmul(x, w)+b\n",
    "loss = torch.nn.functional.binary_cross_entropy_with_logits(z, y)\n",
    "loss"
   ]
  },
  {
   "cell_type": "markdown",
   "id": "5e76e4ee",
   "metadata": {
    "papermill": {
     "duration": 0.023019,
     "end_time": "2022-10-06T15:33:59.206663",
     "exception": false,
     "start_time": "2022-10-06T15:33:59.183644",
     "status": "completed"
    },
    "tags": []
   },
   "source": [
    "A function that we apply to tensors to construct computational graph is in fact an object of class Function. This object knows how to compute the function in the forward direction, and also how to compute its derivative during the backward propagation step. A reference to the backward propagation function is stored in grad_fn property of a tensor. You can find more information of Function in the documentation - https://pytorch.org/docs/stable/autograd.html#function"
   ]
  },
  {
   "cell_type": "code",
   "execution_count": 43,
   "id": "b5f9a804",
   "metadata": {
    "execution": {
     "iopub.execute_input": "2022-10-06T15:33:59.254362Z",
     "iopub.status.busy": "2022-10-06T15:33:59.254017Z",
     "iopub.status.idle": "2022-10-06T15:33:59.259710Z",
     "shell.execute_reply": "2022-10-06T15:33:59.258494Z"
    },
    "papermill": {
     "duration": 0.032118,
     "end_time": "2022-10-06T15:33:59.262270",
     "exception": false,
     "start_time": "2022-10-06T15:33:59.230152",
     "status": "completed"
    },
    "tags": []
   },
   "outputs": [
    {
     "name": "stdout",
     "output_type": "stream",
     "text": [
      "Gradient function for z = <AddBackward0 object at 0x7efd05834450>\n",
      "Gradient function for loss = <BinaryCrossEntropyWithLogitsBackward0 object at 0x7efd05834410>\n"
     ]
    }
   ],
   "source": [
    "print(f\"Gradient function for z = {z.grad_fn}\")\n",
    "print(f\"Gradient function for loss = {loss.grad_fn}\")"
   ]
  },
  {
   "cell_type": "markdown",
   "id": "f361d04d",
   "metadata": {
    "papermill": {
     "duration": 0.022932,
     "end_time": "2022-10-06T15:33:59.308095",
     "exception": false,
     "start_time": "2022-10-06T15:33:59.285163",
     "status": "completed"
    },
    "tags": []
   },
   "source": [
    "Computing gradients"
   ]
  },
  {
   "cell_type": "code",
   "execution_count": 44,
   "id": "05987dee",
   "metadata": {
    "execution": {
     "iopub.execute_input": "2022-10-06T15:33:59.356814Z",
     "iopub.status.busy": "2022-10-06T15:33:59.356495Z",
     "iopub.status.idle": "2022-10-06T15:33:59.371601Z",
     "shell.execute_reply": "2022-10-06T15:33:59.370207Z"
    },
    "papermill": {
     "duration": 0.043867,
     "end_time": "2022-10-06T15:33:59.375179",
     "exception": false,
     "start_time": "2022-10-06T15:33:59.331312",
     "status": "completed"
    },
    "tags": []
   },
   "outputs": [
    {
     "name": "stdout",
     "output_type": "stream",
     "text": [
      "tensor([[0.1740, 0.0236, 0.2370],\n",
      "        [0.1740, 0.0236, 0.2370],\n",
      "        [0.1740, 0.0236, 0.2370],\n",
      "        [0.1740, 0.0236, 0.2370],\n",
      "        [0.1740, 0.0236, 0.2370]])\n",
      "tensor([0.1740, 0.0236, 0.2370])\n"
     ]
    }
   ],
   "source": [
    "loss.backward()\n",
    "print(w.grad)\n",
    "print(b.grad)"
   ]
  },
  {
   "cell_type": "markdown",
   "id": "42ada10c",
   "metadata": {
    "papermill": {
     "duration": 0.034592,
     "end_time": "2022-10-06T15:33:59.433301",
     "exception": false,
     "start_time": "2022-10-06T15:33:59.398709",
     "status": "completed"
    },
    "tags": []
   },
   "source": [
    "We can only perform gradient calculations using backward once on a given graph, for performance reasons. If we need to do several backward calls on the same graph, we need to pass retain_graph=True to the backward call."
   ]
  },
  {
   "cell_type": "markdown",
   "id": "4ef33ca7",
   "metadata": {
    "papermill": {
     "duration": 0.022919,
     "end_time": "2022-10-06T15:33:59.479676",
     "exception": false,
     "start_time": "2022-10-06T15:33:59.456757",
     "status": "completed"
    },
    "tags": []
   },
   "source": [
    "Disabling gradient tracking with no_grad() and detach()"
   ]
  },
  {
   "cell_type": "code",
   "execution_count": 45,
   "id": "76ae647b",
   "metadata": {
    "execution": {
     "iopub.execute_input": "2022-10-06T15:33:59.527820Z",
     "iopub.status.busy": "2022-10-06T15:33:59.527210Z",
     "iopub.status.idle": "2022-10-06T15:33:59.533992Z",
     "shell.execute_reply": "2022-10-06T15:33:59.532856Z"
    },
    "papermill": {
     "duration": 0.033339,
     "end_time": "2022-10-06T15:33:59.536074",
     "exception": false,
     "start_time": "2022-10-06T15:33:59.502735",
     "status": "completed"
    },
    "tags": []
   },
   "outputs": [
    {
     "name": "stdout",
     "output_type": "stream",
     "text": [
      "True\n",
      "False\n",
      "False\n"
     ]
    }
   ],
   "source": [
    "z = torch.matmul(x, w)+b\n",
    "print(z.requires_grad)\n",
    "\n",
    "with torch.no_grad():\n",
    "    z = torch.matmul(x, w)+b\n",
    "print(z.requires_grad)\n",
    "\n",
    "z = torch.matmul(x, w)+b\n",
    "z_det = z.detach()\n",
    "print(z_det.requires_grad)"
   ]
  },
  {
   "cell_type": "markdown",
   "id": "8d0afd71",
   "metadata": {
    "papermill": {
     "duration": 0.022927,
     "end_time": "2022-10-06T15:33:59.583329",
     "exception": false,
     "start_time": "2022-10-06T15:33:59.560402",
     "status": "completed"
    },
    "tags": []
   },
   "source": [
    "There are reasons you might want to disable gradient tracking:\n",
    "\n",
    "* To mark some parameters in your neural network as frozen parameters. This is a very common scenario for finetuning a pretrained network\n",
    "\n",
    "* To speed up computations when you are only doing forward pass, because computations on tensors that do not track gradients would be more efficient.\n",
    "\n"
   ]
  },
  {
   "cell_type": "markdown",
   "id": "232cf0fb",
   "metadata": {
    "papermill": {
     "duration": 0.022971,
     "end_time": "2022-10-06T15:33:59.629240",
     "exception": false,
     "start_time": "2022-10-06T15:33:59.606269",
     "status": "completed"
    },
    "tags": []
   },
   "source": [
    "In many cases, we have a scalar loss function, and we need to compute the gradient with respect to some parameters. However, there are cases when the output function is an arbitrary tensor. In this case, PyTorch allows you to compute so-called Jacobian product, and not the actual gradient."
   ]
  },
  {
   "cell_type": "code",
   "execution_count": 46,
   "id": "554a2279",
   "metadata": {
    "execution": {
     "iopub.execute_input": "2022-10-06T15:33:59.678400Z",
     "iopub.status.busy": "2022-10-06T15:33:59.678051Z",
     "iopub.status.idle": "2022-10-06T15:33:59.689178Z",
     "shell.execute_reply": "2022-10-06T15:33:59.688083Z"
    },
    "papermill": {
     "duration": 0.038289,
     "end_time": "2022-10-06T15:33:59.691312",
     "exception": false,
     "start_time": "2022-10-06T15:33:59.653023",
     "status": "completed"
    },
    "tags": []
   },
   "outputs": [
    {
     "name": "stdout",
     "output_type": "stream",
     "text": [
      "First call\n",
      "tensor([[4., 2., 2., 2., 2.],\n",
      "        [2., 4., 2., 2., 2.],\n",
      "        [2., 2., 4., 2., 2.],\n",
      "        [2., 2., 2., 4., 2.],\n",
      "        [2., 2., 2., 2., 4.]])\n",
      "\n",
      "Second call\n",
      "tensor([[8., 4., 4., 4., 4.],\n",
      "        [4., 8., 4., 4., 4.],\n",
      "        [4., 4., 8., 4., 4.],\n",
      "        [4., 4., 4., 8., 4.],\n",
      "        [4., 4., 4., 4., 8.]])\n",
      "\n",
      "Call after zeroing gradients\n",
      "tensor([[4., 2., 2., 2., 2.],\n",
      "        [2., 4., 2., 2., 2.],\n",
      "        [2., 2., 4., 2., 2.],\n",
      "        [2., 2., 2., 4., 2.],\n",
      "        [2., 2., 2., 2., 4.]])\n"
     ]
    }
   ],
   "source": [
    "inp = torch.eye(5, requires_grad=True)\n",
    "out = (inp+1).pow(2)\n",
    "out.backward(torch.ones_like(inp), retain_graph=True)\n",
    "print(f\"First call\\n{inp.grad}\")\n",
    "out.backward(torch.ones_like(inp), retain_graph=True)\n",
    "print(f\"\\nSecond call\\n{inp.grad}\")\n",
    "inp.grad.zero_()\n",
    "out.backward(torch.ones_like(inp), retain_graph=True)\n",
    "print(f\"\\nCall after zeroing gradients\\n{inp.grad}\")"
   ]
  },
  {
   "cell_type": "markdown",
   "id": "807d1696",
   "metadata": {
    "papermill": {
     "duration": 0.023934,
     "end_time": "2022-10-06T15:33:59.739428",
     "exception": false,
     "start_time": "2022-10-06T15:33:59.715494",
     "status": "completed"
    },
    "tags": []
   },
   "source": [
    "### Optimzing model parameters"
   ]
  },
  {
   "cell_type": "code",
   "execution_count": 47,
   "id": "4465e81a",
   "metadata": {
    "execution": {
     "iopub.execute_input": "2022-10-06T15:33:59.787476Z",
     "iopub.status.busy": "2022-10-06T15:33:59.787116Z",
     "iopub.status.idle": "2022-10-06T15:33:59.792533Z",
     "shell.execute_reply": "2022-10-06T15:33:59.790979Z"
    },
    "papermill": {
     "duration": 0.032116,
     "end_time": "2022-10-06T15:33:59.794917",
     "exception": false,
     "start_time": "2022-10-06T15:33:59.762801",
     "status": "completed"
    },
    "tags": []
   },
   "outputs": [],
   "source": [
    "learning_rate = 1e-3\n",
    "batch_size = 64\n",
    "epochs = 5"
   ]
  },
  {
   "cell_type": "markdown",
   "id": "cbaa63cc",
   "metadata": {
    "papermill": {
     "duration": 0.022941,
     "end_time": "2022-10-06T15:33:59.842188",
     "exception": false,
     "start_time": "2022-10-06T15:33:59.819247",
     "status": "completed"
    },
    "tags": []
   },
   "source": [
    "Loss function\n",
    "\n",
    "Common loss functions include nn.MSELoss (Mean Square Error) for regression tasks, and nn.NLLLoss (Negative Log Likelihood) for classification. nn.CrossEntropyLoss combines nn.LogSoftmax and nn.NLLLoss.\n"
   ]
  },
  {
   "cell_type": "code",
   "execution_count": 48,
   "id": "e0b9f8f8",
   "metadata": {
    "execution": {
     "iopub.execute_input": "2022-10-06T15:33:59.890961Z",
     "iopub.status.busy": "2022-10-06T15:33:59.890623Z",
     "iopub.status.idle": "2022-10-06T15:33:59.895996Z",
     "shell.execute_reply": "2022-10-06T15:33:59.894494Z"
    },
    "papermill": {
     "duration": 0.032798,
     "end_time": "2022-10-06T15:33:59.898497",
     "exception": false,
     "start_time": "2022-10-06T15:33:59.865699",
     "status": "completed"
    },
    "tags": []
   },
   "outputs": [],
   "source": [
    "loss_fn = nn.CrossEntropyLoss()"
   ]
  },
  {
   "cell_type": "markdown",
   "id": "f0c50155",
   "metadata": {
    "papermill": {
     "duration": 0.023946,
     "end_time": "2022-10-06T15:33:59.947475",
     "exception": false,
     "start_time": "2022-10-06T15:33:59.923529",
     "status": "completed"
    },
    "tags": []
   },
   "source": [
    "Optimizer\n",
    "\n",
    "PyTorch suppoort all commonly used optimizersa like ADAM and RMSProp, we are using Stochastic Gradient Descent here"
   ]
  },
  {
   "cell_type": "code",
   "execution_count": 49,
   "id": "3878541a",
   "metadata": {
    "execution": {
     "iopub.execute_input": "2022-10-06T15:33:59.996800Z",
     "iopub.status.busy": "2022-10-06T15:33:59.996262Z",
     "iopub.status.idle": "2022-10-06T15:34:00.000543Z",
     "shell.execute_reply": "2022-10-06T15:33:59.999907Z"
    },
    "papermill": {
     "duration": 0.031568,
     "end_time": "2022-10-06T15:34:00.002348",
     "exception": false,
     "start_time": "2022-10-06T15:33:59.970780",
     "status": "completed"
    },
    "tags": []
   },
   "outputs": [],
   "source": [
    "optimizer = torch.optim.SGD(model.parameters(), lr=learning_rate)"
   ]
  },
  {
   "cell_type": "markdown",
   "id": "e5f8b096",
   "metadata": {
    "papermill": {
     "duration": 0.02299,
     "end_time": "2022-10-06T15:34:00.049001",
     "exception": false,
     "start_time": "2022-10-06T15:34:00.026011",
     "status": "completed"
    },
    "tags": []
   },
   "source": [
    "Inside the training loop, optimization happens in three steps:\n",
    "\n",
    "* Call optimizer.zero_grad() to reset the gradients of model parameters. Gradients by default add up; to prevent double-counting, we explicitly zero them at each iteration.\n",
    "\n",
    "* Backpropagate the prediction loss with a call to loss.backward(). PyTorch deposits the gradients of the loss w.r.t. each parameter.\n",
    "\n",
    "* Once we have our gradients, we call optimizer.step() to adjust the parameters by the gradients collected in the backward pass."
   ]
  },
  {
   "cell_type": "markdown",
   "id": "6a3567f2",
   "metadata": {
    "papermill": {
     "duration": 0.022905,
     "end_time": "2022-10-06T15:34:00.095119",
     "exception": false,
     "start_time": "2022-10-06T15:34:00.072214",
     "status": "completed"
    },
    "tags": []
   },
   "source": [
    "Full Implementation"
   ]
  },
  {
   "cell_type": "code",
   "execution_count": 50,
   "id": "0999881b",
   "metadata": {
    "execution": {
     "iopub.execute_input": "2022-10-06T15:34:00.143540Z",
     "iopub.status.busy": "2022-10-06T15:34:00.143179Z",
     "iopub.status.idle": "2022-10-06T15:34:00.151108Z",
     "shell.execute_reply": "2022-10-06T15:34:00.150202Z"
    },
    "papermill": {
     "duration": 0.034708,
     "end_time": "2022-10-06T15:34:00.152892",
     "exception": false,
     "start_time": "2022-10-06T15:34:00.118184",
     "status": "completed"
    },
    "tags": []
   },
   "outputs": [],
   "source": [
    "def train_loop(dataloader, model, loss_fn, optimizer):\n",
    "    size = len(dataloader.dataset)\n",
    "    for batch, (X, y) in enumerate(dataloader):\n",
    "        pred = model(X)\n",
    "        loss = loss_fn(pred, y)\n",
    "        \n",
    "        #Backpropogation\n",
    "        optimizer.zero_grad()\n",
    "        loss.backward()\n",
    "        optimizer.step()\n",
    "        \n",
    "        if batch % 100 == 0:\n",
    "            loss, current = loss.item(), batch * len(X)\n",
    "            print(f\"loss: {loss:>7f}  [{current:>5d}/{size:>5d}]\")\n",
    "            \n",
    "def test_loop(dataloader, model, loss_fn):\n",
    "    size = len(dataloader.dataset)\n",
    "    num_batches = len(dataloader)\n",
    "    test_loss, correct = 0, 0\n",
    "\n",
    "    with torch.no_grad():\n",
    "        for X, y in dataloader:\n",
    "            pred = model(X)\n",
    "            test_loss += loss_fn(pred, y).item()\n",
    "            correct += (pred.argmax(1) == y).type(torch.float).sum().item()\n",
    "\n",
    "    test_loss /= num_batches\n",
    "    correct /= size\n",
    "    print(f\"Test Error: \\n Accuracy: {(100*correct):>0.1f}%, Avg loss: {test_loss:>8f} \\n\")"
   ]
  },
  {
   "cell_type": "code",
   "execution_count": 51,
   "id": "27bdaf6f",
   "metadata": {
    "execution": {
     "iopub.execute_input": "2022-10-06T15:34:00.200986Z",
     "iopub.status.busy": "2022-10-06T15:34:00.200651Z",
     "iopub.status.idle": "2022-10-06T15:35:11.287822Z",
     "shell.execute_reply": "2022-10-06T15:35:11.286317Z"
    },
    "papermill": {
     "duration": 71.114163,
     "end_time": "2022-10-06T15:35:11.290112",
     "exception": false,
     "start_time": "2022-10-06T15:34:00.175949",
     "status": "completed"
    },
    "tags": []
   },
   "outputs": [
    {
     "name": "stdout",
     "output_type": "stream",
     "text": [
      "epoch 1\n",
      "...........\n",
      "loss: 2.310282  [    0/60000]\n",
      "loss: 2.291119  [ 6400/60000]\n",
      "loss: 2.278934  [12800/60000]\n",
      "loss: 2.274889  [19200/60000]\n",
      "loss: 2.262816  [25600/60000]\n",
      "loss: 2.241260  [32000/60000]\n",
      "loss: 2.241848  [38400/60000]\n",
      "loss: 2.215348  [44800/60000]\n",
      "loss: 2.210773  [51200/60000]\n",
      "loss: 2.192896  [57600/60000]\n",
      "Test Error: \n",
      " Accuracy: 51.4%, Avg loss: 2.177980 \n",
      "\n",
      "epoch 2\n",
      "...........\n",
      "loss: 2.190925  [    0/60000]\n",
      "loss: 2.171754  [ 6400/60000]\n",
      "loss: 2.123956  [12800/60000]\n",
      "loss: 2.143089  [19200/60000]\n",
      "loss: 2.095096  [25600/60000]\n",
      "loss: 2.045029  [32000/60000]\n",
      "loss: 2.077874  [38400/60000]\n",
      "loss: 2.001703  [44800/60000]\n",
      "loss: 2.006702  [51200/60000]\n",
      "loss: 1.955378  [57600/60000]\n",
      "Test Error: \n",
      " Accuracy: 52.1%, Avg loss: 1.936294 \n",
      "\n",
      "epoch 3\n",
      "...........\n",
      "loss: 1.971099  [    0/60000]\n",
      "loss: 1.931441  [ 6400/60000]\n",
      "loss: 1.821588  [12800/60000]\n",
      "loss: 1.874078  [19200/60000]\n",
      "loss: 1.753956  [25600/60000]\n",
      "loss: 1.705917  [32000/60000]\n",
      "loss: 1.745489  [38400/60000]\n",
      "loss: 1.634481  [44800/60000]\n",
      "loss: 1.660676  [51200/60000]\n",
      "loss: 1.575910  [57600/60000]\n",
      "Test Error: \n",
      " Accuracy: 58.9%, Avg loss: 1.571547 \n",
      "\n",
      "epoch 4\n",
      "...........\n",
      "loss: 1.637210  [    0/60000]\n",
      "loss: 1.593036  [ 6400/60000]\n",
      "loss: 1.445073  [12800/60000]\n",
      "loss: 1.530755  [19200/60000]\n",
      "loss: 1.395303  [25600/60000]\n",
      "loss: 1.382756  [32000/60000]\n",
      "loss: 1.406874  [38400/60000]\n",
      "loss: 1.322821  [44800/60000]\n",
      "loss: 1.358284  [51200/60000]\n",
      "loss: 1.265565  [57600/60000]\n",
      "Test Error: \n",
      " Accuracy: 63.1%, Avg loss: 1.285740 \n",
      "\n",
      "epoch 5\n",
      "...........\n",
      "loss: 1.363884  [    0/60000]\n",
      "loss: 1.338299  [ 6400/60000]\n",
      "loss: 1.176775  [12800/60000]\n",
      "loss: 1.291560  [19200/60000]\n",
      "loss: 1.155168  [25600/60000]\n",
      "loss: 1.169333  [32000/60000]\n",
      "loss: 1.192065  [38400/60000]\n",
      "loss: 1.128065  [44800/60000]\n",
      "loss: 1.170042  [51200/60000]\n",
      "loss: 1.085249  [57600/60000]\n",
      "Test Error: \n",
      " Accuracy: 64.4%, Avg loss: 1.108018 \n",
      "\n",
      "Done\n"
     ]
    }
   ],
   "source": [
    "for t in range(epochs):\n",
    "    print(f\"epoch {t+1}\\n...........\")\n",
    "    train_loop(train_dataloader, model,  loss_fn, optimizer)\n",
    "    test_loop(test_dataloader, model, loss_fn)\n",
    "print(\"Done\")"
   ]
  },
  {
   "cell_type": "markdown",
   "id": "32959acd",
   "metadata": {
    "papermill": {
     "duration": 0.025809,
     "end_time": "2022-10-06T15:35:11.344543",
     "exception": false,
     "start_time": "2022-10-06T15:35:11.318734",
     "status": "completed"
    },
    "tags": []
   },
   "source": [
    "### Using pretrained model"
   ]
  },
  {
   "cell_type": "markdown",
   "id": "d8af10c1",
   "metadata": {
    "papermill": {
     "duration": 0.027895,
     "end_time": "2022-10-06T15:35:11.400325",
     "exception": false,
     "start_time": "2022-10-06T15:35:11.372430",
     "status": "completed"
    },
    "tags": []
   },
   "source": [
    "You probably should have heard about vgg16 model, its a CNN classifier model which can classify input image into 1000 different categories. Let's use it here."
   ]
  },
  {
   "cell_type": "code",
   "execution_count": 52,
   "id": "66cc1d02",
   "metadata": {
    "execution": {
     "iopub.execute_input": "2022-10-06T15:35:11.457850Z",
     "iopub.status.busy": "2022-10-06T15:35:11.457177Z",
     "iopub.status.idle": "2022-10-06T15:35:11.461524Z",
     "shell.execute_reply": "2022-10-06T15:35:11.460809Z"
    },
    "papermill": {
     "duration": 0.03528,
     "end_time": "2022-10-06T15:35:11.463209",
     "exception": false,
     "start_time": "2022-10-06T15:35:11.427929",
     "status": "completed"
    },
    "tags": []
   },
   "outputs": [],
   "source": [
    "import torchvision.models as models"
   ]
  },
  {
   "cell_type": "markdown",
   "id": "1accf056",
   "metadata": {
    "papermill": {
     "duration": 0.028652,
     "end_time": "2022-10-06T15:35:11.521550",
     "exception": false,
     "start_time": "2022-10-06T15:35:11.492898",
     "status": "completed"
    },
    "tags": []
   },
   "source": [
    "Saving the model"
   ]
  },
  {
   "cell_type": "code",
   "execution_count": 53,
   "id": "517795dd",
   "metadata": {
    "execution": {
     "iopub.execute_input": "2022-10-06T15:35:11.580245Z",
     "iopub.status.busy": "2022-10-06T15:35:11.579656Z",
     "iopub.status.idle": "2022-10-06T15:35:16.658399Z",
     "shell.execute_reply": "2022-10-06T15:35:16.655702Z"
    },
    "papermill": {
     "duration": 5.111155,
     "end_time": "2022-10-06T15:35:16.661879",
     "exception": false,
     "start_time": "2022-10-06T15:35:11.550724",
     "status": "completed"
    },
    "tags": []
   },
   "outputs": [
    {
     "name": "stderr",
     "output_type": "stream",
     "text": [
      "Downloading: \"https://download.pytorch.org/models/vgg16-397923af.pth\" to /root/.cache/torch/hub/checkpoints/vgg16-397923af.pth\n"
     ]
    },
    {
     "data": {
      "application/vnd.jupyter.widget-view+json": {
       "model_id": "afe9fba8e6314c70892feaa387e28da2",
       "version_major": 2,
       "version_minor": 0
      },
      "text/plain": [
       "  0%|          | 0.00/528M [00:00<?, ?B/s]"
      ]
     },
     "metadata": {},
     "output_type": "display_data"
    }
   ],
   "source": [
    "model = models.vgg16(pretrained = True)\n",
    "torch.save(model.state_dict(), 'model_weights.pth')"
   ]
  },
  {
   "cell_type": "markdown",
   "id": "c209d7ec",
   "metadata": {
    "papermill": {
     "duration": 0.026445,
     "end_time": "2022-10-06T15:35:16.723310",
     "exception": false,
     "start_time": "2022-10-06T15:35:16.696865",
     "status": "completed"
    },
    "tags": []
   },
   "source": [
    "Loading the model"
   ]
  },
  {
   "cell_type": "code",
   "execution_count": 54,
   "id": "0365b549",
   "metadata": {
    "execution": {
     "iopub.execute_input": "2022-10-06T15:35:16.778660Z",
     "iopub.status.busy": "2022-10-06T15:35:16.778313Z",
     "iopub.status.idle": "2022-10-06T15:35:18.840645Z",
     "shell.execute_reply": "2022-10-06T15:35:18.840009Z"
    },
    "papermill": {
     "duration": 2.09184,
     "end_time": "2022-10-06T15:35:18.842415",
     "exception": false,
     "start_time": "2022-10-06T15:35:16.750575",
     "status": "completed"
    },
    "tags": []
   },
   "outputs": [
    {
     "data": {
      "text/plain": [
       "VGG(\n",
       "  (features): Sequential(\n",
       "    (0): Conv2d(3, 64, kernel_size=(3, 3), stride=(1, 1), padding=(1, 1))\n",
       "    (1): ReLU(inplace=True)\n",
       "    (2): Conv2d(64, 64, kernel_size=(3, 3), stride=(1, 1), padding=(1, 1))\n",
       "    (3): ReLU(inplace=True)\n",
       "    (4): MaxPool2d(kernel_size=2, stride=2, padding=0, dilation=1, ceil_mode=False)\n",
       "    (5): Conv2d(64, 128, kernel_size=(3, 3), stride=(1, 1), padding=(1, 1))\n",
       "    (6): ReLU(inplace=True)\n",
       "    (7): Conv2d(128, 128, kernel_size=(3, 3), stride=(1, 1), padding=(1, 1))\n",
       "    (8): ReLU(inplace=True)\n",
       "    (9): MaxPool2d(kernel_size=2, stride=2, padding=0, dilation=1, ceil_mode=False)\n",
       "    (10): Conv2d(128, 256, kernel_size=(3, 3), stride=(1, 1), padding=(1, 1))\n",
       "    (11): ReLU(inplace=True)\n",
       "    (12): Conv2d(256, 256, kernel_size=(3, 3), stride=(1, 1), padding=(1, 1))\n",
       "    (13): ReLU(inplace=True)\n",
       "    (14): Conv2d(256, 256, kernel_size=(3, 3), stride=(1, 1), padding=(1, 1))\n",
       "    (15): ReLU(inplace=True)\n",
       "    (16): MaxPool2d(kernel_size=2, stride=2, padding=0, dilation=1, ceil_mode=False)\n",
       "    (17): Conv2d(256, 512, kernel_size=(3, 3), stride=(1, 1), padding=(1, 1))\n",
       "    (18): ReLU(inplace=True)\n",
       "    (19): Conv2d(512, 512, kernel_size=(3, 3), stride=(1, 1), padding=(1, 1))\n",
       "    (20): ReLU(inplace=True)\n",
       "    (21): Conv2d(512, 512, kernel_size=(3, 3), stride=(1, 1), padding=(1, 1))\n",
       "    (22): ReLU(inplace=True)\n",
       "    (23): MaxPool2d(kernel_size=2, stride=2, padding=0, dilation=1, ceil_mode=False)\n",
       "    (24): Conv2d(512, 512, kernel_size=(3, 3), stride=(1, 1), padding=(1, 1))\n",
       "    (25): ReLU(inplace=True)\n",
       "    (26): Conv2d(512, 512, kernel_size=(3, 3), stride=(1, 1), padding=(1, 1))\n",
       "    (27): ReLU(inplace=True)\n",
       "    (28): Conv2d(512, 512, kernel_size=(3, 3), stride=(1, 1), padding=(1, 1))\n",
       "    (29): ReLU(inplace=True)\n",
       "    (30): MaxPool2d(kernel_size=2, stride=2, padding=0, dilation=1, ceil_mode=False)\n",
       "  )\n",
       "  (avgpool): AdaptiveAvgPool2d(output_size=(7, 7))\n",
       "  (classifier): Sequential(\n",
       "    (0): Linear(in_features=25088, out_features=4096, bias=True)\n",
       "    (1): ReLU(inplace=True)\n",
       "    (2): Dropout(p=0.5, inplace=False)\n",
       "    (3): Linear(in_features=4096, out_features=4096, bias=True)\n",
       "    (4): ReLU(inplace=True)\n",
       "    (5): Dropout(p=0.5, inplace=False)\n",
       "    (6): Linear(in_features=4096, out_features=1000, bias=True)\n",
       "  )\n",
       ")"
      ]
     },
     "execution_count": 54,
     "metadata": {},
     "output_type": "execute_result"
    }
   ],
   "source": [
    "model = models.vgg16() # we do not specify pretrained=True, i.e. do not load default weights\n",
    "model.load_state_dict(torch.load('model_weights.pth'))\n",
    "model.eval()"
   ]
  },
  {
   "cell_type": "code",
   "execution_count": null,
   "id": "68047cca",
   "metadata": {
    "papermill": {
     "duration": 0.025764,
     "end_time": "2022-10-06T15:35:18.894981",
     "exception": false,
     "start_time": "2022-10-06T15:35:18.869217",
     "status": "completed"
    },
    "tags": []
   },
   "outputs": [],
   "source": []
  }
 ],
 "metadata": {
  "kernelspec": {
   "display_name": "Python 3",
   "language": "python",
   "name": "python3"
  },
  "language_info": {
   "codemirror_mode": {
    "name": "ipython",
    "version": 3
   },
   "file_extension": ".py",
   "mimetype": "text/x-python",
   "name": "python",
   "nbconvert_exporter": "python",
   "pygments_lexer": "ipython3",
   "version": "3.7.12"
  },
  "papermill": {
   "default_parameters": {},
   "duration": 101.648286,
   "end_time": "2022-10-06T15:35:20.047110",
   "environment_variables": {},
   "exception": null,
   "input_path": "__notebook__.ipynb",
   "output_path": "__notebook__.ipynb",
   "parameters": {},
   "start_time": "2022-10-06T15:33:38.398824",
   "version": "2.3.4"
  },
  "widgets": {
   "application/vnd.jupyter.widget-state+json": {
    "state": {
     "047503dd48ae43e494dbe2c31e396c2d": {
      "model_module": "@jupyter-widgets/controls",
      "model_module_version": "1.5.0",
      "model_name": "HTMLModel",
      "state": {
       "_dom_classes": [],
       "_model_module": "@jupyter-widgets/controls",
       "_model_module_version": "1.5.0",
       "_model_name": "HTMLModel",
       "_view_count": null,
       "_view_module": "@jupyter-widgets/controls",
       "_view_module_version": "1.5.0",
       "_view_name": "HTMLView",
       "description": "",
       "description_tooltip": null,
       "layout": "IPY_MODEL_0abe487009b345758ed3dced3131dd5b",
       "placeholder": "​",
       "style": "IPY_MODEL_4d67ea40dd444ff294c0124fe03370e1",
       "value": ""
      }
     },
     "0abe487009b345758ed3dced3131dd5b": {
      "model_module": "@jupyter-widgets/base",
      "model_module_version": "1.2.0",
      "model_name": "LayoutModel",
      "state": {
       "_model_module": "@jupyter-widgets/base",
       "_model_module_version": "1.2.0",
       "_model_name": "LayoutModel",
       "_view_count": null,
       "_view_module": "@jupyter-widgets/base",
       "_view_module_version": "1.2.0",
       "_view_name": "LayoutView",
       "align_content": null,
       "align_items": null,
       "align_self": null,
       "border": null,
       "bottom": null,
       "display": null,
       "flex": null,
       "flex_flow": null,
       "grid_area": null,
       "grid_auto_columns": null,
       "grid_auto_flow": null,
       "grid_auto_rows": null,
       "grid_column": null,
       "grid_gap": null,
       "grid_row": null,
       "grid_template_areas": null,
       "grid_template_columns": null,
       "grid_template_rows": null,
       "height": null,
       "justify_content": null,
       "justify_items": null,
       "left": null,
       "margin": null,
       "max_height": null,
       "max_width": null,
       "min_height": null,
       "min_width": null,
       "object_fit": null,
       "object_position": null,
       "order": null,
       "overflow": null,
       "overflow_x": null,
       "overflow_y": null,
       "padding": null,
       "right": null,
       "top": null,
       "visibility": null,
       "width": null
      }
     },
     "0b938392dbcc41b79341a89c0f6e8fcc": {
      "model_module": "@jupyter-widgets/base",
      "model_module_version": "1.2.0",
      "model_name": "LayoutModel",
      "state": {
       "_model_module": "@jupyter-widgets/base",
       "_model_module_version": "1.2.0",
       "_model_name": "LayoutModel",
       "_view_count": null,
       "_view_module": "@jupyter-widgets/base",
       "_view_module_version": "1.2.0",
       "_view_name": "LayoutView",
       "align_content": null,
       "align_items": null,
       "align_self": null,
       "border": null,
       "bottom": null,
       "display": null,
       "flex": null,
       "flex_flow": null,
       "grid_area": null,
       "grid_auto_columns": null,
       "grid_auto_flow": null,
       "grid_auto_rows": null,
       "grid_column": null,
       "grid_gap": null,
       "grid_row": null,
       "grid_template_areas": null,
       "grid_template_columns": null,
       "grid_template_rows": null,
       "height": null,
       "justify_content": null,
       "justify_items": null,
       "left": null,
       "margin": null,
       "max_height": null,
       "max_width": null,
       "min_height": null,
       "min_width": null,
       "object_fit": null,
       "object_position": null,
       "order": null,
       "overflow": null,
       "overflow_x": null,
       "overflow_y": null,
       "padding": null,
       "right": null,
       "top": null,
       "visibility": null,
       "width": null
      }
     },
     "0c1873dac0dc43c289ebd877fb3a8a99": {
      "model_module": "@jupyter-widgets/base",
      "model_module_version": "1.2.0",
      "model_name": "LayoutModel",
      "state": {
       "_model_module": "@jupyter-widgets/base",
       "_model_module_version": "1.2.0",
       "_model_name": "LayoutModel",
       "_view_count": null,
       "_view_module": "@jupyter-widgets/base",
       "_view_module_version": "1.2.0",
       "_view_name": "LayoutView",
       "align_content": null,
       "align_items": null,
       "align_self": null,
       "border": null,
       "bottom": null,
       "display": null,
       "flex": null,
       "flex_flow": null,
       "grid_area": null,
       "grid_auto_columns": null,
       "grid_auto_flow": null,
       "grid_auto_rows": null,
       "grid_column": null,
       "grid_gap": null,
       "grid_row": null,
       "grid_template_areas": null,
       "grid_template_columns": null,
       "grid_template_rows": null,
       "height": null,
       "justify_content": null,
       "justify_items": null,
       "left": null,
       "margin": null,
       "max_height": null,
       "max_width": null,
       "min_height": null,
       "min_width": null,
       "object_fit": null,
       "object_position": null,
       "order": null,
       "overflow": null,
       "overflow_x": null,
       "overflow_y": null,
       "padding": null,
       "right": null,
       "top": null,
       "visibility": null,
       "width": null
      }
     },
     "0d061eb923534bc3b46d698e8e29839e": {
      "model_module": "@jupyter-widgets/controls",
      "model_module_version": "1.5.0",
      "model_name": "HTMLModel",
      "state": {
       "_dom_classes": [],
       "_model_module": "@jupyter-widgets/controls",
       "_model_module_version": "1.5.0",
       "_model_name": "HTMLModel",
       "_view_count": null,
       "_view_module": "@jupyter-widgets/controls",
       "_view_module_version": "1.5.0",
       "_view_name": "HTMLView",
       "description": "",
       "description_tooltip": null,
       "layout": "IPY_MODEL_e0f0f9c60cff4ecb9f0cc83b02843773",
       "placeholder": "​",
       "style": "IPY_MODEL_64d575a5c8ab454eae4d2eaf83854aec",
       "value": "100%"
      }
     },
     "144cf9dac90a4a01bf52ec4e1171363d": {
      "model_module": "@jupyter-widgets/base",
      "model_module_version": "1.2.0",
      "model_name": "LayoutModel",
      "state": {
       "_model_module": "@jupyter-widgets/base",
       "_model_module_version": "1.2.0",
       "_model_name": "LayoutModel",
       "_view_count": null,
       "_view_module": "@jupyter-widgets/base",
       "_view_module_version": "1.2.0",
       "_view_name": "LayoutView",
       "align_content": null,
       "align_items": null,
       "align_self": null,
       "border": null,
       "bottom": null,
       "display": null,
       "flex": null,
       "flex_flow": null,
       "grid_area": null,
       "grid_auto_columns": null,
       "grid_auto_flow": null,
       "grid_auto_rows": null,
       "grid_column": null,
       "grid_gap": null,
       "grid_row": null,
       "grid_template_areas": null,
       "grid_template_columns": null,
       "grid_template_rows": null,
       "height": null,
       "justify_content": null,
       "justify_items": null,
       "left": null,
       "margin": null,
       "max_height": null,
       "max_width": null,
       "min_height": null,
       "min_width": null,
       "object_fit": null,
       "object_position": null,
       "order": null,
       "overflow": null,
       "overflow_x": null,
       "overflow_y": null,
       "padding": null,
       "right": null,
       "top": null,
       "visibility": null,
       "width": null
      }
     },
     "24f66af13c0a46c9903a2095e0844c1f": {
      "model_module": "@jupyter-widgets/base",
      "model_module_version": "1.2.0",
      "model_name": "LayoutModel",
      "state": {
       "_model_module": "@jupyter-widgets/base",
       "_model_module_version": "1.2.0",
       "_model_name": "LayoutModel",
       "_view_count": null,
       "_view_module": "@jupyter-widgets/base",
       "_view_module_version": "1.2.0",
       "_view_name": "LayoutView",
       "align_content": null,
       "align_items": null,
       "align_self": null,
       "border": null,
       "bottom": null,
       "display": null,
       "flex": null,
       "flex_flow": null,
       "grid_area": null,
       "grid_auto_columns": null,
       "grid_auto_flow": null,
       "grid_auto_rows": null,
       "grid_column": null,
       "grid_gap": null,
       "grid_row": null,
       "grid_template_areas": null,
       "grid_template_columns": null,
       "grid_template_rows": null,
       "height": null,
       "justify_content": null,
       "justify_items": null,
       "left": null,
       "margin": null,
       "max_height": null,
       "max_width": null,
       "min_height": null,
       "min_width": null,
       "object_fit": null,
       "object_position": null,
       "order": null,
       "overflow": null,
       "overflow_x": null,
       "overflow_y": null,
       "padding": null,
       "right": null,
       "top": null,
       "visibility": null,
       "width": null
      }
     },
     "260e758f14eb47b8b261d5c4d720fa0c": {
      "model_module": "@jupyter-widgets/controls",
      "model_module_version": "1.5.0",
      "model_name": "HBoxModel",
      "state": {
       "_dom_classes": [],
       "_model_module": "@jupyter-widgets/controls",
       "_model_module_version": "1.5.0",
       "_model_name": "HBoxModel",
       "_view_count": null,
       "_view_module": "@jupyter-widgets/controls",
       "_view_module_version": "1.5.0",
       "_view_name": "HBoxView",
       "box_style": "",
       "children": [
        "IPY_MODEL_52f9d329278644e0a7c7cfa8bd344bd5",
        "IPY_MODEL_526493596d7d436792a80add9fb0efac",
        "IPY_MODEL_d937322487b74bb7939ffb8123d469f3"
       ],
       "layout": "IPY_MODEL_98addcbbe8a040258d2cf3f401f83bf2"
      }
     },
     "2e9f2a3d59174580ba17d66370827d5f": {
      "model_module": "@jupyter-widgets/controls",
      "model_module_version": "1.5.0",
      "model_name": "DescriptionStyleModel",
      "state": {
       "_model_module": "@jupyter-widgets/controls",
       "_model_module_version": "1.5.0",
       "_model_name": "DescriptionStyleModel",
       "_view_count": null,
       "_view_module": "@jupyter-widgets/base",
       "_view_module_version": "1.2.0",
       "_view_name": "StyleView",
       "description_width": ""
      }
     },
     "32f0a8ddd1344b8482f88c3a471dca4e": {
      "model_module": "@jupyter-widgets/controls",
      "model_module_version": "1.5.0",
      "model_name": "HTMLModel",
      "state": {
       "_dom_classes": [],
       "_model_module": "@jupyter-widgets/controls",
       "_model_module_version": "1.5.0",
       "_model_name": "HTMLModel",
       "_view_count": null,
       "_view_module": "@jupyter-widgets/controls",
       "_view_module_version": "1.5.0",
       "_view_name": "HTMLView",
       "description": "",
       "description_tooltip": null,
       "layout": "IPY_MODEL_0c1873dac0dc43c289ebd877fb3a8a99",
       "placeholder": "​",
       "style": "IPY_MODEL_a6cdfd8107f240f5b06c69226e61b28d",
       "value": ""
      }
     },
     "335893bbe54a46e3b62a1339c67cd12a": {
      "model_module": "@jupyter-widgets/base",
      "model_module_version": "1.2.0",
      "model_name": "LayoutModel",
      "state": {
       "_model_module": "@jupyter-widgets/base",
       "_model_module_version": "1.2.0",
       "_model_name": "LayoutModel",
       "_view_count": null,
       "_view_module": "@jupyter-widgets/base",
       "_view_module_version": "1.2.0",
       "_view_name": "LayoutView",
       "align_content": null,
       "align_items": null,
       "align_self": null,
       "border": null,
       "bottom": null,
       "display": null,
       "flex": null,
       "flex_flow": null,
       "grid_area": null,
       "grid_auto_columns": null,
       "grid_auto_flow": null,
       "grid_auto_rows": null,
       "grid_column": null,
       "grid_gap": null,
       "grid_row": null,
       "grid_template_areas": null,
       "grid_template_columns": null,
       "grid_template_rows": null,
       "height": null,
       "justify_content": null,
       "justify_items": null,
       "left": null,
       "margin": null,
       "max_height": null,
       "max_width": null,
       "min_height": null,
       "min_width": null,
       "object_fit": null,
       "object_position": null,
       "order": null,
       "overflow": null,
       "overflow_x": null,
       "overflow_y": null,
       "padding": null,
       "right": null,
       "top": null,
       "visibility": null,
       "width": null
      }
     },
     "38276e01d7ee4341864673e4ad57618b": {
      "model_module": "@jupyter-widgets/base",
      "model_module_version": "1.2.0",
      "model_name": "LayoutModel",
      "state": {
       "_model_module": "@jupyter-widgets/base",
       "_model_module_version": "1.2.0",
       "_model_name": "LayoutModel",
       "_view_count": null,
       "_view_module": "@jupyter-widgets/base",
       "_view_module_version": "1.2.0",
       "_view_name": "LayoutView",
       "align_content": null,
       "align_items": null,
       "align_self": null,
       "border": null,
       "bottom": null,
       "display": null,
       "flex": null,
       "flex_flow": null,
       "grid_area": null,
       "grid_auto_columns": null,
       "grid_auto_flow": null,
       "grid_auto_rows": null,
       "grid_column": null,
       "grid_gap": null,
       "grid_row": null,
       "grid_template_areas": null,
       "grid_template_columns": null,
       "grid_template_rows": null,
       "height": null,
       "justify_content": null,
       "justify_items": null,
       "left": null,
       "margin": null,
       "max_height": null,
       "max_width": null,
       "min_height": null,
       "min_width": null,
       "object_fit": null,
       "object_position": null,
       "order": null,
       "overflow": null,
       "overflow_x": null,
       "overflow_y": null,
       "padding": null,
       "right": null,
       "top": null,
       "visibility": null,
       "width": null
      }
     },
     "3ae10375422a42cab5cdb487fcdc6d3d": {
      "model_module": "@jupyter-widgets/base",
      "model_module_version": "1.2.0",
      "model_name": "LayoutModel",
      "state": {
       "_model_module": "@jupyter-widgets/base",
       "_model_module_version": "1.2.0",
       "_model_name": "LayoutModel",
       "_view_count": null,
       "_view_module": "@jupyter-widgets/base",
       "_view_module_version": "1.2.0",
       "_view_name": "LayoutView",
       "align_content": null,
       "align_items": null,
       "align_self": null,
       "border": null,
       "bottom": null,
       "display": null,
       "flex": null,
       "flex_flow": null,
       "grid_area": null,
       "grid_auto_columns": null,
       "grid_auto_flow": null,
       "grid_auto_rows": null,
       "grid_column": null,
       "grid_gap": null,
       "grid_row": null,
       "grid_template_areas": null,
       "grid_template_columns": null,
       "grid_template_rows": null,
       "height": null,
       "justify_content": null,
       "justify_items": null,
       "left": null,
       "margin": null,
       "max_height": null,
       "max_width": null,
       "min_height": null,
       "min_width": null,
       "object_fit": null,
       "object_position": null,
       "order": null,
       "overflow": null,
       "overflow_x": null,
       "overflow_y": null,
       "padding": null,
       "right": null,
       "top": null,
       "visibility": null,
       "width": null
      }
     },
     "3af97c2f3d9346218cf08af2985be736": {
      "model_module": "@jupyter-widgets/base",
      "model_module_version": "1.2.0",
      "model_name": "LayoutModel",
      "state": {
       "_model_module": "@jupyter-widgets/base",
       "_model_module_version": "1.2.0",
       "_model_name": "LayoutModel",
       "_view_count": null,
       "_view_module": "@jupyter-widgets/base",
       "_view_module_version": "1.2.0",
       "_view_name": "LayoutView",
       "align_content": null,
       "align_items": null,
       "align_self": null,
       "border": null,
       "bottom": null,
       "display": null,
       "flex": null,
       "flex_flow": null,
       "grid_area": null,
       "grid_auto_columns": null,
       "grid_auto_flow": null,
       "grid_auto_rows": null,
       "grid_column": null,
       "grid_gap": null,
       "grid_row": null,
       "grid_template_areas": null,
       "grid_template_columns": null,
       "grid_template_rows": null,
       "height": null,
       "justify_content": null,
       "justify_items": null,
       "left": null,
       "margin": null,
       "max_height": null,
       "max_width": null,
       "min_height": null,
       "min_width": null,
       "object_fit": null,
       "object_position": null,
       "order": null,
       "overflow": null,
       "overflow_x": null,
       "overflow_y": null,
       "padding": null,
       "right": null,
       "top": null,
       "visibility": null,
       "width": null
      }
     },
     "43b3307019b6474489dcdf8b7f445a2a": {
      "model_module": "@jupyter-widgets/base",
      "model_module_version": "1.2.0",
      "model_name": "LayoutModel",
      "state": {
       "_model_module": "@jupyter-widgets/base",
       "_model_module_version": "1.2.0",
       "_model_name": "LayoutModel",
       "_view_count": null,
       "_view_module": "@jupyter-widgets/base",
       "_view_module_version": "1.2.0",
       "_view_name": "LayoutView",
       "align_content": null,
       "align_items": null,
       "align_self": null,
       "border": null,
       "bottom": null,
       "display": null,
       "flex": null,
       "flex_flow": null,
       "grid_area": null,
       "grid_auto_columns": null,
       "grid_auto_flow": null,
       "grid_auto_rows": null,
       "grid_column": null,
       "grid_gap": null,
       "grid_row": null,
       "grid_template_areas": null,
       "grid_template_columns": null,
       "grid_template_rows": null,
       "height": null,
       "justify_content": null,
       "justify_items": null,
       "left": null,
       "margin": null,
       "max_height": null,
       "max_width": null,
       "min_height": null,
       "min_width": null,
       "object_fit": null,
       "object_position": null,
       "order": null,
       "overflow": null,
       "overflow_x": null,
       "overflow_y": null,
       "padding": null,
       "right": null,
       "top": null,
       "visibility": null,
       "width": null
      }
     },
     "4d67ea40dd444ff294c0124fe03370e1": {
      "model_module": "@jupyter-widgets/controls",
      "model_module_version": "1.5.0",
      "model_name": "DescriptionStyleModel",
      "state": {
       "_model_module": "@jupyter-widgets/controls",
       "_model_module_version": "1.5.0",
       "_model_name": "DescriptionStyleModel",
       "_view_count": null,
       "_view_module": "@jupyter-widgets/base",
       "_view_module_version": "1.2.0",
       "_view_name": "StyleView",
       "description_width": ""
      }
     },
     "526493596d7d436792a80add9fb0efac": {
      "model_module": "@jupyter-widgets/controls",
      "model_module_version": "1.5.0",
      "model_name": "FloatProgressModel",
      "state": {
       "_dom_classes": [],
       "_model_module": "@jupyter-widgets/controls",
       "_model_module_version": "1.5.0",
       "_model_name": "FloatProgressModel",
       "_view_count": null,
       "_view_module": "@jupyter-widgets/controls",
       "_view_module_version": "1.5.0",
       "_view_name": "ProgressView",
       "bar_style": "success",
       "description": "",
       "description_tooltip": null,
       "layout": "IPY_MODEL_89caef931f0c4fb59d852fafa77100c2",
       "max": 5148.0,
       "min": 0.0,
       "orientation": "horizontal",
       "style": "IPY_MODEL_e38134b4b6d44147a837f7fbb5a1d5de",
       "value": 5148.0
      }
     },
     "52f9d329278644e0a7c7cfa8bd344bd5": {
      "model_module": "@jupyter-widgets/controls",
      "model_module_version": "1.5.0",
      "model_name": "HTMLModel",
      "state": {
       "_dom_classes": [],
       "_model_module": "@jupyter-widgets/controls",
       "_model_module_version": "1.5.0",
       "_model_name": "HTMLModel",
       "_view_count": null,
       "_view_module": "@jupyter-widgets/controls",
       "_view_module_version": "1.5.0",
       "_view_name": "HTMLView",
       "description": "",
       "description_tooltip": null,
       "layout": "IPY_MODEL_92fba595dc9643d88d61680794e11ea2",
       "placeholder": "​",
       "style": "IPY_MODEL_e8829c5879b84a85a0d7aed5c02cea96",
       "value": ""
      }
     },
     "5ef2c0686617449091894f6ac2685039": {
      "model_module": "@jupyter-widgets/base",
      "model_module_version": "1.2.0",
      "model_name": "LayoutModel",
      "state": {
       "_model_module": "@jupyter-widgets/base",
       "_model_module_version": "1.2.0",
       "_model_name": "LayoutModel",
       "_view_count": null,
       "_view_module": "@jupyter-widgets/base",
       "_view_module_version": "1.2.0",
       "_view_name": "LayoutView",
       "align_content": null,
       "align_items": null,
       "align_self": null,
       "border": null,
       "bottom": null,
       "display": null,
       "flex": null,
       "flex_flow": null,
       "grid_area": null,
       "grid_auto_columns": null,
       "grid_auto_flow": null,
       "grid_auto_rows": null,
       "grid_column": null,
       "grid_gap": null,
       "grid_row": null,
       "grid_template_areas": null,
       "grid_template_columns": null,
       "grid_template_rows": null,
       "height": null,
       "justify_content": null,
       "justify_items": null,
       "left": null,
       "margin": null,
       "max_height": null,
       "max_width": null,
       "min_height": null,
       "min_width": null,
       "object_fit": null,
       "object_position": null,
       "order": null,
       "overflow": null,
       "overflow_x": null,
       "overflow_y": null,
       "padding": null,
       "right": null,
       "top": null,
       "visibility": null,
       "width": null
      }
     },
     "6151ba97edab417292de2bb123392496": {
      "model_module": "@jupyter-widgets/base",
      "model_module_version": "1.2.0",
      "model_name": "LayoutModel",
      "state": {
       "_model_module": "@jupyter-widgets/base",
       "_model_module_version": "1.2.0",
       "_model_name": "LayoutModel",
       "_view_count": null,
       "_view_module": "@jupyter-widgets/base",
       "_view_module_version": "1.2.0",
       "_view_name": "LayoutView",
       "align_content": null,
       "align_items": null,
       "align_self": null,
       "border": null,
       "bottom": null,
       "display": null,
       "flex": null,
       "flex_flow": null,
       "grid_area": null,
       "grid_auto_columns": null,
       "grid_auto_flow": null,
       "grid_auto_rows": null,
       "grid_column": null,
       "grid_gap": null,
       "grid_row": null,
       "grid_template_areas": null,
       "grid_template_columns": null,
       "grid_template_rows": null,
       "height": null,
       "justify_content": null,
       "justify_items": null,
       "left": null,
       "margin": null,
       "max_height": null,
       "max_width": null,
       "min_height": null,
       "min_width": null,
       "object_fit": null,
       "object_position": null,
       "order": null,
       "overflow": null,
       "overflow_x": null,
       "overflow_y": null,
       "padding": null,
       "right": null,
       "top": null,
       "visibility": null,
       "width": null
      }
     },
     "64b519df0e834d3f839fb9aa568584c9": {
      "model_module": "@jupyter-widgets/controls",
      "model_module_version": "1.5.0",
      "model_name": "HTMLModel",
      "state": {
       "_dom_classes": [],
       "_model_module": "@jupyter-widgets/controls",
       "_model_module_version": "1.5.0",
       "_model_name": "HTMLModel",
       "_view_count": null,
       "_view_module": "@jupyter-widgets/controls",
       "_view_module_version": "1.5.0",
       "_view_name": "HTMLView",
       "description": "",
       "description_tooltip": null,
       "layout": "IPY_MODEL_43b3307019b6474489dcdf8b7f445a2a",
       "placeholder": "​",
       "style": "IPY_MODEL_ab0fece843534cae926128ecee60ea65",
       "value": " 528M/528M [00:02&lt;00:00, 236MB/s]"
      }
     },
     "64d575a5c8ab454eae4d2eaf83854aec": {
      "model_module": "@jupyter-widgets/controls",
      "model_module_version": "1.5.0",
      "model_name": "DescriptionStyleModel",
      "state": {
       "_model_module": "@jupyter-widgets/controls",
       "_model_module_version": "1.5.0",
       "_model_name": "DescriptionStyleModel",
       "_view_count": null,
       "_view_module": "@jupyter-widgets/base",
       "_view_module_version": "1.2.0",
       "_view_name": "StyleView",
       "description_width": ""
      }
     },
     "6649456a3ef7450ea22cf286928839af": {
      "model_module": "@jupyter-widgets/controls",
      "model_module_version": "1.5.0",
      "model_name": "DescriptionStyleModel",
      "state": {
       "_model_module": "@jupyter-widgets/controls",
       "_model_module_version": "1.5.0",
       "_model_name": "DescriptionStyleModel",
       "_view_count": null,
       "_view_module": "@jupyter-widgets/base",
       "_view_module_version": "1.2.0",
       "_view_name": "StyleView",
       "description_width": ""
      }
     },
     "772e6a51c26f4348ade9550e55f220ff": {
      "model_module": "@jupyter-widgets/controls",
      "model_module_version": "1.5.0",
      "model_name": "DescriptionStyleModel",
      "state": {
       "_model_module": "@jupyter-widgets/controls",
       "_model_module_version": "1.5.0",
       "_model_name": "DescriptionStyleModel",
       "_view_count": null,
       "_view_module": "@jupyter-widgets/base",
       "_view_module_version": "1.2.0",
       "_view_name": "StyleView",
       "description_width": ""
      }
     },
     "79729d0189b6496f8f5a458712da2421": {
      "model_module": "@jupyter-widgets/controls",
      "model_module_version": "1.5.0",
      "model_name": "DescriptionStyleModel",
      "state": {
       "_model_module": "@jupyter-widgets/controls",
       "_model_module_version": "1.5.0",
       "_model_name": "DescriptionStyleModel",
       "_view_count": null,
       "_view_module": "@jupyter-widgets/base",
       "_view_module_version": "1.2.0",
       "_view_name": "StyleView",
       "description_width": ""
      }
     },
     "798dfbd53ac84bcdbd78c2754e5f37e3": {
      "model_module": "@jupyter-widgets/controls",
      "model_module_version": "1.5.0",
      "model_name": "HTMLModel",
      "state": {
       "_dom_classes": [],
       "_model_module": "@jupyter-widgets/controls",
       "_model_module_version": "1.5.0",
       "_model_name": "HTMLModel",
       "_view_count": null,
       "_view_module": "@jupyter-widgets/controls",
       "_view_module_version": "1.5.0",
       "_view_name": "HTMLView",
       "description": "",
       "description_tooltip": null,
       "layout": "IPY_MODEL_5ef2c0686617449091894f6ac2685039",
       "placeholder": "​",
       "style": "IPY_MODEL_e1389f074f854f85918c840285724d3d",
       "value": " 29696/? [00:00&lt;00:00, 121474.89it/s]"
      }
     },
     "7a8f1213ad09434296710337c32d2950": {
      "model_module": "@jupyter-widgets/controls",
      "model_module_version": "1.5.0",
      "model_name": "ProgressStyleModel",
      "state": {
       "_model_module": "@jupyter-widgets/controls",
       "_model_module_version": "1.5.0",
       "_model_name": "ProgressStyleModel",
       "_view_count": null,
       "_view_module": "@jupyter-widgets/base",
       "_view_module_version": "1.2.0",
       "_view_name": "StyleView",
       "bar_color": null,
       "description_width": ""
      }
     },
     "7caef00166b94fc192288bc83ec0bd0a": {
      "model_module": "@jupyter-widgets/base",
      "model_module_version": "1.2.0",
      "model_name": "LayoutModel",
      "state": {
       "_model_module": "@jupyter-widgets/base",
       "_model_module_version": "1.2.0",
       "_model_name": "LayoutModel",
       "_view_count": null,
       "_view_module": "@jupyter-widgets/base",
       "_view_module_version": "1.2.0",
       "_view_name": "LayoutView",
       "align_content": null,
       "align_items": null,
       "align_self": null,
       "border": null,
       "bottom": null,
       "display": null,
       "flex": null,
       "flex_flow": null,
       "grid_area": null,
       "grid_auto_columns": null,
       "grid_auto_flow": null,
       "grid_auto_rows": null,
       "grid_column": null,
       "grid_gap": null,
       "grid_row": null,
       "grid_template_areas": null,
       "grid_template_columns": null,
       "grid_template_rows": null,
       "height": null,
       "justify_content": null,
       "justify_items": null,
       "left": null,
       "margin": null,
       "max_height": null,
       "max_width": null,
       "min_height": null,
       "min_width": null,
       "object_fit": null,
       "object_position": null,
       "order": null,
       "overflow": null,
       "overflow_x": null,
       "overflow_y": null,
       "padding": null,
       "right": null,
       "top": null,
       "visibility": null,
       "width": null
      }
     },
     "8697b45754d04356b4723d830cc5700d": {
      "model_module": "@jupyter-widgets/controls",
      "model_module_version": "1.5.0",
      "model_name": "FloatProgressModel",
      "state": {
       "_dom_classes": [],
       "_model_module": "@jupyter-widgets/controls",
       "_model_module_version": "1.5.0",
       "_model_name": "FloatProgressModel",
       "_view_count": null,
       "_view_module": "@jupyter-widgets/controls",
       "_view_module_version": "1.5.0",
       "_view_name": "ProgressView",
       "bar_style": "success",
       "description": "",
       "description_tooltip": null,
       "layout": "IPY_MODEL_a011ba415ee6460f89c41d0a218432b1",
       "max": 26421880.0,
       "min": 0.0,
       "orientation": "horizontal",
       "style": "IPY_MODEL_ee49ed8f692040bf870d67b7cd79e5bf",
       "value": 26421880.0
      }
     },
     "872846fbc2154bb68db58f7d597a295b": {
      "model_module": "@jupyter-widgets/controls",
      "model_module_version": "1.5.0",
      "model_name": "HTMLModel",
      "state": {
       "_dom_classes": [],
       "_model_module": "@jupyter-widgets/controls",
       "_model_module_version": "1.5.0",
       "_model_name": "HTMLModel",
       "_view_count": null,
       "_view_module": "@jupyter-widgets/controls",
       "_view_module_version": "1.5.0",
       "_view_name": "HTMLView",
       "description": "",
       "description_tooltip": null,
       "layout": "IPY_MODEL_24f66af13c0a46c9903a2095e0844c1f",
       "placeholder": "​",
       "style": "IPY_MODEL_79729d0189b6496f8f5a458712da2421",
       "value": ""
      }
     },
     "878e38e4af9a4a79b7fbb1a375db09bd": {
      "model_module": "@jupyter-widgets/controls",
      "model_module_version": "1.5.0",
      "model_name": "FloatProgressModel",
      "state": {
       "_dom_classes": [],
       "_model_module": "@jupyter-widgets/controls",
       "_model_module_version": "1.5.0",
       "_model_name": "FloatProgressModel",
       "_view_count": null,
       "_view_module": "@jupyter-widgets/controls",
       "_view_module_version": "1.5.0",
       "_view_name": "ProgressView",
       "bar_style": "success",
       "description": "",
       "description_tooltip": null,
       "layout": "IPY_MODEL_335893bbe54a46e3b62a1339c67cd12a",
       "max": 4422102.0,
       "min": 0.0,
       "orientation": "horizontal",
       "style": "IPY_MODEL_a0e5234b21e94da691e21d8f1ac78bc3",
       "value": 4422102.0
      }
     },
     "89caef931f0c4fb59d852fafa77100c2": {
      "model_module": "@jupyter-widgets/base",
      "model_module_version": "1.2.0",
      "model_name": "LayoutModel",
      "state": {
       "_model_module": "@jupyter-widgets/base",
       "_model_module_version": "1.2.0",
       "_model_name": "LayoutModel",
       "_view_count": null,
       "_view_module": "@jupyter-widgets/base",
       "_view_module_version": "1.2.0",
       "_view_name": "LayoutView",
       "align_content": null,
       "align_items": null,
       "align_self": null,
       "border": null,
       "bottom": null,
       "display": null,
       "flex": null,
       "flex_flow": null,
       "grid_area": null,
       "grid_auto_columns": null,
       "grid_auto_flow": null,
       "grid_auto_rows": null,
       "grid_column": null,
       "grid_gap": null,
       "grid_row": null,
       "grid_template_areas": null,
       "grid_template_columns": null,
       "grid_template_rows": null,
       "height": null,
       "justify_content": null,
       "justify_items": null,
       "left": null,
       "margin": null,
       "max_height": null,
       "max_width": null,
       "min_height": null,
       "min_width": null,
       "object_fit": null,
       "object_position": null,
       "order": null,
       "overflow": null,
       "overflow_x": null,
       "overflow_y": null,
       "padding": null,
       "right": null,
       "top": null,
       "visibility": null,
       "width": null
      }
     },
     "8d506ed3030f4208ac69b53e33fe0131": {
      "model_module": "@jupyter-widgets/base",
      "model_module_version": "1.2.0",
      "model_name": "LayoutModel",
      "state": {
       "_model_module": "@jupyter-widgets/base",
       "_model_module_version": "1.2.0",
       "_model_name": "LayoutModel",
       "_view_count": null,
       "_view_module": "@jupyter-widgets/base",
       "_view_module_version": "1.2.0",
       "_view_name": "LayoutView",
       "align_content": null,
       "align_items": null,
       "align_self": null,
       "border": null,
       "bottom": null,
       "display": null,
       "flex": null,
       "flex_flow": null,
       "grid_area": null,
       "grid_auto_columns": null,
       "grid_auto_flow": null,
       "grid_auto_rows": null,
       "grid_column": null,
       "grid_gap": null,
       "grid_row": null,
       "grid_template_areas": null,
       "grid_template_columns": null,
       "grid_template_rows": null,
       "height": null,
       "justify_content": null,
       "justify_items": null,
       "left": null,
       "margin": null,
       "max_height": null,
       "max_width": null,
       "min_height": null,
       "min_width": null,
       "object_fit": null,
       "object_position": null,
       "order": null,
       "overflow": null,
       "overflow_x": null,
       "overflow_y": null,
       "padding": null,
       "right": null,
       "top": null,
       "visibility": null,
       "width": null
      }
     },
     "8dd261d075b240f8ac0f2c4540460ab5": {
      "model_module": "@jupyter-widgets/controls",
      "model_module_version": "1.5.0",
      "model_name": "HBoxModel",
      "state": {
       "_dom_classes": [],
       "_model_module": "@jupyter-widgets/controls",
       "_model_module_version": "1.5.0",
       "_model_name": "HBoxModel",
       "_view_count": null,
       "_view_module": "@jupyter-widgets/controls",
       "_view_module_version": "1.5.0",
       "_view_name": "HBoxView",
       "box_style": "",
       "children": [
        "IPY_MODEL_047503dd48ae43e494dbe2c31e396c2d",
        "IPY_MODEL_878e38e4af9a4a79b7fbb1a375db09bd",
        "IPY_MODEL_ada692a1f8c34ad1bb442ad110144d5c"
       ],
       "layout": "IPY_MODEL_3ae10375422a42cab5cdb487fcdc6d3d"
      }
     },
     "92fba595dc9643d88d61680794e11ea2": {
      "model_module": "@jupyter-widgets/base",
      "model_module_version": "1.2.0",
      "model_name": "LayoutModel",
      "state": {
       "_model_module": "@jupyter-widgets/base",
       "_model_module_version": "1.2.0",
       "_model_name": "LayoutModel",
       "_view_count": null,
       "_view_module": "@jupyter-widgets/base",
       "_view_module_version": "1.2.0",
       "_view_name": "LayoutView",
       "align_content": null,
       "align_items": null,
       "align_self": null,
       "border": null,
       "bottom": null,
       "display": null,
       "flex": null,
       "flex_flow": null,
       "grid_area": null,
       "grid_auto_columns": null,
       "grid_auto_flow": null,
       "grid_auto_rows": null,
       "grid_column": null,
       "grid_gap": null,
       "grid_row": null,
       "grid_template_areas": null,
       "grid_template_columns": null,
       "grid_template_rows": null,
       "height": null,
       "justify_content": null,
       "justify_items": null,
       "left": null,
       "margin": null,
       "max_height": null,
       "max_width": null,
       "min_height": null,
       "min_width": null,
       "object_fit": null,
       "object_position": null,
       "order": null,
       "overflow": null,
       "overflow_x": null,
       "overflow_y": null,
       "padding": null,
       "right": null,
       "top": null,
       "visibility": null,
       "width": null
      }
     },
     "98addcbbe8a040258d2cf3f401f83bf2": {
      "model_module": "@jupyter-widgets/base",
      "model_module_version": "1.2.0",
      "model_name": "LayoutModel",
      "state": {
       "_model_module": "@jupyter-widgets/base",
       "_model_module_version": "1.2.0",
       "_model_name": "LayoutModel",
       "_view_count": null,
       "_view_module": "@jupyter-widgets/base",
       "_view_module_version": "1.2.0",
       "_view_name": "LayoutView",
       "align_content": null,
       "align_items": null,
       "align_self": null,
       "border": null,
       "bottom": null,
       "display": null,
       "flex": null,
       "flex_flow": null,
       "grid_area": null,
       "grid_auto_columns": null,
       "grid_auto_flow": null,
       "grid_auto_rows": null,
       "grid_column": null,
       "grid_gap": null,
       "grid_row": null,
       "grid_template_areas": null,
       "grid_template_columns": null,
       "grid_template_rows": null,
       "height": null,
       "justify_content": null,
       "justify_items": null,
       "left": null,
       "margin": null,
       "max_height": null,
       "max_width": null,
       "min_height": null,
       "min_width": null,
       "object_fit": null,
       "object_position": null,
       "order": null,
       "overflow": null,
       "overflow_x": null,
       "overflow_y": null,
       "padding": null,
       "right": null,
       "top": null,
       "visibility": null,
       "width": null
      }
     },
     "a011ba415ee6460f89c41d0a218432b1": {
      "model_module": "@jupyter-widgets/base",
      "model_module_version": "1.2.0",
      "model_name": "LayoutModel",
      "state": {
       "_model_module": "@jupyter-widgets/base",
       "_model_module_version": "1.2.0",
       "_model_name": "LayoutModel",
       "_view_count": null,
       "_view_module": "@jupyter-widgets/base",
       "_view_module_version": "1.2.0",
       "_view_name": "LayoutView",
       "align_content": null,
       "align_items": null,
       "align_self": null,
       "border": null,
       "bottom": null,
       "display": null,
       "flex": null,
       "flex_flow": null,
       "grid_area": null,
       "grid_auto_columns": null,
       "grid_auto_flow": null,
       "grid_auto_rows": null,
       "grid_column": null,
       "grid_gap": null,
       "grid_row": null,
       "grid_template_areas": null,
       "grid_template_columns": null,
       "grid_template_rows": null,
       "height": null,
       "justify_content": null,
       "justify_items": null,
       "left": null,
       "margin": null,
       "max_height": null,
       "max_width": null,
       "min_height": null,
       "min_width": null,
       "object_fit": null,
       "object_position": null,
       "order": null,
       "overflow": null,
       "overflow_x": null,
       "overflow_y": null,
       "padding": null,
       "right": null,
       "top": null,
       "visibility": null,
       "width": null
      }
     },
     "a0e5234b21e94da691e21d8f1ac78bc3": {
      "model_module": "@jupyter-widgets/controls",
      "model_module_version": "1.5.0",
      "model_name": "ProgressStyleModel",
      "state": {
       "_model_module": "@jupyter-widgets/controls",
       "_model_module_version": "1.5.0",
       "_model_name": "ProgressStyleModel",
       "_view_count": null,
       "_view_module": "@jupyter-widgets/base",
       "_view_module_version": "1.2.0",
       "_view_name": "StyleView",
       "bar_color": null,
       "description_width": ""
      }
     },
     "a262843e3520423ea4b4a5576d117110": {
      "model_module": "@jupyter-widgets/controls",
      "model_module_version": "1.5.0",
      "model_name": "FloatProgressModel",
      "state": {
       "_dom_classes": [],
       "_model_module": "@jupyter-widgets/controls",
       "_model_module_version": "1.5.0",
       "_model_name": "FloatProgressModel",
       "_view_count": null,
       "_view_module": "@jupyter-widgets/controls",
       "_view_module_version": "1.5.0",
       "_view_name": "ProgressView",
       "bar_style": "success",
       "description": "",
       "description_tooltip": null,
       "layout": "IPY_MODEL_7caef00166b94fc192288bc83ec0bd0a",
       "max": 553433881.0,
       "min": 0.0,
       "orientation": "horizontal",
       "style": "IPY_MODEL_7a8f1213ad09434296710337c32d2950",
       "value": 553433881.0
      }
     },
     "a6cdfd8107f240f5b06c69226e61b28d": {
      "model_module": "@jupyter-widgets/controls",
      "model_module_version": "1.5.0",
      "model_name": "DescriptionStyleModel",
      "state": {
       "_model_module": "@jupyter-widgets/controls",
       "_model_module_version": "1.5.0",
       "_model_name": "DescriptionStyleModel",
       "_view_count": null,
       "_view_module": "@jupyter-widgets/base",
       "_view_module_version": "1.2.0",
       "_view_name": "StyleView",
       "description_width": ""
      }
     },
     "ab0fece843534cae926128ecee60ea65": {
      "model_module": "@jupyter-widgets/controls",
      "model_module_version": "1.5.0",
      "model_name": "DescriptionStyleModel",
      "state": {
       "_model_module": "@jupyter-widgets/controls",
       "_model_module_version": "1.5.0",
       "_model_name": "DescriptionStyleModel",
       "_view_count": null,
       "_view_module": "@jupyter-widgets/base",
       "_view_module_version": "1.2.0",
       "_view_name": "StyleView",
       "description_width": ""
      }
     },
     "ada692a1f8c34ad1bb442ad110144d5c": {
      "model_module": "@jupyter-widgets/controls",
      "model_module_version": "1.5.0",
      "model_name": "HTMLModel",
      "state": {
       "_dom_classes": [],
       "_model_module": "@jupyter-widgets/controls",
       "_model_module_version": "1.5.0",
       "_model_name": "HTMLModel",
       "_view_count": null,
       "_view_module": "@jupyter-widgets/controls",
       "_view_module_version": "1.5.0",
       "_view_name": "HTMLView",
       "description": "",
       "description_tooltip": null,
       "layout": "IPY_MODEL_f095a92fd4694419ad172914a61ce814",
       "placeholder": "​",
       "style": "IPY_MODEL_2e9f2a3d59174580ba17d66370827d5f",
       "value": " 4422656/? [00:00&lt;00:00, 6735524.03it/s]"
      }
     },
     "afe9fba8e6314c70892feaa387e28da2": {
      "model_module": "@jupyter-widgets/controls",
      "model_module_version": "1.5.0",
      "model_name": "HBoxModel",
      "state": {
       "_dom_classes": [],
       "_model_module": "@jupyter-widgets/controls",
       "_model_module_version": "1.5.0",
       "_model_name": "HBoxModel",
       "_view_count": null,
       "_view_module": "@jupyter-widgets/controls",
       "_view_module_version": "1.5.0",
       "_view_name": "HBoxView",
       "box_style": "",
       "children": [
        "IPY_MODEL_0d061eb923534bc3b46d698e8e29839e",
        "IPY_MODEL_a262843e3520423ea4b4a5576d117110",
        "IPY_MODEL_64b519df0e834d3f839fb9aa568584c9"
       ],
       "layout": "IPY_MODEL_8d506ed3030f4208ac69b53e33fe0131"
      }
     },
     "b303df3453484a0f8f10c7bdfb1b2d93": {
      "model_module": "@jupyter-widgets/controls",
      "model_module_version": "1.5.0",
      "model_name": "HTMLModel",
      "state": {
       "_dom_classes": [],
       "_model_module": "@jupyter-widgets/controls",
       "_model_module_version": "1.5.0",
       "_model_name": "HTMLModel",
       "_view_count": null,
       "_view_module": "@jupyter-widgets/controls",
       "_view_module_version": "1.5.0",
       "_view_name": "HTMLView",
       "description": "",
       "description_tooltip": null,
       "layout": "IPY_MODEL_144cf9dac90a4a01bf52ec4e1171363d",
       "placeholder": "​",
       "style": "IPY_MODEL_6649456a3ef7450ea22cf286928839af",
       "value": " 26422272/? [00:01&lt;00:00, 25172196.88it/s]"
      }
     },
     "c21bf68651d44d1ebdb138b0f1f8c216": {
      "model_module": "@jupyter-widgets/controls",
      "model_module_version": "1.5.0",
      "model_name": "HBoxModel",
      "state": {
       "_dom_classes": [],
       "_model_module": "@jupyter-widgets/controls",
       "_model_module_version": "1.5.0",
       "_model_name": "HBoxModel",
       "_view_count": null,
       "_view_module": "@jupyter-widgets/controls",
       "_view_module_version": "1.5.0",
       "_view_name": "HBoxView",
       "box_style": "",
       "children": [
        "IPY_MODEL_32f0a8ddd1344b8482f88c3a471dca4e",
        "IPY_MODEL_dab83a6603bf4092be262573e0dc8c8a",
        "IPY_MODEL_798dfbd53ac84bcdbd78c2754e5f37e3"
       ],
       "layout": "IPY_MODEL_3af97c2f3d9346218cf08af2985be736"
      }
     },
     "c5355349bbc145c6ba724e3abe885e76": {
      "model_module": "@jupyter-widgets/controls",
      "model_module_version": "1.5.0",
      "model_name": "ProgressStyleModel",
      "state": {
       "_model_module": "@jupyter-widgets/controls",
       "_model_module_version": "1.5.0",
       "_model_name": "ProgressStyleModel",
       "_view_count": null,
       "_view_module": "@jupyter-widgets/base",
       "_view_module_version": "1.2.0",
       "_view_name": "StyleView",
       "bar_color": null,
       "description_width": ""
      }
     },
     "d937322487b74bb7939ffb8123d469f3": {
      "model_module": "@jupyter-widgets/controls",
      "model_module_version": "1.5.0",
      "model_name": "HTMLModel",
      "state": {
       "_dom_classes": [],
       "_model_module": "@jupyter-widgets/controls",
       "_model_module_version": "1.5.0",
       "_model_name": "HTMLModel",
       "_view_count": null,
       "_view_module": "@jupyter-widgets/controls",
       "_view_module_version": "1.5.0",
       "_view_name": "HTMLView",
       "description": "",
       "description_tooltip": null,
       "layout": "IPY_MODEL_6151ba97edab417292de2bb123392496",
       "placeholder": "​",
       "style": "IPY_MODEL_772e6a51c26f4348ade9550e55f220ff",
       "value": " 6144/? [00:00&lt;00:00, 260161.77it/s]"
      }
     },
     "dab83a6603bf4092be262573e0dc8c8a": {
      "model_module": "@jupyter-widgets/controls",
      "model_module_version": "1.5.0",
      "model_name": "FloatProgressModel",
      "state": {
       "_dom_classes": [],
       "_model_module": "@jupyter-widgets/controls",
       "_model_module_version": "1.5.0",
       "_model_name": "FloatProgressModel",
       "_view_count": null,
       "_view_module": "@jupyter-widgets/controls",
       "_view_module_version": "1.5.0",
       "_view_name": "ProgressView",
       "bar_style": "success",
       "description": "",
       "description_tooltip": null,
       "layout": "IPY_MODEL_0b938392dbcc41b79341a89c0f6e8fcc",
       "max": 29515.0,
       "min": 0.0,
       "orientation": "horizontal",
       "style": "IPY_MODEL_c5355349bbc145c6ba724e3abe885e76",
       "value": 29515.0
      }
     },
     "e0f0f9c60cff4ecb9f0cc83b02843773": {
      "model_module": "@jupyter-widgets/base",
      "model_module_version": "1.2.0",
      "model_name": "LayoutModel",
      "state": {
       "_model_module": "@jupyter-widgets/base",
       "_model_module_version": "1.2.0",
       "_model_name": "LayoutModel",
       "_view_count": null,
       "_view_module": "@jupyter-widgets/base",
       "_view_module_version": "1.2.0",
       "_view_name": "LayoutView",
       "align_content": null,
       "align_items": null,
       "align_self": null,
       "border": null,
       "bottom": null,
       "display": null,
       "flex": null,
       "flex_flow": null,
       "grid_area": null,
       "grid_auto_columns": null,
       "grid_auto_flow": null,
       "grid_auto_rows": null,
       "grid_column": null,
       "grid_gap": null,
       "grid_row": null,
       "grid_template_areas": null,
       "grid_template_columns": null,
       "grid_template_rows": null,
       "height": null,
       "justify_content": null,
       "justify_items": null,
       "left": null,
       "margin": null,
       "max_height": null,
       "max_width": null,
       "min_height": null,
       "min_width": null,
       "object_fit": null,
       "object_position": null,
       "order": null,
       "overflow": null,
       "overflow_x": null,
       "overflow_y": null,
       "padding": null,
       "right": null,
       "top": null,
       "visibility": null,
       "width": null
      }
     },
     "e1389f074f854f85918c840285724d3d": {
      "model_module": "@jupyter-widgets/controls",
      "model_module_version": "1.5.0",
      "model_name": "DescriptionStyleModel",
      "state": {
       "_model_module": "@jupyter-widgets/controls",
       "_model_module_version": "1.5.0",
       "_model_name": "DescriptionStyleModel",
       "_view_count": null,
       "_view_module": "@jupyter-widgets/base",
       "_view_module_version": "1.2.0",
       "_view_name": "StyleView",
       "description_width": ""
      }
     },
     "e38134b4b6d44147a837f7fbb5a1d5de": {
      "model_module": "@jupyter-widgets/controls",
      "model_module_version": "1.5.0",
      "model_name": "ProgressStyleModel",
      "state": {
       "_model_module": "@jupyter-widgets/controls",
       "_model_module_version": "1.5.0",
       "_model_name": "ProgressStyleModel",
       "_view_count": null,
       "_view_module": "@jupyter-widgets/base",
       "_view_module_version": "1.2.0",
       "_view_name": "StyleView",
       "bar_color": null,
       "description_width": ""
      }
     },
     "e8829c5879b84a85a0d7aed5c02cea96": {
      "model_module": "@jupyter-widgets/controls",
      "model_module_version": "1.5.0",
      "model_name": "DescriptionStyleModel",
      "state": {
       "_model_module": "@jupyter-widgets/controls",
       "_model_module_version": "1.5.0",
       "_model_name": "DescriptionStyleModel",
       "_view_count": null,
       "_view_module": "@jupyter-widgets/base",
       "_view_module_version": "1.2.0",
       "_view_name": "StyleView",
       "description_width": ""
      }
     },
     "ee49ed8f692040bf870d67b7cd79e5bf": {
      "model_module": "@jupyter-widgets/controls",
      "model_module_version": "1.5.0",
      "model_name": "ProgressStyleModel",
      "state": {
       "_model_module": "@jupyter-widgets/controls",
       "_model_module_version": "1.5.0",
       "_model_name": "ProgressStyleModel",
       "_view_count": null,
       "_view_module": "@jupyter-widgets/base",
       "_view_module_version": "1.2.0",
       "_view_name": "StyleView",
       "bar_color": null,
       "description_width": ""
      }
     },
     "f095a92fd4694419ad172914a61ce814": {
      "model_module": "@jupyter-widgets/base",
      "model_module_version": "1.2.0",
      "model_name": "LayoutModel",
      "state": {
       "_model_module": "@jupyter-widgets/base",
       "_model_module_version": "1.2.0",
       "_model_name": "LayoutModel",
       "_view_count": null,
       "_view_module": "@jupyter-widgets/base",
       "_view_module_version": "1.2.0",
       "_view_name": "LayoutView",
       "align_content": null,
       "align_items": null,
       "align_self": null,
       "border": null,
       "bottom": null,
       "display": null,
       "flex": null,
       "flex_flow": null,
       "grid_area": null,
       "grid_auto_columns": null,
       "grid_auto_flow": null,
       "grid_auto_rows": null,
       "grid_column": null,
       "grid_gap": null,
       "grid_row": null,
       "grid_template_areas": null,
       "grid_template_columns": null,
       "grid_template_rows": null,
       "height": null,
       "justify_content": null,
       "justify_items": null,
       "left": null,
       "margin": null,
       "max_height": null,
       "max_width": null,
       "min_height": null,
       "min_width": null,
       "object_fit": null,
       "object_position": null,
       "order": null,
       "overflow": null,
       "overflow_x": null,
       "overflow_y": null,
       "padding": null,
       "right": null,
       "top": null,
       "visibility": null,
       "width": null
      }
     },
     "f72bc1bee9984934bb2e87beacc02198": {
      "model_module": "@jupyter-widgets/controls",
      "model_module_version": "1.5.0",
      "model_name": "HBoxModel",
      "state": {
       "_dom_classes": [],
       "_model_module": "@jupyter-widgets/controls",
       "_model_module_version": "1.5.0",
       "_model_name": "HBoxModel",
       "_view_count": null,
       "_view_module": "@jupyter-widgets/controls",
       "_view_module_version": "1.5.0",
       "_view_name": "HBoxView",
       "box_style": "",
       "children": [
        "IPY_MODEL_872846fbc2154bb68db58f7d597a295b",
        "IPY_MODEL_8697b45754d04356b4723d830cc5700d",
        "IPY_MODEL_b303df3453484a0f8f10c7bdfb1b2d93"
       ],
       "layout": "IPY_MODEL_38276e01d7ee4341864673e4ad57618b"
      }
     }
    },
    "version_major": 2,
    "version_minor": 0
   }
  }
 },
 "nbformat": 4,
 "nbformat_minor": 5
}
