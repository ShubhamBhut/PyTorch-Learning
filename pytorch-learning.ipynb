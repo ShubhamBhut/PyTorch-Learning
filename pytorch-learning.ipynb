{
 "cells": [
  {
   "cell_type": "code",
   "execution_count": 1,
   "id": "d9292084",
   "metadata": {
    "_cell_guid": "b1076dfc-b9ad-4769-8c92-a6c4dae69d19",
    "_uuid": "8f2839f25d086af736a60e9eeb907d3b93b6e0e5",
    "execution": {
     "iopub.execute_input": "2022-10-04T18:13:59.617820Z",
     "iopub.status.busy": "2022-10-04T18:13:59.616642Z",
     "iopub.status.idle": "2022-10-04T18:13:59.629820Z",
     "shell.execute_reply": "2022-10-04T18:13:59.628286Z"
    },
    "papermill": {
     "duration": 0.031297,
     "end_time": "2022-10-04T18:13:59.632777",
     "exception": false,
     "start_time": "2022-10-04T18:13:59.601480",
     "status": "completed"
    },
    "tags": []
   },
   "outputs": [],
   "source": [
    "# This Python 3 environment comes with many helpful analytics libraries installed\n",
    "# It is defined by the kaggle/python Docker image: https://github.com/kaggle/docker-python\n",
    "# For example, here's several helpful packages to load\n",
    "\n",
    "import numpy as np # linear algebra\n",
    "import pandas as pd # data processing, CSV file I/O (e.g. pd.read_csv)\n",
    "\n",
    "# Input data files are available in the read-only \"../input/\" directory\n",
    "# For example, running this (by clicking run or pressing Shift+Enter) will list all files under the input directory\n",
    "\n",
    "import os\n",
    "for dirname, _, filenames in os.walk('/kaggle/input'):\n",
    "    for filename in filenames:\n",
    "        print(os.path.join(dirname, filename))\n",
    "\n",
    "# You can write up to 20GB to the current directory (/kaggle/working/) that gets preserved as output when you create a version using \"Save & Run All\" \n",
    "# You can also write temporary files to /kaggle/temp/, but they won't be saved outside of the current session"
   ]
  },
  {
   "cell_type": "code",
   "execution_count": 2,
   "id": "95a00a81",
   "metadata": {
    "execution": {
     "iopub.execute_input": "2022-10-04T18:13:59.659567Z",
     "iopub.status.busy": "2022-10-04T18:13:59.659060Z",
     "iopub.status.idle": "2022-10-04T18:14:02.020038Z",
     "shell.execute_reply": "2022-10-04T18:14:02.018584Z"
    },
    "papermill": {
     "duration": 2.378462,
     "end_time": "2022-10-04T18:14:02.023824",
     "exception": false,
     "start_time": "2022-10-04T18:13:59.645362",
     "status": "completed"
    },
    "tags": []
   },
   "outputs": [],
   "source": [
    "import torch \n",
    "from torch import nn\n",
    "from torch.utils.data import DataLoader\n",
    "from torchvision import datasets\n",
    "from torchvision.transforms import ToTensor"
   ]
  },
  {
   "cell_type": "markdown",
   "id": "14e11b13",
   "metadata": {
    "papermill": {
     "duration": 0.012458,
     "end_time": "2022-10-04T18:14:02.050531",
     "exception": false,
     "start_time": "2022-10-04T18:14:02.038073",
     "status": "completed"
    },
    "tags": []
   },
   "source": [
    "The full list of all the datasets stored inside torchvision.dataseets is [here](https://pytorch.org/vision/stable/datasets.html)"
   ]
  },
  {
   "cell_type": "code",
   "execution_count": 3,
   "id": "960397cc",
   "metadata": {
    "execution": {
     "iopub.execute_input": "2022-10-04T18:14:02.078284Z",
     "iopub.status.busy": "2022-10-04T18:14:02.077735Z",
     "iopub.status.idle": "2022-10-04T18:14:22.303780Z",
     "shell.execute_reply": "2022-10-04T18:14:22.301672Z"
    },
    "papermill": {
     "duration": 20.242379,
     "end_time": "2022-10-04T18:14:22.306443",
     "exception": false,
     "start_time": "2022-10-04T18:14:02.064064",
     "status": "completed"
    },
    "tags": []
   },
   "outputs": [
    {
     "name": "stdout",
     "output_type": "stream",
     "text": [
      "Downloading http://fashion-mnist.s3-website.eu-central-1.amazonaws.com/train-images-idx3-ubyte.gz\n",
      "Downloading http://fashion-mnist.s3-website.eu-central-1.amazonaws.com/train-images-idx3-ubyte.gz to data/FashionMNIST/raw/train-images-idx3-ubyte.gz\n"
     ]
    },
    {
     "data": {
      "application/vnd.jupyter.widget-view+json": {
       "model_id": "a7eeb0b8c5da4564b6ed27ea8116ac8b",
       "version_major": 2,
       "version_minor": 0
      },
      "text/plain": [
       "  0%|          | 0/26421880 [00:00<?, ?it/s]"
      ]
     },
     "metadata": {},
     "output_type": "display_data"
    },
    {
     "name": "stdout",
     "output_type": "stream",
     "text": [
      "Extracting data/FashionMNIST/raw/train-images-idx3-ubyte.gz to data/FashionMNIST/raw\n",
      "\n",
      "Downloading http://fashion-mnist.s3-website.eu-central-1.amazonaws.com/train-labels-idx1-ubyte.gz\n",
      "Downloading http://fashion-mnist.s3-website.eu-central-1.amazonaws.com/train-labels-idx1-ubyte.gz to data/FashionMNIST/raw/train-labels-idx1-ubyte.gz\n"
     ]
    },
    {
     "data": {
      "application/vnd.jupyter.widget-view+json": {
       "model_id": "37479c739bab46c9a826b239b7b68ad1",
       "version_major": 2,
       "version_minor": 0
      },
      "text/plain": [
       "  0%|          | 0/29515 [00:00<?, ?it/s]"
      ]
     },
     "metadata": {},
     "output_type": "display_data"
    },
    {
     "name": "stdout",
     "output_type": "stream",
     "text": [
      "Extracting data/FashionMNIST/raw/train-labels-idx1-ubyte.gz to data/FashionMNIST/raw\n",
      "\n",
      "Downloading http://fashion-mnist.s3-website.eu-central-1.amazonaws.com/t10k-images-idx3-ubyte.gz\n",
      "Downloading http://fashion-mnist.s3-website.eu-central-1.amazonaws.com/t10k-images-idx3-ubyte.gz to data/FashionMNIST/raw/t10k-images-idx3-ubyte.gz\n"
     ]
    },
    {
     "data": {
      "application/vnd.jupyter.widget-view+json": {
       "model_id": "64aa565dcb174aa58c38b8672a74a6b0",
       "version_major": 2,
       "version_minor": 0
      },
      "text/plain": [
       "  0%|          | 0/4422102 [00:00<?, ?it/s]"
      ]
     },
     "metadata": {},
     "output_type": "display_data"
    },
    {
     "name": "stdout",
     "output_type": "stream",
     "text": [
      "Extracting data/FashionMNIST/raw/t10k-images-idx3-ubyte.gz to data/FashionMNIST/raw\n",
      "\n",
      "Downloading http://fashion-mnist.s3-website.eu-central-1.amazonaws.com/t10k-labels-idx1-ubyte.gz\n",
      "Downloading http://fashion-mnist.s3-website.eu-central-1.amazonaws.com/t10k-labels-idx1-ubyte.gz to data/FashionMNIST/raw/t10k-labels-idx1-ubyte.gz\n"
     ]
    },
    {
     "data": {
      "application/vnd.jupyter.widget-view+json": {
       "model_id": "82679016cddc4fe48f8dbdc3c5cb8428",
       "version_major": 2,
       "version_minor": 0
      },
      "text/plain": [
       "  0%|          | 0/5148 [00:00<?, ?it/s]"
      ]
     },
     "metadata": {},
     "output_type": "display_data"
    },
    {
     "name": "stdout",
     "output_type": "stream",
     "text": [
      "Extracting data/FashionMNIST/raw/t10k-labels-idx1-ubyte.gz to data/FashionMNIST/raw\n",
      "\n"
     ]
    }
   ],
   "source": [
    "training_data = datasets.FashionMNIST(\n",
    "    root=\"data\",\n",
    "    train=True,\n",
    "    download=True,\n",
    "    transform=ToTensor(),\n",
    ")\n",
    "\n",
    "\n",
    "test_data = datasets.FashionMNIST(\n",
    "    root=\"data\",\n",
    "    train=False,\n",
    "    download=True,\n",
    "    transform=ToTensor(),\n",
    ")"
   ]
  },
  {
   "cell_type": "code",
   "execution_count": 4,
   "id": "e08a9c5b",
   "metadata": {
    "execution": {
     "iopub.execute_input": "2022-10-04T18:14:22.336642Z",
     "iopub.status.busy": "2022-10-04T18:14:22.336034Z",
     "iopub.status.idle": "2022-10-04T18:14:22.356646Z",
     "shell.execute_reply": "2022-10-04T18:14:22.355438Z"
    },
    "papermill": {
     "duration": 0.040389,
     "end_time": "2022-10-04T18:14:22.360665",
     "exception": false,
     "start_time": "2022-10-04T18:14:22.320276",
     "status": "completed"
    },
    "tags": []
   },
   "outputs": [
    {
     "name": "stdout",
     "output_type": "stream",
     "text": [
      "Shape of [N, C, H, W] is: torch.Size([64, 1, 28, 28])\n",
      "Shape of y is: torch.Size([64]), torch.int64\n"
     ]
    }
   ],
   "source": [
    "batch_size = 64\n",
    "\n",
    "train_dataloader = DataLoader(training_data, batch_size = batch_size)\n",
    "test_dataloader = DataLoader(test_data, batch_size = batch_size)\n",
    "\n",
    "for X, y in test_dataloader:\n",
    "    print(f\"Shape of [N, C, H, W] is: {X.shape}\")\n",
    "    print(f\"Shape of y is: {y.shape}, {y.dtype}\")    \n",
    "    break"
   ]
  },
  {
   "cell_type": "code",
   "execution_count": 5,
   "id": "f913e277",
   "metadata": {
    "execution": {
     "iopub.execute_input": "2022-10-04T18:14:22.390880Z",
     "iopub.status.busy": "2022-10-04T18:14:22.390454Z",
     "iopub.status.idle": "2022-10-04T18:14:22.395881Z",
     "shell.execute_reply": "2022-10-04T18:14:22.394891Z"
    },
    "papermill": {
     "duration": 0.02429,
     "end_time": "2022-10-04T18:14:22.399084",
     "exception": false,
     "start_time": "2022-10-04T18:14:22.374794",
     "status": "completed"
    },
    "tags": []
   },
   "outputs": [
    {
     "name": "stdout",
     "output_type": "stream",
     "text": [
      "Using cpu\n"
     ]
    }
   ],
   "source": [
    "device = \"cuda\" if torch.cuda.is_available() else \"cpu\"\n",
    "print(f\"Using {device}\")"
   ]
  },
  {
   "cell_type": "code",
   "execution_count": 6,
   "id": "825436cc",
   "metadata": {
    "execution": {
     "iopub.execute_input": "2022-10-04T18:14:22.430046Z",
     "iopub.status.busy": "2022-10-04T18:14:22.429651Z",
     "iopub.status.idle": "2022-10-04T18:14:22.446019Z",
     "shell.execute_reply": "2022-10-04T18:14:22.444329Z"
    },
    "papermill": {
     "duration": 0.034294,
     "end_time": "2022-10-04T18:14:22.448888",
     "exception": false,
     "start_time": "2022-10-04T18:14:22.414594",
     "status": "completed"
    },
    "tags": []
   },
   "outputs": [
    {
     "name": "stdout",
     "output_type": "stream",
     "text": [
      "Using cpu device\n",
      "NeuralNetwork(\n",
      "  (flatten): Flatten(start_dim=1, end_dim=-1)\n",
      "  (linear_relu_stack): Sequential(\n",
      "    (0): Linear(in_features=784, out_features=512, bias=True)\n",
      "    (1): ReLU()\n",
      "    (2): Linear(in_features=512, out_features=512, bias=True)\n",
      "    (3): ReLU()\n",
      "    (4): Linear(in_features=512, out_features=10, bias=True)\n",
      "  )\n",
      ")\n"
     ]
    }
   ],
   "source": [
    "# Get cpu or gpu device for training.\n",
    "device = \"cuda\" if torch.cuda.is_available() else \"cpu\"\n",
    "print(f\"Using {device} device\")\n",
    "\n",
    "# Define model\n",
    "class NeuralNetwork(nn.Module):\n",
    "    def __init__(self):\n",
    "        super(NeuralNetwork, self).__init__()\n",
    "        self.flatten = nn.Flatten()\n",
    "        self.linear_relu_stack = nn.Sequential(\n",
    "            nn.Linear(28*28, 512),\n",
    "            nn.ReLU(),\n",
    "            nn.Linear(512, 512),\n",
    "            nn.ReLU(),\n",
    "            nn.Linear(512, 10)\n",
    "        )\n",
    "\n",
    "    def forward(self, x):\n",
    "        x = self.flatten(x)\n",
    "        logits = self.linear_relu_stack(x)\n",
    "        return logits\n",
    "\n",
    "model = NeuralNetwork().to(device)\n",
    "print(model)"
   ]
  },
  {
   "cell_type": "code",
   "execution_count": 7,
   "id": "73f4c3a7",
   "metadata": {
    "execution": {
     "iopub.execute_input": "2022-10-04T18:14:22.479551Z",
     "iopub.status.busy": "2022-10-04T18:14:22.478130Z",
     "iopub.status.idle": "2022-10-04T18:14:22.484165Z",
     "shell.execute_reply": "2022-10-04T18:14:22.483149Z"
    },
    "papermill": {
     "duration": 0.023311,
     "end_time": "2022-10-04T18:14:22.486508",
     "exception": false,
     "start_time": "2022-10-04T18:14:22.463197",
     "status": "completed"
    },
    "tags": []
   },
   "outputs": [],
   "source": [
    "loss_fn = nn.CrossEntropyLoss()\n",
    "optimizer = torch.optim.SGD(model.parameters(), lr = 1e-3)"
   ]
  },
  {
   "cell_type": "code",
   "execution_count": 8,
   "id": "50c86688",
   "metadata": {
    "execution": {
     "iopub.execute_input": "2022-10-04T18:14:22.516537Z",
     "iopub.status.busy": "2022-10-04T18:14:22.515510Z",
     "iopub.status.idle": "2022-10-04T18:14:22.524968Z",
     "shell.execute_reply": "2022-10-04T18:14:22.523487Z"
    },
    "papermill": {
     "duration": 0.027244,
     "end_time": "2022-10-04T18:14:22.527690",
     "exception": false,
     "start_time": "2022-10-04T18:14:22.500446",
     "status": "completed"
    },
    "tags": []
   },
   "outputs": [],
   "source": [
    "def train(dataloader, model, loss_fn, optimizer):\n",
    "    size = len(dataloader.dataset)\n",
    "    model.train()\n",
    "    for batch, (X, y) in enumerate(dataloader):\n",
    "        X, y = X.to(device), y.to(device)\n",
    "\n",
    "        # Compute prediction error\n",
    "        pred = model(X)\n",
    "        loss = loss_fn(pred, y)\n",
    "\n",
    "        # Backpropagation\n",
    "        optimizer.zero_grad()\n",
    "        loss.backward()\n",
    "        optimizer.step()\n",
    "\n",
    "        if batch % 100 == 0:\n",
    "            loss, current = loss.item(), batch * len(X)\n",
    "            print(f\"loss: {loss:>7f}  [{current:>5d}/{size:>5d}]\")"
   ]
  },
  {
   "cell_type": "code",
   "execution_count": 9,
   "id": "13d0dc5f",
   "metadata": {
    "execution": {
     "iopub.execute_input": "2022-10-04T18:14:22.557757Z",
     "iopub.status.busy": "2022-10-04T18:14:22.557330Z",
     "iopub.status.idle": "2022-10-04T18:14:22.565112Z",
     "shell.execute_reply": "2022-10-04T18:14:22.563732Z"
    },
    "papermill": {
     "duration": 0.025643,
     "end_time": "2022-10-04T18:14:22.567609",
     "exception": false,
     "start_time": "2022-10-04T18:14:22.541966",
     "status": "completed"
    },
    "tags": []
   },
   "outputs": [],
   "source": [
    "def test(dataloader, model, loss_fn):\n",
    "    size = len(dataloader.dataset)\n",
    "    num_batches = len(dataloader)\n",
    "    model.eval()\n",
    "    test_loss ,correct = 0, 0\n",
    "    with torch.no_grad():\n",
    "        for X, y in dataloader:\n",
    "            X, y = X.to(device), y.to(device)\n",
    "            pred = model(X)\n",
    "            test_loss += loss_fn(pred, y).item()\n",
    "            correct += (pred.argmax(1) == y).type(torch.float).sum().item()\n",
    "    test_loss /= num_batches\n",
    "    correct /= size\n",
    "    print(f\"Test Error: \\n Accuracy: {(100*correct):>0.1f}%, Avg loss: {test_loss:>8f} \\n\")"
   ]
  },
  {
   "cell_type": "code",
   "execution_count": 10,
   "id": "f9454760",
   "metadata": {
    "execution": {
     "iopub.execute_input": "2022-10-04T18:14:22.597343Z",
     "iopub.status.busy": "2022-10-04T18:14:22.596956Z",
     "iopub.status.idle": "2022-10-04T18:15:18.353067Z",
     "shell.execute_reply": "2022-10-04T18:15:18.352085Z"
    },
    "papermill": {
     "duration": 55.773964,
     "end_time": "2022-10-04T18:15:18.355537",
     "exception": false,
     "start_time": "2022-10-04T18:14:22.581573",
     "status": "completed"
    },
    "tags": []
   },
   "outputs": [
    {
     "name": "stdout",
     "output_type": "stream",
     "text": [
      "Epoch 1\n",
      "-------------------------------\n",
      "loss: 2.308664  [    0/60000]\n",
      "loss: 2.285754  [ 6400/60000]\n",
      "loss: 2.270351  [12800/60000]\n",
      "loss: 2.251966  [19200/60000]\n",
      "loss: 2.219512  [25600/60000]\n",
      "loss: 2.196196  [32000/60000]\n",
      "loss: 2.208435  [38400/60000]\n",
      "loss: 2.163903  [44800/60000]\n",
      "loss: 2.169508  [51200/60000]\n",
      "loss: 2.119273  [57600/60000]\n",
      "Test Error: \n",
      " Accuracy: 44.3%, Avg loss: 2.116209 \n",
      "\n",
      "Epoch 2\n",
      "-------------------------------\n",
      "loss: 2.134595  [    0/60000]\n",
      "loss: 2.116325  [ 6400/60000]\n",
      "loss: 2.053075  [12800/60000]\n",
      "loss: 2.069115  [19200/60000]\n",
      "loss: 1.995301  [25600/60000]\n",
      "loss: 1.937080  [32000/60000]\n",
      "loss: 1.978947  [38400/60000]\n",
      "loss: 1.880836  [44800/60000]\n",
      "loss: 1.901382  [51200/60000]\n",
      "loss: 1.813179  [57600/60000]\n",
      "Test Error: \n",
      " Accuracy: 59.9%, Avg loss: 1.810833 \n",
      "\n",
      "Epoch 3\n",
      "-------------------------------\n",
      "loss: 1.854402  [    0/60000]\n",
      "loss: 1.813600  [ 6400/60000]\n",
      "loss: 1.694706  [12800/60000]\n",
      "loss: 1.735877  [19200/60000]\n",
      "loss: 1.606613  [25600/60000]\n",
      "loss: 1.581903  [32000/60000]\n",
      "loss: 1.611479  [38400/60000]\n",
      "loss: 1.509833  [44800/60000]\n",
      "loss: 1.546090  [51200/60000]\n",
      "loss: 1.439151  [57600/60000]\n",
      "Test Error: \n",
      " Accuracy: 62.0%, Avg loss: 1.452337 \n",
      "\n",
      "Epoch 4\n",
      "-------------------------------\n",
      "loss: 1.526185  [    0/60000]\n",
      "loss: 1.487028  [ 6400/60000]\n",
      "loss: 1.342805  [12800/60000]\n",
      "loss: 1.413047  [19200/60000]\n",
      "loss: 1.279415  [25600/60000]\n",
      "loss: 1.301764  [32000/60000]\n",
      "loss: 1.321565  [38400/60000]\n",
      "loss: 1.245085  [44800/60000]\n",
      "loss: 1.287945  [51200/60000]\n",
      "loss: 1.193697  [57600/60000]\n",
      "Test Error: \n",
      " Accuracy: 63.9%, Avg loss: 1.209910 \n",
      "\n",
      "Epoch 5\n",
      "-------------------------------\n",
      "loss: 1.285430  [    0/60000]\n",
      "loss: 1.266410  [ 6400/60000]\n",
      "loss: 1.107509  [12800/60000]\n",
      "loss: 1.212958  [19200/60000]\n",
      "loss: 1.073033  [25600/60000]\n",
      "loss: 1.118367  [32000/60000]\n",
      "loss: 1.145015  [38400/60000]\n",
      "loss: 1.081045  [44800/60000]\n",
      "loss: 1.128724  [51200/60000]\n",
      "loss: 1.048116  [57600/60000]\n",
      "Test Error: \n",
      " Accuracy: 65.4%, Avg loss: 1.059847 \n",
      "\n",
      "Done!\n"
     ]
    }
   ],
   "source": [
    "epochs = 5\n",
    "for t in range(epochs):\n",
    "    print(f\"Epoch {t+1}\\n-------------------------------\")\n",
    "    train(train_dataloader, model, loss_fn, optimizer)\n",
    "    test(test_dataloader, model, loss_fn)\n",
    "print(\"Done!\")"
   ]
  },
  {
   "cell_type": "code",
   "execution_count": 11,
   "id": "fd715737",
   "metadata": {
    "execution": {
     "iopub.execute_input": "2022-10-04T18:15:18.392514Z",
     "iopub.status.busy": "2022-10-04T18:15:18.392057Z",
     "iopub.status.idle": "2022-10-04T18:15:18.405609Z",
     "shell.execute_reply": "2022-10-04T18:15:18.404264Z"
    },
    "papermill": {
     "duration": 0.033905,
     "end_time": "2022-10-04T18:15:18.408263",
     "exception": false,
     "start_time": "2022-10-04T18:15:18.374358",
     "status": "completed"
    },
    "tags": []
   },
   "outputs": [
    {
     "name": "stdout",
     "output_type": "stream",
     "text": [
      "Saved pytorch model state to model.pth\n"
     ]
    }
   ],
   "source": [
    "torch.save(model.state_dict(), \"model.pth\")\n",
    "print(\"Saved pytorch model state to model.pth\")"
   ]
  },
  {
   "cell_type": "code",
   "execution_count": 12,
   "id": "9a7428ce",
   "metadata": {
    "execution": {
     "iopub.execute_input": "2022-10-04T18:15:18.444697Z",
     "iopub.status.busy": "2022-10-04T18:15:18.444246Z",
     "iopub.status.idle": "2022-10-04T18:15:18.465819Z",
     "shell.execute_reply": "2022-10-04T18:15:18.464593Z"
    },
    "papermill": {
     "duration": 0.044442,
     "end_time": "2022-10-04T18:15:18.469978",
     "exception": false,
     "start_time": "2022-10-04T18:15:18.425536",
     "status": "completed"
    },
    "tags": []
   },
   "outputs": [
    {
     "data": {
      "text/plain": [
       "<All keys matched successfully>"
      ]
     },
     "execution_count": 12,
     "metadata": {},
     "output_type": "execute_result"
    }
   ],
   "source": [
    "model = NeuralNetwork()\n",
    "model.load_state_dict(torch.load(\"model.pth\"))"
   ]
  },
  {
   "cell_type": "code",
   "execution_count": 13,
   "id": "6ffea3d6",
   "metadata": {
    "execution": {
     "iopub.execute_input": "2022-10-04T18:15:18.508759Z",
     "iopub.status.busy": "2022-10-04T18:15:18.508339Z",
     "iopub.status.idle": "2022-10-04T18:15:18.525875Z",
     "shell.execute_reply": "2022-10-04T18:15:18.524732Z"
    },
    "papermill": {
     "duration": 0.038703,
     "end_time": "2022-10-04T18:15:18.528705",
     "exception": false,
     "start_time": "2022-10-04T18:15:18.490002",
     "status": "completed"
    },
    "tags": []
   },
   "outputs": [
    {
     "name": "stdout",
     "output_type": "stream",
     "text": [
      "Predicted: \"Ankle boot\", Actual: \"Ankle boot\"\n"
     ]
    }
   ],
   "source": [
    "classes = [\n",
    "    \"T-shirt/top\",\n",
    "    \"Trouser\",\n",
    "    \"Pullover\",\n",
    "    \"Dress\",\n",
    "    \"Coat\",\n",
    "    \"Sandal\",\n",
    "    \"Shirt\",\n",
    "    \"Sneaker\",\n",
    "    \"Bag\",\n",
    "    \"Ankle boot\",\n",
    "]\n",
    "\n",
    "model.eval()\n",
    "x, y = test_data[0][0], test_data[0][1]\n",
    "with torch.no_grad():\n",
    "    pred = model(x)\n",
    "    predicted, actual = classes[pred[0].argmax(0)], classes[y]\n",
    "    print(f'Predicted: \"{predicted}\", Actual: \"{actual}\"')"
   ]
  },
  {
   "cell_type": "markdown",
   "id": "66990642",
   "metadata": {
    "papermill": {
     "duration": 0.017591,
     "end_time": "2022-10-04T18:15:18.565584",
     "exception": false,
     "start_time": "2022-10-04T18:15:18.547993",
     "status": "completed"
    },
    "tags": []
   },
   "source": [
    "# Tensors"
   ]
  },
  {
   "cell_type": "code",
   "execution_count": 14,
   "id": "b4243de0",
   "metadata": {
    "execution": {
     "iopub.execute_input": "2022-10-04T18:15:18.603350Z",
     "iopub.status.busy": "2022-10-04T18:15:18.601497Z",
     "iopub.status.idle": "2022-10-04T18:15:18.607874Z",
     "shell.execute_reply": "2022-10-04T18:15:18.606905Z"
    },
    "papermill": {
     "duration": 0.027023,
     "end_time": "2022-10-04T18:15:18.610259",
     "exception": false,
     "start_time": "2022-10-04T18:15:18.583236",
     "status": "completed"
    },
    "tags": []
   },
   "outputs": [],
   "source": [
    "import torch\n",
    "import numpy as np"
   ]
  },
  {
   "cell_type": "markdown",
   "id": "5832144e",
   "metadata": {
    "papermill": {
     "duration": 0.018501,
     "end_time": "2022-10-04T18:15:18.647530",
     "exception": false,
     "start_time": "2022-10-04T18:15:18.629029",
     "status": "completed"
    },
    "tags": []
   },
   "source": [
    "### Tensors intialization"
   ]
  },
  {
   "cell_type": "markdown",
   "id": "f1d55f11",
   "metadata": {
    "papermill": {
     "duration": 0.018149,
     "end_time": "2022-10-04T18:15:18.684619",
     "exception": false,
     "start_time": "2022-10-04T18:15:18.666470",
     "status": "completed"
    },
    "tags": []
   },
   "source": [
    "Directly from data"
   ]
  },
  {
   "cell_type": "code",
   "execution_count": 15,
   "id": "d091c7a0",
   "metadata": {
    "execution": {
     "iopub.execute_input": "2022-10-04T18:15:18.721918Z",
     "iopub.status.busy": "2022-10-04T18:15:18.720682Z",
     "iopub.status.idle": "2022-10-04T18:15:18.726918Z",
     "shell.execute_reply": "2022-10-04T18:15:18.725740Z"
    },
    "papermill": {
     "duration": 0.027532,
     "end_time": "2022-10-04T18:15:18.729285",
     "exception": false,
     "start_time": "2022-10-04T18:15:18.701753",
     "status": "completed"
    },
    "tags": []
   },
   "outputs": [],
   "source": [
    "data = [[1,2], [3,4]]\n",
    "x_data = torch.tensor(data)"
   ]
  },
  {
   "cell_type": "markdown",
   "id": "86f1d45c",
   "metadata": {
    "papermill": {
     "duration": 0.016474,
     "end_time": "2022-10-04T18:15:18.763733",
     "exception": false,
     "start_time": "2022-10-04T18:15:18.747259",
     "status": "completed"
    },
    "tags": []
   },
   "source": [
    "From numpy array"
   ]
  },
  {
   "cell_type": "code",
   "execution_count": 16,
   "id": "792abe11",
   "metadata": {
    "execution": {
     "iopub.execute_input": "2022-10-04T18:15:18.799750Z",
     "iopub.status.busy": "2022-10-04T18:15:18.798927Z",
     "iopub.status.idle": "2022-10-04T18:15:18.805455Z",
     "shell.execute_reply": "2022-10-04T18:15:18.803961Z"
    },
    "papermill": {
     "duration": 0.027737,
     "end_time": "2022-10-04T18:15:18.808276",
     "exception": false,
     "start_time": "2022-10-04T18:15:18.780539",
     "status": "completed"
    },
    "tags": []
   },
   "outputs": [],
   "source": [
    "np_array = np.array(data)\n",
    "x_np = torch.from_numpy(np_array)"
   ]
  },
  {
   "cell_type": "markdown",
   "id": "fbdb9dd4",
   "metadata": {
    "papermill": {
     "duration": 0.01808,
     "end_time": "2022-10-04T18:15:18.843836",
     "exception": false,
     "start_time": "2022-10-04T18:15:18.825756",
     "status": "completed"
    },
    "tags": []
   },
   "source": [
    "From other tensor"
   ]
  },
  {
   "cell_type": "code",
   "execution_count": 17,
   "id": "0a77e92b",
   "metadata": {
    "execution": {
     "iopub.execute_input": "2022-10-04T18:15:18.880940Z",
     "iopub.status.busy": "2022-10-04T18:15:18.880485Z",
     "iopub.status.idle": "2022-10-04T18:15:18.888673Z",
     "shell.execute_reply": "2022-10-04T18:15:18.887328Z"
    },
    "papermill": {
     "duration": 0.029385,
     "end_time": "2022-10-04T18:15:18.891082",
     "exception": false,
     "start_time": "2022-10-04T18:15:18.861697",
     "status": "completed"
    },
    "tags": []
   },
   "outputs": [
    {
     "name": "stdout",
     "output_type": "stream",
     "text": [
      "Ones Tensor: \n",
      " tensor([[1, 1],\n",
      "        [1, 1]]) \n",
      "\n",
      "Random Tensor: \n",
      " tensor([[0.0855, 0.6891],\n",
      "        [0.3589, 0.2847]]) \n",
      "\n"
     ]
    }
   ],
   "source": [
    "x_ones = torch.ones_like(x_data) # retains the properties of x_data\n",
    "print(f\"Ones Tensor: \\n {x_ones} \\n\")\n",
    "\n",
    "x_rand = torch.rand_like(x_data, dtype=torch.float) # overrides the datatype of x_data\n",
    "print(f\"Random Tensor: \\n {x_rand} \\n\")"
   ]
  },
  {
   "cell_type": "markdown",
   "id": "3bbf5cc3",
   "metadata": {
    "papermill": {
     "duration": 0.016736,
     "end_time": "2022-10-04T18:15:18.924683",
     "exception": false,
     "start_time": "2022-10-04T18:15:18.907947",
     "status": "completed"
    },
    "tags": []
   },
   "source": [
    "With random or constant values"
   ]
  },
  {
   "cell_type": "code",
   "execution_count": 18,
   "id": "326110ac",
   "metadata": {
    "execution": {
     "iopub.execute_input": "2022-10-04T18:15:18.960743Z",
     "iopub.status.busy": "2022-10-04T18:15:18.959956Z",
     "iopub.status.idle": "2022-10-04T18:15:18.969566Z",
     "shell.execute_reply": "2022-10-04T18:15:18.968116Z"
    },
    "papermill": {
     "duration": 0.031203,
     "end_time": "2022-10-04T18:15:18.972861",
     "exception": false,
     "start_time": "2022-10-04T18:15:18.941658",
     "status": "completed"
    },
    "tags": []
   },
   "outputs": [
    {
     "name": "stdout",
     "output_type": "stream",
     "text": [
      "Random Tensor: \n",
      " tensor([[0.5843, 0.3900, 0.7514],\n",
      "        [0.6764, 0.6643, 0.4065]]) \n",
      "\n",
      "Ones Tensor: \n",
      " tensor([[1., 1., 1.],\n",
      "        [1., 1., 1.]]) \n",
      "\n",
      "Zeros Tensor: \n",
      " tensor([[0., 0., 0.],\n",
      "        [0., 0., 0.]])\n"
     ]
    }
   ],
   "source": [
    "shape = (2,3,)\n",
    "rand_tensor = torch.rand(shape)\n",
    "ones_tensor = torch.ones(shape)\n",
    "zeros_tensor = torch.zeros(shape)\n",
    "\n",
    "print(f\"Random Tensor: \\n {rand_tensor} \\n\")\n",
    "print(f\"Ones Tensor: \\n {ones_tensor} \\n\")\n",
    "print(f\"Zeros Tensor: \\n {zeros_tensor}\")"
   ]
  },
  {
   "cell_type": "markdown",
   "id": "d4c4fcc2",
   "metadata": {
    "papermill": {
     "duration": 0.01716,
     "end_time": "2022-10-04T18:15:19.007868",
     "exception": false,
     "start_time": "2022-10-04T18:15:18.990708",
     "status": "completed"
    },
    "tags": []
   },
   "source": [
    "### Operations on tensor"
   ]
  },
  {
   "cell_type": "code",
   "execution_count": 19,
   "id": "6eaa439e",
   "metadata": {
    "execution": {
     "iopub.execute_input": "2022-10-04T18:15:19.045427Z",
     "iopub.status.busy": "2022-10-04T18:15:19.045027Z",
     "iopub.status.idle": "2022-10-04T18:15:19.052628Z",
     "shell.execute_reply": "2022-10-04T18:15:19.051211Z"
    },
    "papermill": {
     "duration": 0.028553,
     "end_time": "2022-10-04T18:15:19.055139",
     "exception": false,
     "start_time": "2022-10-04T18:15:19.026586",
     "status": "completed"
    },
    "tags": []
   },
   "outputs": [
    {
     "name": "stdout",
     "output_type": "stream",
     "text": [
      "Shape of tensor: torch.Size([3, 4])\n",
      "Datatype of tensor: torch.float32\n",
      "Device tensor is stored on: cpu\n"
     ]
    }
   ],
   "source": [
    "tensor = torch.rand(3,4)\n",
    "\n",
    "print(f\"Shape of tensor: {tensor.shape}\")\n",
    "print(f\"Datatype of tensor: {tensor.dtype}\")\n",
    "print(f\"Device tensor is stored on: {tensor.device}\")"
   ]
  },
  {
   "cell_type": "markdown",
   "id": "3e6a8d83",
   "metadata": {
    "papermill": {
     "duration": 0.017109,
     "end_time": "2022-10-04T18:15:19.090006",
     "exception": false,
     "start_time": "2022-10-04T18:15:19.072897",
     "status": "completed"
    },
    "tags": []
   },
   "source": [
    "## Full list - https://pytorch.org/docs/stable/torch.html"
   ]
  },
  {
   "cell_type": "markdown",
   "id": "a4bbd86b",
   "metadata": {
    "papermill": {
     "duration": 0.016775,
     "end_time": "2022-10-04T18:15:19.123984",
     "exception": false,
     "start_time": "2022-10-04T18:15:19.107209",
     "status": "completed"
    },
    "tags": []
   },
   "source": [
    "Slicing and indexing"
   ]
  },
  {
   "cell_type": "code",
   "execution_count": 20,
   "id": "9d5e45c6",
   "metadata": {
    "execution": {
     "iopub.execute_input": "2022-10-04T18:15:19.159845Z",
     "iopub.status.busy": "2022-10-04T18:15:19.159451Z",
     "iopub.status.idle": "2022-10-04T18:15:19.170012Z",
     "shell.execute_reply": "2022-10-04T18:15:19.168831Z"
    },
    "papermill": {
     "duration": 0.031439,
     "end_time": "2022-10-04T18:15:19.172395",
     "exception": false,
     "start_time": "2022-10-04T18:15:19.140956",
     "status": "completed"
    },
    "tags": []
   },
   "outputs": [
    {
     "name": "stdout",
     "output_type": "stream",
     "text": [
      "First row: tensor([1., 1., 1., 1.])\n",
      "First column: tensor([1., 1., 1., 1.])\n",
      "Last column: tensor([1., 1., 1., 1.])\n",
      "tensor([[1., 0., 1., 1.],\n",
      "        [1., 0., 1., 1.],\n",
      "        [1., 0., 1., 1.],\n",
      "        [1., 0., 1., 1.]])\n"
     ]
    }
   ],
   "source": [
    "tensor = torch.ones(4, 4)\n",
    "print(f\"First row: {tensor[0]}\")\n",
    "print(f\"First column: {tensor[:, 0]}\")\n",
    "print(f\"Last column: {tensor[..., -1]}\")\n",
    "\n",
    "tensor[:,1] = 0\n",
    "\n",
    "print(tensor)"
   ]
  },
  {
   "cell_type": "code",
   "execution_count": null,
   "id": "fefde302",
   "metadata": {
    "papermill": {
     "duration": 0.017931,
     "end_time": "2022-10-04T18:15:19.208545",
     "exception": false,
     "start_time": "2022-10-04T18:15:19.190614",
     "status": "completed"
    },
    "tags": []
   },
   "outputs": [],
   "source": []
  },
  {
   "cell_type": "markdown",
   "id": "1635a77d",
   "metadata": {
    "papermill": {
     "duration": 0.018439,
     "end_time": "2022-10-04T18:15:19.245330",
     "exception": false,
     "start_time": "2022-10-04T18:15:19.226891",
     "status": "completed"
    },
    "tags": []
   },
   "source": [
    "### Joining the tensors"
   ]
  },
  {
   "cell_type": "code",
   "execution_count": 21,
   "id": "b86f968d",
   "metadata": {
    "execution": {
     "iopub.execute_input": "2022-10-04T18:15:19.282562Z",
     "iopub.status.busy": "2022-10-04T18:15:19.282147Z",
     "iopub.status.idle": "2022-10-04T18:15:19.291640Z",
     "shell.execute_reply": "2022-10-04T18:15:19.290512Z"
    },
    "papermill": {
     "duration": 0.030389,
     "end_time": "2022-10-04T18:15:19.293933",
     "exception": false,
     "start_time": "2022-10-04T18:15:19.263544",
     "status": "completed"
    },
    "tags": []
   },
   "outputs": [
    {
     "data": {
      "text/plain": [
       "tensor([[1., 1., 1., 0., 0., 0., 0.],\n",
       "        [1., 1., 1., 0., 0., 0., 0.],\n",
       "        [1., 1., 1., 0., 0., 0., 0.]])"
      ]
     },
     "execution_count": 21,
     "metadata": {},
     "output_type": "execute_result"
    }
   ],
   "source": [
    "t1 = torch.ones(3,3)\n",
    "t2 = torch.zeros(3,4)\n",
    "t3 = torch.cat([t1, t2], dim=1)\n",
    "t3"
   ]
  },
  {
   "cell_type": "code",
   "execution_count": 22,
   "id": "7821b22b",
   "metadata": {
    "execution": {
     "iopub.execute_input": "2022-10-04T18:15:19.331471Z",
     "iopub.status.busy": "2022-10-04T18:15:19.331056Z",
     "iopub.status.idle": "2022-10-04T18:15:19.339490Z",
     "shell.execute_reply": "2022-10-04T18:15:19.338282Z"
    },
    "papermill": {
     "duration": 0.029849,
     "end_time": "2022-10-04T18:15:19.341861",
     "exception": false,
     "start_time": "2022-10-04T18:15:19.312012",
     "status": "completed"
    },
    "tags": []
   },
   "outputs": [
    {
     "data": {
      "text/plain": [
       "tensor([[[0., 0., 0., 0.],\n",
       "         [0., 0., 0., 0.],\n",
       "         [0., 0., 0., 0.]],\n",
       "\n",
       "        [[1., 1., 1., 1.],\n",
       "         [1., 1., 1., 1.],\n",
       "         [1., 1., 1., 1.]]])"
      ]
     },
     "execution_count": 22,
     "metadata": {},
     "output_type": "execute_result"
    }
   ],
   "source": [
    "t4 = torch.ones(3,4)\n",
    "t5 = torch.stack([t2, t4], dim=0)\n",
    "t5"
   ]
  },
  {
   "cell_type": "code",
   "execution_count": null,
   "id": "664b8f86",
   "metadata": {
    "papermill": {
     "duration": 0.01818,
     "end_time": "2022-10-04T18:15:19.377818",
     "exception": false,
     "start_time": "2022-10-04T18:15:19.359638",
     "status": "completed"
    },
    "tags": []
   },
   "outputs": [],
   "source": []
  },
  {
   "cell_type": "markdown",
   "id": "cc18b59e",
   "metadata": {
    "papermill": {
     "duration": 0.017504,
     "end_time": "2022-10-04T18:15:19.412660",
     "exception": false,
     "start_time": "2022-10-04T18:15:19.395156",
     "status": "completed"
    },
    "tags": []
   },
   "source": [
    "### Arithmatic Opearations"
   ]
  },
  {
   "cell_type": "markdown",
   "id": "4fdc24d8",
   "metadata": {
    "papermill": {
     "duration": 0.01873,
     "end_time": "2022-10-04T18:15:19.449216",
     "exception": false,
     "start_time": "2022-10-04T18:15:19.430486",
     "status": "completed"
    },
    "tags": []
   },
   "source": [
    "Multiplication"
   ]
  },
  {
   "cell_type": "code",
   "execution_count": 23,
   "id": "38d969b9",
   "metadata": {
    "execution": {
     "iopub.execute_input": "2022-10-04T18:15:19.488092Z",
     "iopub.status.busy": "2022-10-04T18:15:19.487601Z",
     "iopub.status.idle": "2022-10-04T18:15:19.497269Z",
     "shell.execute_reply": "2022-10-04T18:15:19.496005Z"
    },
    "papermill": {
     "duration": 0.032028,
     "end_time": "2022-10-04T18:15:19.499926",
     "exception": false,
     "start_time": "2022-10-04T18:15:19.467898",
     "status": "completed"
    },
    "tags": []
   },
   "outputs": [
    {
     "name": "stdout",
     "output_type": "stream",
     "text": [
      "tensor([[2.0257, 1.1712, 2.2457],\n",
      "        [2.0257, 1.1712, 2.2457],\n",
      "        [2.0257, 1.1712, 2.2457]])\n",
      "tensor([[2.0257, 1.1712, 2.2457],\n",
      "        [2.0257, 1.1712, 2.2457],\n",
      "        [2.0257, 1.1712, 2.2457]])\n",
      "tensor([[2.0257, 1.1712, 2.2457],\n",
      "        [2.0257, 1.1712, 2.2457],\n",
      "        [2.0257, 1.1712, 2.2457]])\n"
     ]
    }
   ],
   "source": [
    "t5 = torch.rand(3, 3)\n",
    "multi1 = t1 @ t5.T\n",
    "multi2 = t1.matmul(t5.T)\n",
    "multi3 = torch.rand_like(t1)\n",
    "torch.matmul(t1, t5.T, out=multi3)\n",
    "\n",
    "print(multi1)\n",
    "print(multi2)\n",
    "print(multi3)"
   ]
  },
  {
   "cell_type": "markdown",
   "id": "297660e8",
   "metadata": {
    "papermill": {
     "duration": 0.017778,
     "end_time": "2022-10-04T18:15:19.537715",
     "exception": false,
     "start_time": "2022-10-04T18:15:19.519937",
     "status": "completed"
    },
    "tags": []
   },
   "source": [
    "Sum"
   ]
  },
  {
   "cell_type": "code",
   "execution_count": 24,
   "id": "ab6edadc",
   "metadata": {
    "execution": {
     "iopub.execute_input": "2022-10-04T18:15:19.574442Z",
     "iopub.status.busy": "2022-10-04T18:15:19.574002Z",
     "iopub.status.idle": "2022-10-04T18:15:19.580977Z",
     "shell.execute_reply": "2022-10-04T18:15:19.579810Z"
    },
    "papermill": {
     "duration": 0.028547,
     "end_time": "2022-10-04T18:15:19.583710",
     "exception": false,
     "start_time": "2022-10-04T18:15:19.555163",
     "status": "completed"
    },
    "tags": []
   },
   "outputs": [
    {
     "name": "stdout",
     "output_type": "stream",
     "text": [
      "tensor(5.4426)\n",
      "5.442610740661621\n"
     ]
    }
   ],
   "source": [
    "agg = t5.sum()\n",
    "agg_item = agg.item()\n",
    "\n",
    "print(agg)\n",
    "print(agg_item)"
   ]
  },
  {
   "cell_type": "markdown",
   "id": "bf478477",
   "metadata": {
    "papermill": {
     "duration": 0.017285,
     "end_time": "2022-10-04T18:15:19.619191",
     "exception": false,
     "start_time": "2022-10-04T18:15:19.601906",
     "status": "completed"
    },
    "tags": []
   },
   "source": [
    "In-place operations Operations that store the result into the operand are called in-place. They are denoted by a _ suffix. For example: x.copy_(y), x.t_(), will change x."
   ]
  },
  {
   "cell_type": "code",
   "execution_count": 25,
   "id": "25dd3921",
   "metadata": {
    "execution": {
     "iopub.execute_input": "2022-10-04T18:15:19.659950Z",
     "iopub.status.busy": "2022-10-04T18:15:19.659548Z",
     "iopub.status.idle": "2022-10-04T18:15:19.668815Z",
     "shell.execute_reply": "2022-10-04T18:15:19.667274Z"
    },
    "papermill": {
     "duration": 0.03399,
     "end_time": "2022-10-04T18:15:19.671721",
     "exception": false,
     "start_time": "2022-10-04T18:15:19.637731",
     "status": "completed"
    },
    "tags": []
   },
   "outputs": [
    {
     "data": {
      "text/plain": [
       "tensor([[3.5248, 3.6815, 3.8194],\n",
       "        [3.5946, 3.3134, 3.2632],\n",
       "        [3.7672, 3.5400, 3.9385]])"
      ]
     },
     "execution_count": 25,
     "metadata": {},
     "output_type": "execute_result"
    }
   ],
   "source": [
    "t5.add_(3)\n",
    "t5"
   ]
  },
  {
   "cell_type": "code",
   "execution_count": 26,
   "id": "b815b7dc",
   "metadata": {
    "execution": {
     "iopub.execute_input": "2022-10-04T18:15:19.709831Z",
     "iopub.status.busy": "2022-10-04T18:15:19.709356Z",
     "iopub.status.idle": "2022-10-04T18:15:19.718041Z",
     "shell.execute_reply": "2022-10-04T18:15:19.716934Z"
    },
    "papermill": {
     "duration": 0.03079,
     "end_time": "2022-10-04T18:15:19.720769",
     "exception": false,
     "start_time": "2022-10-04T18:15:19.689979",
     "status": "completed"
    },
    "tags": []
   },
   "outputs": [
    {
     "data": {
      "text/plain": [
       "tensor([[6.5248, 6.6815, 6.8194],\n",
       "        [6.5946, 6.3134, 6.2632],\n",
       "        [6.7672, 6.5400, 6.9385]])"
      ]
     },
     "execution_count": 26,
     "metadata": {},
     "output_type": "execute_result"
    }
   ],
   "source": [
    "t7 = t5 + 3\n",
    "t7"
   ]
  },
  {
   "cell_type": "markdown",
   "id": "f72fd893",
   "metadata": {
    "papermill": {
     "duration": 0.018368,
     "end_time": "2022-10-04T18:15:19.759007",
     "exception": false,
     "start_time": "2022-10-04T18:15:19.740639",
     "status": "completed"
    },
    "tags": []
   },
   "source": [
    "Tensors on the CPU and NumPy arrays can share their underlying memory locations, and changing one will change the other."
   ]
  },
  {
   "cell_type": "markdown",
   "id": "52ff2e50",
   "metadata": {
    "papermill": {
     "duration": 0.018606,
     "end_time": "2022-10-04T18:15:19.796955",
     "exception": false,
     "start_time": "2022-10-04T18:15:19.778349",
     "status": "completed"
    },
    "tags": []
   },
   "source": [
    "# Datasets and Dataloaders"
   ]
  },
  {
   "cell_type": "markdown",
   "id": "f0e465ba",
   "metadata": {
    "papermill": {
     "duration": 0.018218,
     "end_time": "2022-10-04T18:15:19.834931",
     "exception": false,
     "start_time": "2022-10-04T18:15:19.816713",
     "status": "completed"
    },
    "tags": []
   },
   "source": [
    "### Loading dataset"
   ]
  },
  {
   "cell_type": "code",
   "execution_count": 27,
   "id": "01ce725a",
   "metadata": {
    "execution": {
     "iopub.execute_input": "2022-10-04T18:15:19.875690Z",
     "iopub.status.busy": "2022-10-04T18:15:19.875256Z",
     "iopub.status.idle": "2022-10-04T18:15:19.880790Z",
     "shell.execute_reply": "2022-10-04T18:15:19.879556Z"
    },
    "papermill": {
     "duration": 0.030699,
     "end_time": "2022-10-04T18:15:19.884008",
     "exception": false,
     "start_time": "2022-10-04T18:15:19.853309",
     "status": "completed"
    },
    "tags": []
   },
   "outputs": [],
   "source": [
    "import torch\n",
    "from torch.utils.data import Dataset\n",
    "from torchvision import datasets\n",
    "from torchvision.transforms import ToTensor\n",
    "import matplotlib.pyplot as plt"
   ]
  },
  {
   "cell_type": "code",
   "execution_count": 28,
   "id": "22adc0c5",
   "metadata": {
    "execution": {
     "iopub.execute_input": "2022-10-04T18:15:19.922392Z",
     "iopub.status.busy": "2022-10-04T18:15:19.921960Z",
     "iopub.status.idle": "2022-10-04T18:15:20.031725Z",
     "shell.execute_reply": "2022-10-04T18:15:20.030549Z"
    },
    "papermill": {
     "duration": 0.132587,
     "end_time": "2022-10-04T18:15:20.034516",
     "exception": false,
     "start_time": "2022-10-04T18:15:19.901929",
     "status": "completed"
    },
    "tags": []
   },
   "outputs": [],
   "source": [
    "training_data = datasets.FashionMNIST(\n",
    "    root = \"data\",\n",
    "    train = True,\n",
    "    download = True,\n",
    "    transform = ToTensor()\n",
    ")\n",
    "\n",
    "test_data = datasets.FashionMNIST(\n",
    "    root = \"data\",\n",
    "    train = False,\n",
    "    download = True,\n",
    "    transform = ToTensor()\n",
    ")"
   ]
  },
  {
   "cell_type": "markdown",
   "id": "bc5aeb9e",
   "metadata": {
    "papermill": {
     "duration": 0.017698,
     "end_time": "2022-10-04T18:15:20.070678",
     "exception": false,
     "start_time": "2022-10-04T18:15:20.052980",
     "status": "completed"
    },
    "tags": []
   },
   "source": [
    "### Visualizing dataset"
   ]
  },
  {
   "cell_type": "code",
   "execution_count": 29,
   "id": "0495697c",
   "metadata": {
    "execution": {
     "iopub.execute_input": "2022-10-04T18:15:20.108641Z",
     "iopub.status.busy": "2022-10-04T18:15:20.108154Z",
     "iopub.status.idle": "2022-10-04T18:15:20.113773Z",
     "shell.execute_reply": "2022-10-04T18:15:20.112280Z"
    },
    "papermill": {
     "duration": 0.027627,
     "end_time": "2022-10-04T18:15:20.116208",
     "exception": false,
     "start_time": "2022-10-04T18:15:20.088581",
     "status": "completed"
    },
    "tags": []
   },
   "outputs": [],
   "source": [
    "import pandas as pd"
   ]
  },
  {
   "cell_type": "code",
   "execution_count": 30,
   "id": "38a0214c",
   "metadata": {
    "execution": {
     "iopub.execute_input": "2022-10-04T18:15:20.154303Z",
     "iopub.status.busy": "2022-10-04T18:15:20.153830Z",
     "iopub.status.idle": "2022-10-04T18:15:20.159471Z",
     "shell.execute_reply": "2022-10-04T18:15:20.157880Z"
    },
    "papermill": {
     "duration": 0.028056,
     "end_time": "2022-10-04T18:15:20.162141",
     "exception": false,
     "start_time": "2022-10-04T18:15:20.134085",
     "status": "completed"
    },
    "tags": []
   },
   "outputs": [],
   "source": [
    "# for i, j in training_data:\n",
    "#     print(j)"
   ]
  },
  {
   "cell_type": "code",
   "execution_count": 31,
   "id": "be512745",
   "metadata": {
    "execution": {
     "iopub.execute_input": "2022-10-04T18:15:20.200009Z",
     "iopub.status.busy": "2022-10-04T18:15:20.199619Z",
     "iopub.status.idle": "2022-10-04T18:15:20.716203Z",
     "shell.execute_reply": "2022-10-04T18:15:20.714446Z"
    },
    "papermill": {
     "duration": 0.539836,
     "end_time": "2022-10-04T18:15:20.720239",
     "exception": false,
     "start_time": "2022-10-04T18:15:20.180403",
     "status": "completed"
    },
    "tags": []
   },
   "outputs": [
    {
     "data": {
      "image/png": "[encoded data removed]",
      "text/plain": [
       "<Figure size 720x720 with 9 Axes>"
      ]
     },
     "metadata": {
      "needs_background": "light"
     },
     "output_type": "display_data"
    }
   ],
   "source": [
    "labels_map = {0: \"T-Shirt\",\n",
    "    1: \"Trouser\",\n",
    "    2: \"Pullover\",\n",
    "    3: \"Dress\",\n",
    "    4: \"Coat\",\n",
    "    5: \"Sandal\",\n",
    "    6: \"Shirt\",\n",
    "    7: \"Sneaker\",\n",
    "    8: \"Bag\",\n",
    "    9: \"Ankle Boot\",}\n",
    "\n",
    "figure = plt.figure(figsize = (10,10))\n",
    "cols ,rows = 3, 3\n",
    "\n",
    "for i in range (1, rows*cols+1):\n",
    "    sample_idx = torch.randint(len(training_data), size=(1,)).item()\n",
    "    img, label = training_data[sample_idx]\n",
    "    figure.add_subplot(rows, cols, i)\n",
    "    plt.title(labels_map[label])\n",
    "    plt.axis(\"off\")\n",
    "    plt.imshow(img.squeeze(), cmap=\"gray\")\n",
    "plt.show()"
   ]
  },
  {
   "cell_type": "markdown",
   "id": "9fbef59c",
   "metadata": {
    "papermill": {
     "duration": 0.020012,
     "end_time": "2022-10-04T18:15:20.761236",
     "exception": false,
     "start_time": "2022-10-04T18:15:20.741224",
     "status": "completed"
    },
    "tags": []
   },
   "source": [
    "Custom dataset"
   ]
  },
  {
   "cell_type": "code",
   "execution_count": 32,
   "id": "82dfbc2b",
   "metadata": {
    "execution": {
     "iopub.execute_input": "2022-10-04T18:15:20.802746Z",
     "iopub.status.busy": "2022-10-04T18:15:20.802324Z",
     "iopub.status.idle": "2022-10-04T18:15:20.812080Z",
     "shell.execute_reply": "2022-10-04T18:15:20.810367Z"
    },
    "papermill": {
     "duration": 0.033917,
     "end_time": "2022-10-04T18:15:20.815510",
     "exception": false,
     "start_time": "2022-10-04T18:15:20.781593",
     "status": "completed"
    },
    "tags": []
   },
   "outputs": [],
   "source": [
    "import os\n",
    "import pandas as pd\n",
    "from torchvision.io import read_image\n",
    "\n",
    "class CustomImageDataset(Dataset):\n",
    "    def __init__(self, annotations_file, img_dir, transform=None, target_transform=None):\n",
    "        self.img_labels = pd.read_csv(annotations_file)\n",
    "        self.img_dir = img_dir\n",
    "        self.transform = transform\n",
    "        self.target_transform = target_transform\n",
    "\n",
    "    def __len__(self):\n",
    "        return len(self.img_labels)\n",
    "\n",
    "    def __getitem__(self, idx):\n",
    "        img_path = os.path.join(self.img_dir, self.img_labels.iloc[idx, 0])\n",
    "        image = read_image(img_path)\n",
    "        label = self.img_labels.iloc[idx, 1]\n",
    "        if self.transform:\n",
    "            image = self.transform(image)\n",
    "        if self.target_transform:\n",
    "            label = self.target_transform(label)\n",
    "        return image, label"
   ]
  },
  {
   "cell_type": "markdown",
   "id": "2eeec8c8",
   "metadata": {
    "papermill": {
     "duration": 0.019252,
     "end_time": "2022-10-04T18:15:20.855756",
     "exception": false,
     "start_time": "2022-10-04T18:15:20.836504",
     "status": "completed"
    },
    "tags": []
   },
   "source": [
    "Preparing your data for training with DataLoaders"
   ]
  },
  {
   "cell_type": "code",
   "execution_count": 33,
   "id": "6025d028",
   "metadata": {
    "execution": {
     "iopub.execute_input": "2022-10-04T18:15:20.895059Z",
     "iopub.status.busy": "2022-10-04T18:15:20.894236Z",
     "iopub.status.idle": "2022-10-04T18:15:20.903411Z",
     "shell.execute_reply": "2022-10-04T18:15:20.902516Z"
    },
    "papermill": {
     "duration": 0.03127,
     "end_time": "2022-10-04T18:15:20.905891",
     "exception": false,
     "start_time": "2022-10-04T18:15:20.874621",
     "status": "completed"
    },
    "tags": []
   },
   "outputs": [],
   "source": [
    "from torch.utils.data import DataLoader\n",
    "\n",
    "train_dataloader = DataLoader(training_data, batch_size=64, shuffle=True)\n",
    "test_dataloader = DataLoader(test_data, batch_size=64, shuffle=True)"
   ]
  },
  {
   "cell_type": "markdown",
   "id": "f86fae8f",
   "metadata": {
    "papermill": {
     "duration": 0.018224,
     "end_time": "2022-10-04T18:15:20.942146",
     "exception": false,
     "start_time": "2022-10-04T18:15:20.923922",
     "status": "completed"
    },
    "tags": []
   },
   "source": [
    "Iterate through dataset"
   ]
  },
  {
   "cell_type": "code",
   "execution_count": 34,
   "id": "909d2a26",
   "metadata": {
    "execution": {
     "iopub.execute_input": "2022-10-04T18:15:20.981284Z",
     "iopub.status.busy": "2022-10-04T18:15:20.980900Z",
     "iopub.status.idle": "2022-10-04T18:15:21.199113Z",
     "shell.execute_reply": "2022-10-04T18:15:21.197734Z"
    },
    "papermill": {
     "duration": 0.241446,
     "end_time": "2022-10-04T18:15:21.201719",
     "exception": false,
     "start_time": "2022-10-04T18:15:20.960273",
     "status": "completed"
    },
    "tags": []
   },
   "outputs": [
    {
     "name": "stdout",
     "output_type": "stream",
     "text": [
      "Feature batch shape: torch.Size([64, 1, 28, 28])\n",
      "Labels batch shape: torch.Size([64])\n"
     ]
    },
    {
     "data": {
      "image/png": "[encoded data removed]",
      "text/plain": [
       "<Figure size 432x288 with 1 Axes>"
      ]
     },
     "metadata": {
      "needs_background": "light"
     },
     "output_type": "display_data"
    },
    {
     "name": "stdout",
     "output_type": "stream",
     "text": [
      "Label: 9\n"
     ]
    }
   ],
   "source": [
    "train_features, train_labels = next(iter(train_dataloader))\n",
    "print(f\"Feature batch shape: {train_features.size()}\")\n",
    "print(f\"Labels batch shape: {train_labels.size()}\")\n",
    "img = train_features[0].squeeze()\n",
    "label = train_labels[0]\n",
    "plt.imshow(img, cmap=\"gray\")\n",
    "plt.show()\n",
    "print(f\"Label: {label}\")"
   ]
  },
  {
   "cell_type": "markdown",
   "id": "e66d9d69",
   "metadata": {
    "papermill": {
     "duration": 0.018505,
     "end_time": "2022-10-04T18:15:21.238666",
     "exception": false,
     "start_time": "2022-10-04T18:15:21.220161",
     "status": "completed"
    },
    "tags": []
   },
   "source": [
    "#### For further reading - https://pytorch.org/docs/stable/data.html"
   ]
  },
  {
   "cell_type": "markdown",
   "id": "66be552a",
   "metadata": {
    "papermill": {
     "duration": 0.018432,
     "end_time": "2022-10-04T18:15:21.275731",
     "exception": false,
     "start_time": "2022-10-04T18:15:21.257299",
     "status": "completed"
    },
    "tags": []
   },
   "source": [
    "# Transform for data manipulation"
   ]
  },
  {
   "cell_type": "markdown",
   "id": "d0ff32d5",
   "metadata": {
    "papermill": {
     "duration": 0.018841,
     "end_time": "2022-10-04T18:15:21.313241",
     "exception": false,
     "start_time": "2022-10-04T18:15:21.294400",
     "status": "completed"
    },
    "tags": []
   },
   "source": [
    "All TorchVision datasets have two parameters -transform to modify the features and target_transform to modify the labels - that accept callables containing the transformation logic. "
   ]
  },
  {
   "cell_type": "code",
   "execution_count": null,
   "id": "6da4267c",
   "metadata": {
    "papermill": {
     "duration": 0.018199,
     "end_time": "2022-10-04T18:15:21.350297",
     "exception": false,
     "start_time": "2022-10-04T18:15:21.332098",
     "status": "completed"
    },
    "tags": []
   },
   "outputs": [],
   "source": []
  }
 ],
 "metadata": {
  "kernelspec": {
   "display_name": "Python 3",
   "language": "python",
   "name": "python3"
  },
  "language_info": {
   "codemirror_mode": {
    "name": "ipython",
    "version": 3
   },
   "file_extension": ".py",
   "mimetype": "text/x-python",
   "name": "python",
   "nbconvert_exporter": "python",
   "pygments_lexer": "ipython3",
   "version": "3.7.12"
  },
  "papermill": {
   "default_parameters": {},
   "duration": 92.952831,
   "end_time": "2022-10-04T18:15:22.395656",
   "environment_variables": {},
   "exception": null,
   "input_path": "__notebook__.ipynb",
   "output_path": "__notebook__.ipynb",
   "parameters": {},
   "start_time": "2022-10-04T18:13:49.442825",
   "version": "2.3.4"
  },
  "widgets": {
   "application/vnd.jupyter.widget-state+json": {
    "state": {
     "02aa27e07dc847ef9bf456881913aab5": {
      "model_module": "@jupyter-widgets/controls",
      "model_module_version": "1.5.0",
      "model_name": "FloatProgressModel",
      "state": {
       "_dom_classes": [],
       "_model_module": "@jupyter-widgets/controls",
       "_model_module_version": "1.5.0",
       "_model_name": "FloatProgressModel",
       "_view_count": null,
       "_view_module": "@jupyter-widgets/controls",
       "_view_module_version": "1.5.0",
       "_view_name": "ProgressView",
       "bar_style": "success",
       "description": "",
       "description_tooltip": null,
       "layout": "IPY_MODEL_befcdf53526248a7ac4bc2f5ecb89b5e",
       "max": 26421880.0,
       "min": 0.0,
       "orientation": "horizontal",
       "style": "IPY_MODEL_dfdc84b8cfed4ee68c3a760eec6ddc66",
       "value": 26421880.0
      }
     },
     "09a2431b72bb479583f823bb22137440": {
      "model_module": "@jupyter-widgets/base",
      "model_module_version": "1.2.0",
      "model_name": "LayoutModel",
      "state": {
       "_model_module": "@jupyter-widgets/base",
       "_model_module_version": "1.2.0",
       "_model_name": "LayoutModel",
       "_view_count": null,
       "_view_module": "@jupyter-widgets/base",
       "_view_module_version": "1.2.0",
       "_view_name": "LayoutView",
       "align_content": null,
       "align_items": null,
       "align_self": null,
       "border": null,
       "bottom": null,
       "display": null,
       "flex": null,
       "flex_flow": null,
       "grid_area": null,
       "grid_auto_columns": null,
       "grid_auto_flow": null,
       "grid_auto_rows": null,
       "grid_column": null,
       "grid_gap": null,
       "grid_row": null,
       "grid_template_areas": null,
       "grid_template_columns": null,
       "grid_template_rows": null,
       "height": null,
       "justify_content": null,
       "justify_items": null,
       "left": null,
       "margin": null,
       "max_height": null,
       "max_width": null,
       "min_height": null,
       "min_width": null,
       "object_fit": null,
       "object_position": null,
       "order": null,
       "overflow": null,
       "overflow_x": null,
       "overflow_y": null,
       "padding": null,
       "right": null,
       "top": null,
       "visibility": null,
       "width": null
      }
     },
     "1038739411fa4401b2d91b06f67db750": {
      "model_module": "@jupyter-widgets/controls",
      "model_module_version": "1.5.0",
      "model_name": "DescriptionStyleModel",
      "state": {
       "_model_module": "@jupyter-widgets/controls",
       "_model_module_version": "1.5.0",
       "_model_name": "DescriptionStyleModel",
       "_view_count": null,
       "_view_module": "@jupyter-widgets/base",
       "_view_module_version": "1.2.0",
       "_view_name": "StyleView",
       "description_width": ""
      }
     },
     "1399ca1d03be41458541eff424fe8db5": {
      "model_module": "@jupyter-widgets/controls",
      "model_module_version": "1.5.0",
      "model_name": "DescriptionStyleModel",
      "state": {
       "_model_module": "@jupyter-widgets/controls",
       "_model_module_version": "1.5.0",
       "_model_name": "DescriptionStyleModel",
       "_view_count": null,
       "_view_module": "@jupyter-widgets/base",
       "_view_module_version": "1.2.0",
       "_view_name": "StyleView",
       "description_width": ""
      }
     },
     "1cbcc4ebc4c0426c81ee6c6f0ce789a4": {
      "model_module": "@jupyter-widgets/base",
      "model_module_version": "1.2.0",
      "model_name": "LayoutModel",
      "state": {
       "_model_module": "@jupyter-widgets/base",
       "_model_module_version": "1.2.0",
       "_model_name": "LayoutModel",
       "_view_count": null,
       "_view_module": "@jupyter-widgets/base",
       "_view_module_version": "1.2.0",
       "_view_name": "LayoutView",
       "align_content": null,
       "align_items": null,
       "align_self": null,
       "border": null,
       "bottom": null,
       "display": null,
       "flex": null,
       "flex_flow": null,
       "grid_area": null,
       "grid_auto_columns": null,
       "grid_auto_flow": null,
       "grid_auto_rows": null,
       "grid_column": null,
       "grid_gap": null,
       "grid_row": null,
       "grid_template_areas": null,
       "grid_template_columns": null,
       "grid_template_rows": null,
       "height": null,
       "justify_content": null,
       "justify_items": null,
       "left": null,
       "margin": null,
       "max_height": null,
       "max_width": null,
       "min_height": null,
       "min_width": null,
       "object_fit": null,
       "object_position": null,
       "order": null,
       "overflow": null,
       "overflow_x": null,
       "overflow_y": null,
       "padding": null,
       "right": null,
       "top": null,
       "visibility": null,
       "width": null
      }
     },
     "2002f527c356457894c839c319b21a06": {
      "model_module": "@jupyter-widgets/controls",
      "model_module_version": "1.5.0",
      "model_name": "FloatProgressModel",
      "state": {
       "_dom_classes": [],
       "_model_module": "@jupyter-widgets/controls",
       "_model_module_version": "1.5.0",
       "_model_name": "FloatProgressModel",
       "_view_count": null,
       "_view_module": "@jupyter-widgets/controls",
       "_view_module_version": "1.5.0",
       "_view_name": "ProgressView",
       "bar_style": "success",
       "description": "",
       "description_tooltip": null,
       "layout": "IPY_MODEL_32b60d8fdad44728b8a2ec1de7df59f5",
       "max": 29515.0,
       "min": 0.0,
       "orientation": "horizontal",
       "style": "IPY_MODEL_9ce27bf564d24bfeabf70a49b49028d1",
       "value": 29515.0
      }
     },
     "22bdc464928741af8172da8a21d89585": {
      "model_module": "@jupyter-widgets/controls",
      "model_module_version": "1.5.0",
      "model_name": "DescriptionStyleModel",
      "state": {
       "_model_module": "@jupyter-widgets/controls",
       "_model_module_version": "1.5.0",
       "_model_name": "DescriptionStyleModel",
       "_view_count": null,
       "_view_module": "@jupyter-widgets/base",
       "_view_module_version": "1.2.0",
       "_view_name": "StyleView",
       "description_width": ""
      }
     },
     "2b9fa46c9eea4d72bde095b7fc60579d": {
      "model_module": "@jupyter-widgets/base",
      "model_module_version": "1.2.0",
      "model_name": "LayoutModel",
      "state": {
       "_model_module": "@jupyter-widgets/base",
       "_model_module_version": "1.2.0",
       "_model_name": "LayoutModel",
       "_view_count": null,
       "_view_module": "@jupyter-widgets/base",
       "_view_module_version": "1.2.0",
       "_view_name": "LayoutView",
       "align_content": null,
       "align_items": null,
       "align_self": null,
       "border": null,
       "bottom": null,
       "display": null,
       "flex": null,
       "flex_flow": null,
       "grid_area": null,
       "grid_auto_columns": null,
       "grid_auto_flow": null,
       "grid_auto_rows": null,
       "grid_column": null,
       "grid_gap": null,
       "grid_row": null,
       "grid_template_areas": null,
       "grid_template_columns": null,
       "grid_template_rows": null,
       "height": null,
       "justify_content": null,
       "justify_items": null,
       "left": null,
       "margin": null,
       "max_height": null,
       "max_width": null,
       "min_height": null,
       "min_width": null,
       "object_fit": null,
       "object_position": null,
       "order": null,
       "overflow": null,
       "overflow_x": null,
       "overflow_y": null,
       "padding": null,
       "right": null,
       "top": null,
       "visibility": null,
       "width": null
      }
     },
     "30f3e041fce849e1a6671ba60546335b": {
      "model_module": "@jupyter-widgets/controls",
      "model_module_version": "1.5.0",
      "model_name": "HTMLModel",
      "state": {
       "_dom_classes": [],
       "_model_module": "@jupyter-widgets/controls",
       "_model_module_version": "1.5.0",
       "_model_name": "HTMLModel",
       "_view_count": null,
       "_view_module": "@jupyter-widgets/controls",
       "_view_module_version": "1.5.0",
       "_view_name": "HTMLView",
       "description": "",
       "description_tooltip": null,
       "layout": "IPY_MODEL_beae443f06c84a07a8c052e715675c5d",
       "placeholder": "​",
       "style": "IPY_MODEL_d8827b62d44d4535bba1d641184c3265",
       "value": ""
      }
     },
     "32b60d8fdad44728b8a2ec1de7df59f5": {
      "model_module": "@jupyter-widgets/base",
      "model_module_version": "1.2.0",
      "model_name": "LayoutModel",
      "state": {
       "_model_module": "@jupyter-widgets/base",
       "_model_module_version": "1.2.0",
       "_model_name": "LayoutModel",
       "_view_count": null,
       "_view_module": "@jupyter-widgets/base",
       "_view_module_version": "1.2.0",
       "_view_name": "LayoutView",
       "align_content": null,
       "align_items": null,
       "align_self": null,
       "border": null,
       "bottom": null,
       "display": null,
       "flex": null,
       "flex_flow": null,
       "grid_area": null,
       "grid_auto_columns": null,
       "grid_auto_flow": null,
       "grid_auto_rows": null,
       "grid_column": null,
       "grid_gap": null,
       "grid_row": null,
       "grid_template_areas": null,
       "grid_template_columns": null,
       "grid_template_rows": null,
       "height": null,
       "justify_content": null,
       "justify_items": null,
       "left": null,
       "margin": null,
       "max_height": null,
       "max_width": null,
       "min_height": null,
       "min_width": null,
       "object_fit": null,
       "object_position": null,
       "order": null,
       "overflow": null,
       "overflow_x": null,
       "overflow_y": null,
       "padding": null,
       "right": null,
       "top": null,
       "visibility": null,
       "width": null
      }
     },
     "32d69b53c23c4e54af1ffdf854a5a72e": {
      "model_module": "@jupyter-widgets/base",
      "model_module_version": "1.2.0",
      "model_name": "LayoutModel",
      "state": {
       "_model_module": "@jupyter-widgets/base",
       "_model_module_version": "1.2.0",
       "_model_name": "LayoutModel",
       "_view_count": null,
       "_view_module": "@jupyter-widgets/base",
       "_view_module_version": "1.2.0",
       "_view_name": "LayoutView",
       "align_content": null,
       "align_items": null,
       "align_self": null,
       "border": null,
       "bottom": null,
       "display": null,
       "flex": null,
       "flex_flow": null,
       "grid_area": null,
       "grid_auto_columns": null,
       "grid_auto_flow": null,
       "grid_auto_rows": null,
       "grid_column": null,
       "grid_gap": null,
       "grid_row": null,
       "grid_template_areas": null,
       "grid_template_columns": null,
       "grid_template_rows": null,
       "height": null,
       "justify_content": null,
       "justify_items": null,
       "left": null,
       "margin": null,
       "max_height": null,
       "max_width": null,
       "min_height": null,
       "min_width": null,
       "object_fit": null,
       "object_position": null,
       "order": null,
       "overflow": null,
       "overflow_x": null,
       "overflow_y": null,
       "padding": null,
       "right": null,
       "top": null,
       "visibility": null,
       "width": null
      }
     },
     "37479c739bab46c9a826b239b7b68ad1": {
      "model_module": "@jupyter-widgets/controls",
      "model_module_version": "1.5.0",
      "model_name": "HBoxModel",
      "state": {
       "_dom_classes": [],
       "_model_module": "@jupyter-widgets/controls",
       "_model_module_version": "1.5.0",
       "_model_name": "HBoxModel",
       "_view_count": null,
       "_view_module": "@jupyter-widgets/controls",
       "_view_module_version": "1.5.0",
       "_view_name": "HBoxView",
       "box_style": "",
       "children": [
        "IPY_MODEL_453034736e4f4e7aabcd9a8701fe335a",
        "IPY_MODEL_2002f527c356457894c839c319b21a06",
        "IPY_MODEL_da24517bf0a44fd98bf6512ada764db1"
       ],
       "layout": "IPY_MODEL_49c19d1da34e453b9ea3f27324c34f1b"
      }
     },
     "38e42d7aa45546c58d63c50d90470576": {
      "model_module": "@jupyter-widgets/controls",
      "model_module_version": "1.5.0",
      "model_name": "ProgressStyleModel",
      "state": {
       "_model_module": "@jupyter-widgets/controls",
       "_model_module_version": "1.5.0",
       "_model_name": "ProgressStyleModel",
       "_view_count": null,
       "_view_module": "@jupyter-widgets/base",
       "_view_module_version": "1.2.0",
       "_view_name": "StyleView",
       "bar_color": null,
       "description_width": ""
      }
     },
     "3baf487549b24311af8409903038d84b": {
      "model_module": "@jupyter-widgets/base",
      "model_module_version": "1.2.0",
      "model_name": "LayoutModel",
      "state": {
       "_model_module": "@jupyter-widgets/base",
       "_model_module_version": "1.2.0",
       "_model_name": "LayoutModel",
       "_view_count": null,
       "_view_module": "@jupyter-widgets/base",
       "_view_module_version": "1.2.0",
       "_view_name": "LayoutView",
       "align_content": null,
       "align_items": null,
       "align_self": null,
       "border": null,
       "bottom": null,
       "display": null,
       "flex": null,
       "flex_flow": null,
       "grid_area": null,
       "grid_auto_columns": null,
       "grid_auto_flow": null,
       "grid_auto_rows": null,
       "grid_column": null,
       "grid_gap": null,
       "grid_row": null,
       "grid_template_areas": null,
       "grid_template_columns": null,
       "grid_template_rows": null,
       "height": null,
       "justify_content": null,
       "justify_items": null,
       "left": null,
       "margin": null,
       "max_height": null,
       "max_width": null,
       "min_height": null,
       "min_width": null,
       "object_fit": null,
       "object_position": null,
       "order": null,
       "overflow": null,
       "overflow_x": null,
       "overflow_y": null,
       "padding": null,
       "right": null,
       "top": null,
       "visibility": null,
       "width": null
      }
     },
     "453034736e4f4e7aabcd9a8701fe335a": {
      "model_module": "@jupyter-widgets/controls",
      "model_module_version": "1.5.0",
      "model_name": "HTMLModel",
      "state": {
       "_dom_classes": [],
       "_model_module": "@jupyter-widgets/controls",
       "_model_module_version": "1.5.0",
       "_model_name": "HTMLModel",
       "_view_count": null,
       "_view_module": "@jupyter-widgets/controls",
       "_view_module_version": "1.5.0",
       "_view_name": "HTMLView",
       "description": "",
       "description_tooltip": null,
       "layout": "IPY_MODEL_7299ba889df8494aabbc564a54139151",
       "placeholder": "​",
       "style": "IPY_MODEL_1038739411fa4401b2d91b06f67db750",
       "value": ""
      }
     },
     "49c19d1da34e453b9ea3f27324c34f1b": {
      "model_module": "@jupyter-widgets/base",
      "model_module_version": "1.2.0",
      "model_name": "LayoutModel",
      "state": {
       "_model_module": "@jupyter-widgets/base",
       "_model_module_version": "1.2.0",
       "_model_name": "LayoutModel",
       "_view_count": null,
       "_view_module": "@jupyter-widgets/base",
       "_view_module_version": "1.2.0",
       "_view_name": "LayoutView",
       "align_content": null,
       "align_items": null,
       "align_self": null,
       "border": null,
       "bottom": null,
       "display": null,
       "flex": null,
       "flex_flow": null,
       "grid_area": null,
       "grid_auto_columns": null,
       "grid_auto_flow": null,
       "grid_auto_rows": null,
       "grid_column": null,
       "grid_gap": null,
       "grid_row": null,
       "grid_template_areas": null,
       "grid_template_columns": null,
       "grid_template_rows": null,
       "height": null,
       "justify_content": null,
       "justify_items": null,
       "left": null,
       "margin": null,
       "max_height": null,
       "max_width": null,
       "min_height": null,
       "min_width": null,
       "object_fit": null,
       "object_position": null,
       "order": null,
       "overflow": null,
       "overflow_x": null,
       "overflow_y": null,
       "padding": null,
       "right": null,
       "top": null,
       "visibility": null,
       "width": null
      }
     },
     "64aa565dcb174aa58c38b8672a74a6b0": {
      "model_module": "@jupyter-widgets/controls",
      "model_module_version": "1.5.0",
      "model_name": "HBoxModel",
      "state": {
       "_dom_classes": [],
       "_model_module": "@jupyter-widgets/controls",
       "_model_module_version": "1.5.0",
       "_model_name": "HBoxModel",
       "_view_count": null,
       "_view_module": "@jupyter-widgets/controls",
       "_view_module_version": "1.5.0",
       "_view_name": "HBoxView",
       "box_style": "",
       "children": [
        "IPY_MODEL_30f3e041fce849e1a6671ba60546335b",
        "IPY_MODEL_ecdb1d29609f4c77b2f9c4d3edaf2afc",
        "IPY_MODEL_7a2e3e91568c40a9ba44f297616fdd53"
       ],
       "layout": "IPY_MODEL_76c389e1dca3429bb7ddeeace501a533"
      }
     },
     "6f2866bd7aff4ba484b7f40e4424df50": {
      "model_module": "@jupyter-widgets/base",
      "model_module_version": "1.2.0",
      "model_name": "LayoutModel",
      "state": {
       "_model_module": "@jupyter-widgets/base",
       "_model_module_version": "1.2.0",
       "_model_name": "LayoutModel",
       "_view_count": null,
       "_view_module": "@jupyter-widgets/base",
       "_view_module_version": "1.2.0",
       "_view_name": "LayoutView",
       "align_content": null,
       "align_items": null,
       "align_self": null,
       "border": null,
       "bottom": null,
       "display": null,
       "flex": null,
       "flex_flow": null,
       "grid_area": null,
       "grid_auto_columns": null,
       "grid_auto_flow": null,
       "grid_auto_rows": null,
       "grid_column": null,
       "grid_gap": null,
       "grid_row": null,
       "grid_template_areas": null,
       "grid_template_columns": null,
       "grid_template_rows": null,
       "height": null,
       "justify_content": null,
       "justify_items": null,
       "left": null,
       "margin": null,
       "max_height": null,
       "max_width": null,
       "min_height": null,
       "min_width": null,
       "object_fit": null,
       "object_position": null,
       "order": null,
       "overflow": null,
       "overflow_x": null,
       "overflow_y": null,
       "padding": null,
       "right": null,
       "top": null,
       "visibility": null,
       "width": null
      }
     },
     "7207c9bbad074ebdbc5c0c64daa2384f": {
      "model_module": "@jupyter-widgets/controls",
      "model_module_version": "1.5.0",
      "model_name": "DescriptionStyleModel",
      "state": {
       "_model_module": "@jupyter-widgets/controls",
       "_model_module_version": "1.5.0",
       "_model_name": "DescriptionStyleModel",
       "_view_count": null,
       "_view_module": "@jupyter-widgets/base",
       "_view_module_version": "1.2.0",
       "_view_name": "StyleView",
       "description_width": ""
      }
     },
     "7299ba889df8494aabbc564a54139151": {
      "model_module": "@jupyter-widgets/base",
      "model_module_version": "1.2.0",
      "model_name": "LayoutModel",
      "state": {
       "_model_module": "@jupyter-widgets/base",
       "_model_module_version": "1.2.0",
       "_model_name": "LayoutModel",
       "_view_count": null,
       "_view_module": "@jupyter-widgets/base",
       "_view_module_version": "1.2.0",
       "_view_name": "LayoutView",
       "align_content": null,
       "align_items": null,
       "align_self": null,
       "border": null,
       "bottom": null,
       "display": null,
       "flex": null,
       "flex_flow": null,
       "grid_area": null,
       "grid_auto_columns": null,
       "grid_auto_flow": null,
       "grid_auto_rows": null,
       "grid_column": null,
       "grid_gap": null,
       "grid_row": null,
       "grid_template_areas": null,
       "grid_template_columns": null,
       "grid_template_rows": null,
       "height": null,
       "justify_content": null,
       "justify_items": null,
       "left": null,
       "margin": null,
       "max_height": null,
       "max_width": null,
       "min_height": null,
       "min_width": null,
       "object_fit": null,
       "object_position": null,
       "order": null,
       "overflow": null,
       "overflow_x": null,
       "overflow_y": null,
       "padding": null,
       "right": null,
       "top": null,
       "visibility": null,
       "width": null
      }
     },
     "76c389e1dca3429bb7ddeeace501a533": {
      "model_module": "@jupyter-widgets/base",
      "model_module_version": "1.2.0",
      "model_name": "LayoutModel",
      "state": {
       "_model_module": "@jupyter-widgets/base",
       "_model_module_version": "1.2.0",
       "_model_name": "LayoutModel",
       "_view_count": null,
       "_view_module": "@jupyter-widgets/base",
       "_view_module_version": "1.2.0",
       "_view_name": "LayoutView",
       "align_content": null,
       "align_items": null,
       "align_self": null,
       "border": null,
       "bottom": null,
       "display": null,
       "flex": null,
       "flex_flow": null,
       "grid_area": null,
       "grid_auto_columns": null,
       "grid_auto_flow": null,
       "grid_auto_rows": null,
       "grid_column": null,
       "grid_gap": null,
       "grid_row": null,
       "grid_template_areas": null,
       "grid_template_columns": null,
       "grid_template_rows": null,
       "height": null,
       "justify_content": null,
       "justify_items": null,
       "left": null,
       "margin": null,
       "max_height": null,
       "max_width": null,
       "min_height": null,
       "min_width": null,
       "object_fit": null,
       "object_position": null,
       "order": null,
       "overflow": null,
       "overflow_x": null,
       "overflow_y": null,
       "padding": null,
       "right": null,
       "top": null,
       "visibility": null,
       "width": null
      }
     },
     "79195e8a784c429c94a7e417767776b7": {
      "model_module": "@jupyter-widgets/controls",
      "model_module_version": "1.5.0",
      "model_name": "FloatProgressModel",
      "state": {
       "_dom_classes": [],
       "_model_module": "@jupyter-widgets/controls",
       "_model_module_version": "1.5.0",
       "_model_name": "FloatProgressModel",
       "_view_count": null,
       "_view_module": "@jupyter-widgets/controls",
       "_view_module_version": "1.5.0",
       "_view_name": "ProgressView",
       "bar_style": "success",
       "description": "",
       "description_tooltip": null,
       "layout": "IPY_MODEL_a4120cfc5f24400aa5c330fa7a7ea641",
       "max": 5148.0,
       "min": 0.0,
       "orientation": "horizontal",
       "style": "IPY_MODEL_e192d8e4a86e4443b795c3dbd94e2f6b",
       "value": 5148.0
      }
     },
     "7a2e3e91568c40a9ba44f297616fdd53": {
      "model_module": "@jupyter-widgets/controls",
      "model_module_version": "1.5.0",
      "model_name": "HTMLModel",
      "state": {
       "_dom_classes": [],
       "_model_module": "@jupyter-widgets/controls",
       "_model_module_version": "1.5.0",
       "_model_name": "HTMLModel",
       "_view_count": null,
       "_view_module": "@jupyter-widgets/controls",
       "_view_module_version": "1.5.0",
       "_view_name": "HTMLView",
       "description": "",
       "description_tooltip": null,
       "layout": "IPY_MODEL_32d69b53c23c4e54af1ffdf854a5a72e",
       "placeholder": "​",
       "style": "IPY_MODEL_1399ca1d03be41458541eff424fe8db5",
       "value": " 4422656/? [00:09&lt;00:00, 1411287.24it/s]"
      }
     },
     "7b80290cb5aa42229934b9b093b9fa2b": {
      "model_module": "@jupyter-widgets/base",
      "model_module_version": "1.2.0",
      "model_name": "LayoutModel",
      "state": {
       "_model_module": "@jupyter-widgets/base",
       "_model_module_version": "1.2.0",
       "_model_name": "LayoutModel",
       "_view_count": null,
       "_view_module": "@jupyter-widgets/base",
       "_view_module_version": "1.2.0",
       "_view_name": "LayoutView",
       "align_content": null,
       "align_items": null,
       "align_self": null,
       "border": null,
       "bottom": null,
       "display": null,
       "flex": null,
       "flex_flow": null,
       "grid_area": null,
       "grid_auto_columns": null,
       "grid_auto_flow": null,
       "grid_auto_rows": null,
       "grid_column": null,
       "grid_gap": null,
       "grid_row": null,
       "grid_template_areas": null,
       "grid_template_columns": null,
       "grid_template_rows": null,
       "height": null,
       "justify_content": null,
       "justify_items": null,
       "left": null,
       "margin": null,
       "max_height": null,
       "max_width": null,
       "min_height": null,
       "min_width": null,
       "object_fit": null,
       "object_position": null,
       "order": null,
       "overflow": null,
       "overflow_x": null,
       "overflow_y": null,
       "padding": null,
       "right": null,
       "top": null,
       "visibility": null,
       "width": null
      }
     },
     "82679016cddc4fe48f8dbdc3c5cb8428": {
      "model_module": "@jupyter-widgets/controls",
      "model_module_version": "1.5.0",
      "model_name": "HBoxModel",
      "state": {
       "_dom_classes": [],
       "_model_module": "@jupyter-widgets/controls",
       "_model_module_version": "1.5.0",
       "_model_name": "HBoxModel",
       "_view_count": null,
       "_view_module": "@jupyter-widgets/controls",
       "_view_module_version": "1.5.0",
       "_view_name": "HBoxView",
       "box_style": "",
       "children": [
        "IPY_MODEL_94d3ccb22b00494eb1cc53d9c39b3bd4",
        "IPY_MODEL_79195e8a784c429c94a7e417767776b7",
        "IPY_MODEL_be5f19394b77480bbe51f327db3e65bb"
       ],
       "layout": "IPY_MODEL_fcae192b68b14343b655259f0536acd6"
      }
     },
     "845ee99e6d8c4a0fa0dfbf8e6eaf9641": {
      "model_module": "@jupyter-widgets/controls",
      "model_module_version": "1.5.0",
      "model_name": "HTMLModel",
      "state": {
       "_dom_classes": [],
       "_model_module": "@jupyter-widgets/controls",
       "_model_module_version": "1.5.0",
       "_model_name": "HTMLModel",
       "_view_count": null,
       "_view_module": "@jupyter-widgets/controls",
       "_view_module_version": "1.5.0",
       "_view_name": "HTMLView",
       "description": "",
       "description_tooltip": null,
       "layout": "IPY_MODEL_ff2365149bce4011830f6bc6d2baeef0",
       "placeholder": "​",
       "style": "IPY_MODEL_cdf1929a0fc648f2a336afc09291f59a",
       "value": ""
      }
     },
     "857e3be4dda54fac887c877abcfcf307": {
      "model_module": "@jupyter-widgets/controls",
      "model_module_version": "1.5.0",
      "model_name": "HTMLModel",
      "state": {
       "_dom_classes": [],
       "_model_module": "@jupyter-widgets/controls",
       "_model_module_version": "1.5.0",
       "_model_name": "HTMLModel",
       "_view_count": null,
       "_view_module": "@jupyter-widgets/controls",
       "_view_module_version": "1.5.0",
       "_view_name": "HTMLView",
       "description": "",
       "description_tooltip": null,
       "layout": "IPY_MODEL_6f2866bd7aff4ba484b7f40e4424df50",
       "placeholder": "​",
       "style": "IPY_MODEL_7207c9bbad074ebdbc5c0c64daa2384f",
       "value": " 26422272/? [00:03&lt;00:00, 10365496.43it/s]"
      }
     },
     "94d3ccb22b00494eb1cc53d9c39b3bd4": {
      "model_module": "@jupyter-widgets/controls",
      "model_module_version": "1.5.0",
      "model_name": "HTMLModel",
      "state": {
       "_dom_classes": [],
       "_model_module": "@jupyter-widgets/controls",
       "_model_module_version": "1.5.0",
       "_model_name": "HTMLModel",
       "_view_count": null,
       "_view_module": "@jupyter-widgets/controls",
       "_view_module_version": "1.5.0",
       "_view_name": "HTMLView",
       "description": "",
       "description_tooltip": null,
       "layout": "IPY_MODEL_3baf487549b24311af8409903038d84b",
       "placeholder": "​",
       "style": "IPY_MODEL_c2220bd02b5f4016aa68f29ff61452e6",
       "value": ""
      }
     },
     "9ce27bf564d24bfeabf70a49b49028d1": {
      "model_module": "@jupyter-widgets/controls",
      "model_module_version": "1.5.0",
      "model_name": "ProgressStyleModel",
      "state": {
       "_model_module": "@jupyter-widgets/controls",
       "_model_module_version": "1.5.0",
       "_model_name": "ProgressStyleModel",
       "_view_count": null,
       "_view_module": "@jupyter-widgets/base",
       "_view_module_version": "1.2.0",
       "_view_name": "StyleView",
       "bar_color": null,
       "description_width": ""
      }
     },
     "9f11d113ae494f15a29a2ee2d630dfd8": {
      "model_module": "@jupyter-widgets/controls",
      "model_module_version": "1.5.0",
      "model_name": "DescriptionStyleModel",
      "state": {
       "_model_module": "@jupyter-widgets/controls",
       "_model_module_version": "1.5.0",
       "_model_name": "DescriptionStyleModel",
       "_view_count": null,
       "_view_module": "@jupyter-widgets/base",
       "_view_module_version": "1.2.0",
       "_view_name": "StyleView",
       "description_width": ""
      }
     },
     "a4120cfc5f24400aa5c330fa7a7ea641": {
      "model_module": "@jupyter-widgets/base",
      "model_module_version": "1.2.0",
      "model_name": "LayoutModel",
      "state": {
       "_model_module": "@jupyter-widgets/base",
       "_model_module_version": "1.2.0",
       "_model_name": "LayoutModel",
       "_view_count": null,
       "_view_module": "@jupyter-widgets/base",
       "_view_module_version": "1.2.0",
       "_view_name": "LayoutView",
       "align_content": null,
       "align_items": null,
       "align_self": null,
       "border": null,
       "bottom": null,
       "display": null,
       "flex": null,
       "flex_flow": null,
       "grid_area": null,
       "grid_auto_columns": null,
       "grid_auto_flow": null,
       "grid_auto_rows": null,
       "grid_column": null,
       "grid_gap": null,
       "grid_row": null,
       "grid_template_areas": null,
       "grid_template_columns": null,
       "grid_template_rows": null,
       "height": null,
       "justify_content": null,
       "justify_items": null,
       "left": null,
       "margin": null,
       "max_height": null,
       "max_width": null,
       "min_height": null,
       "min_width": null,
       "object_fit": null,
       "object_position": null,
       "order": null,
       "overflow": null,
       "overflow_x": null,
       "overflow_y": null,
       "padding": null,
       "right": null,
       "top": null,
       "visibility": null,
       "width": null
      }
     },
     "a7eeb0b8c5da4564b6ed27ea8116ac8b": {
      "model_module": "@jupyter-widgets/controls",
      "model_module_version": "1.5.0",
      "model_name": "HBoxModel",
      "state": {
       "_dom_classes": [],
       "_model_module": "@jupyter-widgets/controls",
       "_model_module_version": "1.5.0",
       "_model_name": "HBoxModel",
       "_view_count": null,
       "_view_module": "@jupyter-widgets/controls",
       "_view_module_version": "1.5.0",
       "_view_name": "HBoxView",
       "box_style": "",
       "children": [
        "IPY_MODEL_845ee99e6d8c4a0fa0dfbf8e6eaf9641",
        "IPY_MODEL_02aa27e07dc847ef9bf456881913aab5",
        "IPY_MODEL_857e3be4dda54fac887c877abcfcf307"
       ],
       "layout": "IPY_MODEL_7b80290cb5aa42229934b9b093b9fa2b"
      }
     },
     "be5f19394b77480bbe51f327db3e65bb": {
      "model_module": "@jupyter-widgets/controls",
      "model_module_version": "1.5.0",
      "model_name": "HTMLModel",
      "state": {
       "_dom_classes": [],
       "_model_module": "@jupyter-widgets/controls",
       "_model_module_version": "1.5.0",
       "_model_name": "HTMLModel",
       "_view_count": null,
       "_view_module": "@jupyter-widgets/controls",
       "_view_module_version": "1.5.0",
       "_view_name": "HTMLView",
       "description": "",
       "description_tooltip": null,
       "layout": "IPY_MODEL_2b9fa46c9eea4d72bde095b7fc60579d",
       "placeholder": "​",
       "style": "IPY_MODEL_9f11d113ae494f15a29a2ee2d630dfd8",
       "value": " 6144/? [00:00&lt;00:00, 223202.15it/s]"
      }
     },
     "beae443f06c84a07a8c052e715675c5d": {
      "model_module": "@jupyter-widgets/base",
      "model_module_version": "1.2.0",
      "model_name": "LayoutModel",
      "state": {
       "_model_module": "@jupyter-widgets/base",
       "_model_module_version": "1.2.0",
       "_model_name": "LayoutModel",
       "_view_count": null,
       "_view_module": "@jupyter-widgets/base",
       "_view_module_version": "1.2.0",
       "_view_name": "LayoutView",
       "align_content": null,
       "align_items": null,
       "align_self": null,
       "border": null,
       "bottom": null,
       "display": null,
       "flex": null,
       "flex_flow": null,
       "grid_area": null,
       "grid_auto_columns": null,
       "grid_auto_flow": null,
       "grid_auto_rows": null,
       "grid_column": null,
       "grid_gap": null,
       "grid_row": null,
       "grid_template_areas": null,
       "grid_template_columns": null,
       "grid_template_rows": null,
       "height": null,
       "justify_content": null,
       "justify_items": null,
       "left": null,
       "margin": null,
       "max_height": null,
       "max_width": null,
       "min_height": null,
       "min_width": null,
       "object_fit": null,
       "object_position": null,
       "order": null,
       "overflow": null,
       "overflow_x": null,
       "overflow_y": null,
       "padding": null,
       "right": null,
       "top": null,
       "visibility": null,
       "width": null
      }
     },
     "befcdf53526248a7ac4bc2f5ecb89b5e": {
      "model_module": "@jupyter-widgets/base",
      "model_module_version": "1.2.0",
      "model_name": "LayoutModel",
      "state": {
       "_model_module": "@jupyter-widgets/base",
       "_model_module_version": "1.2.0",
       "_model_name": "LayoutModel",
       "_view_count": null,
       "_view_module": "@jupyter-widgets/base",
       "_view_module_version": "1.2.0",
       "_view_name": "LayoutView",
       "align_content": null,
       "align_items": null,
       "align_self": null,
       "border": null,
       "bottom": null,
       "display": null,
       "flex": null,
       "flex_flow": null,
       "grid_area": null,
       "grid_auto_columns": null,
       "grid_auto_flow": null,
       "grid_auto_rows": null,
       "grid_column": null,
       "grid_gap": null,
       "grid_row": null,
       "grid_template_areas": null,
       "grid_template_columns": null,
       "grid_template_rows": null,
       "height": null,
       "justify_content": null,
       "justify_items": null,
       "left": null,
       "margin": null,
       "max_height": null,
       "max_width": null,
       "min_height": null,
       "min_width": null,
       "object_fit": null,
       "object_position": null,
       "order": null,
       "overflow": null,
       "overflow_x": null,
       "overflow_y": null,
       "padding": null,
       "right": null,
       "top": null,
       "visibility": null,
       "width": null
      }
     },
     "c2220bd02b5f4016aa68f29ff61452e6": {
      "model_module": "@jupyter-widgets/controls",
      "model_module_version": "1.5.0",
      "model_name": "DescriptionStyleModel",
      "state": {
       "_model_module": "@jupyter-widgets/controls",
       "_model_module_version": "1.5.0",
       "_model_name": "DescriptionStyleModel",
       "_view_count": null,
       "_view_module": "@jupyter-widgets/base",
       "_view_module_version": "1.2.0",
       "_view_name": "StyleView",
       "description_width": ""
      }
     },
     "cdf1929a0fc648f2a336afc09291f59a": {
      "model_module": "@jupyter-widgets/controls",
      "model_module_version": "1.5.0",
      "model_name": "DescriptionStyleModel",
      "state": {
       "_model_module": "@jupyter-widgets/controls",
       "_model_module_version": "1.5.0",
       "_model_name": "DescriptionStyleModel",
       "_view_count": null,
       "_view_module": "@jupyter-widgets/base",
       "_view_module_version": "1.2.0",
       "_view_name": "StyleView",
       "description_width": ""
      }
     },
     "d8827b62d44d4535bba1d641184c3265": {
      "model_module": "@jupyter-widgets/controls",
      "model_module_version": "1.5.0",
      "model_name": "DescriptionStyleModel",
      "state": {
       "_model_module": "@jupyter-widgets/controls",
       "_model_module_version": "1.5.0",
       "_model_name": "DescriptionStyleModel",
       "_view_count": null,
       "_view_module": "@jupyter-widgets/base",
       "_view_module_version": "1.2.0",
       "_view_name": "StyleView",
       "description_width": ""
      }
     },
     "da24517bf0a44fd98bf6512ada764db1": {
      "model_module": "@jupyter-widgets/controls",
      "model_module_version": "1.5.0",
      "model_name": "HTMLModel",
      "state": {
       "_dom_classes": [],
       "_model_module": "@jupyter-widgets/controls",
       "_model_module_version": "1.5.0",
       "_model_name": "HTMLModel",
       "_view_count": null,
       "_view_module": "@jupyter-widgets/controls",
       "_view_module_version": "1.5.0",
       "_view_name": "HTMLView",
       "description": "",
       "description_tooltip": null,
       "layout": "IPY_MODEL_1cbcc4ebc4c0426c81ee6c6f0ce789a4",
       "placeholder": "​",
       "style": "IPY_MODEL_22bdc464928741af8172da8a21d89585",
       "value": " 29696/? [00:00&lt;00:00, 47090.76it/s]"
      }
     },
     "dfdc84b8cfed4ee68c3a760eec6ddc66": {
      "model_module": "@jupyter-widgets/controls",
      "model_module_version": "1.5.0",
      "model_name": "ProgressStyleModel",
      "state": {
       "_model_module": "@jupyter-widgets/controls",
       "_model_module_version": "1.5.0",
       "_model_name": "ProgressStyleModel",
       "_view_count": null,
       "_view_module": "@jupyter-widgets/base",
       "_view_module_version": "1.2.0",
       "_view_name": "StyleView",
       "bar_color": null,
       "description_width": ""
      }
     },
     "e192d8e4a86e4443b795c3dbd94e2f6b": {
      "model_module": "@jupyter-widgets/controls",
      "model_module_version": "1.5.0",
      "model_name": "ProgressStyleModel",
      "state": {
       "_model_module": "@jupyter-widgets/controls",
       "_model_module_version": "1.5.0",
       "_model_name": "ProgressStyleModel",
       "_view_count": null,
       "_view_module": "@jupyter-widgets/base",
       "_view_module_version": "1.2.0",
       "_view_name": "StyleView",
       "bar_color": null,
       "description_width": ""
      }
     },
     "ecdb1d29609f4c77b2f9c4d3edaf2afc": {
      "model_module": "@jupyter-widgets/controls",
      "model_module_version": "1.5.0",
      "model_name": "FloatProgressModel",
      "state": {
       "_dom_classes": [],
       "_model_module": "@jupyter-widgets/controls",
       "_model_module_version": "1.5.0",
       "_model_name": "FloatProgressModel",
       "_view_count": null,
       "_view_module": "@jupyter-widgets/controls",
       "_view_module_version": "1.5.0",
       "_view_name": "ProgressView",
       "bar_style": "success",
       "description": "",
       "description_tooltip": null,
       "layout": "IPY_MODEL_09a2431b72bb479583f823bb22137440",
       "max": 4422102.0,
       "min": 0.0,
       "orientation": "horizontal",
       "style": "IPY_MODEL_38e42d7aa45546c58d63c50d90470576",
       "value": 4422102.0
      }
     },
     "fcae192b68b14343b655259f0536acd6": {
      "model_module": "@jupyter-widgets/base",
      "model_module_version": "1.2.0",
      "model_name": "LayoutModel",
      "state": {
       "_model_module": "@jupyter-widgets/base",
       "_model_module_version": "1.2.0",
       "_model_name": "LayoutModel",
       "_view_count": null,
       "_view_module": "@jupyter-widgets/base",
       "_view_module_version": "1.2.0",
       "_view_name": "LayoutView",
       "align_content": null,
       "align_items": null,
       "align_self": null,
       "border": null,
       "bottom": null,
       "display": null,
       "flex": null,
       "flex_flow": null,
       "grid_area": null,
       "grid_auto_columns": null,
       "grid_auto_flow": null,
       "grid_auto_rows": null,
       "grid_column": null,
       "grid_gap": null,
       "grid_row": null,
       "grid_template_areas": null,
       "grid_template_columns": null,
       "grid_template_rows": null,
       "height": null,
       "justify_content": null,
       "justify_items": null,
       "left": null,
       "margin": null,
       "max_height": null,
       "max_width": null,
       "min_height": null,
       "min_width": null,
       "object_fit": null,
       "object_position": null,
       "order": null,
       "overflow": null,
       "overflow_x": null,
       "overflow_y": null,
       "padding": null,
       "right": null,
       "top": null,
       "visibility": null,
       "width": null
      }
     },
     "ff2365149bce4011830f6bc6d2baeef0": {
      "model_module": "@jupyter-widgets/base",
      "model_module_version": "1.2.0",
      "model_name": "LayoutModel",
      "state": {
       "_model_module": "@jupyter-widgets/base",
       "_model_module_version": "1.2.0",
       "_model_name": "LayoutModel",
       "_view_count": null,
       "_view_module": "@jupyter-widgets/base",
       "_view_module_version": "1.2.0",
       "_view_name": "LayoutView",
       "align_content": null,
       "align_items": null,
       "align_self": null,
       "border": null,
       "bottom": null,
       "display": null,
       "flex": null,
       "flex_flow": null,
       "grid_area": null,
       "grid_auto_columns": null,
       "grid_auto_flow": null,
       "grid_auto_rows": null,
       "grid_column": null,
       "grid_gap": null,
       "grid_row": null,
       "grid_template_areas": null,
       "grid_template_columns": null,
       "grid_template_rows": null,
       "height": null,
       "justify_content": null,
       "justify_items": null,
       "left": null,
       "margin": null,
       "max_height": null,
       "max_width": null,
       "min_height": null,
       "min_width": null,
       "object_fit": null,
       "object_position": null,
       "order": null,
       "overflow": null,
       "overflow_x": null,
       "overflow_y": null,
       "padding": null,
       "right": null,
       "top": null,
       "visibility": null,
       "width": null
      }
     }
    },
    "version_major": 2,
    "version_minor": 0
   }
  }
 },
 "nbformat": 4,
 "nbformat_minor": 5
}
