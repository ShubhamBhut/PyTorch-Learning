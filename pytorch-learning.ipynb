{
 "cells": [
  {
   "cell_type": "markdown",
   "id": "82fc443f",
   "metadata": {
    "papermill": {
     "duration": 0.0281,
     "end_time": "2022-10-06T16:17:23.364252",
     "exception": false,
     "start_time": "2022-10-06T16:17:23.336152",
     "status": "completed"
    },
    "tags": []
   },
   "source": [
    "### PyTorch is one of the hottest Deep learning frameworks right now. \n",
    "#### If you are a total beginner to Deep learning frameworks and have enough time then I would recommend pytorch's official [Documentation](https://pytorch.org/tutorials/index.html). If you have a little idea or you willing to start making deep learning models as quickly as possible, then I think this notebook will be ideal for you. This notebook can also be used for revision or as notes. In this beginner's guide we will see all the basics of pytorch and will also create a simple classification model."
   ]
  },
  {
   "cell_type": "markdown",
   "id": "ec41868b",
   "metadata": {
    "papermill": {
     "duration": 0.022218,
     "end_time": "2022-10-06T16:17:23.407898",
     "exception": false,
     "start_time": "2022-10-06T16:17:23.385680",
     "status": "completed"
    },
    "tags": []
   },
   "source": [
    "# Tensors"
   ]
  },
  {
   "cell_type": "markdown",
   "id": "1eaf42e4",
   "metadata": {
    "papermill": {
     "duration": 0.021106,
     "end_time": "2022-10-06T16:17:23.453326",
     "exception": false,
     "start_time": "2022-10-06T16:17:23.432220",
     "status": "completed"
    },
    "tags": []
   },
   "source": [
    "Tensors are just like multidimensional vectors, whose computations can also be prfomred on GPU and specially made TPUs. They are the most widely used data-sturctures in Deep learning."
   ]
  },
  {
   "cell_type": "code",
   "execution_count": 1,
   "id": "1047a671",
   "metadata": {
    "execution": {
     "iopub.execute_input": "2022-10-06T16:17:23.501735Z",
     "iopub.status.busy": "2022-10-06T16:17:23.499489Z",
     "iopub.status.idle": "2022-10-06T16:17:25.693496Z",
     "shell.execute_reply": "2022-10-06T16:17:25.691898Z"
    },
    "papermill": {
     "duration": 2.221519,
     "end_time": "2022-10-06T16:17:25.696731",
     "exception": false,
     "start_time": "2022-10-06T16:17:23.475212",
     "status": "completed"
    },
    "tags": []
   },
   "outputs": [],
   "source": [
    "import torch\n",
    "import numpy as np"
   ]
  },
  {
   "cell_type": "markdown",
   "id": "3d5ae000",
   "metadata": {
    "papermill": {
     "duration": 0.021945,
     "end_time": "2022-10-06T16:17:25.741667",
     "exception": false,
     "start_time": "2022-10-06T16:17:25.719722",
     "status": "completed"
    },
    "tags": []
   },
   "source": [
    "### Tensors intialization"
   ]
  },
  {
   "cell_type": "markdown",
   "id": "a145d0a5",
   "metadata": {
    "papermill": {
     "duration": 0.020801,
     "end_time": "2022-10-06T16:17:25.782824",
     "exception": false,
     "start_time": "2022-10-06T16:17:25.762023",
     "status": "completed"
    },
    "tags": []
   },
   "source": [
    "Directly from data"
   ]
  },
  {
   "cell_type": "code",
   "execution_count": 2,
   "id": "603d4613",
   "metadata": {
    "execution": {
     "iopub.execute_input": "2022-10-06T16:17:25.829504Z",
     "iopub.status.busy": "2022-10-06T16:17:25.828505Z",
     "iopub.status.idle": "2022-10-06T16:17:25.833953Z",
     "shell.execute_reply": "2022-10-06T16:17:25.832703Z"
    },
    "papermill": {
     "duration": 0.032339,
     "end_time": "2022-10-06T16:17:25.836824",
     "exception": false,
     "start_time": "2022-10-06T16:17:25.804485",
     "status": "completed"
    },
    "tags": []
   },
   "outputs": [],
   "source": [
    "data = [[1,2], [3,4]]\n",
    "x_data = torch.tensor(data)"
   ]
  },
  {
   "cell_type": "markdown",
   "id": "01c890c9",
   "metadata": {
    "papermill": {
     "duration": 0.023053,
     "end_time": "2022-10-06T16:17:25.881960",
     "exception": false,
     "start_time": "2022-10-06T16:17:25.858907",
     "status": "completed"
    },
    "tags": []
   },
   "source": [
    "From numpy array"
   ]
  },
  {
   "cell_type": "code",
   "execution_count": 3,
   "id": "5bcc6977",
   "metadata": {
    "execution": {
     "iopub.execute_input": "2022-10-06T16:17:25.928657Z",
     "iopub.status.busy": "2022-10-06T16:17:25.928211Z",
     "iopub.status.idle": "2022-10-06T16:17:25.934052Z",
     "shell.execute_reply": "2022-10-06T16:17:25.932795Z"
    },
    "papermill": {
     "duration": 0.032142,
     "end_time": "2022-10-06T16:17:25.936847",
     "exception": false,
     "start_time": "2022-10-06T16:17:25.904705",
     "status": "completed"
    },
    "tags": []
   },
   "outputs": [],
   "source": [
    "np_array = np.array(data)\n",
    "x_np = torch.from_numpy(np_array)"
   ]
  },
  {
   "cell_type": "markdown",
   "id": "e6e4ffca",
   "metadata": {
    "papermill": {
     "duration": 0.02192,
     "end_time": "2022-10-06T16:17:25.981422",
     "exception": false,
     "start_time": "2022-10-06T16:17:25.959502",
     "status": "completed"
    },
    "tags": []
   },
   "source": [
    "From other tensor"
   ]
  },
  {
   "cell_type": "code",
   "execution_count": 4,
   "id": "b7cc026f",
   "metadata": {
    "execution": {
     "iopub.execute_input": "2022-10-06T16:17:26.028256Z",
     "iopub.status.busy": "2022-10-06T16:17:26.027774Z",
     "iopub.status.idle": "2022-10-06T16:17:26.041555Z",
     "shell.execute_reply": "2022-10-06T16:17:26.039577Z"
    },
    "papermill": {
     "duration": 0.040166,
     "end_time": "2022-10-06T16:17:26.044649",
     "exception": false,
     "start_time": "2022-10-06T16:17:26.004483",
     "status": "completed"
    },
    "tags": []
   },
   "outputs": [
    {
     "name": "stdout",
     "output_type": "stream",
     "text": [
      "Ones Tensor: \n",
      " tensor([[1, 1],\n",
      "        [1, 1]]) \n",
      "\n",
      "Random Tensor: \n",
      " tensor([[0.7777, 0.5452],\n",
      "        [0.6565, 0.7337]]) \n",
      "\n"
     ]
    }
   ],
   "source": [
    "x_ones = torch.ones_like(x_data) # retains the properties of x_data\n",
    "print(f\"Ones Tensor: \\n {x_ones} \\n\")\n",
    "\n",
    "x_rand = torch.rand_like(x_data, dtype=torch.float) # overrides the datatype of x_data\n",
    "print(f\"Random Tensor: \\n {x_rand} \\n\")"
   ]
  },
  {
   "cell_type": "markdown",
   "id": "41e7cf78",
   "metadata": {
    "papermill": {
     "duration": 0.024088,
     "end_time": "2022-10-06T16:17:26.094072",
     "exception": false,
     "start_time": "2022-10-06T16:17:26.069984",
     "status": "completed"
    },
    "tags": []
   },
   "source": [
    "With random or constant values"
   ]
  },
  {
   "cell_type": "markdown",
   "id": "f9dcafbe",
   "metadata": {
    "papermill": {
     "duration": 0.021591,
     "end_time": "2022-10-06T16:17:26.138946",
     "exception": false,
     "start_time": "2022-10-06T16:17:26.117355",
     "status": "completed"
    },
    "tags": []
   },
   "source": [
    "Where you’ll want some assurance of the reproducibility of your results. Manually setting your random number generator’s seed is the way to do this. Seeding basically fixes the randomly generated value for the desired instance"
   ]
  },
  {
   "cell_type": "code",
   "execution_count": 5,
   "id": "81a14769",
   "metadata": {
    "execution": {
     "iopub.execute_input": "2022-10-06T16:17:26.184155Z",
     "iopub.status.busy": "2022-10-06T16:17:26.183689Z",
     "iopub.status.idle": "2022-10-06T16:17:26.196445Z",
     "shell.execute_reply": "2022-10-06T16:17:26.194219Z"
    },
    "papermill": {
     "duration": 0.038399,
     "end_time": "2022-10-06T16:17:26.199181",
     "exception": false,
     "start_time": "2022-10-06T16:17:26.160782",
     "status": "completed"
    },
    "tags": []
   },
   "outputs": [
    {
     "name": "stdout",
     "output_type": "stream",
     "text": [
      "tensor([[0.3126, 0.3791, 0.3087],\n",
      "        [0.0736, 0.4216, 0.0691]])\n"
     ]
    }
   ],
   "source": [
    "torch.manual_seed(1729)\n",
    "random_tensor = torch.rand(2, 3)\n",
    "print(random_tensor)"
   ]
  },
  {
   "cell_type": "code",
   "execution_count": 6,
   "id": "7f9827c7",
   "metadata": {
    "execution": {
     "iopub.execute_input": "2022-10-06T16:17:26.244854Z",
     "iopub.status.busy": "2022-10-06T16:17:26.244423Z",
     "iopub.status.idle": "2022-10-06T16:17:26.254652Z",
     "shell.execute_reply": "2022-10-06T16:17:26.253355Z"
    },
    "papermill": {
     "duration": 0.036848,
     "end_time": "2022-10-06T16:17:26.257574",
     "exception": false,
     "start_time": "2022-10-06T16:17:26.220726",
     "status": "completed"
    },
    "tags": []
   },
   "outputs": [
    {
     "name": "stdout",
     "output_type": "stream",
     "text": [
      "Random Tensor: \n",
      " tensor([[0.2332, 0.4047, 0.2162],\n",
      "        [0.9927, 0.4128, 0.5938]]) \n",
      "\n",
      "Ones Tensor: \n",
      " tensor([[1., 1., 1.],\n",
      "        [1., 1., 1.]]) \n",
      "\n",
      "Zeros Tensor: \n",
      " tensor([[0., 0., 0.],\n",
      "        [0., 0., 0.]])\n",
      "New Tensor: \n",
      " tensor([[0.6128, 0.1519, 0.0453],\n",
      "        [0.5035, 0.9978, 0.3884]])\n"
     ]
    }
   ],
   "source": [
    "shape = (2,3,)\n",
    "rand_tensor = torch.rand(shape)\n",
    "ones_tensor = torch.ones(shape)\n",
    "zeros_tensor = torch.zeros(shape)\n",
    "\n",
    "new_tensor = torch.rand_like(ones_tensor)\n",
    "\n",
    "print(f\"Random Tensor: \\n {rand_tensor} \\n\")\n",
    "print(f\"Ones Tensor: \\n {ones_tensor} \\n\")\n",
    "print(f\"Zeros Tensor: \\n {zeros_tensor}\")\n",
    "print(f\"New Tensor: \\n {new_tensor}\")"
   ]
  },
  {
   "cell_type": "markdown",
   "id": "91360683",
   "metadata": {
    "papermill": {
     "duration": 0.022459,
     "end_time": "2022-10-06T16:17:26.301102",
     "exception": false,
     "start_time": "2022-10-06T16:17:26.278643",
     "status": "completed"
    },
    "tags": []
   },
   "source": [
    "### Operations on tensor"
   ]
  },
  {
   "cell_type": "code",
   "execution_count": 7,
   "id": "df7db6f9",
   "metadata": {
    "execution": {
     "iopub.execute_input": "2022-10-06T16:17:26.347917Z",
     "iopub.status.busy": "2022-10-06T16:17:26.347500Z",
     "iopub.status.idle": "2022-10-06T16:17:26.354497Z",
     "shell.execute_reply": "2022-10-06T16:17:26.352938Z"
    },
    "papermill": {
     "duration": 0.035596,
     "end_time": "2022-10-06T16:17:26.358196",
     "exception": false,
     "start_time": "2022-10-06T16:17:26.322600",
     "status": "completed"
    },
    "tags": []
   },
   "outputs": [
    {
     "name": "stdout",
     "output_type": "stream",
     "text": [
      "Shape of tensor: torch.Size([3, 4])\n",
      "Datatype of tensor: torch.float32\n",
      "Device tensor is stored on: cpu\n"
     ]
    }
   ],
   "source": [
    "tensor = torch.rand(3,4)\n",
    "\n",
    "print(f\"Shape of tensor: {tensor.shape}\")\n",
    "print(f\"Datatype of tensor: {tensor.dtype}\")\n",
    "print(f\"Device tensor is stored on: {tensor.device}\")"
   ]
  },
  {
   "cell_type": "markdown",
   "id": "3f3321de",
   "metadata": {
    "papermill": {
     "duration": 0.020972,
     "end_time": "2022-10-06T16:17:26.401626",
     "exception": false,
     "start_time": "2022-10-06T16:17:26.380654",
     "status": "completed"
    },
    "tags": []
   },
   "source": [
    "#### Full list - https://pytorch.org/docs/stable/torch.html"
   ]
  },
  {
   "cell_type": "markdown",
   "id": "cc0828f9",
   "metadata": {
    "papermill": {
     "duration": 0.021328,
     "end_time": "2022-10-06T16:17:26.447045",
     "exception": false,
     "start_time": "2022-10-06T16:17:26.425717",
     "status": "completed"
    },
    "tags": []
   },
   "source": [
    "Slicing and indexing"
   ]
  },
  {
   "cell_type": "code",
   "execution_count": 8,
   "id": "e1c396b6",
   "metadata": {
    "execution": {
     "iopub.execute_input": "2022-10-06T16:17:26.494272Z",
     "iopub.status.busy": "2022-10-06T16:17:26.493614Z",
     "iopub.status.idle": "2022-10-06T16:17:26.504495Z",
     "shell.execute_reply": "2022-10-06T16:17:26.502869Z"
    },
    "papermill": {
     "duration": 0.037843,
     "end_time": "2022-10-06T16:17:26.507139",
     "exception": false,
     "start_time": "2022-10-06T16:17:26.469296",
     "status": "completed"
    },
    "tags": []
   },
   "outputs": [
    {
     "name": "stdout",
     "output_type": "stream",
     "text": [
      "First row: tensor([1., 1., 1., 1.])\n",
      "First column: tensor([1., 1., 1., 1.])\n",
      "Last column: tensor([1., 1., 1., 1.])\n",
      "tensor([[1., 0., 1., 1.],\n",
      "        [1., 0., 1., 1.],\n",
      "        [1., 0., 1., 1.],\n",
      "        [1., 0., 1., 1.]])\n"
     ]
    }
   ],
   "source": [
    "tensor = torch.ones(4, 4)\n",
    "print(f\"First row: {tensor[0]}\")\n",
    "print(f\"First column: {tensor[:, 0]}\")\n",
    "print(f\"Last column: {tensor[..., -1]}\")\n",
    "\n",
    "tensor[:,1] = 0\n",
    "\n",
    "print(tensor)"
   ]
  },
  {
   "cell_type": "code",
   "execution_count": null,
   "id": "2a791bdb",
   "metadata": {
    "papermill": {
     "duration": 0.021279,
     "end_time": "2022-10-06T16:17:26.549505",
     "exception": false,
     "start_time": "2022-10-06T16:17:26.528226",
     "status": "completed"
    },
    "tags": []
   },
   "outputs": [],
   "source": []
  },
  {
   "cell_type": "markdown",
   "id": "449826e6",
   "metadata": {
    "papermill": {
     "duration": 0.02238,
     "end_time": "2022-10-06T16:17:26.594671",
     "exception": false,
     "start_time": "2022-10-06T16:17:26.572291",
     "status": "completed"
    },
    "tags": []
   },
   "source": [
    "### Joining the tensors"
   ]
  },
  {
   "cell_type": "code",
   "execution_count": 9,
   "id": "8a51a68c",
   "metadata": {
    "execution": {
     "iopub.execute_input": "2022-10-06T16:17:26.640731Z",
     "iopub.status.busy": "2022-10-06T16:17:26.640336Z",
     "iopub.status.idle": "2022-10-06T16:17:26.650553Z",
     "shell.execute_reply": "2022-10-06T16:17:26.649670Z"
    },
    "papermill": {
     "duration": 0.035804,
     "end_time": "2022-10-06T16:17:26.652810",
     "exception": false,
     "start_time": "2022-10-06T16:17:26.617006",
     "status": "completed"
    },
    "tags": []
   },
   "outputs": [
    {
     "data": {
      "text/plain": [
       "tensor([[1., 1., 1., 0., 0., 0., 0.],\n",
       "        [1., 1., 1., 0., 0., 0., 0.],\n",
       "        [1., 1., 1., 0., 0., 0., 0.]])"
      ]
     },
     "execution_count": 9,
     "metadata": {},
     "output_type": "execute_result"
    }
   ],
   "source": [
    "t1 = torch.ones(3,3)\n",
    "t2 = torch.zeros(3,4)\n",
    "t3 = torch.cat([t1, t2], dim=1)\n",
    "t3"
   ]
  },
  {
   "cell_type": "code",
   "execution_count": 10,
   "id": "354d21f4",
   "metadata": {
    "execution": {
     "iopub.execute_input": "2022-10-06T16:17:26.700278Z",
     "iopub.status.busy": "2022-10-06T16:17:26.699837Z",
     "iopub.status.idle": "2022-10-06T16:17:26.713207Z",
     "shell.execute_reply": "2022-10-06T16:17:26.711712Z"
    },
    "papermill": {
     "duration": 0.041208,
     "end_time": "2022-10-06T16:17:26.716249",
     "exception": false,
     "start_time": "2022-10-06T16:17:26.675041",
     "status": "completed"
    },
    "tags": []
   },
   "outputs": [
    {
     "data": {
      "text/plain": [
       "tensor([[[0., 0., 0., 0.],\n",
       "         [0., 0., 0., 0.],\n",
       "         [0., 0., 0., 0.]],\n",
       "\n",
       "        [[1., 1., 1., 1.],\n",
       "         [1., 1., 1., 1.],\n",
       "         [1., 1., 1., 1.]]])"
      ]
     },
     "execution_count": 10,
     "metadata": {},
     "output_type": "execute_result"
    }
   ],
   "source": [
    "t4 = torch.ones(3,4)\n",
    "t5 = torch.stack([t2, t4], dim=0)\n",
    "t5"
   ]
  },
  {
   "cell_type": "code",
   "execution_count": null,
   "id": "6b83ad1d",
   "metadata": {
    "papermill": {
     "duration": 0.021216,
     "end_time": "2022-10-06T16:17:26.760555",
     "exception": false,
     "start_time": "2022-10-06T16:17:26.739339",
     "status": "completed"
    },
    "tags": []
   },
   "outputs": [],
   "source": []
  },
  {
   "cell_type": "markdown",
   "id": "82b39f89",
   "metadata": {
    "papermill": {
     "duration": 0.021983,
     "end_time": "2022-10-06T16:17:26.805682",
     "exception": false,
     "start_time": "2022-10-06T16:17:26.783699",
     "status": "completed"
    },
    "tags": []
   },
   "source": [
    "### Arithmatic Opearations"
   ]
  },
  {
   "cell_type": "markdown",
   "id": "4d5594b9",
   "metadata": {
    "papermill": {
     "duration": 0.0214,
     "end_time": "2022-10-06T16:17:26.850699",
     "exception": false,
     "start_time": "2022-10-06T16:17:26.829299",
     "status": "completed"
    },
    "tags": []
   },
   "source": [
    "Multiplication"
   ]
  },
  {
   "cell_type": "code",
   "execution_count": 11,
   "id": "3820f8a1",
   "metadata": {
    "execution": {
     "iopub.execute_input": "2022-10-06T16:17:26.895819Z",
     "iopub.status.busy": "2022-10-06T16:17:26.895386Z",
     "iopub.status.idle": "2022-10-06T16:17:26.914675Z",
     "shell.execute_reply": "2022-10-06T16:17:26.913660Z"
    },
    "papermill": {
     "duration": 0.045507,
     "end_time": "2022-10-06T16:17:26.917800",
     "exception": false,
     "start_time": "2022-10-06T16:17:26.872293",
     "status": "completed"
    },
    "tags": []
   },
   "outputs": [
    {
     "name": "stdout",
     "output_type": "stream",
     "text": [
      "tensor([[1.5258, 0.7665, 1.7158],\n",
      "        [1.5258, 0.7665, 1.7158],\n",
      "        [1.5258, 0.7665, 1.7158]])\n",
      "tensor([[1.5258, 0.7665, 1.7158],\n",
      "        [1.5258, 0.7665, 1.7158],\n",
      "        [1.5258, 0.7665, 1.7158]])\n",
      "tensor([[1.5258, 0.7665, 1.7158],\n",
      "        [1.5258, 0.7665, 1.7158],\n",
      "        [1.5258, 0.7665, 1.7158]])\n"
     ]
    }
   ],
   "source": [
    "t5 = torch.rand(3, 3)\n",
    "multi1 = t1 @ t5.T\n",
    "multi2 = t1.matmul(t5.T)\n",
    "multi3 = torch.rand_like(t1)\n",
    "torch.matmul(t1, t5.T, out=multi3)\n",
    "\n",
    "print(multi1)\n",
    "print(multi2)\n",
    "print(multi3)"
   ]
  },
  {
   "cell_type": "markdown",
   "id": "23508e18",
   "metadata": {
    "papermill": {
     "duration": 0.022455,
     "end_time": "2022-10-06T16:17:26.963209",
     "exception": false,
     "start_time": "2022-10-06T16:17:26.940754",
     "status": "completed"
    },
    "tags": []
   },
   "source": [
    "Sum"
   ]
  },
  {
   "cell_type": "code",
   "execution_count": 12,
   "id": "3c220585",
   "metadata": {
    "execution": {
     "iopub.execute_input": "2022-10-06T16:17:27.011725Z",
     "iopub.status.busy": "2022-10-06T16:17:27.011247Z",
     "iopub.status.idle": "2022-10-06T16:17:27.019950Z",
     "shell.execute_reply": "2022-10-06T16:17:27.018199Z"
    },
    "papermill": {
     "duration": 0.037158,
     "end_time": "2022-10-06T16:17:27.023811",
     "exception": false,
     "start_time": "2022-10-06T16:17:26.986653",
     "status": "completed"
    },
    "tags": []
   },
   "outputs": [
    {
     "name": "stdout",
     "output_type": "stream",
     "text": [
      "tensor(4.0081)\n",
      "4.008126258850098\n"
     ]
    }
   ],
   "source": [
    "agg = t5.sum()\n",
    "agg_item = agg.item()\n",
    "\n",
    "print(agg)\n",
    "print(agg_item)"
   ]
  },
  {
   "cell_type": "markdown",
   "id": "0e6ce71c",
   "metadata": {
    "papermill": {
     "duration": 0.021968,
     "end_time": "2022-10-06T16:17:27.068386",
     "exception": false,
     "start_time": "2022-10-06T16:17:27.046418",
     "status": "completed"
    },
    "tags": []
   },
   "source": [
    "In-place operations Operations that store the result into the operand are called in-place. They are denoted by a _ suffix. For example: x.copy_(y), x.t_(), will change x."
   ]
  },
  {
   "cell_type": "code",
   "execution_count": 13,
   "id": "91d272c9",
   "metadata": {
    "execution": {
     "iopub.execute_input": "2022-10-06T16:17:27.116356Z",
     "iopub.status.busy": "2022-10-06T16:17:27.115650Z",
     "iopub.status.idle": "2022-10-06T16:17:27.123618Z",
     "shell.execute_reply": "2022-10-06T16:17:27.122475Z"
    },
    "papermill": {
     "duration": 0.035142,
     "end_time": "2022-10-06T16:17:27.125929",
     "exception": false,
     "start_time": "2022-10-06T16:17:27.090787",
     "status": "completed"
    },
    "tags": []
   },
   "outputs": [
    {
     "data": {
      "text/plain": [
       "tensor([[3.0703, 3.5105, 3.9451],\n",
       "        [3.2359, 3.1979, 3.3327],\n",
       "        [3.6146, 3.5999, 3.5013]])"
      ]
     },
     "execution_count": 13,
     "metadata": {},
     "output_type": "execute_result"
    }
   ],
   "source": [
    "t5.add_(3)\n",
    "t5"
   ]
  },
  {
   "cell_type": "code",
   "execution_count": 14,
   "id": "ceefc0ec",
   "metadata": {
    "execution": {
     "iopub.execute_input": "2022-10-06T16:17:27.172222Z",
     "iopub.status.busy": "2022-10-06T16:17:27.171745Z",
     "iopub.status.idle": "2022-10-06T16:17:27.180511Z",
     "shell.execute_reply": "2022-10-06T16:17:27.179412Z"
    },
    "papermill": {
     "duration": 0.034623,
     "end_time": "2022-10-06T16:17:27.182703",
     "exception": false,
     "start_time": "2022-10-06T16:17:27.148080",
     "status": "completed"
    },
    "tags": []
   },
   "outputs": [
    {
     "data": {
      "text/plain": [
       "tensor([[6.0703, 6.5105, 6.9451],\n",
       "        [6.2359, 6.1979, 6.3327],\n",
       "        [6.6146, 6.5999, 6.5013]])"
      ]
     },
     "execution_count": 14,
     "metadata": {},
     "output_type": "execute_result"
    }
   ],
   "source": [
    "t7 = t5 + 3\n",
    "t7"
   ]
  },
  {
   "cell_type": "markdown",
   "id": "587adb46",
   "metadata": {
    "papermill": {
     "duration": 0.02273,
     "end_time": "2022-10-06T16:17:27.229053",
     "exception": false,
     "start_time": "2022-10-06T16:17:27.206323",
     "status": "completed"
    },
    "tags": []
   },
   "source": [
    "Tensors supports almost all mathematical operations"
   ]
  },
  {
   "cell_type": "code",
   "execution_count": 15,
   "id": "050f8a40",
   "metadata": {
    "execution": {
     "iopub.execute_input": "2022-10-06T16:17:27.275830Z",
     "iopub.status.busy": "2022-10-06T16:17:27.274998Z",
     "iopub.status.idle": "2022-10-06T16:17:27.280516Z",
     "shell.execute_reply": "2022-10-06T16:17:27.279319Z"
    },
    "papermill": {
     "duration": 0.031462,
     "end_time": "2022-10-06T16:17:27.282910",
     "exception": false,
     "start_time": "2022-10-06T16:17:27.251448",
     "status": "completed"
    },
    "tags": []
   },
   "outputs": [],
   "source": [
    "import math"
   ]
  },
  {
   "cell_type": "code",
   "execution_count": 16,
   "id": "8a8858dc",
   "metadata": {
    "execution": {
     "iopub.execute_input": "2022-10-06T16:17:27.330496Z",
     "iopub.status.busy": "2022-10-06T16:17:27.329794Z",
     "iopub.status.idle": "2022-10-06T16:17:27.418652Z",
     "shell.execute_reply": "2022-10-06T16:17:27.416994Z"
    },
    "papermill": {
     "duration": 0.115984,
     "end_time": "2022-10-06T16:17:27.421601",
     "exception": false,
     "start_time": "2022-10-06T16:17:27.305617",
     "status": "completed"
    },
    "tags": []
   },
   "outputs": [
    {
     "name": "stdout",
     "output_type": "stream",
     "text": [
      "Common functions:\n",
      "tensor([[0.5951, 0.1461, 0.4382, 0.1866],\n",
      "        [0.4602, 0.2551, 0.4715, 0.9238]])\n",
      "tensor([[-0., 1., 1., -0.],\n",
      "        [1., 1., 1., -0.]])\n",
      "tensor([[-1.,  0.,  0., -1.],\n",
      "        [ 0.,  0.,  0., -1.]])\n",
      "tensor([[-0.5000,  0.1461,  0.4382, -0.1866],\n",
      "        [ 0.4602,  0.2551,  0.4715, -0.5000]])\n",
      "\n",
      "Sine and arcsine:\n",
      "tensor([0.0000, 0.7854, 1.5708, 2.3562])\n",
      "tensor([0.0000, 0.7071, 1.0000, 0.7071])\n",
      "tensor([0.0000, 0.7854, 1.5708, 0.7854])\n",
      "\n",
      "Bitwise XOR:\n",
      "tensor([3, 2, 1])\n",
      "\n",
      "Broadcasted, element-wise equality comparison:\n",
      "tensor([[ True, False],\n",
      "        [False, False]])\n",
      "\n",
      "Reduction ops:\n",
      "tensor(4.)\n",
      "4.0\n",
      "tensor(2.5000)\n",
      "tensor(1.2910)\n",
      "tensor(24.)\n",
      "tensor([1, 2])\n",
      "\n",
      "Vectors & Matrices:\n",
      "tensor([ 0.,  0., -1.])\n",
      "tensor([[0.2138, 0.5395],\n",
      "        [0.3686, 0.4007]])\n",
      "tensor([[0.6414, 1.6186],\n",
      "        [1.1057, 1.2021]])\n",
      "torch.return_types.svd(\n",
      "U=tensor([[-0.7309, -0.6825],\n",
      "        [-0.6825,  0.7309]]),\n",
      "S=tensor([2.3475, 0.4339]),\n",
      "V=tensor([[-0.5212,  0.8535],\n",
      "        [-0.8535, -0.5212]]))\n"
     ]
    }
   ],
   "source": [
    "# common functions\n",
    "a = torch.rand(2, 4) * 2 - 1\n",
    "print('Common functions:')\n",
    "print(torch.abs(a))\n",
    "print(torch.ceil(a))\n",
    "print(torch.floor(a))\n",
    "print(torch.clamp(a, -0.5, 0.5))\n",
    "\n",
    "# trigonometric functions and their inverses\n",
    "angles = torch.tensor([0, math.pi / 4, math.pi / 2, 3 * math.pi / 4])\n",
    "sines = torch.sin(angles)\n",
    "inverses = torch.asin(sines)\n",
    "print('\\nSine and arcsine:')\n",
    "print(angles)\n",
    "print(sines)\n",
    "print(inverses)\n",
    "\n",
    "# bitwise operations\n",
    "print('\\nBitwise XOR:')\n",
    "b = torch.tensor([1, 5, 11])\n",
    "c = torch.tensor([2, 7, 10])\n",
    "print(torch.bitwise_xor(b, c))\n",
    "\n",
    "# comparisons:\n",
    "print('\\nBroadcasted, element-wise equality comparison:')\n",
    "d = torch.tensor([[1., 2.], [3., 4.]])\n",
    "e = torch.ones(1, 2)  # many comparison ops support broadcasting!\n",
    "print(torch.eq(d, e)) # returns a tensor of type bool\n",
    "\n",
    "# reductions:\n",
    "print('\\nReduction ops:')\n",
    "print(torch.max(d))        # returns a single-element tensor\n",
    "print(torch.max(d).item()) # extracts the value from the returned tensor\n",
    "print(torch.mean(d))       # average\n",
    "print(torch.std(d))        # standard deviation\n",
    "print(torch.prod(d))       # product of all numbers\n",
    "print(torch.unique(torch.tensor([1, 2, 1, 2, 1, 2]))) # filter unique elements\n",
    "\n",
    "# vector and linear algebra operations\n",
    "v1 = torch.tensor([1., 0., 0.])         # x unit vector\n",
    "v2 = torch.tensor([0., 1., 0.])         # y unit vector\n",
    "m1 = torch.rand(2, 2)                   # random matrix\n",
    "m2 = torch.tensor([[3., 0.], [0., 3.]]) # three times identity matrix\n",
    "\n",
    "print('\\nVectors & Matrices:')\n",
    "print(torch.cross(v2, v1)) # negative of z unit vector (v1 x v2 == -v2 x v1)\n",
    "print(m1)\n",
    "m3 = torch.matmul(m1, m2)\n",
    "print(m3)                  # 3 times m1\n",
    "print(torch.svd(m3))       # singular value decomposition"
   ]
  },
  {
   "cell_type": "markdown",
   "id": "bd9a2755",
   "metadata": {
    "papermill": {
     "duration": 0.021824,
     "end_time": "2022-10-06T16:17:27.467651",
     "exception": false,
     "start_time": "2022-10-06T16:17:27.445827",
     "status": "completed"
    },
    "tags": []
   },
   "source": [
    "Tensors on the CPU and NumPy arrays can share their underlying memory locations, and changing one will change the other."
   ]
  },
  {
   "cell_type": "markdown",
   "id": "211b94fb",
   "metadata": {
    "papermill": {
     "duration": 0.021772,
     "end_time": "2022-10-06T16:17:27.511844",
     "exception": false,
     "start_time": "2022-10-06T16:17:27.490072",
     "status": "completed"
    },
    "tags": []
   },
   "source": [
    "### Squeeze and Unsqueeze"
   ]
  },
  {
   "cell_type": "markdown",
   "id": "2314c0b0",
   "metadata": {
    "papermill": {
     "duration": 0.023196,
     "end_time": "2022-10-06T16:17:27.557721",
     "exception": false,
     "start_time": "2022-10-06T16:17:27.534525",
     "status": "completed"
    },
    "tags": []
   },
   "source": [
    "One case where you might need to change the number of dimensions is passing a single instance of input to your model. PyTorch models generally expect batches of input.\n",
    "\n",
    "For example, imagine having a model that works on 3 x 226 x 226 images - a 226-pixel square with 3 color channels. When you load and transform it, you’ll get a tensor of shape (3, 226, 226). Your model, though, is expecting input of shape (N, 3, 226, 226), where N is the number of images in the batch. So how do you make a batch of one?\n",
    "\n",
    "The unsqueeze() method adds a dimension of extent 1. unsqueeze(0) adds it as a new zeroth dimension - now you have a batch of one!"
   ]
  },
  {
   "cell_type": "code",
   "execution_count": 17,
   "id": "ff12a6b1",
   "metadata": {
    "execution": {
     "iopub.execute_input": "2022-10-06T16:17:27.606337Z",
     "iopub.status.busy": "2022-10-06T16:17:27.605039Z",
     "iopub.status.idle": "2022-10-06T16:17:27.614765Z",
     "shell.execute_reply": "2022-10-06T16:17:27.613177Z"
    },
    "papermill": {
     "duration": 0.036918,
     "end_time": "2022-10-06T16:17:27.617425",
     "exception": false,
     "start_time": "2022-10-06T16:17:27.580507",
     "status": "completed"
    },
    "tags": []
   },
   "outputs": [
    {
     "name": "stdout",
     "output_type": "stream",
     "text": [
      "torch.Size([3, 226, 226])\n",
      "torch.Size([1, 3, 226, 226])\n",
      "torch.Size([3, 226, 226])\n"
     ]
    }
   ],
   "source": [
    "a = torch.rand(3, 226, 226)\n",
    "b = a.unsqueeze(0)\n",
    "c = b.squeeze(0)\n",
    "\n",
    "print(a.shape)\n",
    "print(b.shape)\n",
    "print(c.shape)"
   ]
  },
  {
   "cell_type": "markdown",
   "id": "2f3b3a35",
   "metadata": {
    "papermill": {
     "duration": 0.023657,
     "end_time": "2022-10-06T16:17:27.666279",
     "exception": false,
     "start_time": "2022-10-06T16:17:27.642622",
     "status": "completed"
    },
    "tags": []
   },
   "source": [
    "So if that’s unsqueezing? What do we mean by squeezing? We’re taking advantage of the fact that any dimension of extent 1 does not change the number of elements in the tensor.\n",
    "\n"
   ]
  },
  {
   "cell_type": "code",
   "execution_count": 18,
   "id": "9f1096a7",
   "metadata": {
    "execution": {
     "iopub.execute_input": "2022-10-06T16:17:27.715060Z",
     "iopub.status.busy": "2022-10-06T16:17:27.713792Z",
     "iopub.status.idle": "2022-10-06T16:17:27.721382Z",
     "shell.execute_reply": "2022-10-06T16:17:27.720211Z"
    },
    "papermill": {
     "duration": 0.034398,
     "end_time": "2022-10-06T16:17:27.723763",
     "exception": false,
     "start_time": "2022-10-06T16:17:27.689365",
     "status": "completed"
    },
    "tags": []
   },
   "outputs": [
    {
     "name": "stdout",
     "output_type": "stream",
     "text": [
      "tensor([[[[[0.8083]]]]])\n"
     ]
    }
   ],
   "source": [
    "c = torch.rand(1, 1, 1, 1, 1)\n",
    "print(c)"
   ]
  },
  {
   "cell_type": "markdown",
   "id": "021c2a57",
   "metadata": {
    "papermill": {
     "duration": 0.022265,
     "end_time": "2022-10-06T16:17:27.769967",
     "exception": false,
     "start_time": "2022-10-06T16:17:27.747702",
     "status": "completed"
    },
    "tags": []
   },
   "source": [
    "# GPU and TPUs\n"
   ]
  },
  {
   "cell_type": "markdown",
   "id": "80f32559",
   "metadata": {
    "papermill": {
     "duration": 0.023905,
     "end_time": "2022-10-06T16:17:27.817589",
     "exception": false,
     "start_time": "2022-10-06T16:17:27.793684",
     "status": "completed"
    },
    "tags": []
   },
   "source": [
    "As we discussed before, tensor operations can be performed on GPU and TPUs faster compare to CPU. Let's check if we have a supporting GPU or not."
   ]
  },
  {
   "cell_type": "code",
   "execution_count": 19,
   "id": "3050bde3",
   "metadata": {
    "execution": {
     "iopub.execute_input": "2022-10-06T16:17:27.865198Z",
     "iopub.status.busy": "2022-10-06T16:17:27.864750Z",
     "iopub.status.idle": "2022-10-06T16:17:27.871625Z",
     "shell.execute_reply": "2022-10-06T16:17:27.870219Z"
    },
    "papermill": {
     "duration": 0.03331,
     "end_time": "2022-10-06T16:17:27.874013",
     "exception": false,
     "start_time": "2022-10-06T16:17:27.840703",
     "status": "completed"
    },
    "tags": []
   },
   "outputs": [
    {
     "name": "stdout",
     "output_type": "stream",
     "text": [
      "Sorry, CPU only.\n"
     ]
    }
   ],
   "source": [
    "if torch.cuda.is_available():\n",
    "    print('We have a GPU!')\n",
    "else:\n",
    "    print('Sorry, CPU only.')"
   ]
  },
  {
   "cell_type": "markdown",
   "id": "b1df52ce",
   "metadata": {
    "papermill": {
     "duration": 0.022866,
     "end_time": "2022-10-06T16:17:27.919677",
     "exception": false,
     "start_time": "2022-10-06T16:17:27.896811",
     "status": "completed"
    },
    "tags": []
   },
   "source": [
    "* By default, new tensors are created on the CPU, so we have to specify when we want to create our tensor on the GPU with the optional device argument. You can see when we print the new tensor, PyTorch informs us which device it’s on (if it’s not on CPU).\n",
    "\n",
    "* You can query the number of GPUs with torch.cuda.device_count(). If you have more than one GPU, you can specify them by index: device='cuda:0', device='cuda:1', etc.\n",
    "\n",
    "* As a coding practice, specifying our devices everywhere with string constants is pretty fragile. In an ideal world, your code would perform robustly whether you’re on CPU or GPU hardware. You can do this by creating a device handle that can be passed to your tensors instead of a string:"
   ]
  },
  {
   "cell_type": "code",
   "execution_count": 20,
   "id": "83cb6215",
   "metadata": {
    "execution": {
     "iopub.execute_input": "2022-10-06T16:17:27.970239Z",
     "iopub.status.busy": "2022-10-06T16:17:27.968179Z",
     "iopub.status.idle": "2022-10-06T16:17:27.978462Z",
     "shell.execute_reply": "2022-10-06T16:17:27.976915Z"
    },
    "papermill": {
     "duration": 0.037931,
     "end_time": "2022-10-06T16:17:27.980985",
     "exception": false,
     "start_time": "2022-10-06T16:17:27.943054",
     "status": "completed"
    },
    "tags": []
   },
   "outputs": [
    {
     "name": "stdout",
     "output_type": "stream",
     "text": [
      "Device: cpu\n",
      "tensor([[0.5408, 0.2576],\n",
      "        [0.5258, 0.5329]])\n"
     ]
    }
   ],
   "source": [
    "if torch.cuda.is_available():\n",
    "    my_device = torch.device('cuda')\n",
    "else:\n",
    "    my_device = torch.device('cpu')\n",
    "print('Device: {}'.format(my_device))\n",
    "\n",
    "x = torch.rand(2, 2, device=my_device)\n",
    "print(x)"
   ]
  },
  {
   "cell_type": "markdown",
   "id": "be56f74c",
   "metadata": {
    "papermill": {
     "duration": 0.022997,
     "end_time": "2022-10-06T16:17:28.027305",
     "exception": false,
     "start_time": "2022-10-06T16:17:28.004308",
     "status": "completed"
    },
    "tags": []
   },
   "source": [
    "If you have an existing tensor living on one device, you can move it to another with the to() method. The following line of code creates a tensor on CPU, and moves it to whichever device handle you acquired in the previous cell.\n",
    "\n"
   ]
  },
  {
   "cell_type": "code",
   "execution_count": 21,
   "id": "533df0ef",
   "metadata": {
    "execution": {
     "iopub.execute_input": "2022-10-06T16:17:28.077657Z",
     "iopub.status.busy": "2022-10-06T16:17:28.077210Z",
     "iopub.status.idle": "2022-10-06T16:17:28.082517Z",
     "shell.execute_reply": "2022-10-06T16:17:28.081516Z"
    },
    "papermill": {
     "duration": 0.033966,
     "end_time": "2022-10-06T16:17:28.084784",
     "exception": false,
     "start_time": "2022-10-06T16:17:28.050818",
     "status": "completed"
    },
    "tags": []
   },
   "outputs": [],
   "source": [
    "y = torch.rand(2, 2)\n",
    "y = y.to(my_device)"
   ]
  },
  {
   "cell_type": "markdown",
   "id": "6a2b85e2",
   "metadata": {
    "papermill": {
     "duration": 0.022687,
     "end_time": "2022-10-06T16:17:28.130978",
     "exception": false,
     "start_time": "2022-10-06T16:17:28.108291",
     "status": "completed"
    },
    "tags": []
   },
   "source": [
    "# Datasets and Dataloaders"
   ]
  },
  {
   "cell_type": "markdown",
   "id": "691d6945",
   "metadata": {
    "papermill": {
     "duration": 0.022812,
     "end_time": "2022-10-06T16:17:28.176598",
     "exception": false,
     "start_time": "2022-10-06T16:17:28.153786",
     "status": "completed"
    },
    "tags": []
   },
   "source": [
    "### Loading dataset"
   ]
  },
  {
   "cell_type": "code",
   "execution_count": 22,
   "id": "f677201f",
   "metadata": {
    "execution": {
     "iopub.execute_input": "2022-10-06T16:17:28.225051Z",
     "iopub.status.busy": "2022-10-06T16:17:28.224582Z",
     "iopub.status.idle": "2022-10-06T16:17:28.564539Z",
     "shell.execute_reply": "2022-10-06T16:17:28.563223Z"
    },
    "papermill": {
     "duration": 0.367341,
     "end_time": "2022-10-06T16:17:28.567440",
     "exception": false,
     "start_time": "2022-10-06T16:17:28.200099",
     "status": "completed"
    },
    "tags": []
   },
   "outputs": [],
   "source": [
    "import torch\n",
    "from torch.utils.data import Dataset\n",
    "from torchvision import datasets\n",
    "from torchvision.transforms import ToTensor\n",
    "import matplotlib.pyplot as plt"
   ]
  },
  {
   "cell_type": "code",
   "execution_count": 23,
   "id": "56bf0346",
   "metadata": {
    "execution": {
     "iopub.execute_input": "2022-10-06T16:17:28.621736Z",
     "iopub.status.busy": "2022-10-06T16:17:28.620800Z",
     "iopub.status.idle": "2022-10-06T16:17:36.251466Z",
     "shell.execute_reply": "2022-10-06T16:17:36.249663Z"
    },
    "papermill": {
     "duration": 7.662805,
     "end_time": "2022-10-06T16:17:36.254841",
     "exception": false,
     "start_time": "2022-10-06T16:17:28.592036",
     "status": "completed"
    },
    "tags": []
   },
   "outputs": [
    {
     "name": "stdout",
     "output_type": "stream",
     "text": [
      "Downloading http://fashion-mnist.s3-website.eu-central-1.amazonaws.com/train-images-idx3-ubyte.gz\n",
      "Downloading http://fashion-mnist.s3-website.eu-central-1.amazonaws.com/train-images-idx3-ubyte.gz to data/FashionMNIST/raw/train-images-idx3-ubyte.gz\n"
     ]
    },
    {
     "data": {
      "application/vnd.jupyter.widget-view+json": {
       "model_id": "1e23358415064d2cad9dfe140d35ef24",
       "version_major": 2,
       "version_minor": 0
      },
      "text/plain": [
       "  0%|          | 0/26421880 [00:00<?, ?it/s]"
      ]
     },
     "metadata": {},
     "output_type": "display_data"
    },
    {
     "name": "stdout",
     "output_type": "stream",
     "text": [
      "Extracting data/FashionMNIST/raw/train-images-idx3-ubyte.gz to data/FashionMNIST/raw\n",
      "\n",
      "Downloading http://fashion-mnist.s3-website.eu-central-1.amazonaws.com/train-labels-idx1-ubyte.gz\n",
      "Downloading http://fashion-mnist.s3-website.eu-central-1.amazonaws.com/train-labels-idx1-ubyte.gz to data/FashionMNIST/raw/train-labels-idx1-ubyte.gz\n"
     ]
    },
    {
     "data": {
      "application/vnd.jupyter.widget-view+json": {
       "model_id": "e9ba85839ed44a7a984a0184f4705d9a",
       "version_major": 2,
       "version_minor": 0
      },
      "text/plain": [
       "  0%|          | 0/29515 [00:00<?, ?it/s]"
      ]
     },
     "metadata": {},
     "output_type": "display_data"
    },
    {
     "name": "stdout",
     "output_type": "stream",
     "text": [
      "Extracting data/FashionMNIST/raw/train-labels-idx1-ubyte.gz to data/FashionMNIST/raw\n",
      "\n",
      "Downloading http://fashion-mnist.s3-website.eu-central-1.amazonaws.com/t10k-images-idx3-ubyte.gz\n",
      "Downloading http://fashion-mnist.s3-website.eu-central-1.amazonaws.com/t10k-images-idx3-ubyte.gz to data/FashionMNIST/raw/t10k-images-idx3-ubyte.gz\n"
     ]
    },
    {
     "data": {
      "application/vnd.jupyter.widget-view+json": {
       "model_id": "deb25c9d6b8c4c95b5361286542f33c3",
       "version_major": 2,
       "version_minor": 0
      },
      "text/plain": [
       "  0%|          | 0/4422102 [00:00<?, ?it/s]"
      ]
     },
     "metadata": {},
     "output_type": "display_data"
    },
    {
     "name": "stdout",
     "output_type": "stream",
     "text": [
      "Extracting data/FashionMNIST/raw/t10k-images-idx3-ubyte.gz to data/FashionMNIST/raw\n",
      "\n",
      "Downloading http://fashion-mnist.s3-website.eu-central-1.amazonaws.com/t10k-labels-idx1-ubyte.gz\n",
      "Downloading http://fashion-mnist.s3-website.eu-central-1.amazonaws.com/t10k-labels-idx1-ubyte.gz to data/FashionMNIST/raw/t10k-labels-idx1-ubyte.gz\n"
     ]
    },
    {
     "data": {
      "application/vnd.jupyter.widget-view+json": {
       "model_id": "7821f5ee682a427e81c18cf16116eea7",
       "version_major": 2,
       "version_minor": 0
      },
      "text/plain": [
       "  0%|          | 0/5148 [00:00<?, ?it/s]"
      ]
     },
     "metadata": {},
     "output_type": "display_data"
    },
    {
     "name": "stdout",
     "output_type": "stream",
     "text": [
      "Extracting data/FashionMNIST/raw/t10k-labels-idx1-ubyte.gz to data/FashionMNIST/raw\n",
      "\n"
     ]
    }
   ],
   "source": [
    "training_data = datasets.FashionMNIST(\n",
    "    root = \"data\",\n",
    "    train = True,\n",
    "    download = True,\n",
    "    transform = ToTensor()\n",
    ")\n",
    "\n",
    "test_data = datasets.FashionMNIST(\n",
    "    root = \"data\",\n",
    "    train = False,\n",
    "    download = True,\n",
    "    transform = ToTensor()\n",
    ")"
   ]
  },
  {
   "cell_type": "markdown",
   "id": "57d97aa7",
   "metadata": {
    "papermill": {
     "duration": 0.02715,
     "end_time": "2022-10-06T16:17:36.306892",
     "exception": false,
     "start_time": "2022-10-06T16:17:36.279742",
     "status": "completed"
    },
    "tags": []
   },
   "source": [
    "### Visualizing dataset"
   ]
  },
  {
   "cell_type": "code",
   "execution_count": 24,
   "id": "ac5c4977",
   "metadata": {
    "execution": {
     "iopub.execute_input": "2022-10-06T16:17:36.364034Z",
     "iopub.status.busy": "2022-10-06T16:17:36.363607Z",
     "iopub.status.idle": "2022-10-06T16:17:36.370145Z",
     "shell.execute_reply": "2022-10-06T16:17:36.368330Z"
    },
    "papermill": {
     "duration": 0.039534,
     "end_time": "2022-10-06T16:17:36.372979",
     "exception": false,
     "start_time": "2022-10-06T16:17:36.333445",
     "status": "completed"
    },
    "tags": []
   },
   "outputs": [],
   "source": [
    "import pandas as pd"
   ]
  },
  {
   "cell_type": "code",
   "execution_count": 25,
   "id": "a5c23973",
   "metadata": {
    "execution": {
     "iopub.execute_input": "2022-10-06T16:17:36.430410Z",
     "iopub.status.busy": "2022-10-06T16:17:36.428961Z",
     "iopub.status.idle": "2022-10-06T16:17:36.433929Z",
     "shell.execute_reply": "2022-10-06T16:17:36.433041Z"
    },
    "papermill": {
     "duration": 0.035791,
     "end_time": "2022-10-06T16:17:36.436279",
     "exception": false,
     "start_time": "2022-10-06T16:17:36.400488",
     "status": "completed"
    },
    "tags": []
   },
   "outputs": [],
   "source": [
    "# for i, j in training_data:\n",
    "#     print(j)"
   ]
  },
  {
   "cell_type": "code",
   "execution_count": 26,
   "id": "51886f8f",
   "metadata": {
    "execution": {
     "iopub.execute_input": "2022-10-06T16:17:36.489677Z",
     "iopub.status.busy": "2022-10-06T16:17:36.488404Z",
     "iopub.status.idle": "2022-10-06T16:17:36.987624Z",
     "shell.execute_reply": "2022-10-06T16:17:36.986330Z"
    },
    "papermill": {
     "duration": 0.529542,
     "end_time": "2022-10-06T16:17:36.990321",
     "exception": false,
     "start_time": "2022-10-06T16:17:36.460779",
     "status": "completed"
    },
    "tags": []
   },
   "outputs": [
    {
     "data": {
      "image/png": "[encoded data removed]",
      "text/plain": [
       "<Figure size 720x720 with 9 Axes>"
      ]
     },
     "metadata": {
      "needs_background": "light"
     },
     "output_type": "display_data"
    }
   ],
   "source": [
    "labels_map = {0: \"T-Shirt\",\n",
    "    1: \"Trouser\",\n",
    "    2: \"Pullover\",\n",
    "    3: \"Dress\",\n",
    "    4: \"Coat\",\n",
    "    5: \"Sandal\",\n",
    "    6: \"Shirt\",\n",
    "    7: \"Sneaker\",\n",
    "    8: \"Bag\",\n",
    "    9: \"Ankle Boot\",}\n",
    "\n",
    "figure = plt.figure(figsize = (10,10))\n",
    "cols ,rows = 3, 3\n",
    "\n",
    "for i in range (1, rows*cols+1):\n",
    "    sample_idx = torch.randint(len(training_data), size=(1,)).item()\n",
    "    img, label = training_data[sample_idx]\n",
    "    figure.add_subplot(rows, cols, i)\n",
    "    plt.title(labels_map[label])\n",
    "    plt.axis(\"off\")\n",
    "    plt.imshow(img.squeeze(), cmap=\"gray\")\n",
    "plt.show()"
   ]
  },
  {
   "cell_type": "markdown",
   "id": "f3b3be1b",
   "metadata": {
    "papermill": {
     "duration": 0.026359,
     "end_time": "2022-10-06T16:17:37.044890",
     "exception": false,
     "start_time": "2022-10-06T16:17:37.018531",
     "status": "completed"
    },
    "tags": []
   },
   "source": [
    "Custom dataset"
   ]
  },
  {
   "cell_type": "code",
   "execution_count": 27,
   "id": "03af0bde",
   "metadata": {
    "execution": {
     "iopub.execute_input": "2022-10-06T16:17:37.099463Z",
     "iopub.status.busy": "2022-10-06T16:17:37.099010Z",
     "iopub.status.idle": "2022-10-06T16:17:37.108651Z",
     "shell.execute_reply": "2022-10-06T16:17:37.107296Z"
    },
    "papermill": {
     "duration": 0.040459,
     "end_time": "2022-10-06T16:17:37.111049",
     "exception": false,
     "start_time": "2022-10-06T16:17:37.070590",
     "status": "completed"
    },
    "tags": []
   },
   "outputs": [],
   "source": [
    "import os\n",
    "import pandas as pd\n",
    "from torchvision.io import read_image\n",
    "\n",
    "class CustomImageDataset(Dataset):\n",
    "    def __init__(self, annotations_file, img_dir, transform=None, target_transform=None):\n",
    "        self.img_labels = pd.read_csv(annotations_file)\n",
    "        self.img_dir = img_dir\n",
    "        self.transform = transform\n",
    "        self.target_transform = target_transform\n",
    "\n",
    "    def __len__(self):\n",
    "        return len(self.img_labels)\n",
    "\n",
    "    def __getitem__(self, idx):\n",
    "        img_path = os.path.join(self.img_dir, self.img_labels.iloc[idx, 0])\n",
    "        image = read_image(img_path)\n",
    "        label = self.img_labels.iloc[idx, 1]\n",
    "        if self.transform:\n",
    "            image = self.transform(image)\n",
    "        if self.target_transform:\n",
    "            label = self.target_transform(label)\n",
    "        return image, label"
   ]
  },
  {
   "cell_type": "markdown",
   "id": "f1708bf2",
   "metadata": {
    "papermill": {
     "duration": 0.026026,
     "end_time": "2022-10-06T16:17:37.163627",
     "exception": false,
     "start_time": "2022-10-06T16:17:37.137601",
     "status": "completed"
    },
    "tags": []
   },
   "source": [
    "Preparing your data for training with DataLoaders"
   ]
  },
  {
   "cell_type": "code",
   "execution_count": 28,
   "id": "145b3f53",
   "metadata": {
    "execution": {
     "iopub.execute_input": "2022-10-06T16:17:37.216569Z",
     "iopub.status.busy": "2022-10-06T16:17:37.215496Z",
     "iopub.status.idle": "2022-10-06T16:17:37.222316Z",
     "shell.execute_reply": "2022-10-06T16:17:37.221377Z"
    },
    "papermill": {
     "duration": 0.035872,
     "end_time": "2022-10-06T16:17:37.224683",
     "exception": false,
     "start_time": "2022-10-06T16:17:37.188811",
     "status": "completed"
    },
    "tags": []
   },
   "outputs": [],
   "source": [
    "from torch.utils.data import DataLoader\n",
    "\n",
    "train_dataloader = DataLoader(training_data, batch_size=64, shuffle=True)\n",
    "test_dataloader = DataLoader(test_data, batch_size=64, shuffle=True)"
   ]
  },
  {
   "cell_type": "markdown",
   "id": "32190a34",
   "metadata": {
    "papermill": {
     "duration": 0.025501,
     "end_time": "2022-10-06T16:17:37.277562",
     "exception": false,
     "start_time": "2022-10-06T16:17:37.252061",
     "status": "completed"
    },
    "tags": []
   },
   "source": [
    "Iterate through dataset"
   ]
  },
  {
   "cell_type": "code",
   "execution_count": 29,
   "id": "716e5c09",
   "metadata": {
    "execution": {
     "iopub.execute_input": "2022-10-06T16:17:37.333559Z",
     "iopub.status.busy": "2022-10-06T16:17:37.332709Z",
     "iopub.status.idle": "2022-10-06T16:17:37.507036Z",
     "shell.execute_reply": "2022-10-06T16:17:37.505208Z"
    },
    "papermill": {
     "duration": 0.206018,
     "end_time": "2022-10-06T16:17:37.510587",
     "exception": false,
     "start_time": "2022-10-06T16:17:37.304569",
     "status": "completed"
    },
    "tags": []
   },
   "outputs": [
    {
     "name": "stdout",
     "output_type": "stream",
     "text": [
      "Feature batch shape: torch.Size([64, 1, 28, 28])\n",
      "Labels batch shape: torch.Size([64])\n"
     ]
    },
    {
     "data": {
      "image/png": "[encoded data removed]",
      "text/plain": [
       "<Figure size 432x288 with 1 Axes>"
      ]
     },
     "metadata": {
      "needs_background": "light"
     },
     "output_type": "display_data"
    },
    {
     "name": "stdout",
     "output_type": "stream",
     "text": [
      "Label: 4\n"
     ]
    }
   ],
   "source": [
    "train_features, train_labels = next(iter(train_dataloader))\n",
    "print(f\"Feature batch shape: {train_features.size()}\")\n",
    "print(f\"Labels batch shape: {train_labels.size()}\")\n",
    "img = train_features[0].squeeze()\n",
    "label = train_labels[0]\n",
    "plt.imshow(img, cmap=\"gray\")\n",
    "plt.show()\n",
    "print(f\"Label: {label}\")"
   ]
  },
  {
   "cell_type": "markdown",
   "id": "07aabd41",
   "metadata": {
    "papermill": {
     "duration": 0.025289,
     "end_time": "2022-10-06T16:17:37.563179",
     "exception": false,
     "start_time": "2022-10-06T16:17:37.537890",
     "status": "completed"
    },
    "tags": []
   },
   "source": [
    "#### For further reading - https://pytorch.org/docs/stable/data.html"
   ]
  },
  {
   "cell_type": "markdown",
   "id": "77eef553",
   "metadata": {
    "papermill": {
     "duration": 0.025102,
     "end_time": "2022-10-06T16:17:37.614153",
     "exception": false,
     "start_time": "2022-10-06T16:17:37.589051",
     "status": "completed"
    },
    "tags": []
   },
   "source": [
    "# Transform for data manipulation"
   ]
  },
  {
   "cell_type": "markdown",
   "id": "e6cf930e",
   "metadata": {
    "papermill": {
     "duration": 0.025291,
     "end_time": "2022-10-06T16:17:37.665017",
     "exception": false,
     "start_time": "2022-10-06T16:17:37.639726",
     "status": "completed"
    },
    "tags": []
   },
   "source": [
    "All TorchVision datasets have two parameters -transform to modify the features and target_transform to modify the labels - that accept callables containing the transformation logic. "
   ]
  },
  {
   "cell_type": "code",
   "execution_count": 30,
   "id": "5969abec",
   "metadata": {
    "execution": {
     "iopub.execute_input": "2022-10-06T16:17:37.718721Z",
     "iopub.status.busy": "2022-10-06T16:17:37.718320Z",
     "iopub.status.idle": "2022-10-06T16:17:37.724449Z",
     "shell.execute_reply": "2022-10-06T16:17:37.722970Z"
    },
    "papermill": {
     "duration": 0.036683,
     "end_time": "2022-10-06T16:17:37.727025",
     "exception": false,
     "start_time": "2022-10-06T16:17:37.690342",
     "status": "completed"
    },
    "tags": []
   },
   "outputs": [],
   "source": [
    "import torch \n",
    "from torchvision import datasets\n",
    "from torchvision.transforms import ToTensor, Lambda"
   ]
  },
  {
   "cell_type": "code",
   "execution_count": 31,
   "id": "879292e4",
   "metadata": {
    "execution": {
     "iopub.execute_input": "2022-10-06T16:17:37.781338Z",
     "iopub.status.busy": "2022-10-06T16:17:37.780902Z",
     "iopub.status.idle": "2022-10-06T16:17:37.869917Z",
     "shell.execute_reply": "2022-10-06T16:17:37.869016Z"
    },
    "papermill": {
     "duration": 0.118634,
     "end_time": "2022-10-06T16:17:37.872176",
     "exception": false,
     "start_time": "2022-10-06T16:17:37.753542",
     "status": "completed"
    },
    "tags": []
   },
   "outputs": [
    {
     "data": {
      "text/plain": [
       "Dataset FashionMNIST\n",
       "    Number of datapoints: 60000\n",
       "    Root location: data\n",
       "    Split: Train\n",
       "    StandardTransform\n",
       "Transform: ToTensor()\n",
       "Target transform: Lambda()"
      ]
     },
     "execution_count": 31,
     "metadata": {},
     "output_type": "execute_result"
    }
   ],
   "source": [
    "ds = datasets.FashionMNIST(\n",
    "    root=\"data\",\n",
    "    train=True,\n",
    "    download=True,\n",
    "    transform=ToTensor(),\n",
    "    target_transform=Lambda(lambda y: torch.zeros(10, dtype=torch.float).scatter_(0, torch.tensor(y), value=1))\n",
    ")\n",
    "\n",
    "ds"
   ]
  },
  {
   "cell_type": "markdown",
   "id": "3e8511ad",
   "metadata": {
    "papermill": {
     "duration": 0.025712,
     "end_time": "2022-10-06T16:17:37.925559",
     "exception": false,
     "start_time": "2022-10-06T16:17:37.899847",
     "status": "completed"
    },
    "tags": []
   },
   "source": [
    "ToTensor converts a PIL image or NumPy ndarray into a FloatTensor. and scales the image’s pixel intensity values in the range [0., 1.], \n",
    "\n",
    "Lambda transforms apply any user-defined lambda function. Here, we define a function to turn the integer into a one-hot encoded tensor. It first creates a zero tensor of size 10 (the number of labels in our dataset) and calls scatter_ which assigns a value=1 on the index as given by the label y.\n"
   ]
  },
  {
   "cell_type": "markdown",
   "id": "d5f9fae3",
   "metadata": {
    "papermill": {
     "duration": 0.02642,
     "end_time": "2022-10-06T16:17:37.978726",
     "exception": false,
     "start_time": "2022-10-06T16:17:37.952306",
     "status": "completed"
    },
    "tags": []
   },
   "source": [
    "#### For further info - https://pytorch.org/vision/stable/transforms.html"
   ]
  },
  {
   "cell_type": "markdown",
   "id": "0808b1a4",
   "metadata": {
    "papermill": {
     "duration": 0.026359,
     "end_time": "2022-10-06T16:17:38.030779",
     "exception": false,
     "start_time": "2022-10-06T16:17:38.004420",
     "status": "completed"
    },
    "tags": []
   },
   "source": [
    "# Autograd "
   ]
  },
  {
   "cell_type": "markdown",
   "id": "3c1dfbd4",
   "metadata": {
    "papermill": {
     "duration": 0.025182,
     "end_time": "2022-10-06T16:17:38.081485",
     "exception": false,
     "start_time": "2022-10-06T16:17:38.056303",
     "status": "completed"
    },
    "tags": []
   },
   "source": [
    "Autograd helps in computing loss function, applying optimization and change values of weights and biases to keep the loss min."
   ]
  },
  {
   "cell_type": "code",
   "execution_count": 32,
   "id": "e440d57c",
   "metadata": {
    "execution": {
     "iopub.execute_input": "2022-10-06T16:17:38.138951Z",
     "iopub.status.busy": "2022-10-06T16:17:38.138529Z",
     "iopub.status.idle": "2022-10-06T16:17:38.144237Z",
     "shell.execute_reply": "2022-10-06T16:17:38.143041Z"
    },
    "papermill": {
     "duration": 0.035439,
     "end_time": "2022-10-06T16:17:38.146887",
     "exception": false,
     "start_time": "2022-10-06T16:17:38.111448",
     "status": "completed"
    },
    "tags": []
   },
   "outputs": [],
   "source": [
    "import torch\n",
    "\n",
    "import matplotlib.pyplot as plt\n",
    "import matplotlib.ticker as ticker\n",
    "import math"
   ]
  },
  {
   "cell_type": "markdown",
   "id": "fca423fc",
   "metadata": {
    "papermill": {
     "duration": 0.025352,
     "end_time": "2022-10-06T16:17:38.198675",
     "exception": false,
     "start_time": "2022-10-06T16:17:38.173323",
     "status": "completed"
    },
    "tags": []
   },
   "source": [
    "Next, we’ll create an input tensor full of evenly spaced values on the interval [0,2π], and specify requires_grad=True"
   ]
  },
  {
   "cell_type": "code",
   "execution_count": 33,
   "id": "f5949835",
   "metadata": {
    "execution": {
     "iopub.execute_input": "2022-10-06T16:17:38.252890Z",
     "iopub.status.busy": "2022-10-06T16:17:38.251769Z",
     "iopub.status.idle": "2022-10-06T16:17:38.265528Z",
     "shell.execute_reply": "2022-10-06T16:17:38.263864Z"
    },
    "papermill": {
     "duration": 0.043781,
     "end_time": "2022-10-06T16:17:38.268484",
     "exception": false,
     "start_time": "2022-10-06T16:17:38.224703",
     "status": "completed"
    },
    "tags": []
   },
   "outputs": [
    {
     "data": {
      "text/plain": [
       "tensor([0.0000, 0.2618, 0.5236, 0.7854, 1.0472, 1.3090, 1.5708, 1.8326, 2.0944,\n",
       "        2.3562, 2.6180, 2.8798, 3.1416, 3.4034, 3.6652, 3.9270, 4.1888, 4.4506,\n",
       "        4.7124, 4.9742, 5.2360, 5.4978, 5.7596, 6.0214, 6.2832],\n",
       "       requires_grad=True)"
      ]
     },
     "execution_count": 33,
     "metadata": {},
     "output_type": "execute_result"
    }
   ],
   "source": [
    "a = torch.linspace(0, 2*math.pi, steps = 25, requires_grad=True)\n",
    "a"
   ]
  },
  {
   "cell_type": "markdown",
   "id": "a94ef5ed",
   "metadata": {
    "papermill": {
     "duration": 0.026478,
     "end_time": "2022-10-06T16:17:38.324467",
     "exception": false,
     "start_time": "2022-10-06T16:17:38.297989",
     "status": "completed"
    },
    "tags": []
   },
   "source": [
    "Next, we’ll perform a computation, and plot its output in terms of its inputs:"
   ]
  },
  {
   "cell_type": "code",
   "execution_count": 34,
   "id": "448a0163",
   "metadata": {
    "execution": {
     "iopub.execute_input": "2022-10-06T16:17:38.381396Z",
     "iopub.status.busy": "2022-10-06T16:17:38.380810Z",
     "iopub.status.idle": "2022-10-06T16:17:38.569323Z",
     "shell.execute_reply": "2022-10-06T16:17:38.567677Z"
    },
    "papermill": {
     "duration": 0.220122,
     "end_time": "2022-10-06T16:17:38.572128",
     "exception": false,
     "start_time": "2022-10-06T16:17:38.352006",
     "status": "completed"
    },
    "tags": []
   },
   "outputs": [
    {
     "data": {
      "text/plain": [
       "[<matplotlib.lines.Line2D at 0x7f31c52cd390>]"
      ]
     },
     "execution_count": 34,
     "metadata": {},
     "output_type": "execute_result"
    },
    {
     "data": {
      "image/png": "[encoded data removed]",
      "text/plain": [
       "<Figure size 432x288 with 1 Axes>"
      ]
     },
     "metadata": {
      "needs_background": "light"
     },
     "output_type": "display_data"
    }
   ],
   "source": [
    "b = torch.sin(a)\n",
    "plt.plot(a.detach(), b.detach())"
   ]
  },
  {
   "cell_type": "markdown",
   "id": "a8cfa1e2",
   "metadata": {
    "papermill": {
     "duration": 0.025813,
     "end_time": "2022-10-06T16:17:38.625029",
     "exception": false,
     "start_time": "2022-10-06T16:17:38.599216",
     "status": "completed"
    },
    "tags": []
   },
   "source": [
    "Now lets do some more operations on b, jsut like happens in layers of Neural Network"
   ]
  },
  {
   "cell_type": "code",
   "execution_count": 35,
   "id": "582edb6b",
   "metadata": {
    "execution": {
     "iopub.execute_input": "2022-10-06T16:17:38.683793Z",
     "iopub.status.busy": "2022-10-06T16:17:38.683363Z",
     "iopub.status.idle": "2022-10-06T16:17:38.692996Z",
     "shell.execute_reply": "2022-10-06T16:17:38.691610Z"
    },
    "papermill": {
     "duration": 0.041753,
     "end_time": "2022-10-06T16:17:38.695588",
     "exception": false,
     "start_time": "2022-10-06T16:17:38.653835",
     "status": "completed"
    },
    "tags": []
   },
   "outputs": [
    {
     "name": "stdout",
     "output_type": "stream",
     "text": [
      "tensor([ 0.0000e+00,  2.5882e-01,  5.0000e-01,  7.0711e-01,  8.6603e-01,\n",
      "         9.6593e-01,  1.0000e+00,  9.6593e-01,  8.6603e-01,  7.0711e-01,\n",
      "         5.0000e-01,  2.5882e-01, -8.7423e-08, -2.5882e-01, -5.0000e-01,\n",
      "        -7.0711e-01, -8.6603e-01, -9.6593e-01, -1.0000e+00, -9.6593e-01,\n",
      "        -8.6603e-01, -7.0711e-01, -5.0000e-01, -2.5882e-01,  1.7485e-07],\n",
      "       grad_fn=<SinBackward0>)\n",
      "tensor([ 0.0000e+00,  5.1764e-01,  1.0000e+00,  1.4142e+00,  1.7321e+00,\n",
      "         1.9319e+00,  2.0000e+00,  1.9319e+00,  1.7321e+00,  1.4142e+00,\n",
      "         1.0000e+00,  5.1764e-01, -1.7485e-07, -5.1764e-01, -1.0000e+00,\n",
      "        -1.4142e+00, -1.7321e+00, -1.9319e+00, -2.0000e+00, -1.9319e+00,\n",
      "        -1.7321e+00, -1.4142e+00, -1.0000e+00, -5.1764e-01,  3.4969e-07],\n",
      "       grad_fn=<MulBackward0>)\n",
      "tensor([ 1.0000e+00,  1.5176e+00,  2.0000e+00,  2.4142e+00,  2.7321e+00,\n",
      "         2.9319e+00,  3.0000e+00,  2.9319e+00,  2.7321e+00,  2.4142e+00,\n",
      "         2.0000e+00,  1.5176e+00,  1.0000e+00,  4.8236e-01, -3.5763e-07,\n",
      "        -4.1421e-01, -7.3205e-01, -9.3185e-01, -1.0000e+00, -9.3185e-01,\n",
      "        -7.3205e-01, -4.1421e-01,  4.7684e-07,  4.8236e-01,  1.0000e+00],\n",
      "       grad_fn=<AddBackward0>)\n"
     ]
    }
   ],
   "source": [
    "c = 2*b\n",
    "d = c+1\n",
    "\n",
    "print(b)\n",
    "print(c)\n",
    "print(d)"
   ]
  },
  {
   "cell_type": "markdown",
   "id": "760b237c",
   "metadata": {
    "papermill": {
     "duration": 0.027058,
     "end_time": "2022-10-06T16:17:38.749003",
     "exception": false,
     "start_time": "2022-10-06T16:17:38.721945",
     "status": "completed"
    },
    "tags": []
   },
   "source": [
    "All the values of matrics are stored in one variable (single variable output).  When we call .backward() on a tensor with no arguments, it expects the calling tensor to contain only a single element, as is the case when computing a loss function."
   ]
  },
  {
   "cell_type": "code",
   "execution_count": 36,
   "id": "b1c37d78",
   "metadata": {
    "execution": {
     "iopub.execute_input": "2022-10-06T16:17:38.809033Z",
     "iopub.status.busy": "2022-10-06T16:17:38.807863Z",
     "iopub.status.idle": "2022-10-06T16:17:38.814913Z",
     "shell.execute_reply": "2022-10-06T16:17:38.813450Z"
    },
    "papermill": {
     "duration": 0.042013,
     "end_time": "2022-10-06T16:17:38.818402",
     "exception": false,
     "start_time": "2022-10-06T16:17:38.776389",
     "status": "completed"
    },
    "tags": []
   },
   "outputs": [
    {
     "name": "stdout",
     "output_type": "stream",
     "text": [
      "tensor(25., grad_fn=<SumBackward0>)\n"
     ]
    }
   ],
   "source": [
    "out = d.sum()\n",
    "print(out)"
   ]
  },
  {
   "cell_type": "markdown",
   "id": "dc283898",
   "metadata": {
    "papermill": {
     "duration": 0.026628,
     "end_time": "2022-10-06T16:17:38.872243",
     "exception": false,
     "start_time": "2022-10-06T16:17:38.845615",
     "status": "completed"
    },
    "tags": []
   },
   "source": [
    "Every grad_fn associated with every tensor is stored in it. We can access it and go all the way back to its inputs with its next_functions property"
   ]
  },
  {
   "cell_type": "code",
   "execution_count": 37,
   "id": "a0f085b2",
   "metadata": {
    "execution": {
     "iopub.execute_input": "2022-10-06T16:17:38.931332Z",
     "iopub.status.busy": "2022-10-06T16:17:38.930857Z",
     "iopub.status.idle": "2022-10-06T16:17:38.941100Z",
     "shell.execute_reply": "2022-10-06T16:17:38.939197Z"
    },
    "papermill": {
     "duration": 0.043771,
     "end_time": "2022-10-06T16:17:38.943858",
     "exception": false,
     "start_time": "2022-10-06T16:17:38.900087",
     "status": "completed"
    },
    "tags": []
   },
   "outputs": [
    {
     "name": "stdout",
     "output_type": "stream",
     "text": [
      "d:\n",
      "<AddBackward0 object at 0x7f31c52b1d10>\n",
      "((<MulBackward0 object at 0x7f31c52ef350>, 0), (None, 0))\n",
      "((<SinBackward0 object at 0x7f31c52b1d10>, 0), (None, 0))\n",
      "((<AccumulateGrad object at 0x7f31c52b1e90>, 0),)\n",
      "()\n",
      "\n",
      "c:\n",
      "<MulBackward0 object at 0x7f31c52b1d10>\n",
      "\n",
      "b:\n",
      "<SinBackward0 object at 0x7f31c52b1d10>\n",
      "\n",
      "a:\n",
      "None\n"
     ]
    }
   ],
   "source": [
    "print('d:')\n",
    "print(d.grad_fn)\n",
    "print(d.grad_fn.next_functions)\n",
    "print(d.grad_fn.next_functions[0][0].next_functions)\n",
    "print(d.grad_fn.next_functions[0][0].next_functions[0][0].next_functions)\n",
    "print(d.grad_fn.next_functions[0][0].next_functions[0][0].next_functions[0][0].next_functions)\n",
    "print('\\nc:')\n",
    "print(c.grad_fn)\n",
    "print('\\nb:')\n",
    "print(b.grad_fn)\n",
    "print('\\na:')\n",
    "print(a.grad_fn)"
   ]
  },
  {
   "cell_type": "markdown",
   "id": "ef1b42a0",
   "metadata": {
    "papermill": {
     "duration": 0.029637,
     "end_time": "2022-10-06T16:17:39.002231",
     "exception": false,
     "start_time": "2022-10-06T16:17:38.972594",
     "status": "completed"
    },
    "tags": []
   },
   "source": [
    "backwards() method is used to get value of gradient\n",
    "\n",
    "the derivative should be 2 * cos(a)2∗cos(a). Looking at the graph above, that’s just what we see."
   ]
  },
  {
   "cell_type": "code",
   "execution_count": 38,
   "id": "db8fe6fd",
   "metadata": {
    "execution": {
     "iopub.execute_input": "2022-10-06T16:17:39.065214Z",
     "iopub.status.busy": "2022-10-06T16:17:39.064757Z",
     "iopub.status.idle": "2022-10-06T16:17:39.263836Z",
     "shell.execute_reply": "2022-10-06T16:17:39.262494Z"
    },
    "papermill": {
     "duration": 0.233441,
     "end_time": "2022-10-06T16:17:39.266512",
     "exception": false,
     "start_time": "2022-10-06T16:17:39.033071",
     "status": "completed"
    },
    "tags": []
   },
   "outputs": [
    {
     "name": "stdout",
     "output_type": "stream",
     "text": [
      "tensor([ 2.0000e+00,  1.9319e+00,  1.7321e+00,  1.4142e+00,  1.0000e+00,\n",
      "         5.1764e-01, -8.7423e-08, -5.1764e-01, -1.0000e+00, -1.4142e+00,\n",
      "        -1.7321e+00, -1.9319e+00, -2.0000e+00, -1.9319e+00, -1.7321e+00,\n",
      "        -1.4142e+00, -1.0000e+00, -5.1764e-01,  2.3850e-08,  5.1764e-01,\n",
      "         1.0000e+00,  1.4142e+00,  1.7321e+00,  1.9319e+00,  2.0000e+00])\n"
     ]
    },
    {
     "data": {
      "text/plain": [
       "[<matplotlib.lines.Line2D at 0x7f31c525da50>]"
      ]
     },
     "execution_count": 38,
     "metadata": {},
     "output_type": "execute_result"
    },
    {
     "data": {
      "image/png": "[encoded data removed]",
      "text/plain": [
       "<Figure size 432x288 with 1 Axes>"
      ]
     },
     "metadata": {
      "needs_background": "light"
     },
     "output_type": "display_data"
    }
   ],
   "source": [
    "out.backward()\n",
    "print(a.grad)\n",
    "plt.plot(a.detach(), a.grad.detach())"
   ]
  },
  {
   "cell_type": "markdown",
   "id": "fd5cfa90",
   "metadata": {
    "papermill": {
     "duration": 0.031386,
     "end_time": "2022-10-06T16:17:39.327329",
     "exception": false,
     "start_time": "2022-10-06T16:17:39.295943",
     "status": "completed"
    },
    "tags": []
   },
   "source": [
    "Weights of an model can be accessed by weights method \n",
    "\n",
    "```loss.backward()\n",
    "print(model.layer2.weight[0][0:10])```"
   ]
  },
  {
   "cell_type": "markdown",
   "id": "9eb542c6",
   "metadata": {
    "papermill": {
     "duration": 0.029774,
     "end_time": "2022-10-06T16:17:39.389735",
     "exception": false,
     "start_time": "2022-10-06T16:17:39.359961",
     "status": "completed"
    },
    "tags": []
   },
   "source": [
    "### Autograd profiler"
   ]
  },
  {
   "cell_type": "markdown",
   "id": "4267fb24",
   "metadata": {
    "papermill": {
     "duration": 0.02741,
     "end_time": "2022-10-06T16:17:39.445926",
     "exception": false,
     "start_time": "2022-10-06T16:17:39.418516",
     "status": "completed"
    },
    "tags": []
   },
   "source": [
    "Autograd tracks every step of your computation in detail. Such a computation history, combined with timing information, would make a handy profiler - and autograd has that feature baked in. Here’s a quick example usage:"
   ]
  },
  {
   "cell_type": "code",
   "execution_count": 39,
   "id": "a5ecc2a8",
   "metadata": {
    "execution": {
     "iopub.execute_input": "2022-10-06T16:17:39.502977Z",
     "iopub.status.busy": "2022-10-06T16:17:39.502536Z",
     "iopub.status.idle": "2022-10-06T16:17:39.792965Z",
     "shell.execute_reply": "2022-10-06T16:17:39.791105Z"
    },
    "papermill": {
     "duration": 0.322989,
     "end_time": "2022-10-06T16:17:39.795933",
     "exception": false,
     "start_time": "2022-10-06T16:17:39.472944",
     "status": "completed"
    },
    "tags": []
   },
   "outputs": [
    {
     "name": "stdout",
     "output_type": "stream",
     "text": [
      "-------------  ------------  ------------  ------------  ------------  ------------  ------------  \n",
      "         Name    Self CPU %      Self CPU   CPU total %     CPU total  CPU time avg    # of Calls  \n",
      "-------------  ------------  ------------  ------------  ------------  ------------  ------------  \n",
      "    aten::mul        50.15%       4.093ms        50.15%       4.093ms       4.093us          1000  \n",
      "    aten::div        49.85%       4.068ms        49.85%       4.068ms       4.068us          1000  \n",
      "-------------  ------------  ------------  ------------  ------------  ------------  ------------  \n",
      "Self CPU time total: 8.161ms\n",
      "\n"
     ]
    }
   ],
   "source": [
    "device = torch.device('cpu')\n",
    "run_on_gpu = False\n",
    "if torch.cuda.is_available():\n",
    "    device = torch.device('cuda')\n",
    "    run_on_gpu = True\n",
    "\n",
    "x = torch.randn(2, 3, requires_grad=True)\n",
    "y = torch.rand(2, 3, requires_grad=True)\n",
    "z = torch.ones(2, 3, requires_grad=True)\n",
    "\n",
    "with torch.autograd.profiler.profile(use_cuda=run_on_gpu) as prf:\n",
    "    for _ in range(1000):\n",
    "        z = (z / x) * y\n",
    "\n",
    "print(prf.key_averages().table(sort_by='self_cpu_time_total'))"
   ]
  },
  {
   "cell_type": "markdown",
   "id": "415b4885",
   "metadata": {
    "papermill": {
     "duration": 0.029709,
     "end_time": "2022-10-06T16:17:39.853935",
     "exception": false,
     "start_time": "2022-10-06T16:17:39.824226",
     "status": "completed"
    },
    "tags": []
   },
   "source": [
    "# Building a simple Neural Network"
   ]
  },
  {
   "cell_type": "code",
   "execution_count": 40,
   "id": "35ee3937",
   "metadata": {
    "execution": {
     "iopub.execute_input": "2022-10-06T16:17:39.911864Z",
     "iopub.status.busy": "2022-10-06T16:17:39.911128Z",
     "iopub.status.idle": "2022-10-06T16:17:39.916254Z",
     "shell.execute_reply": "2022-10-06T16:17:39.915304Z"
    },
    "papermill": {
     "duration": 0.037779,
     "end_time": "2022-10-06T16:17:39.918634",
     "exception": false,
     "start_time": "2022-10-06T16:17:39.880855",
     "status": "completed"
    },
    "tags": []
   },
   "outputs": [],
   "source": [
    "import os\n",
    "import torch\n",
    "from torch import nn\n",
    "from torch.utils.data import DataLoader\n",
    "from torchvision import datasets, transforms\n",
    "from torchvision.transforms import ToTensor"
   ]
  },
  {
   "cell_type": "markdown",
   "id": "304b2c94",
   "metadata": {
    "papermill": {
     "duration": 0.030252,
     "end_time": "2022-10-06T16:17:39.977355",
     "exception": false,
     "start_time": "2022-10-06T16:17:39.947103",
     "status": "completed"
    },
    "tags": []
   },
   "source": [
    "The full list of all the datasets stored inside torchvision.dataseets is [here](https://pytorch.org/vision/stable/datasets.html)"
   ]
  },
  {
   "cell_type": "code",
   "execution_count": 41,
   "id": "06dd7832",
   "metadata": {
    "execution": {
     "iopub.execute_input": "2022-10-06T16:17:40.040242Z",
     "iopub.status.busy": "2022-10-06T16:17:40.039717Z",
     "iopub.status.idle": "2022-10-06T16:17:40.045521Z",
     "shell.execute_reply": "2022-10-06T16:17:40.044574Z"
    },
    "papermill": {
     "duration": 0.0401,
     "end_time": "2022-10-06T16:17:40.048123",
     "exception": false,
     "start_time": "2022-10-06T16:17:40.008023",
     "status": "completed"
    },
    "tags": []
   },
   "outputs": [
    {
     "name": "stdout",
     "output_type": "stream",
     "text": [
      "Using cpu device\n"
     ]
    }
   ],
   "source": [
    "device = \"cuda\" if torch.cuda.is_available() else \"cpu\"\n",
    "print(f\"Using {device} device\")"
   ]
  },
  {
   "cell_type": "code",
   "execution_count": 42,
   "id": "e614714f",
   "metadata": {
    "execution": {
     "iopub.execute_input": "2022-10-06T16:17:40.106317Z",
     "iopub.status.busy": "2022-10-06T16:17:40.105567Z",
     "iopub.status.idle": "2022-10-06T16:17:40.203165Z",
     "shell.execute_reply": "2022-10-06T16:17:40.201800Z"
    },
    "papermill": {
     "duration": 0.12903,
     "end_time": "2022-10-06T16:17:40.205972",
     "exception": false,
     "start_time": "2022-10-06T16:17:40.076942",
     "status": "completed"
    },
    "tags": []
   },
   "outputs": [],
   "source": [
    "training_data = datasets.FashionMNIST(\n",
    "    root=\"data\",\n",
    "    train=True,\n",
    "    download=True,\n",
    "    transform=ToTensor()\n",
    ")\n",
    "\n",
    "test_data = datasets.FashionMNIST(\n",
    "    root=\"data\",\n",
    "    train=False,\n",
    "    download=True,\n",
    "    transform=ToTensor()\n",
    ")\n",
    "\n",
    "train_dataloader = DataLoader(training_data, batch_size=64)\n",
    "test_dataloader = DataLoader(test_data, batch_size=64)\n"
   ]
  },
  {
   "cell_type": "code",
   "execution_count": 43,
   "id": "01f0f5ce",
   "metadata": {
    "execution": {
     "iopub.execute_input": "2022-10-06T16:17:40.263928Z",
     "iopub.status.busy": "2022-10-06T16:17:40.263485Z",
     "iopub.status.idle": "2022-10-06T16:17:40.271095Z",
     "shell.execute_reply": "2022-10-06T16:17:40.270178Z"
    },
    "papermill": {
     "duration": 0.038677,
     "end_time": "2022-10-06T16:17:40.273230",
     "exception": false,
     "start_time": "2022-10-06T16:17:40.234553",
     "status": "completed"
    },
    "tags": []
   },
   "outputs": [],
   "source": [
    "class NeuralNetwork(nn.Module):\n",
    "    def __init__(self):\n",
    "        super(NeuralNetwork, self).__init__()\n",
    "        self.flatten = nn.Flatten()\n",
    "        self.linear_relu_stack = nn.Sequential(\n",
    "            nn.Linear(28*28, 512),\n",
    "            nn.ReLU(),\n",
    "            nn.Linear(512, 512),\n",
    "            nn.ReLU(),\n",
    "            nn.Linear(512, 10),\n",
    "        )\n",
    "        \n",
    "    def forward(self, x):\n",
    "        x = self.flatten(x)\n",
    "        logits = self.linear_relu_stack(x)\n",
    "        return logits"
   ]
  },
  {
   "cell_type": "code",
   "execution_count": 44,
   "id": "089c8d5e",
   "metadata": {
    "execution": {
     "iopub.execute_input": "2022-10-06T16:17:40.331890Z",
     "iopub.status.busy": "2022-10-06T16:17:40.331136Z",
     "iopub.status.idle": "2022-10-06T16:17:40.342840Z",
     "shell.execute_reply": "2022-10-06T16:17:40.341752Z"
    },
    "papermill": {
     "duration": 0.043681,
     "end_time": "2022-10-06T16:17:40.345480",
     "exception": false,
     "start_time": "2022-10-06T16:17:40.301799",
     "status": "completed"
    },
    "tags": []
   },
   "outputs": [
    {
     "name": "stdout",
     "output_type": "stream",
     "text": [
      "NeuralNetwork(\n",
      "  (flatten): Flatten(start_dim=1, end_dim=-1)\n",
      "  (linear_relu_stack): Sequential(\n",
      "    (0): Linear(in_features=784, out_features=512, bias=True)\n",
      "    (1): ReLU()\n",
      "    (2): Linear(in_features=512, out_features=512, bias=True)\n",
      "    (3): ReLU()\n",
      "    (4): Linear(in_features=512, out_features=10, bias=True)\n",
      "  )\n",
      ")\n"
     ]
    }
   ],
   "source": [
    "model = NeuralNetwork().to(device)\n",
    "print(model)"
   ]
  },
  {
   "cell_type": "code",
   "execution_count": 45,
   "id": "5f374a99",
   "metadata": {
    "execution": {
     "iopub.execute_input": "2022-10-06T16:17:40.407517Z",
     "iopub.status.busy": "2022-10-06T16:17:40.407101Z",
     "iopub.status.idle": "2022-10-06T16:17:40.420277Z",
     "shell.execute_reply": "2022-10-06T16:17:40.419313Z"
    },
    "papermill": {
     "duration": 0.049826,
     "end_time": "2022-10-06T16:17:40.423334",
     "exception": false,
     "start_time": "2022-10-06T16:17:40.373508",
     "status": "completed"
    },
    "tags": []
   },
   "outputs": [
    {
     "name": "stdout",
     "output_type": "stream",
     "text": [
      "Predicted class: tensor([8])\n"
     ]
    }
   ],
   "source": [
    "X = torch.rand(1, 28, 28, device=device)\n",
    "logits = model(X)\n",
    "pred_probab = nn.Softmax(dim=1)(logits)\n",
    "y_pred = pred_probab.argmax(1)\n",
    "print(f\"Predicted class: {y_pred}\")"
   ]
  },
  {
   "cell_type": "markdown",
   "id": "78b1ef23",
   "metadata": {
    "papermill": {
     "duration": 0.027267,
     "end_time": "2022-10-06T16:17:40.482945",
     "exception": false,
     "start_time": "2022-10-06T16:17:40.455678",
     "status": "completed"
    },
    "tags": []
   },
   "source": [
    "## Backpropagation"
   ]
  },
  {
   "cell_type": "markdown",
   "id": "56ef3e58",
   "metadata": {
    "papermill": {
     "duration": 0.027988,
     "end_time": "2022-10-06T16:17:40.541594",
     "exception": false,
     "start_time": "2022-10-06T16:17:40.513606",
     "status": "completed"
    },
    "tags": []
   },
   "source": [
    "Here the different matrices are - x input , w weight, b bias and y output\n",
    "\n",
    "Since w and b are the one who need to be optimized, they have requires_grad = True\n",
    "\n",
    "Loss function used here is Cross entropy"
   ]
  },
  {
   "cell_type": "code",
   "execution_count": 46,
   "id": "b239bc80",
   "metadata": {
    "execution": {
     "iopub.execute_input": "2022-10-06T16:17:40.600219Z",
     "iopub.status.busy": "2022-10-06T16:17:40.598407Z",
     "iopub.status.idle": "2022-10-06T16:17:40.619410Z",
     "shell.execute_reply": "2022-10-06T16:17:40.617685Z"
    },
    "papermill": {
     "duration": 0.052875,
     "end_time": "2022-10-06T16:17:40.622301",
     "exception": false,
     "start_time": "2022-10-06T16:17:40.569426",
     "status": "completed"
    },
    "tags": []
   },
   "outputs": [
    {
     "data": {
      "text/plain": [
       "tensor(0.9833, grad_fn=<BinaryCrossEntropyWithLogitsBackward0>)"
      ]
     },
     "execution_count": 46,
     "metadata": {},
     "output_type": "execute_result"
    }
   ],
   "source": [
    "x = torch.ones(5)  # input tensor\n",
    "y = torch.zeros(3)  # expected output\n",
    "w = torch.randn(5, 3, requires_grad=True)\n",
    "b = torch.randn(3, requires_grad=True)\n",
    "z = torch.matmul(x, w)+b\n",
    "loss = torch.nn.functional.binary_cross_entropy_with_logits(z, y)\n",
    "loss"
   ]
  },
  {
   "cell_type": "markdown",
   "id": "0ed7cdbb",
   "metadata": {
    "papermill": {
     "duration": 0.031237,
     "end_time": "2022-10-06T16:17:40.684402",
     "exception": false,
     "start_time": "2022-10-06T16:17:40.653165",
     "status": "completed"
    },
    "tags": []
   },
   "source": [
    "A function that we apply to tensors to construct computational graph is in fact an object of class Function. This object knows how to compute the function in the forward direction, and also how to compute its derivative during the backward propagation step. A reference to the backward propagation function is stored in grad_fn property of a tensor. You can find more information of Function in the documentation - https://pytorch.org/docs/stable/autograd.html#function"
   ]
  },
  {
   "cell_type": "code",
   "execution_count": 47,
   "id": "465b49e8",
   "metadata": {
    "execution": {
     "iopub.execute_input": "2022-10-06T16:17:40.746592Z",
     "iopub.status.busy": "2022-10-06T16:17:40.746174Z",
     "iopub.status.idle": "2022-10-06T16:17:40.752766Z",
     "shell.execute_reply": "2022-10-06T16:17:40.751198Z"
    },
    "papermill": {
     "duration": 0.041024,
     "end_time": "2022-10-06T16:17:40.756097",
     "exception": false,
     "start_time": "2022-10-06T16:17:40.715073",
     "status": "completed"
    },
    "tags": []
   },
   "outputs": [
    {
     "name": "stdout",
     "output_type": "stream",
     "text": [
      "Gradient function for z = <AddBackward0 object at 0x7f31c5227fd0>\n",
      "Gradient function for loss = <BinaryCrossEntropyWithLogitsBackward0 object at 0x7f31c5227a50>\n"
     ]
    }
   ],
   "source": [
    "print(f\"Gradient function for z = {z.grad_fn}\")\n",
    "print(f\"Gradient function for loss = {loss.grad_fn}\")"
   ]
  },
  {
   "cell_type": "markdown",
   "id": "905d1549",
   "metadata": {
    "papermill": {
     "duration": 0.027868,
     "end_time": "2022-10-06T16:17:40.813296",
     "exception": false,
     "start_time": "2022-10-06T16:17:40.785428",
     "status": "completed"
    },
    "tags": []
   },
   "source": [
    "Computing gradients"
   ]
  },
  {
   "cell_type": "code",
   "execution_count": 48,
   "id": "93043bcc",
   "metadata": {
    "execution": {
     "iopub.execute_input": "2022-10-06T16:17:40.872864Z",
     "iopub.status.busy": "2022-10-06T16:17:40.871795Z",
     "iopub.status.idle": "2022-10-06T16:17:40.882676Z",
     "shell.execute_reply": "2022-10-06T16:17:40.881102Z"
    },
    "papermill": {
     "duration": 0.042329,
     "end_time": "2022-10-06T16:17:40.885103",
     "exception": false,
     "start_time": "2022-10-06T16:17:40.842774",
     "status": "completed"
    },
    "tags": []
   },
   "outputs": [
    {
     "name": "stdout",
     "output_type": "stream",
     "text": [
      "tensor([[0.2357, 0.1561, 0.2213],\n",
      "        [0.2357, 0.1561, 0.2213],\n",
      "        [0.2357, 0.1561, 0.2213],\n",
      "        [0.2357, 0.1561, 0.2213],\n",
      "        [0.2357, 0.1561, 0.2213]])\n",
      "tensor([0.2357, 0.1561, 0.2213])\n"
     ]
    }
   ],
   "source": [
    "loss.backward()\n",
    "print(w.grad)\n",
    "print(b.grad)"
   ]
  },
  {
   "cell_type": "markdown",
   "id": "2eb26b34",
   "metadata": {
    "papermill": {
     "duration": 0.028162,
     "end_time": "2022-10-06T16:17:40.943572",
     "exception": false,
     "start_time": "2022-10-06T16:17:40.915410",
     "status": "completed"
    },
    "tags": []
   },
   "source": [
    "We can only perform gradient calculations using backward once on a given graph, for performance reasons. If we need to do several backward calls on the same graph, we need to pass retain_graph=True to the backward call."
   ]
  },
  {
   "cell_type": "markdown",
   "id": "b94606fc",
   "metadata": {
    "papermill": {
     "duration": 0.028515,
     "end_time": "2022-10-06T16:17:41.000016",
     "exception": false,
     "start_time": "2022-10-06T16:17:40.971501",
     "status": "completed"
    },
    "tags": []
   },
   "source": [
    "Disabling gradient tracking with no_grad() and detach()"
   ]
  },
  {
   "cell_type": "code",
   "execution_count": 49,
   "id": "307f5d5a",
   "metadata": {
    "execution": {
     "iopub.execute_input": "2022-10-06T16:17:41.061890Z",
     "iopub.status.busy": "2022-10-06T16:17:41.061191Z",
     "iopub.status.idle": "2022-10-06T16:17:41.069921Z",
     "shell.execute_reply": "2022-10-06T16:17:41.068410Z"
    },
    "papermill": {
     "duration": 0.043004,
     "end_time": "2022-10-06T16:17:41.072577",
     "exception": false,
     "start_time": "2022-10-06T16:17:41.029573",
     "status": "completed"
    },
    "tags": []
   },
   "outputs": [
    {
     "name": "stdout",
     "output_type": "stream",
     "text": [
      "True\n",
      "False\n",
      "False\n"
     ]
    }
   ],
   "source": [
    "z = torch.matmul(x, w)+b\n",
    "print(z.requires_grad)\n",
    "\n",
    "with torch.no_grad():\n",
    "    z = torch.matmul(x, w)+b\n",
    "print(z.requires_grad)\n",
    "\n",
    "z = torch.matmul(x, w)+b\n",
    "z_det = z.detach()\n",
    "print(z_det.requires_grad)"
   ]
  },
  {
   "cell_type": "markdown",
   "id": "7bc550dc",
   "metadata": {
    "papermill": {
     "duration": 0.029515,
     "end_time": "2022-10-06T16:17:41.130811",
     "exception": false,
     "start_time": "2022-10-06T16:17:41.101296",
     "status": "completed"
    },
    "tags": []
   },
   "source": [
    "There are reasons you might want to disable gradient tracking:\n",
    "\n",
    "* To mark some parameters in your neural network as frozen parameters. This is a very common scenario for finetuning a pretrained network\n",
    "\n",
    "* To speed up computations when you are only doing forward pass, because computations on tensors that do not track gradients would be more efficient.\n",
    "\n"
   ]
  },
  {
   "cell_type": "markdown",
   "id": "6a23bc55",
   "metadata": {
    "papermill": {
     "duration": 0.030412,
     "end_time": "2022-10-06T16:17:41.192891",
     "exception": false,
     "start_time": "2022-10-06T16:17:41.162479",
     "status": "completed"
    },
    "tags": []
   },
   "source": [
    "In many cases, we have a scalar loss function, and we need to compute the gradient with respect to some parameters. However, there are cases when the output function is an arbitrary tensor. In this case, PyTorch allows you to compute so-called Jacobian product, and not the actual gradient."
   ]
  },
  {
   "cell_type": "code",
   "execution_count": 50,
   "id": "d0feadfc",
   "metadata": {
    "execution": {
     "iopub.execute_input": "2022-10-06T16:17:41.255404Z",
     "iopub.status.busy": "2022-10-06T16:17:41.254908Z",
     "iopub.status.idle": "2022-10-06T16:17:41.269917Z",
     "shell.execute_reply": "2022-10-06T16:17:41.268315Z"
    },
    "papermill": {
     "duration": 0.051173,
     "end_time": "2022-10-06T16:17:41.273161",
     "exception": false,
     "start_time": "2022-10-06T16:17:41.221988",
     "status": "completed"
    },
    "tags": []
   },
   "outputs": [
    {
     "name": "stdout",
     "output_type": "stream",
     "text": [
      "First call\n",
      "tensor([[4., 2., 2., 2., 2.],\n",
      "        [2., 4., 2., 2., 2.],\n",
      "        [2., 2., 4., 2., 2.],\n",
      "        [2., 2., 2., 4., 2.],\n",
      "        [2., 2., 2., 2., 4.]])\n",
      "\n",
      "Second call\n",
      "tensor([[8., 4., 4., 4., 4.],\n",
      "        [4., 8., 4., 4., 4.],\n",
      "        [4., 4., 8., 4., 4.],\n",
      "        [4., 4., 4., 8., 4.],\n",
      "        [4., 4., 4., 4., 8.]])\n",
      "\n",
      "Call after zeroing gradients\n",
      "tensor([[4., 2., 2., 2., 2.],\n",
      "        [2., 4., 2., 2., 2.],\n",
      "        [2., 2., 4., 2., 2.],\n",
      "        [2., 2., 2., 4., 2.],\n",
      "        [2., 2., 2., 2., 4.]])\n"
     ]
    }
   ],
   "source": [
    "inp = torch.eye(5, requires_grad=True)\n",
    "out = (inp+1).pow(2)\n",
    "out.backward(torch.ones_like(inp), retain_graph=True)\n",
    "print(f\"First call\\n{inp.grad}\")\n",
    "out.backward(torch.ones_like(inp), retain_graph=True)\n",
    "print(f\"\\nSecond call\\n{inp.grad}\")\n",
    "inp.grad.zero_()\n",
    "out.backward(torch.ones_like(inp), retain_graph=True)\n",
    "print(f\"\\nCall after zeroing gradients\\n{inp.grad}\")"
   ]
  },
  {
   "cell_type": "markdown",
   "id": "662382e5",
   "metadata": {
    "papermill": {
     "duration": 0.028217,
     "end_time": "2022-10-06T16:17:41.330013",
     "exception": false,
     "start_time": "2022-10-06T16:17:41.301796",
     "status": "completed"
    },
    "tags": []
   },
   "source": [
    "### Optimzing model parameters"
   ]
  },
  {
   "cell_type": "code",
   "execution_count": 51,
   "id": "ee00c162",
   "metadata": {
    "execution": {
     "iopub.execute_input": "2022-10-06T16:17:41.389831Z",
     "iopub.status.busy": "2022-10-06T16:17:41.389423Z",
     "iopub.status.idle": "2022-10-06T16:17:41.394502Z",
     "shell.execute_reply": "2022-10-06T16:17:41.393081Z"
    },
    "papermill": {
     "duration": 0.038641,
     "end_time": "2022-10-06T16:17:41.396955",
     "exception": false,
     "start_time": "2022-10-06T16:17:41.358314",
     "status": "completed"
    },
    "tags": []
   },
   "outputs": [],
   "source": [
    "learning_rate = 1e-3\n",
    "batch_size = 64\n",
    "epochs = 5"
   ]
  },
  {
   "cell_type": "markdown",
   "id": "16de5ef5",
   "metadata": {
    "papermill": {
     "duration": 0.028533,
     "end_time": "2022-10-06T16:17:41.455531",
     "exception": false,
     "start_time": "2022-10-06T16:17:41.426998",
     "status": "completed"
    },
    "tags": []
   },
   "source": [
    "Loss function\n",
    "\n",
    "Common loss functions include nn.MSELoss (Mean Square Error) for regression tasks, and nn.NLLLoss (Negative Log Likelihood) for classification. nn.CrossEntropyLoss combines nn.LogSoftmax and nn.NLLLoss.\n"
   ]
  },
  {
   "cell_type": "code",
   "execution_count": 52,
   "id": "74f7e375",
   "metadata": {
    "execution": {
     "iopub.execute_input": "2022-10-06T16:17:41.515396Z",
     "iopub.status.busy": "2022-10-06T16:17:41.514977Z",
     "iopub.status.idle": "2022-10-06T16:17:41.520418Z",
     "shell.execute_reply": "2022-10-06T16:17:41.519089Z"
    },
    "papermill": {
     "duration": 0.038301,
     "end_time": "2022-10-06T16:17:41.522739",
     "exception": false,
     "start_time": "2022-10-06T16:17:41.484438",
     "status": "completed"
    },
    "tags": []
   },
   "outputs": [],
   "source": [
    "loss_fn = nn.CrossEntropyLoss()"
   ]
  },
  {
   "cell_type": "markdown",
   "id": "153e8a84",
   "metadata": {
    "papermill": {
     "duration": 0.029038,
     "end_time": "2022-10-06T16:17:41.580282",
     "exception": false,
     "start_time": "2022-10-06T16:17:41.551244",
     "status": "completed"
    },
    "tags": []
   },
   "source": [
    "Optimizer\n",
    "\n",
    "PyTorch suppoort all commonly used optimizersa like ADAM and RMSProp, we are using Stochastic Gradient Descent here"
   ]
  },
  {
   "cell_type": "code",
   "execution_count": 53,
   "id": "5dbbdbc2",
   "metadata": {
    "execution": {
     "iopub.execute_input": "2022-10-06T16:17:41.641362Z",
     "iopub.status.busy": "2022-10-06T16:17:41.640945Z",
     "iopub.status.idle": "2022-10-06T16:17:41.646339Z",
     "shell.execute_reply": "2022-10-06T16:17:41.645459Z"
    },
    "papermill": {
     "duration": 0.038747,
     "end_time": "2022-10-06T16:17:41.648547",
     "exception": false,
     "start_time": "2022-10-06T16:17:41.609800",
     "status": "completed"
    },
    "tags": []
   },
   "outputs": [],
   "source": [
    "optimizer = torch.optim.SGD(model.parameters(), lr=learning_rate)"
   ]
  },
  {
   "cell_type": "markdown",
   "id": "faf7ac0f",
   "metadata": {
    "papermill": {
     "duration": 0.028449,
     "end_time": "2022-10-06T16:17:41.705745",
     "exception": false,
     "start_time": "2022-10-06T16:17:41.677296",
     "status": "completed"
    },
    "tags": []
   },
   "source": [
    "Inside the training loop, optimization happens in three steps:\n",
    "\n",
    "* Call optimizer.zero_grad() to reset the gradients of model parameters. Gradients by default add up; to prevent double-counting, we explicitly zero them at each iteration.\n",
    "\n",
    "* Backpropagate the prediction loss with a call to loss.backward(). PyTorch deposits the gradients of the loss w.r.t. each parameter.\n",
    "\n",
    "* Once we have our gradients, we call optimizer.step() to adjust the parameters by the gradients collected in the backward pass."
   ]
  },
  {
   "cell_type": "markdown",
   "id": "fc6cee2c",
   "metadata": {
    "papermill": {
     "duration": 0.028329,
     "end_time": "2022-10-06T16:17:41.762834",
     "exception": false,
     "start_time": "2022-10-06T16:17:41.734505",
     "status": "completed"
    },
    "tags": []
   },
   "source": [
    "Full Implementation"
   ]
  },
  {
   "cell_type": "code",
   "execution_count": 54,
   "id": "584d8639",
   "metadata": {
    "execution": {
     "iopub.execute_input": "2022-10-06T16:17:41.822577Z",
     "iopub.status.busy": "2022-10-06T16:17:41.821883Z",
     "iopub.status.idle": "2022-10-06T16:17:41.831577Z",
     "shell.execute_reply": "2022-10-06T16:17:41.830715Z"
    },
    "papermill": {
     "duration": 0.041293,
     "end_time": "2022-10-06T16:17:41.833863",
     "exception": false,
     "start_time": "2022-10-06T16:17:41.792570",
     "status": "completed"
    },
    "tags": []
   },
   "outputs": [],
   "source": [
    "def train_loop(dataloader, model, loss_fn, optimizer):\n",
    "    size = len(dataloader.dataset)\n",
    "    for batch, (X, y) in enumerate(dataloader):\n",
    "        pred = model(X)\n",
    "        loss = loss_fn(pred, y)\n",
    "        \n",
    "        #Backpropogation\n",
    "        optimizer.zero_grad()\n",
    "        loss.backward()\n",
    "        optimizer.step()\n",
    "        \n",
    "        if batch % 100 == 0:\n",
    "            loss, current = loss.item(), batch * len(X)\n",
    "            print(f\"loss: {loss:>7f}  [{current:>5d}/{size:>5d}]\")\n",
    "            \n",
    "def test_loop(dataloader, model, loss_fn):\n",
    "    size = len(dataloader.dataset)\n",
    "    num_batches = len(dataloader)\n",
    "    test_loss, correct = 0, 0\n",
    "\n",
    "    with torch.no_grad():\n",
    "        for X, y in dataloader:\n",
    "            pred = model(X)\n",
    "            test_loss += loss_fn(pred, y).item()\n",
    "            correct += (pred.argmax(1) == y).type(torch.float).sum().item()\n",
    "\n",
    "    test_loss /= num_batches\n",
    "    correct /= size\n",
    "    print(f\"Test Error: \\n Accuracy: {(100*correct):>0.1f}%, Avg loss: {test_loss:>8f} \\n\")"
   ]
  },
  {
   "cell_type": "code",
   "execution_count": 55,
   "id": "db58764c",
   "metadata": {
    "execution": {
     "iopub.execute_input": "2022-10-06T16:17:41.893370Z",
     "iopub.status.busy": "2022-10-06T16:17:41.892604Z",
     "iopub.status.idle": "2022-10-06T16:18:38.715522Z",
     "shell.execute_reply": "2022-10-06T16:18:38.713689Z"
    },
    "papermill": {
     "duration": 56.855995,
     "end_time": "2022-10-06T16:18:38.718988",
     "exception": false,
     "start_time": "2022-10-06T16:17:41.862993",
     "status": "completed"
    },
    "tags": []
   },
   "outputs": [
    {
     "name": "stdout",
     "output_type": "stream",
     "text": [
      "epoch 1\n",
      "...........\n",
      "loss: 2.306976  [    0/60000]\n",
      "loss: 2.289382  [ 6400/60000]\n",
      "loss: 2.274937  [12800/60000]\n",
      "loss: 2.266212  [19200/60000]\n",
      "loss: 2.246749  [25600/60000]\n",
      "loss: 2.228864  [32000/60000]\n",
      "loss: 2.223107  [38400/60000]\n",
      "loss: 2.195741  [44800/60000]\n",
      "loss: 2.197128  [51200/60000]\n",
      "loss: 2.167128  [57600/60000]\n",
      "Test Error: \n",
      " Accuracy: 53.3%, Avg loss: 2.157806 \n",
      "\n",
      "epoch 2\n",
      "...........\n",
      "loss: 2.170939  [    0/60000]\n",
      "loss: 2.157278  [ 6400/60000]\n",
      "loss: 2.104571  [12800/60000]\n",
      "loss: 2.120327  [19200/60000]\n",
      "loss: 2.067564  [25600/60000]\n",
      "loss: 2.017985  [32000/60000]\n",
      "loss: 2.036682  [38400/60000]\n",
      "loss: 1.961626  [44800/60000]\n",
      "loss: 1.973718  [51200/60000]\n",
      "loss: 1.902453  [57600/60000]\n",
      "Test Error: \n",
      " Accuracy: 56.8%, Avg loss: 1.897000 \n",
      "\n",
      "epoch 3\n",
      "...........\n",
      "loss: 1.931727  [    0/60000]\n",
      "loss: 1.900553  [ 6400/60000]\n",
      "loss: 1.783901  [12800/60000]\n",
      "loss: 1.827076  [19200/60000]\n",
      "loss: 1.714399  [25600/60000]\n",
      "loss: 1.671398  [32000/60000]\n",
      "loss: 1.686155  [38400/60000]\n",
      "loss: 1.586551  [44800/60000]\n",
      "loss: 1.619261  [51200/60000]\n",
      "loss: 1.509281  [57600/60000]\n",
      "Test Error: \n",
      " Accuracy: 59.9%, Avg loss: 1.525726 \n",
      "\n",
      "epoch 4\n",
      "...........\n",
      "loss: 1.592389  [    0/60000]\n",
      "loss: 1.560596  [ 6400/60000]\n",
      "loss: 1.404921  [12800/60000]\n",
      "loss: 1.479304  [19200/60000]\n",
      "loss: 1.354792  [25600/60000]\n",
      "loss: 1.356074  [32000/60000]\n",
      "loss: 1.363122  [38400/60000]\n",
      "loss: 1.286090  [44800/60000]\n",
      "loss: 1.332193  [51200/60000]\n",
      "loss: 1.226257  [57600/60000]\n",
      "Test Error: \n",
      " Accuracy: 62.5%, Avg loss: 1.253162 \n",
      "\n",
      "epoch 5\n",
      "...........\n",
      "loss: 1.329680  [    0/60000]\n",
      "loss: 1.318805  [ 6400/60000]\n",
      "loss: 1.146376  [12800/60000]\n",
      "loss: 1.254603  [19200/60000]\n",
      "loss: 1.123693  [25600/60000]\n",
      "loss: 1.155468  [32000/60000]\n",
      "loss: 1.170977  [38400/60000]\n",
      "loss: 1.104569  [44800/60000]\n",
      "loss: 1.157852  [51200/60000]\n",
      "loss: 1.068015  [57600/60000]\n",
      "Test Error: \n",
      " Accuracy: 63.9%, Avg loss: 1.089195 \n",
      "\n",
      "Done\n"
     ]
    }
   ],
   "source": [
    "for t in range(epochs):\n",
    "    print(f\"epoch {t+1}\\n...........\")\n",
    "    train_loop(train_dataloader, model,  loss_fn, optimizer)\n",
    "    test_loop(test_dataloader, model, loss_fn)\n",
    "print(\"Done\")"
   ]
  },
  {
   "cell_type": "markdown",
   "id": "df909039",
   "metadata": {
    "papermill": {
     "duration": 0.033302,
     "end_time": "2022-10-06T16:18:38.784012",
     "exception": false,
     "start_time": "2022-10-06T16:18:38.750710",
     "status": "completed"
    },
    "tags": []
   },
   "source": [
    "### Using pretrained model"
   ]
  },
  {
   "cell_type": "markdown",
   "id": "23b40877",
   "metadata": {
    "papermill": {
     "duration": 0.10544,
     "end_time": "2022-10-06T16:18:38.928254",
     "exception": false,
     "start_time": "2022-10-06T16:18:38.822814",
     "status": "completed"
    },
    "tags": []
   },
   "source": [
    "You probably should have heard about vgg16 model, its a CNN classifier model which can classify input image into 1000 different categories. Let's use it here."
   ]
  },
  {
   "cell_type": "code",
   "execution_count": 56,
   "id": "bbf1ca12",
   "metadata": {
    "execution": {
     "iopub.execute_input": "2022-10-06T16:18:38.999216Z",
     "iopub.status.busy": "2022-10-06T16:18:38.998361Z",
     "iopub.status.idle": "2022-10-06T16:18:39.004011Z",
     "shell.execute_reply": "2022-10-06T16:18:39.003072Z"
    },
    "papermill": {
     "duration": 0.0432,
     "end_time": "2022-10-06T16:18:39.006558",
     "exception": false,
     "start_time": "2022-10-06T16:18:38.963358",
     "status": "completed"
    },
    "tags": []
   },
   "outputs": [],
   "source": [
    "import torchvision.models as models"
   ]
  },
  {
   "cell_type": "markdown",
   "id": "5254c304",
   "metadata": {
    "papermill": {
     "duration": 0.031373,
     "end_time": "2022-10-06T16:18:39.069646",
     "exception": false,
     "start_time": "2022-10-06T16:18:39.038273",
     "status": "completed"
    },
    "tags": []
   },
   "source": [
    "Saving the model"
   ]
  },
  {
   "cell_type": "code",
   "execution_count": 57,
   "id": "5da4a17a",
   "metadata": {
    "execution": {
     "iopub.execute_input": "2022-10-06T16:18:39.137001Z",
     "iopub.status.busy": "2022-10-06T16:18:39.136099Z",
     "iopub.status.idle": "2022-10-06T16:18:54.401740Z",
     "shell.execute_reply": "2022-10-06T16:18:54.400686Z"
    },
    "papermill": {
     "duration": 15.302418,
     "end_time": "2022-10-06T16:18:54.404485",
     "exception": false,
     "start_time": "2022-10-06T16:18:39.102067",
     "status": "completed"
    },
    "tags": []
   },
   "outputs": [
    {
     "name": "stderr",
     "output_type": "stream",
     "text": [
      "Downloading: \"https://download.pytorch.org/models/vgg16-397923af.pth\" to /root/.cache/torch/hub/checkpoints/vgg16-397923af.pth\n"
     ]
    },
    {
     "data": {
      "application/vnd.jupyter.widget-view+json": {
       "model_id": "e19b27acff0846648eed3ef5192cd781",
       "version_major": 2,
       "version_minor": 0
      },
      "text/plain": [
       "  0%|          | 0.00/528M [00:00<?, ?B/s]"
      ]
     },
     "metadata": {},
     "output_type": "display_data"
    }
   ],
   "source": [
    "model = models.vgg16(pretrained = True)\n",
    "torch.save(model.state_dict(), 'model_weights.pth')"
   ]
  },
  {
   "cell_type": "markdown",
   "id": "b97110fe",
   "metadata": {
    "papermill": {
     "duration": 0.031615,
     "end_time": "2022-10-06T16:18:54.468904",
     "exception": false,
     "start_time": "2022-10-06T16:18:54.437289",
     "status": "completed"
    },
    "tags": []
   },
   "source": [
    "Loading the model"
   ]
  },
  {
   "cell_type": "code",
   "execution_count": 58,
   "id": "ac63fb5c",
   "metadata": {
    "execution": {
     "iopub.execute_input": "2022-10-06T16:18:54.534282Z",
     "iopub.status.busy": "2022-10-06T16:18:54.533818Z",
     "iopub.status.idle": "2022-10-06T16:18:57.254334Z",
     "shell.execute_reply": "2022-10-06T16:18:57.253096Z"
    },
    "papermill": {
     "duration": 2.756327,
     "end_time": "2022-10-06T16:18:57.257028",
     "exception": false,
     "start_time": "2022-10-06T16:18:54.500701",
     "status": "completed"
    },
    "tags": []
   },
   "outputs": [
    {
     "data": {
      "text/plain": [
       "VGG(\n",
       "  (features): Sequential(\n",
       "    (0): Conv2d(3, 64, kernel_size=(3, 3), stride=(1, 1), padding=(1, 1))\n",
       "    (1): ReLU(inplace=True)\n",
       "    (2): Conv2d(64, 64, kernel_size=(3, 3), stride=(1, 1), padding=(1, 1))\n",
       "    (3): ReLU(inplace=True)\n",
       "    (4): MaxPool2d(kernel_size=2, stride=2, padding=0, dilation=1, ceil_mode=False)\n",
       "    (5): Conv2d(64, 128, kernel_size=(3, 3), stride=(1, 1), padding=(1, 1))\n",
       "    (6): ReLU(inplace=True)\n",
       "    (7): Conv2d(128, 128, kernel_size=(3, 3), stride=(1, 1), padding=(1, 1))\n",
       "    (8): ReLU(inplace=True)\n",
       "    (9): MaxPool2d(kernel_size=2, stride=2, padding=0, dilation=1, ceil_mode=False)\n",
       "    (10): Conv2d(128, 256, kernel_size=(3, 3), stride=(1, 1), padding=(1, 1))\n",
       "    (11): ReLU(inplace=True)\n",
       "    (12): Conv2d(256, 256, kernel_size=(3, 3), stride=(1, 1), padding=(1, 1))\n",
       "    (13): ReLU(inplace=True)\n",
       "    (14): Conv2d(256, 256, kernel_size=(3, 3), stride=(1, 1), padding=(1, 1))\n",
       "    (15): ReLU(inplace=True)\n",
       "    (16): MaxPool2d(kernel_size=2, stride=2, padding=0, dilation=1, ceil_mode=False)\n",
       "    (17): Conv2d(256, 512, kernel_size=(3, 3), stride=(1, 1), padding=(1, 1))\n",
       "    (18): ReLU(inplace=True)\n",
       "    (19): Conv2d(512, 512, kernel_size=(3, 3), stride=(1, 1), padding=(1, 1))\n",
       "    (20): ReLU(inplace=True)\n",
       "    (21): Conv2d(512, 512, kernel_size=(3, 3), stride=(1, 1), padding=(1, 1))\n",
       "    (22): ReLU(inplace=True)\n",
       "    (23): MaxPool2d(kernel_size=2, stride=2, padding=0, dilation=1, ceil_mode=False)\n",
       "    (24): Conv2d(512, 512, kernel_size=(3, 3), stride=(1, 1), padding=(1, 1))\n",
       "    (25): ReLU(inplace=True)\n",
       "    (26): Conv2d(512, 512, kernel_size=(3, 3), stride=(1, 1), padding=(1, 1))\n",
       "    (27): ReLU(inplace=True)\n",
       "    (28): Conv2d(512, 512, kernel_size=(3, 3), stride=(1, 1), padding=(1, 1))\n",
       "    (29): ReLU(inplace=True)\n",
       "    (30): MaxPool2d(kernel_size=2, stride=2, padding=0, dilation=1, ceil_mode=False)\n",
       "  )\n",
       "  (avgpool): AdaptiveAvgPool2d(output_size=(7, 7))\n",
       "  (classifier): Sequential(\n",
       "    (0): Linear(in_features=25088, out_features=4096, bias=True)\n",
       "    (1): ReLU(inplace=True)\n",
       "    (2): Dropout(p=0.5, inplace=False)\n",
       "    (3): Linear(in_features=4096, out_features=4096, bias=True)\n",
       "    (4): ReLU(inplace=True)\n",
       "    (5): Dropout(p=0.5, inplace=False)\n",
       "    (6): Linear(in_features=4096, out_features=1000, bias=True)\n",
       "  )\n",
       ")"
      ]
     },
     "execution_count": 58,
     "metadata": {},
     "output_type": "execute_result"
    }
   ],
   "source": [
    "model = models.vgg16() # we do not specify pretrained=True, i.e. do not load default weights\n",
    "model.load_state_dict(torch.load('model_weights.pth'))\n",
    "model.eval()"
   ]
  },
  {
   "cell_type": "code",
   "execution_count": null,
   "id": "25033a44",
   "metadata": {
    "papermill": {
     "duration": 0.031701,
     "end_time": "2022-10-06T16:18:57.321509",
     "exception": false,
     "start_time": "2022-10-06T16:18:57.289808",
     "status": "completed"
    },
    "tags": []
   },
   "outputs": [],
   "source": []
  }
 ],
 "metadata": {
  "kernelspec": {
   "display_name": "Python 3",
   "language": "python",
   "name": "python3"
  },
  "language_info": {
   "codemirror_mode": {
    "name": "ipython",
    "version": 3
   },
   "file_extension": ".py",
   "mimetype": "text/x-python",
   "name": "python",
   "nbconvert_exporter": "python",
   "pygments_lexer": "ipython3",
   "version": "3.7.12"
  },
  "papermill": {
   "default_parameters": {},
   "duration": 106.708608,
   "end_time": "2022-10-06T16:18:58.381462",
   "environment_variables": {},
   "exception": null,
   "input_path": "__notebook__.ipynb",
   "output_path": "__notebook__.ipynb",
   "parameters": {},
   "start_time": "2022-10-06T16:17:11.672854",
   "version": "2.3.4"
  },
  "widgets": {
   "application/vnd.jupyter.widget-state+json": {
    "state": {
     "05134cb6a7004a1294f4802d8ad90050": {
      "model_module": "@jupyter-widgets/controls",
      "model_module_version": "1.5.0",
      "model_name": "ProgressStyleModel",
      "state": {
       "_model_module": "@jupyter-widgets/controls",
       "_model_module_version": "1.5.0",
       "_model_name": "ProgressStyleModel",
       "_view_count": null,
       "_view_module": "@jupyter-widgets/base",
       "_view_module_version": "1.2.0",
       "_view_name": "StyleView",
       "bar_color": null,
       "description_width": ""
      }
     },
     "112fc097c5f1463298139a1bf748cf44": {
      "model_module": "@jupyter-widgets/controls",
      "model_module_version": "1.5.0",
      "model_name": "HTMLModel",
      "state": {
       "_dom_classes": [],
       "_model_module": "@jupyter-widgets/controls",
       "_model_module_version": "1.5.0",
       "_model_name": "HTMLModel",
       "_view_count": null,
       "_view_module": "@jupyter-widgets/controls",
       "_view_module_version": "1.5.0",
       "_view_name": "HTMLView",
       "description": "",
       "description_tooltip": null,
       "layout": "IPY_MODEL_70270641d6dd41b695049fa7a5f9ac3a",
       "placeholder": "​",
       "style": "IPY_MODEL_798310d3d56147f9b6e9c0fd8412d8d6",
       "value": " 528M/528M [00:10&lt;00:00, 53.0MB/s]"
      }
     },
     "143f042ce51f447997c1c99ff8378931": {
      "model_module": "@jupyter-widgets/base",
      "model_module_version": "1.2.0",
      "model_name": "LayoutModel",
      "state": {
       "_model_module": "@jupyter-widgets/base",
       "_model_module_version": "1.2.0",
       "_model_name": "LayoutModel",
       "_view_count": null,
       "_view_module": "@jupyter-widgets/base",
       "_view_module_version": "1.2.0",
       "_view_name": "LayoutView",
       "align_content": null,
       "align_items": null,
       "align_self": null,
       "border": null,
       "bottom": null,
       "display": null,
       "flex": null,
       "flex_flow": null,
       "grid_area": null,
       "grid_auto_columns": null,
       "grid_auto_flow": null,
       "grid_auto_rows": null,
       "grid_column": null,
       "grid_gap": null,
       "grid_row": null,
       "grid_template_areas": null,
       "grid_template_columns": null,
       "grid_template_rows": null,
       "height": null,
       "justify_content": null,
       "justify_items": null,
       "left": null,
       "margin": null,
       "max_height": null,
       "max_width": null,
       "min_height": null,
       "min_width": null,
       "object_fit": null,
       "object_position": null,
       "order": null,
       "overflow": null,
       "overflow_x": null,
       "overflow_y": null,
       "padding": null,
       "right": null,
       "top": null,
       "visibility": null,
       "width": null
      }
     },
     "182b220d7472486585fe4a4321bd1a42": {
      "model_module": "@jupyter-widgets/controls",
      "model_module_version": "1.5.0",
      "model_name": "ProgressStyleModel",
      "state": {
       "_model_module": "@jupyter-widgets/controls",
       "_model_module_version": "1.5.0",
       "_model_name": "ProgressStyleModel",
       "_view_count": null,
       "_view_module": "@jupyter-widgets/base",
       "_view_module_version": "1.2.0",
       "_view_name": "StyleView",
       "bar_color": null,
       "description_width": ""
      }
     },
     "19c97beee00d4a38af7107bc35a0f498": {
      "model_module": "@jupyter-widgets/controls",
      "model_module_version": "1.5.0",
      "model_name": "ProgressStyleModel",
      "state": {
       "_model_module": "@jupyter-widgets/controls",
       "_model_module_version": "1.5.0",
       "_model_name": "ProgressStyleModel",
       "_view_count": null,
       "_view_module": "@jupyter-widgets/base",
       "_view_module_version": "1.2.0",
       "_view_name": "StyleView",
       "bar_color": null,
       "description_width": ""
      }
     },
     "1a1914350cbe47638d2ffb6218c265b2": {
      "model_module": "@jupyter-widgets/controls",
      "model_module_version": "1.5.0",
      "model_name": "DescriptionStyleModel",
      "state": {
       "_model_module": "@jupyter-widgets/controls",
       "_model_module_version": "1.5.0",
       "_model_name": "DescriptionStyleModel",
       "_view_count": null,
       "_view_module": "@jupyter-widgets/base",
       "_view_module_version": "1.2.0",
       "_view_name": "StyleView",
       "description_width": ""
      }
     },
     "1e23358415064d2cad9dfe140d35ef24": {
      "model_module": "@jupyter-widgets/controls",
      "model_module_version": "1.5.0",
      "model_name": "HBoxModel",
      "state": {
       "_dom_classes": [],
       "_model_module": "@jupyter-widgets/controls",
       "_model_module_version": "1.5.0",
       "_model_name": "HBoxModel",
       "_view_count": null,
       "_view_module": "@jupyter-widgets/controls",
       "_view_module_version": "1.5.0",
       "_view_name": "HBoxView",
       "box_style": "",
       "children": [
        "IPY_MODEL_287569bcec094ead9bf58132b55de032",
        "IPY_MODEL_332e1645f5fe4c389f50ec793fee156f",
        "IPY_MODEL_6f152e9b51bd4d21a282be308162ad48"
       ],
       "layout": "IPY_MODEL_a230d4acf24a47b785270678610a338e"
      }
     },
     "287569bcec094ead9bf58132b55de032": {
      "model_module": "@jupyter-widgets/controls",
      "model_module_version": "1.5.0",
      "model_name": "HTMLModel",
      "state": {
       "_dom_classes": [],
       "_model_module": "@jupyter-widgets/controls",
       "_model_module_version": "1.5.0",
       "_model_name": "HTMLModel",
       "_view_count": null,
       "_view_module": "@jupyter-widgets/controls",
       "_view_module_version": "1.5.0",
       "_view_name": "HTMLView",
       "description": "",
       "description_tooltip": null,
       "layout": "IPY_MODEL_37d8139c6bb049dc8e7a6cbb5427948c",
       "placeholder": "​",
       "style": "IPY_MODEL_7efed842a7ee44c1b4409c4c15a32706",
       "value": ""
      }
     },
     "296d1f0b3d5f42239da4ffc909004c6a": {
      "model_module": "@jupyter-widgets/controls",
      "model_module_version": "1.5.0",
      "model_name": "ProgressStyleModel",
      "state": {
       "_model_module": "@jupyter-widgets/controls",
       "_model_module_version": "1.5.0",
       "_model_name": "ProgressStyleModel",
       "_view_count": null,
       "_view_module": "@jupyter-widgets/base",
       "_view_module_version": "1.2.0",
       "_view_name": "StyleView",
       "bar_color": null,
       "description_width": ""
      }
     },
     "332e1645f5fe4c389f50ec793fee156f": {
      "model_module": "@jupyter-widgets/controls",
      "model_module_version": "1.5.0",
      "model_name": "FloatProgressModel",
      "state": {
       "_dom_classes": [],
       "_model_module": "@jupyter-widgets/controls",
       "_model_module_version": "1.5.0",
       "_model_name": "FloatProgressModel",
       "_view_count": null,
       "_view_module": "@jupyter-widgets/controls",
       "_view_module_version": "1.5.0",
       "_view_name": "ProgressView",
       "bar_style": "success",
       "description": "",
       "description_tooltip": null,
       "layout": "IPY_MODEL_3dd1028c40d74ecc87973ffd8d78d99f",
       "max": 26421880.0,
       "min": 0.0,
       "orientation": "horizontal",
       "style": "IPY_MODEL_296d1f0b3d5f42239da4ffc909004c6a",
       "value": 26421880.0
      }
     },
     "37d8139c6bb049dc8e7a6cbb5427948c": {
      "model_module": "@jupyter-widgets/base",
      "model_module_version": "1.2.0",
      "model_name": "LayoutModel",
      "state": {
       "_model_module": "@jupyter-widgets/base",
       "_model_module_version": "1.2.0",
       "_model_name": "LayoutModel",
       "_view_count": null,
       "_view_module": "@jupyter-widgets/base",
       "_view_module_version": "1.2.0",
       "_view_name": "LayoutView",
       "align_content": null,
       "align_items": null,
       "align_self": null,
       "border": null,
       "bottom": null,
       "display": null,
       "flex": null,
       "flex_flow": null,
       "grid_area": null,
       "grid_auto_columns": null,
       "grid_auto_flow": null,
       "grid_auto_rows": null,
       "grid_column": null,
       "grid_gap": null,
       "grid_row": null,
       "grid_template_areas": null,
       "grid_template_columns": null,
       "grid_template_rows": null,
       "height": null,
       "justify_content": null,
       "justify_items": null,
       "left": null,
       "margin": null,
       "max_height": null,
       "max_width": null,
       "min_height": null,
       "min_width": null,
       "object_fit": null,
       "object_position": null,
       "order": null,
       "overflow": null,
       "overflow_x": null,
       "overflow_y": null,
       "padding": null,
       "right": null,
       "top": null,
       "visibility": null,
       "width": null
      }
     },
     "3dd1028c40d74ecc87973ffd8d78d99f": {
      "model_module": "@jupyter-widgets/base",
      "model_module_version": "1.2.0",
      "model_name": "LayoutModel",
      "state": {
       "_model_module": "@jupyter-widgets/base",
       "_model_module_version": "1.2.0",
       "_model_name": "LayoutModel",
       "_view_count": null,
       "_view_module": "@jupyter-widgets/base",
       "_view_module_version": "1.2.0",
       "_view_name": "LayoutView",
       "align_content": null,
       "align_items": null,
       "align_self": null,
       "border": null,
       "bottom": null,
       "display": null,
       "flex": null,
       "flex_flow": null,
       "grid_area": null,
       "grid_auto_columns": null,
       "grid_auto_flow": null,
       "grid_auto_rows": null,
       "grid_column": null,
       "grid_gap": null,
       "grid_row": null,
       "grid_template_areas": null,
       "grid_template_columns": null,
       "grid_template_rows": null,
       "height": null,
       "justify_content": null,
       "justify_items": null,
       "left": null,
       "margin": null,
       "max_height": null,
       "max_width": null,
       "min_height": null,
       "min_width": null,
       "object_fit": null,
       "object_position": null,
       "order": null,
       "overflow": null,
       "overflow_x": null,
       "overflow_y": null,
       "padding": null,
       "right": null,
       "top": null,
       "visibility": null,
       "width": null
      }
     },
     "435b2a3a81fd4e3ca03ff6ec0785b708": {
      "model_module": "@jupyter-widgets/controls",
      "model_module_version": "1.5.0",
      "model_name": "DescriptionStyleModel",
      "state": {
       "_model_module": "@jupyter-widgets/controls",
       "_model_module_version": "1.5.0",
       "_model_name": "DescriptionStyleModel",
       "_view_count": null,
       "_view_module": "@jupyter-widgets/base",
       "_view_module_version": "1.2.0",
       "_view_name": "StyleView",
       "description_width": ""
      }
     },
     "50cb68bb811445448d529313269f6b3e": {
      "model_module": "@jupyter-widgets/controls",
      "model_module_version": "1.5.0",
      "model_name": "ProgressStyleModel",
      "state": {
       "_model_module": "@jupyter-widgets/controls",
       "_model_module_version": "1.5.0",
       "_model_name": "ProgressStyleModel",
       "_view_count": null,
       "_view_module": "@jupyter-widgets/base",
       "_view_module_version": "1.2.0",
       "_view_name": "StyleView",
       "bar_color": null,
       "description_width": ""
      }
     },
     "584187e9ac4942939cd6c87c8857df9c": {
      "model_module": "@jupyter-widgets/base",
      "model_module_version": "1.2.0",
      "model_name": "LayoutModel",
      "state": {
       "_model_module": "@jupyter-widgets/base",
       "_model_module_version": "1.2.0",
       "_model_name": "LayoutModel",
       "_view_count": null,
       "_view_module": "@jupyter-widgets/base",
       "_view_module_version": "1.2.0",
       "_view_name": "LayoutView",
       "align_content": null,
       "align_items": null,
       "align_self": null,
       "border": null,
       "bottom": null,
       "display": null,
       "flex": null,
       "flex_flow": null,
       "grid_area": null,
       "grid_auto_columns": null,
       "grid_auto_flow": null,
       "grid_auto_rows": null,
       "grid_column": null,
       "grid_gap": null,
       "grid_row": null,
       "grid_template_areas": null,
       "grid_template_columns": null,
       "grid_template_rows": null,
       "height": null,
       "justify_content": null,
       "justify_items": null,
       "left": null,
       "margin": null,
       "max_height": null,
       "max_width": null,
       "min_height": null,
       "min_width": null,
       "object_fit": null,
       "object_position": null,
       "order": null,
       "overflow": null,
       "overflow_x": null,
       "overflow_y": null,
       "padding": null,
       "right": null,
       "top": null,
       "visibility": null,
       "width": null
      }
     },
     "5bed55e94ef94fd7b982cc99cd8996b4": {
      "model_module": "@jupyter-widgets/controls",
      "model_module_version": "1.5.0",
      "model_name": "HTMLModel",
      "state": {
       "_dom_classes": [],
       "_model_module": "@jupyter-widgets/controls",
       "_model_module_version": "1.5.0",
       "_model_name": "HTMLModel",
       "_view_count": null,
       "_view_module": "@jupyter-widgets/controls",
       "_view_module_version": "1.5.0",
       "_view_name": "HTMLView",
       "description": "",
       "description_tooltip": null,
       "layout": "IPY_MODEL_c5c200e4de98481484da64667f39ce43",
       "placeholder": "​",
       "style": "IPY_MODEL_e4ca3a1ab11d422e9ffc23e7d1888bfe",
       "value": ""
      }
     },
     "60103e7b4cd24f53b857461c3295230b": {
      "model_module": "@jupyter-widgets/controls",
      "model_module_version": "1.5.0",
      "model_name": "DescriptionStyleModel",
      "state": {
       "_model_module": "@jupyter-widgets/controls",
       "_model_module_version": "1.5.0",
       "_model_name": "DescriptionStyleModel",
       "_view_count": null,
       "_view_module": "@jupyter-widgets/base",
       "_view_module_version": "1.2.0",
       "_view_name": "StyleView",
       "description_width": ""
      }
     },
     "60c5ca8c6993400395097ca8cbd8f6ca": {
      "model_module": "@jupyter-widgets/controls",
      "model_module_version": "1.5.0",
      "model_name": "DescriptionStyleModel",
      "state": {
       "_model_module": "@jupyter-widgets/controls",
       "_model_module_version": "1.5.0",
       "_model_name": "DescriptionStyleModel",
       "_view_count": null,
       "_view_module": "@jupyter-widgets/base",
       "_view_module_version": "1.2.0",
       "_view_name": "StyleView",
       "description_width": ""
      }
     },
     "632a511131884a3cbdc70e16a0b9d86b": {
      "model_module": "@jupyter-widgets/controls",
      "model_module_version": "1.5.0",
      "model_name": "DescriptionStyleModel",
      "state": {
       "_model_module": "@jupyter-widgets/controls",
       "_model_module_version": "1.5.0",
       "_model_name": "DescriptionStyleModel",
       "_view_count": null,
       "_view_module": "@jupyter-widgets/base",
       "_view_module_version": "1.2.0",
       "_view_name": "StyleView",
       "description_width": ""
      }
     },
     "6733c29bbc3747e197ea4065c3774bb0": {
      "model_module": "@jupyter-widgets/controls",
      "model_module_version": "1.5.0",
      "model_name": "FloatProgressModel",
      "state": {
       "_dom_classes": [],
       "_model_module": "@jupyter-widgets/controls",
       "_model_module_version": "1.5.0",
       "_model_name": "FloatProgressModel",
       "_view_count": null,
       "_view_module": "@jupyter-widgets/controls",
       "_view_module_version": "1.5.0",
       "_view_name": "ProgressView",
       "bar_style": "success",
       "description": "",
       "description_tooltip": null,
       "layout": "IPY_MODEL_8d1b7cee756944339e0d236f947d0e0b",
       "max": 5148.0,
       "min": 0.0,
       "orientation": "horizontal",
       "style": "IPY_MODEL_50cb68bb811445448d529313269f6b3e",
       "value": 5148.0
      }
     },
     "6b99ae6ab1224cbdbd4f14617ff708aa": {
      "model_module": "@jupyter-widgets/base",
      "model_module_version": "1.2.0",
      "model_name": "LayoutModel",
      "state": {
       "_model_module": "@jupyter-widgets/base",
       "_model_module_version": "1.2.0",
       "_model_name": "LayoutModel",
       "_view_count": null,
       "_view_module": "@jupyter-widgets/base",
       "_view_module_version": "1.2.0",
       "_view_name": "LayoutView",
       "align_content": null,
       "align_items": null,
       "align_self": null,
       "border": null,
       "bottom": null,
       "display": null,
       "flex": null,
       "flex_flow": null,
       "grid_area": null,
       "grid_auto_columns": null,
       "grid_auto_flow": null,
       "grid_auto_rows": null,
       "grid_column": null,
       "grid_gap": null,
       "grid_row": null,
       "grid_template_areas": null,
       "grid_template_columns": null,
       "grid_template_rows": null,
       "height": null,
       "justify_content": null,
       "justify_items": null,
       "left": null,
       "margin": null,
       "max_height": null,
       "max_width": null,
       "min_height": null,
       "min_width": null,
       "object_fit": null,
       "object_position": null,
       "order": null,
       "overflow": null,
       "overflow_x": null,
       "overflow_y": null,
       "padding": null,
       "right": null,
       "top": null,
       "visibility": null,
       "width": null
      }
     },
     "6f152e9b51bd4d21a282be308162ad48": {
      "model_module": "@jupyter-widgets/controls",
      "model_module_version": "1.5.0",
      "model_name": "HTMLModel",
      "state": {
       "_dom_classes": [],
       "_model_module": "@jupyter-widgets/controls",
       "_model_module_version": "1.5.0",
       "_model_name": "HTMLModel",
       "_view_count": null,
       "_view_module": "@jupyter-widgets/controls",
       "_view_module_version": "1.5.0",
       "_view_name": "HTMLView",
       "description": "",
       "description_tooltip": null,
       "layout": "IPY_MODEL_8cb56a2cc9aa41b992eba50df7630bfc",
       "placeholder": "​",
       "style": "IPY_MODEL_1a1914350cbe47638d2ffb6218c265b2",
       "value": " 26422272/? [00:02&lt;00:00, 17617037.42it/s]"
      }
     },
     "70270641d6dd41b695049fa7a5f9ac3a": {
      "model_module": "@jupyter-widgets/base",
      "model_module_version": "1.2.0",
      "model_name": "LayoutModel",
      "state": {
       "_model_module": "@jupyter-widgets/base",
       "_model_module_version": "1.2.0",
       "_model_name": "LayoutModel",
       "_view_count": null,
       "_view_module": "@jupyter-widgets/base",
       "_view_module_version": "1.2.0",
       "_view_name": "LayoutView",
       "align_content": null,
       "align_items": null,
       "align_self": null,
       "border": null,
       "bottom": null,
       "display": null,
       "flex": null,
       "flex_flow": null,
       "grid_area": null,
       "grid_auto_columns": null,
       "grid_auto_flow": null,
       "grid_auto_rows": null,
       "grid_column": null,
       "grid_gap": null,
       "grid_row": null,
       "grid_template_areas": null,
       "grid_template_columns": null,
       "grid_template_rows": null,
       "height": null,
       "justify_content": null,
       "justify_items": null,
       "left": null,
       "margin": null,
       "max_height": null,
       "max_width": null,
       "min_height": null,
       "min_width": null,
       "object_fit": null,
       "object_position": null,
       "order": null,
       "overflow": null,
       "overflow_x": null,
       "overflow_y": null,
       "padding": null,
       "right": null,
       "top": null,
       "visibility": null,
       "width": null
      }
     },
     "7821f5ee682a427e81c18cf16116eea7": {
      "model_module": "@jupyter-widgets/controls",
      "model_module_version": "1.5.0",
      "model_name": "HBoxModel",
      "state": {
       "_dom_classes": [],
       "_model_module": "@jupyter-widgets/controls",
       "_model_module_version": "1.5.0",
       "_model_name": "HBoxModel",
       "_view_count": null,
       "_view_module": "@jupyter-widgets/controls",
       "_view_module_version": "1.5.0",
       "_view_name": "HBoxView",
       "box_style": "",
       "children": [
        "IPY_MODEL_5bed55e94ef94fd7b982cc99cd8996b4",
        "IPY_MODEL_6733c29bbc3747e197ea4065c3774bb0",
        "IPY_MODEL_e209f5b8dff44bc9863eb5967eb452fa"
       ],
       "layout": "IPY_MODEL_d11a247a7dfd4c98b313e56d4d59850b"
      }
     },
     "7872a59c254b448b9543bec1dc2bcbde": {
      "model_module": "@jupyter-widgets/controls",
      "model_module_version": "1.5.0",
      "model_name": "HTMLModel",
      "state": {
       "_dom_classes": [],
       "_model_module": "@jupyter-widgets/controls",
       "_model_module_version": "1.5.0",
       "_model_name": "HTMLModel",
       "_view_count": null,
       "_view_module": "@jupyter-widgets/controls",
       "_view_module_version": "1.5.0",
       "_view_name": "HTMLView",
       "description": "",
       "description_tooltip": null,
       "layout": "IPY_MODEL_a11c641c110249a99a493e5ab4c43cca",
       "placeholder": "​",
       "style": "IPY_MODEL_9539d873d5d7488c8a3e20c380c08b08",
       "value": ""
      }
     },
     "798310d3d56147f9b6e9c0fd8412d8d6": {
      "model_module": "@jupyter-widgets/controls",
      "model_module_version": "1.5.0",
      "model_name": "DescriptionStyleModel",
      "state": {
       "_model_module": "@jupyter-widgets/controls",
       "_model_module_version": "1.5.0",
       "_model_name": "DescriptionStyleModel",
       "_view_count": null,
       "_view_module": "@jupyter-widgets/base",
       "_view_module_version": "1.2.0",
       "_view_name": "StyleView",
       "description_width": ""
      }
     },
     "7efed842a7ee44c1b4409c4c15a32706": {
      "model_module": "@jupyter-widgets/controls",
      "model_module_version": "1.5.0",
      "model_name": "DescriptionStyleModel",
      "state": {
       "_model_module": "@jupyter-widgets/controls",
       "_model_module_version": "1.5.0",
       "_model_name": "DescriptionStyleModel",
       "_view_count": null,
       "_view_module": "@jupyter-widgets/base",
       "_view_module_version": "1.2.0",
       "_view_name": "StyleView",
       "description_width": ""
      }
     },
     "8cb56a2cc9aa41b992eba50df7630bfc": {
      "model_module": "@jupyter-widgets/base",
      "model_module_version": "1.2.0",
      "model_name": "LayoutModel",
      "state": {
       "_model_module": "@jupyter-widgets/base",
       "_model_module_version": "1.2.0",
       "_model_name": "LayoutModel",
       "_view_count": null,
       "_view_module": "@jupyter-widgets/base",
       "_view_module_version": "1.2.0",
       "_view_name": "LayoutView",
       "align_content": null,
       "align_items": null,
       "align_self": null,
       "border": null,
       "bottom": null,
       "display": null,
       "flex": null,
       "flex_flow": null,
       "grid_area": null,
       "grid_auto_columns": null,
       "grid_auto_flow": null,
       "grid_auto_rows": null,
       "grid_column": null,
       "grid_gap": null,
       "grid_row": null,
       "grid_template_areas": null,
       "grid_template_columns": null,
       "grid_template_rows": null,
       "height": null,
       "justify_content": null,
       "justify_items": null,
       "left": null,
       "margin": null,
       "max_height": null,
       "max_width": null,
       "min_height": null,
       "min_width": null,
       "object_fit": null,
       "object_position": null,
       "order": null,
       "overflow": null,
       "overflow_x": null,
       "overflow_y": null,
       "padding": null,
       "right": null,
       "top": null,
       "visibility": null,
       "width": null
      }
     },
     "8d1b7cee756944339e0d236f947d0e0b": {
      "model_module": "@jupyter-widgets/base",
      "model_module_version": "1.2.0",
      "model_name": "LayoutModel",
      "state": {
       "_model_module": "@jupyter-widgets/base",
       "_model_module_version": "1.2.0",
       "_model_name": "LayoutModel",
       "_view_count": null,
       "_view_module": "@jupyter-widgets/base",
       "_view_module_version": "1.2.0",
       "_view_name": "LayoutView",
       "align_content": null,
       "align_items": null,
       "align_self": null,
       "border": null,
       "bottom": null,
       "display": null,
       "flex": null,
       "flex_flow": null,
       "grid_area": null,
       "grid_auto_columns": null,
       "grid_auto_flow": null,
       "grid_auto_rows": null,
       "grid_column": null,
       "grid_gap": null,
       "grid_row": null,
       "grid_template_areas": null,
       "grid_template_columns": null,
       "grid_template_rows": null,
       "height": null,
       "justify_content": null,
       "justify_items": null,
       "left": null,
       "margin": null,
       "max_height": null,
       "max_width": null,
       "min_height": null,
       "min_width": null,
       "object_fit": null,
       "object_position": null,
       "order": null,
       "overflow": null,
       "overflow_x": null,
       "overflow_y": null,
       "padding": null,
       "right": null,
       "top": null,
       "visibility": null,
       "width": null
      }
     },
     "8f068eebbac94370b3ac9deeee44a6e4": {
      "model_module": "@jupyter-widgets/controls",
      "model_module_version": "1.5.0",
      "model_name": "HTMLModel",
      "state": {
       "_dom_classes": [],
       "_model_module": "@jupyter-widgets/controls",
       "_model_module_version": "1.5.0",
       "_model_name": "HTMLModel",
       "_view_count": null,
       "_view_module": "@jupyter-widgets/controls",
       "_view_module_version": "1.5.0",
       "_view_name": "HTMLView",
       "description": "",
       "description_tooltip": null,
       "layout": "IPY_MODEL_143f042ce51f447997c1c99ff8378931",
       "placeholder": "​",
       "style": "IPY_MODEL_60c5ca8c6993400395097ca8cbd8f6ca",
       "value": "100%"
      }
     },
     "8fafebf6e366409a8db879985a48e719": {
      "model_module": "@jupyter-widgets/base",
      "model_module_version": "1.2.0",
      "model_name": "LayoutModel",
      "state": {
       "_model_module": "@jupyter-widgets/base",
       "_model_module_version": "1.2.0",
       "_model_name": "LayoutModel",
       "_view_count": null,
       "_view_module": "@jupyter-widgets/base",
       "_view_module_version": "1.2.0",
       "_view_name": "LayoutView",
       "align_content": null,
       "align_items": null,
       "align_self": null,
       "border": null,
       "bottom": null,
       "display": null,
       "flex": null,
       "flex_flow": null,
       "grid_area": null,
       "grid_auto_columns": null,
       "grid_auto_flow": null,
       "grid_auto_rows": null,
       "grid_column": null,
       "grid_gap": null,
       "grid_row": null,
       "grid_template_areas": null,
       "grid_template_columns": null,
       "grid_template_rows": null,
       "height": null,
       "justify_content": null,
       "justify_items": null,
       "left": null,
       "margin": null,
       "max_height": null,
       "max_width": null,
       "min_height": null,
       "min_width": null,
       "object_fit": null,
       "object_position": null,
       "order": null,
       "overflow": null,
       "overflow_x": null,
       "overflow_y": null,
       "padding": null,
       "right": null,
       "top": null,
       "visibility": null,
       "width": null
      }
     },
     "9539d873d5d7488c8a3e20c380c08b08": {
      "model_module": "@jupyter-widgets/controls",
      "model_module_version": "1.5.0",
      "model_name": "DescriptionStyleModel",
      "state": {
       "_model_module": "@jupyter-widgets/controls",
       "_model_module_version": "1.5.0",
       "_model_name": "DescriptionStyleModel",
       "_view_count": null,
       "_view_module": "@jupyter-widgets/base",
       "_view_module_version": "1.2.0",
       "_view_name": "StyleView",
       "description_width": ""
      }
     },
     "9665f385a0e449d199fb815946b2fd60": {
      "model_module": "@jupyter-widgets/controls",
      "model_module_version": "1.5.0",
      "model_name": "HTMLModel",
      "state": {
       "_dom_classes": [],
       "_model_module": "@jupyter-widgets/controls",
       "_model_module_version": "1.5.0",
       "_model_name": "HTMLModel",
       "_view_count": null,
       "_view_module": "@jupyter-widgets/controls",
       "_view_module_version": "1.5.0",
       "_view_name": "HTMLView",
       "description": "",
       "description_tooltip": null,
       "layout": "IPY_MODEL_e3247f43996c46d38c48a0034e27c855",
       "placeholder": "​",
       "style": "IPY_MODEL_632a511131884a3cbdc70e16a0b9d86b",
       "value": ""
      }
     },
     "9ce9b8e1333345d1a8d74fe24e3cadd0": {
      "model_module": "@jupyter-widgets/controls",
      "model_module_version": "1.5.0",
      "model_name": "HTMLModel",
      "state": {
       "_dom_classes": [],
       "_model_module": "@jupyter-widgets/controls",
       "_model_module_version": "1.5.0",
       "_model_name": "HTMLModel",
       "_view_count": null,
       "_view_module": "@jupyter-widgets/controls",
       "_view_module_version": "1.5.0",
       "_view_name": "HTMLView",
       "description": "",
       "description_tooltip": null,
       "layout": "IPY_MODEL_a0884d3ae2814ee2ae37b6aa50baaecc",
       "placeholder": "​",
       "style": "IPY_MODEL_f1974caa809d4d7dbbf563d5d32053a7",
       "value": " 4422656/? [00:01&lt;00:00, 6694513.91it/s]"
      }
     },
     "a0884d3ae2814ee2ae37b6aa50baaecc": {
      "model_module": "@jupyter-widgets/base",
      "model_module_version": "1.2.0",
      "model_name": "LayoutModel",
      "state": {
       "_model_module": "@jupyter-widgets/base",
       "_model_module_version": "1.2.0",
       "_model_name": "LayoutModel",
       "_view_count": null,
       "_view_module": "@jupyter-widgets/base",
       "_view_module_version": "1.2.0",
       "_view_name": "LayoutView",
       "align_content": null,
       "align_items": null,
       "align_self": null,
       "border": null,
       "bottom": null,
       "display": null,
       "flex": null,
       "flex_flow": null,
       "grid_area": null,
       "grid_auto_columns": null,
       "grid_auto_flow": null,
       "grid_auto_rows": null,
       "grid_column": null,
       "grid_gap": null,
       "grid_row": null,
       "grid_template_areas": null,
       "grid_template_columns": null,
       "grid_template_rows": null,
       "height": null,
       "justify_content": null,
       "justify_items": null,
       "left": null,
       "margin": null,
       "max_height": null,
       "max_width": null,
       "min_height": null,
       "min_width": null,
       "object_fit": null,
       "object_position": null,
       "order": null,
       "overflow": null,
       "overflow_x": null,
       "overflow_y": null,
       "padding": null,
       "right": null,
       "top": null,
       "visibility": null,
       "width": null
      }
     },
     "a11c641c110249a99a493e5ab4c43cca": {
      "model_module": "@jupyter-widgets/base",
      "model_module_version": "1.2.0",
      "model_name": "LayoutModel",
      "state": {
       "_model_module": "@jupyter-widgets/base",
       "_model_module_version": "1.2.0",
       "_model_name": "LayoutModel",
       "_view_count": null,
       "_view_module": "@jupyter-widgets/base",
       "_view_module_version": "1.2.0",
       "_view_name": "LayoutView",
       "align_content": null,
       "align_items": null,
       "align_self": null,
       "border": null,
       "bottom": null,
       "display": null,
       "flex": null,
       "flex_flow": null,
       "grid_area": null,
       "grid_auto_columns": null,
       "grid_auto_flow": null,
       "grid_auto_rows": null,
       "grid_column": null,
       "grid_gap": null,
       "grid_row": null,
       "grid_template_areas": null,
       "grid_template_columns": null,
       "grid_template_rows": null,
       "height": null,
       "justify_content": null,
       "justify_items": null,
       "left": null,
       "margin": null,
       "max_height": null,
       "max_width": null,
       "min_height": null,
       "min_width": null,
       "object_fit": null,
       "object_position": null,
       "order": null,
       "overflow": null,
       "overflow_x": null,
       "overflow_y": null,
       "padding": null,
       "right": null,
       "top": null,
       "visibility": null,
       "width": null
      }
     },
     "a230d4acf24a47b785270678610a338e": {
      "model_module": "@jupyter-widgets/base",
      "model_module_version": "1.2.0",
      "model_name": "LayoutModel",
      "state": {
       "_model_module": "@jupyter-widgets/base",
       "_model_module_version": "1.2.0",
       "_model_name": "LayoutModel",
       "_view_count": null,
       "_view_module": "@jupyter-widgets/base",
       "_view_module_version": "1.2.0",
       "_view_name": "LayoutView",
       "align_content": null,
       "align_items": null,
       "align_self": null,
       "border": null,
       "bottom": null,
       "display": null,
       "flex": null,
       "flex_flow": null,
       "grid_area": null,
       "grid_auto_columns": null,
       "grid_auto_flow": null,
       "grid_auto_rows": null,
       "grid_column": null,
       "grid_gap": null,
       "grid_row": null,
       "grid_template_areas": null,
       "grid_template_columns": null,
       "grid_template_rows": null,
       "height": null,
       "justify_content": null,
       "justify_items": null,
       "left": null,
       "margin": null,
       "max_height": null,
       "max_width": null,
       "min_height": null,
       "min_width": null,
       "object_fit": null,
       "object_position": null,
       "order": null,
       "overflow": null,
       "overflow_x": null,
       "overflow_y": null,
       "padding": null,
       "right": null,
       "top": null,
       "visibility": null,
       "width": null
      }
     },
     "a5fcbecd9dae4a7593991db8aa1286bd": {
      "model_module": "@jupyter-widgets/controls",
      "model_module_version": "1.5.0",
      "model_name": "FloatProgressModel",
      "state": {
       "_dom_classes": [],
       "_model_module": "@jupyter-widgets/controls",
       "_model_module_version": "1.5.0",
       "_model_name": "FloatProgressModel",
       "_view_count": null,
       "_view_module": "@jupyter-widgets/controls",
       "_view_module_version": "1.5.0",
       "_view_name": "ProgressView",
       "bar_style": "success",
       "description": "",
       "description_tooltip": null,
       "layout": "IPY_MODEL_8fafebf6e366409a8db879985a48e719",
       "max": 553433881.0,
       "min": 0.0,
       "orientation": "horizontal",
       "style": "IPY_MODEL_05134cb6a7004a1294f4802d8ad90050",
       "value": 553433881.0
      }
     },
     "b3a115546f9e4566b810f67cc491b3f3": {
      "model_module": "@jupyter-widgets/base",
      "model_module_version": "1.2.0",
      "model_name": "LayoutModel",
      "state": {
       "_model_module": "@jupyter-widgets/base",
       "_model_module_version": "1.2.0",
       "_model_name": "LayoutModel",
       "_view_count": null,
       "_view_module": "@jupyter-widgets/base",
       "_view_module_version": "1.2.0",
       "_view_name": "LayoutView",
       "align_content": null,
       "align_items": null,
       "align_self": null,
       "border": null,
       "bottom": null,
       "display": null,
       "flex": null,
       "flex_flow": null,
       "grid_area": null,
       "grid_auto_columns": null,
       "grid_auto_flow": null,
       "grid_auto_rows": null,
       "grid_column": null,
       "grid_gap": null,
       "grid_row": null,
       "grid_template_areas": null,
       "grid_template_columns": null,
       "grid_template_rows": null,
       "height": null,
       "justify_content": null,
       "justify_items": null,
       "left": null,
       "margin": null,
       "max_height": null,
       "max_width": null,
       "min_height": null,
       "min_width": null,
       "object_fit": null,
       "object_position": null,
       "order": null,
       "overflow": null,
       "overflow_x": null,
       "overflow_y": null,
       "padding": null,
       "right": null,
       "top": null,
       "visibility": null,
       "width": null
      }
     },
     "bf280f613b2c456d81251979eb28c422": {
      "model_module": "@jupyter-widgets/controls",
      "model_module_version": "1.5.0",
      "model_name": "FloatProgressModel",
      "state": {
       "_dom_classes": [],
       "_model_module": "@jupyter-widgets/controls",
       "_model_module_version": "1.5.0",
       "_model_name": "FloatProgressModel",
       "_view_count": null,
       "_view_module": "@jupyter-widgets/controls",
       "_view_module_version": "1.5.0",
       "_view_name": "ProgressView",
       "bar_style": "success",
       "description": "",
       "description_tooltip": null,
       "layout": "IPY_MODEL_b3a115546f9e4566b810f67cc491b3f3",
       "max": 29515.0,
       "min": 0.0,
       "orientation": "horizontal",
       "style": "IPY_MODEL_19c97beee00d4a38af7107bc35a0f498",
       "value": 29515.0
      }
     },
     "c1b59aff59bc4db79ef1aacbc0ba78a9": {
      "model_module": "@jupyter-widgets/controls",
      "model_module_version": "1.5.0",
      "model_name": "HTMLModel",
      "state": {
       "_dom_classes": [],
       "_model_module": "@jupyter-widgets/controls",
       "_model_module_version": "1.5.0",
       "_model_name": "HTMLModel",
       "_view_count": null,
       "_view_module": "@jupyter-widgets/controls",
       "_view_module_version": "1.5.0",
       "_view_name": "HTMLView",
       "description": "",
       "description_tooltip": null,
       "layout": "IPY_MODEL_da06c4907f094e44bb20178e4df566a0",
       "placeholder": "​",
       "style": "IPY_MODEL_435b2a3a81fd4e3ca03ff6ec0785b708",
       "value": " 29696/? [00:00&lt;00:00, 102224.10it/s]"
      }
     },
     "c5c200e4de98481484da64667f39ce43": {
      "model_module": "@jupyter-widgets/base",
      "model_module_version": "1.2.0",
      "model_name": "LayoutModel",
      "state": {
       "_model_module": "@jupyter-widgets/base",
       "_model_module_version": "1.2.0",
       "_model_name": "LayoutModel",
       "_view_count": null,
       "_view_module": "@jupyter-widgets/base",
       "_view_module_version": "1.2.0",
       "_view_name": "LayoutView",
       "align_content": null,
       "align_items": null,
       "align_self": null,
       "border": null,
       "bottom": null,
       "display": null,
       "flex": null,
       "flex_flow": null,
       "grid_area": null,
       "grid_auto_columns": null,
       "grid_auto_flow": null,
       "grid_auto_rows": null,
       "grid_column": null,
       "grid_gap": null,
       "grid_row": null,
       "grid_template_areas": null,
       "grid_template_columns": null,
       "grid_template_rows": null,
       "height": null,
       "justify_content": null,
       "justify_items": null,
       "left": null,
       "margin": null,
       "max_height": null,
       "max_width": null,
       "min_height": null,
       "min_width": null,
       "object_fit": null,
       "object_position": null,
       "order": null,
       "overflow": null,
       "overflow_x": null,
       "overflow_y": null,
       "padding": null,
       "right": null,
       "top": null,
       "visibility": null,
       "width": null
      }
     },
     "d11a247a7dfd4c98b313e56d4d59850b": {
      "model_module": "@jupyter-widgets/base",
      "model_module_version": "1.2.0",
      "model_name": "LayoutModel",
      "state": {
       "_model_module": "@jupyter-widgets/base",
       "_model_module_version": "1.2.0",
       "_model_name": "LayoutModel",
       "_view_count": null,
       "_view_module": "@jupyter-widgets/base",
       "_view_module_version": "1.2.0",
       "_view_name": "LayoutView",
       "align_content": null,
       "align_items": null,
       "align_self": null,
       "border": null,
       "bottom": null,
       "display": null,
       "flex": null,
       "flex_flow": null,
       "grid_area": null,
       "grid_auto_columns": null,
       "grid_auto_flow": null,
       "grid_auto_rows": null,
       "grid_column": null,
       "grid_gap": null,
       "grid_row": null,
       "grid_template_areas": null,
       "grid_template_columns": null,
       "grid_template_rows": null,
       "height": null,
       "justify_content": null,
       "justify_items": null,
       "left": null,
       "margin": null,
       "max_height": null,
       "max_width": null,
       "min_height": null,
       "min_width": null,
       "object_fit": null,
       "object_position": null,
       "order": null,
       "overflow": null,
       "overflow_x": null,
       "overflow_y": null,
       "padding": null,
       "right": null,
       "top": null,
       "visibility": null,
       "width": null
      }
     },
     "da06c4907f094e44bb20178e4df566a0": {
      "model_module": "@jupyter-widgets/base",
      "model_module_version": "1.2.0",
      "model_name": "LayoutModel",
      "state": {
       "_model_module": "@jupyter-widgets/base",
       "_model_module_version": "1.2.0",
       "_model_name": "LayoutModel",
       "_view_count": null,
       "_view_module": "@jupyter-widgets/base",
       "_view_module_version": "1.2.0",
       "_view_name": "LayoutView",
       "align_content": null,
       "align_items": null,
       "align_self": null,
       "border": null,
       "bottom": null,
       "display": null,
       "flex": null,
       "flex_flow": null,
       "grid_area": null,
       "grid_auto_columns": null,
       "grid_auto_flow": null,
       "grid_auto_rows": null,
       "grid_column": null,
       "grid_gap": null,
       "grid_row": null,
       "grid_template_areas": null,
       "grid_template_columns": null,
       "grid_template_rows": null,
       "height": null,
       "justify_content": null,
       "justify_items": null,
       "left": null,
       "margin": null,
       "max_height": null,
       "max_width": null,
       "min_height": null,
       "min_width": null,
       "object_fit": null,
       "object_position": null,
       "order": null,
       "overflow": null,
       "overflow_x": null,
       "overflow_y": null,
       "padding": null,
       "right": null,
       "top": null,
       "visibility": null,
       "width": null
      }
     },
     "deb25c9d6b8c4c95b5361286542f33c3": {
      "model_module": "@jupyter-widgets/controls",
      "model_module_version": "1.5.0",
      "model_name": "HBoxModel",
      "state": {
       "_dom_classes": [],
       "_model_module": "@jupyter-widgets/controls",
       "_model_module_version": "1.5.0",
       "_model_name": "HBoxModel",
       "_view_count": null,
       "_view_module": "@jupyter-widgets/controls",
       "_view_module_version": "1.5.0",
       "_view_name": "HBoxView",
       "box_style": "",
       "children": [
        "IPY_MODEL_9665f385a0e449d199fb815946b2fd60",
        "IPY_MODEL_eae8815aa9a74c9f95dbffa4ca14ae5f",
        "IPY_MODEL_9ce9b8e1333345d1a8d74fe24e3cadd0"
       ],
       "layout": "IPY_MODEL_584187e9ac4942939cd6c87c8857df9c"
      }
     },
     "e19b27acff0846648eed3ef5192cd781": {
      "model_module": "@jupyter-widgets/controls",
      "model_module_version": "1.5.0",
      "model_name": "HBoxModel",
      "state": {
       "_dom_classes": [],
       "_model_module": "@jupyter-widgets/controls",
       "_model_module_version": "1.5.0",
       "_model_name": "HBoxModel",
       "_view_count": null,
       "_view_module": "@jupyter-widgets/controls",
       "_view_module_version": "1.5.0",
       "_view_name": "HBoxView",
       "box_style": "",
       "children": [
        "IPY_MODEL_8f068eebbac94370b3ac9deeee44a6e4",
        "IPY_MODEL_a5fcbecd9dae4a7593991db8aa1286bd",
        "IPY_MODEL_112fc097c5f1463298139a1bf748cf44"
       ],
       "layout": "IPY_MODEL_f6ec397aab084b439dcdd9bf5597814a"
      }
     },
     "e209f5b8dff44bc9863eb5967eb452fa": {
      "model_module": "@jupyter-widgets/controls",
      "model_module_version": "1.5.0",
      "model_name": "HTMLModel",
      "state": {
       "_dom_classes": [],
       "_model_module": "@jupyter-widgets/controls",
       "_model_module_version": "1.5.0",
       "_model_name": "HTMLModel",
       "_view_count": null,
       "_view_module": "@jupyter-widgets/controls",
       "_view_module_version": "1.5.0",
       "_view_name": "HTMLView",
       "description": "",
       "description_tooltip": null,
       "layout": "IPY_MODEL_ea76ecb466204f5f8eb283bb533a4aa6",
       "placeholder": "​",
       "style": "IPY_MODEL_60103e7b4cd24f53b857461c3295230b",
       "value": " 6144/? [00:00&lt;00:00, 207804.24it/s]"
      }
     },
     "e3247f43996c46d38c48a0034e27c855": {
      "model_module": "@jupyter-widgets/base",
      "model_module_version": "1.2.0",
      "model_name": "LayoutModel",
      "state": {
       "_model_module": "@jupyter-widgets/base",
       "_model_module_version": "1.2.0",
       "_model_name": "LayoutModel",
       "_view_count": null,
       "_view_module": "@jupyter-widgets/base",
       "_view_module_version": "1.2.0",
       "_view_name": "LayoutView",
       "align_content": null,
       "align_items": null,
       "align_self": null,
       "border": null,
       "bottom": null,
       "display": null,
       "flex": null,
       "flex_flow": null,
       "grid_area": null,
       "grid_auto_columns": null,
       "grid_auto_flow": null,
       "grid_auto_rows": null,
       "grid_column": null,
       "grid_gap": null,
       "grid_row": null,
       "grid_template_areas": null,
       "grid_template_columns": null,
       "grid_template_rows": null,
       "height": null,
       "justify_content": null,
       "justify_items": null,
       "left": null,
       "margin": null,
       "max_height": null,
       "max_width": null,
       "min_height": null,
       "min_width": null,
       "object_fit": null,
       "object_position": null,
       "order": null,
       "overflow": null,
       "overflow_x": null,
       "overflow_y": null,
       "padding": null,
       "right": null,
       "top": null,
       "visibility": null,
       "width": null
      }
     },
     "e4ca3a1ab11d422e9ffc23e7d1888bfe": {
      "model_module": "@jupyter-widgets/controls",
      "model_module_version": "1.5.0",
      "model_name": "DescriptionStyleModel",
      "state": {
       "_model_module": "@jupyter-widgets/controls",
       "_model_module_version": "1.5.0",
       "_model_name": "DescriptionStyleModel",
       "_view_count": null,
       "_view_module": "@jupyter-widgets/base",
       "_view_module_version": "1.2.0",
       "_view_name": "StyleView",
       "description_width": ""
      }
     },
     "e9ba85839ed44a7a984a0184f4705d9a": {
      "model_module": "@jupyter-widgets/controls",
      "model_module_version": "1.5.0",
      "model_name": "HBoxModel",
      "state": {
       "_dom_classes": [],
       "_model_module": "@jupyter-widgets/controls",
       "_model_module_version": "1.5.0",
       "_model_name": "HBoxModel",
       "_view_count": null,
       "_view_module": "@jupyter-widgets/controls",
       "_view_module_version": "1.5.0",
       "_view_name": "HBoxView",
       "box_style": "",
       "children": [
        "IPY_MODEL_7872a59c254b448b9543bec1dc2bcbde",
        "IPY_MODEL_bf280f613b2c456d81251979eb28c422",
        "IPY_MODEL_c1b59aff59bc4db79ef1aacbc0ba78a9"
       ],
       "layout": "IPY_MODEL_ea35ee6868034982971d3bc47ff8c537"
      }
     },
     "ea35ee6868034982971d3bc47ff8c537": {
      "model_module": "@jupyter-widgets/base",
      "model_module_version": "1.2.0",
      "model_name": "LayoutModel",
      "state": {
       "_model_module": "@jupyter-widgets/base",
       "_model_module_version": "1.2.0",
       "_model_name": "LayoutModel",
       "_view_count": null,
       "_view_module": "@jupyter-widgets/base",
       "_view_module_version": "1.2.0",
       "_view_name": "LayoutView",
       "align_content": null,
       "align_items": null,
       "align_self": null,
       "border": null,
       "bottom": null,
       "display": null,
       "flex": null,
       "flex_flow": null,
       "grid_area": null,
       "grid_auto_columns": null,
       "grid_auto_flow": null,
       "grid_auto_rows": null,
       "grid_column": null,
       "grid_gap": null,
       "grid_row": null,
       "grid_template_areas": null,
       "grid_template_columns": null,
       "grid_template_rows": null,
       "height": null,
       "justify_content": null,
       "justify_items": null,
       "left": null,
       "margin": null,
       "max_height": null,
       "max_width": null,
       "min_height": null,
       "min_width": null,
       "object_fit": null,
       "object_position": null,
       "order": null,
       "overflow": null,
       "overflow_x": null,
       "overflow_y": null,
       "padding": null,
       "right": null,
       "top": null,
       "visibility": null,
       "width": null
      }
     },
     "ea76ecb466204f5f8eb283bb533a4aa6": {
      "model_module": "@jupyter-widgets/base",
      "model_module_version": "1.2.0",
      "model_name": "LayoutModel",
      "state": {
       "_model_module": "@jupyter-widgets/base",
       "_model_module_version": "1.2.0",
       "_model_name": "LayoutModel",
       "_view_count": null,
       "_view_module": "@jupyter-widgets/base",
       "_view_module_version": "1.2.0",
       "_view_name": "LayoutView",
       "align_content": null,
       "align_items": null,
       "align_self": null,
       "border": null,
       "bottom": null,
       "display": null,
       "flex": null,
       "flex_flow": null,
       "grid_area": null,
       "grid_auto_columns": null,
       "grid_auto_flow": null,
       "grid_auto_rows": null,
       "grid_column": null,
       "grid_gap": null,
       "grid_row": null,
       "grid_template_areas": null,
       "grid_template_columns": null,
       "grid_template_rows": null,
       "height": null,
       "justify_content": null,
       "justify_items": null,
       "left": null,
       "margin": null,
       "max_height": null,
       "max_width": null,
       "min_height": null,
       "min_width": null,
       "object_fit": null,
       "object_position": null,
       "order": null,
       "overflow": null,
       "overflow_x": null,
       "overflow_y": null,
       "padding": null,
       "right": null,
       "top": null,
       "visibility": null,
       "width": null
      }
     },
     "eae8815aa9a74c9f95dbffa4ca14ae5f": {
      "model_module": "@jupyter-widgets/controls",
      "model_module_version": "1.5.0",
      "model_name": "FloatProgressModel",
      "state": {
       "_dom_classes": [],
       "_model_module": "@jupyter-widgets/controls",
       "_model_module_version": "1.5.0",
       "_model_name": "FloatProgressModel",
       "_view_count": null,
       "_view_module": "@jupyter-widgets/controls",
       "_view_module_version": "1.5.0",
       "_view_name": "ProgressView",
       "bar_style": "success",
       "description": "",
       "description_tooltip": null,
       "layout": "IPY_MODEL_6b99ae6ab1224cbdbd4f14617ff708aa",
       "max": 4422102.0,
       "min": 0.0,
       "orientation": "horizontal",
       "style": "IPY_MODEL_182b220d7472486585fe4a4321bd1a42",
       "value": 4422102.0
      }
     },
     "f1974caa809d4d7dbbf563d5d32053a7": {
      "model_module": "@jupyter-widgets/controls",
      "model_module_version": "1.5.0",
      "model_name": "DescriptionStyleModel",
      "state": {
       "_model_module": "@jupyter-widgets/controls",
       "_model_module_version": "1.5.0",
       "_model_name": "DescriptionStyleModel",
       "_view_count": null,
       "_view_module": "@jupyter-widgets/base",
       "_view_module_version": "1.2.0",
       "_view_name": "StyleView",
       "description_width": ""
      }
     },
     "f6ec397aab084b439dcdd9bf5597814a": {
      "model_module": "@jupyter-widgets/base",
      "model_module_version": "1.2.0",
      "model_name": "LayoutModel",
      "state": {
       "_model_module": "@jupyter-widgets/base",
       "_model_module_version": "1.2.0",
       "_model_name": "LayoutModel",
       "_view_count": null,
       "_view_module": "@jupyter-widgets/base",
       "_view_module_version": "1.2.0",
       "_view_name": "LayoutView",
       "align_content": null,
       "align_items": null,
       "align_self": null,
       "border": null,
       "bottom": null,
       "display": null,
       "flex": null,
       "flex_flow": null,
       "grid_area": null,
       "grid_auto_columns": null,
       "grid_auto_flow": null,
       "grid_auto_rows": null,
       "grid_column": null,
       "grid_gap": null,
       "grid_row": null,
       "grid_template_areas": null,
       "grid_template_columns": null,
       "grid_template_rows": null,
       "height": null,
       "justify_content": null,
       "justify_items": null,
       "left": null,
       "margin": null,
       "max_height": null,
       "max_width": null,
       "min_height": null,
       "min_width": null,
       "object_fit": null,
       "object_position": null,
       "order": null,
       "overflow": null,
       "overflow_x": null,
       "overflow_y": null,
       "padding": null,
       "right": null,
       "top": null,
       "visibility": null,
       "width": null
      }
     }
    },
    "version_major": 2,
    "version_minor": 0
   }
  }
 },
 "nbformat": 4,
 "nbformat_minor": 5
}
