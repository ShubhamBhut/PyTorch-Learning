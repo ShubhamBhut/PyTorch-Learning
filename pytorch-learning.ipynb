{
 "cells": [
  {
   "cell_type": "code",
   "execution_count": 1,
   "id": "8153fdc5",
   "metadata": {
    "_cell_guid": "b1076dfc-b9ad-4769-8c92-a6c4dae69d19",
    "_uuid": "8f2839f25d086af736a60e9eeb907d3b93b6e0e5",
    "execution": {
     "iopub.execute_input": "2022-10-05T06:31:10.807279Z",
     "iopub.status.busy": "2022-10-05T06:31:10.806821Z",
     "iopub.status.idle": "2022-10-05T06:31:10.819147Z",
     "shell.execute_reply": "2022-10-05T06:31:10.818107Z"
    },
    "papermill": {
     "duration": 0.032366,
     "end_time": "2022-10-05T06:31:10.822962",
     "exception": false,
     "start_time": "2022-10-05T06:31:10.790596",
     "status": "completed"
    },
    "tags": []
   },
   "outputs": [],
   "source": [
    "# This Python 3 environment comes with many helpful analytics libraries installed\n",
    "# It is defined by the kaggle/python Docker image: https://github.com/kaggle/docker-python\n",
    "# For example, here's several helpful packages to load\n",
    "\n",
    "import numpy as np # linear algebra\n",
    "import pandas as pd # data processing, CSV file I/O (e.g. pd.read_csv)\n",
    "\n",
    "# Input data files are available in the read-only \"../input/\" directory\n",
    "# For example, running this (by clicking run or pressing Shift+Enter) will list all files under the input directory\n",
    "\n",
    "import os\n",
    "for dirname, _, filenames in os.walk('/kaggle/input'):\n",
    "    for filename in filenames:\n",
    "        print(os.path.join(dirname, filename))\n",
    "\n",
    "# You can write up to 20GB to the current directory (/kaggle/working/) that gets preserved as output when you create a version using \"Save & Run All\" \n",
    "# You can also write temporary files to /kaggle/temp/, but they won't be saved outside of the current session"
   ]
  },
  {
   "cell_type": "markdown",
   "id": "d9c90dbc",
   "metadata": {
    "papermill": {
     "duration": 0.020622,
     "end_time": "2022-10-05T06:31:10.859821",
     "exception": false,
     "start_time": "2022-10-05T06:31:10.839199",
     "status": "completed"
    },
    "tags": []
   },
   "source": [
    "The full list of all the datasets stored inside torchvision.dataseets is [here](https://pytorch.org/vision/stable/datasets.html)"
   ]
  },
  {
   "cell_type": "markdown",
   "id": "a106dcdc",
   "metadata": {
    "papermill": {
     "duration": 0.01332,
     "end_time": "2022-10-05T06:31:10.890794",
     "exception": false,
     "start_time": "2022-10-05T06:31:10.877474",
     "status": "completed"
    },
    "tags": []
   },
   "source": [
    "# Tensors"
   ]
  },
  {
   "cell_type": "code",
   "execution_count": 2,
   "id": "995d1d78",
   "metadata": {
    "execution": {
     "iopub.execute_input": "2022-10-05T06:31:10.921917Z",
     "iopub.status.busy": "2022-10-05T06:31:10.921113Z",
     "iopub.status.idle": "2022-10-05T06:31:12.663101Z",
     "shell.execute_reply": "2022-10-05T06:31:12.661254Z"
    },
    "papermill": {
     "duration": 1.761224,
     "end_time": "2022-10-05T06:31:12.665897",
     "exception": false,
     "start_time": "2022-10-05T06:31:10.904673",
     "status": "completed"
    },
    "tags": []
   },
   "outputs": [],
   "source": [
    "import torch\n",
    "import numpy as np"
   ]
  },
  {
   "cell_type": "markdown",
   "id": "d54792eb",
   "metadata": {
    "papermill": {
     "duration": 0.018351,
     "end_time": "2022-10-05T06:31:12.698618",
     "exception": false,
     "start_time": "2022-10-05T06:31:12.680267",
     "status": "completed"
    },
    "tags": []
   },
   "source": [
    "### Tensors intialization"
   ]
  },
  {
   "cell_type": "markdown",
   "id": "5bede28b",
   "metadata": {
    "papermill": {
     "duration": 0.01464,
     "end_time": "2022-10-05T06:31:12.733500",
     "exception": false,
     "start_time": "2022-10-05T06:31:12.718860",
     "status": "completed"
    },
    "tags": []
   },
   "source": [
    "Directly from data"
   ]
  },
  {
   "cell_type": "code",
   "execution_count": 3,
   "id": "8bf7ea7b",
   "metadata": {
    "execution": {
     "iopub.execute_input": "2022-10-05T06:31:12.767896Z",
     "iopub.status.busy": "2022-10-05T06:31:12.767024Z",
     "iopub.status.idle": "2022-10-05T06:31:12.772093Z",
     "shell.execute_reply": "2022-10-05T06:31:12.771044Z"
    },
    "papermill": {
     "duration": 0.023748,
     "end_time": "2022-10-05T06:31:12.774579",
     "exception": false,
     "start_time": "2022-10-05T06:31:12.750831",
     "status": "completed"
    },
    "tags": []
   },
   "outputs": [],
   "source": [
    "data = [[1,2], [3,4]]\n",
    "x_data = torch.tensor(data)"
   ]
  },
  {
   "cell_type": "markdown",
   "id": "c9e7eb85",
   "metadata": {
    "papermill": {
     "duration": 0.013651,
     "end_time": "2022-10-05T06:31:12.802512",
     "exception": false,
     "start_time": "2022-10-05T06:31:12.788861",
     "status": "completed"
    },
    "tags": []
   },
   "source": [
    "From numpy array"
   ]
  },
  {
   "cell_type": "code",
   "execution_count": 4,
   "id": "a148bde3",
   "metadata": {
    "execution": {
     "iopub.execute_input": "2022-10-05T06:31:12.832488Z",
     "iopub.status.busy": "2022-10-05T06:31:12.832031Z",
     "iopub.status.idle": "2022-10-05T06:31:12.837522Z",
     "shell.execute_reply": "2022-10-05T06:31:12.836372Z"
    },
    "papermill": {
     "duration": 0.023482,
     "end_time": "2022-10-05T06:31:12.840092",
     "exception": false,
     "start_time": "2022-10-05T06:31:12.816610",
     "status": "completed"
    },
    "tags": []
   },
   "outputs": [],
   "source": [
    "np_array = np.array(data)\n",
    "x_np = torch.from_numpy(np_array)"
   ]
  },
  {
   "cell_type": "markdown",
   "id": "4e287e87",
   "metadata": {
    "papermill": {
     "duration": 0.013682,
     "end_time": "2022-10-05T06:31:12.867712",
     "exception": false,
     "start_time": "2022-10-05T06:31:12.854030",
     "status": "completed"
    },
    "tags": []
   },
   "source": [
    "From other tensor"
   ]
  },
  {
   "cell_type": "code",
   "execution_count": 5,
   "id": "bed4e7ce",
   "metadata": {
    "execution": {
     "iopub.execute_input": "2022-10-05T06:31:12.898213Z",
     "iopub.status.busy": "2022-10-05T06:31:12.897109Z",
     "iopub.status.idle": "2022-10-05T06:31:12.907413Z",
     "shell.execute_reply": "2022-10-05T06:31:12.906624Z"
    },
    "papermill": {
     "duration": 0.028175,
     "end_time": "2022-10-05T06:31:12.910174",
     "exception": false,
     "start_time": "2022-10-05T06:31:12.881999",
     "status": "completed"
    },
    "tags": []
   },
   "outputs": [
    {
     "name": "stdout",
     "output_type": "stream",
     "text": [
      "Ones Tensor: \n",
      " tensor([[1, 1],\n",
      "        [1, 1]]) \n",
      "\n",
      "Random Tensor: \n",
      " tensor([[0.8184, 0.0156],\n",
      "        [0.4694, 0.0082]]) \n",
      "\n"
     ]
    }
   ],
   "source": [
    "x_ones = torch.ones_like(x_data) # retains the properties of x_data\n",
    "print(f\"Ones Tensor: \\n {x_ones} \\n\")\n",
    "\n",
    "x_rand = torch.rand_like(x_data, dtype=torch.float) # overrides the datatype of x_data\n",
    "print(f\"Random Tensor: \\n {x_rand} \\n\")"
   ]
  },
  {
   "cell_type": "markdown",
   "id": "0b226f2a",
   "metadata": {
    "papermill": {
     "duration": 0.01381,
     "end_time": "2022-10-05T06:31:12.938266",
     "exception": false,
     "start_time": "2022-10-05T06:31:12.924456",
     "status": "completed"
    },
    "tags": []
   },
   "source": [
    "With random or constant values"
   ]
  },
  {
   "cell_type": "code",
   "execution_count": 6,
   "id": "05b0fb0b",
   "metadata": {
    "execution": {
     "iopub.execute_input": "2022-10-05T06:31:12.967650Z",
     "iopub.status.busy": "2022-10-05T06:31:12.966971Z",
     "iopub.status.idle": "2022-10-05T06:31:12.975285Z",
     "shell.execute_reply": "2022-10-05T06:31:12.973901Z"
    },
    "papermill": {
     "duration": 0.025484,
     "end_time": "2022-10-05T06:31:12.977389",
     "exception": false,
     "start_time": "2022-10-05T06:31:12.951905",
     "status": "completed"
    },
    "tags": []
   },
   "outputs": [
    {
     "name": "stdout",
     "output_type": "stream",
     "text": [
      "Random Tensor: \n",
      " tensor([[0.5049, 0.6441, 0.4876],\n",
      "        [0.4349, 0.5670, 0.4854]]) \n",
      "\n",
      "Ones Tensor: \n",
      " tensor([[1., 1., 1.],\n",
      "        [1., 1., 1.]]) \n",
      "\n",
      "Zeros Tensor: \n",
      " tensor([[0., 0., 0.],\n",
      "        [0., 0., 0.]])\n"
     ]
    }
   ],
   "source": [
    "shape = (2,3,)\n",
    "rand_tensor = torch.rand(shape)\n",
    "ones_tensor = torch.ones(shape)\n",
    "zeros_tensor = torch.zeros(shape)\n",
    "\n",
    "print(f\"Random Tensor: \\n {rand_tensor} \\n\")\n",
    "print(f\"Ones Tensor: \\n {ones_tensor} \\n\")\n",
    "print(f\"Zeros Tensor: \\n {zeros_tensor}\")"
   ]
  },
  {
   "cell_type": "markdown",
   "id": "e21b6294",
   "metadata": {
    "papermill": {
     "duration": 0.013493,
     "end_time": "2022-10-05T06:31:13.004762",
     "exception": false,
     "start_time": "2022-10-05T06:31:12.991269",
     "status": "completed"
    },
    "tags": []
   },
   "source": [
    "### Operations on tensor"
   ]
  },
  {
   "cell_type": "code",
   "execution_count": 7,
   "id": "bba22b17",
   "metadata": {
    "execution": {
     "iopub.execute_input": "2022-10-05T06:31:13.034876Z",
     "iopub.status.busy": "2022-10-05T06:31:13.033947Z",
     "iopub.status.idle": "2022-10-05T06:31:13.041236Z",
     "shell.execute_reply": "2022-10-05T06:31:13.039792Z"
    },
    "papermill": {
     "duration": 0.024613,
     "end_time": "2022-10-05T06:31:13.043393",
     "exception": false,
     "start_time": "2022-10-05T06:31:13.018780",
     "status": "completed"
    },
    "tags": []
   },
   "outputs": [
    {
     "name": "stdout",
     "output_type": "stream",
     "text": [
      "Shape of tensor: torch.Size([3, 4])\n",
      "Datatype of tensor: torch.float32\n",
      "Device tensor is stored on: cpu\n"
     ]
    }
   ],
   "source": [
    "tensor = torch.rand(3,4)\n",
    "\n",
    "print(f\"Shape of tensor: {tensor.shape}\")\n",
    "print(f\"Datatype of tensor: {tensor.dtype}\")\n",
    "print(f\"Device tensor is stored on: {tensor.device}\")"
   ]
  },
  {
   "cell_type": "markdown",
   "id": "37b36b6c",
   "metadata": {
    "papermill": {
     "duration": 0.013988,
     "end_time": "2022-10-05T06:31:13.071398",
     "exception": false,
     "start_time": "2022-10-05T06:31:13.057410",
     "status": "completed"
    },
    "tags": []
   },
   "source": [
    "## Full list - https://pytorch.org/docs/stable/torch.html"
   ]
  },
  {
   "cell_type": "markdown",
   "id": "2a11a7c6",
   "metadata": {
    "papermill": {
     "duration": 0.013624,
     "end_time": "2022-10-05T06:31:13.099112",
     "exception": false,
     "start_time": "2022-10-05T06:31:13.085488",
     "status": "completed"
    },
    "tags": []
   },
   "source": [
    "Slicing and indexing"
   ]
  },
  {
   "cell_type": "code",
   "execution_count": 8,
   "id": "eaba0a95",
   "metadata": {
    "execution": {
     "iopub.execute_input": "2022-10-05T06:31:13.129278Z",
     "iopub.status.busy": "2022-10-05T06:31:13.128475Z",
     "iopub.status.idle": "2022-10-05T06:31:13.138189Z",
     "shell.execute_reply": "2022-10-05T06:31:13.136487Z"
    },
    "papermill": {
     "duration": 0.027342,
     "end_time": "2022-10-05T06:31:13.140510",
     "exception": false,
     "start_time": "2022-10-05T06:31:13.113168",
     "status": "completed"
    },
    "tags": []
   },
   "outputs": [
    {
     "name": "stdout",
     "output_type": "stream",
     "text": [
      "First row: tensor([1., 1., 1., 1.])\n",
      "First column: tensor([1., 1., 1., 1.])\n",
      "Last column: tensor([1., 1., 1., 1.])\n",
      "tensor([[1., 0., 1., 1.],\n",
      "        [1., 0., 1., 1.],\n",
      "        [1., 0., 1., 1.],\n",
      "        [1., 0., 1., 1.]])\n"
     ]
    }
   ],
   "source": [
    "tensor = torch.ones(4, 4)\n",
    "print(f\"First row: {tensor[0]}\")\n",
    "print(f\"First column: {tensor[:, 0]}\")\n",
    "print(f\"Last column: {tensor[..., -1]}\")\n",
    "\n",
    "tensor[:,1] = 0\n",
    "\n",
    "print(tensor)"
   ]
  },
  {
   "cell_type": "code",
   "execution_count": null,
   "id": "bf5e0385",
   "metadata": {
    "papermill": {
     "duration": 0.014146,
     "end_time": "2022-10-05T06:31:13.168779",
     "exception": false,
     "start_time": "2022-10-05T06:31:13.154633",
     "status": "completed"
    },
    "tags": []
   },
   "outputs": [],
   "source": []
  },
  {
   "cell_type": "markdown",
   "id": "76af5e92",
   "metadata": {
    "papermill": {
     "duration": 0.013743,
     "end_time": "2022-10-05T06:31:13.196644",
     "exception": false,
     "start_time": "2022-10-05T06:31:13.182901",
     "status": "completed"
    },
    "tags": []
   },
   "source": [
    "### Joining the tensors"
   ]
  },
  {
   "cell_type": "code",
   "execution_count": 9,
   "id": "338e10c6",
   "metadata": {
    "execution": {
     "iopub.execute_input": "2022-10-05T06:31:13.227251Z",
     "iopub.status.busy": "2022-10-05T06:31:13.226550Z",
     "iopub.status.idle": "2022-10-05T06:31:13.236315Z",
     "shell.execute_reply": "2022-10-05T06:31:13.235254Z"
    },
    "papermill": {
     "duration": 0.027702,
     "end_time": "2022-10-05T06:31:13.238531",
     "exception": false,
     "start_time": "2022-10-05T06:31:13.210829",
     "status": "completed"
    },
    "tags": []
   },
   "outputs": [
    {
     "data": {
      "text/plain": [
       "tensor([[1., 1., 1., 0., 0., 0., 0.],\n",
       "        [1., 1., 1., 0., 0., 0., 0.],\n",
       "        [1., 1., 1., 0., 0., 0., 0.]])"
      ]
     },
     "execution_count": 9,
     "metadata": {},
     "output_type": "execute_result"
    }
   ],
   "source": [
    "t1 = torch.ones(3,3)\n",
    "t2 = torch.zeros(3,4)\n",
    "t3 = torch.cat([t1, t2], dim=1)\n",
    "t3"
   ]
  },
  {
   "cell_type": "code",
   "execution_count": 10,
   "id": "1be3c364",
   "metadata": {
    "execution": {
     "iopub.execute_input": "2022-10-05T06:31:13.269004Z",
     "iopub.status.busy": "2022-10-05T06:31:13.268288Z",
     "iopub.status.idle": "2022-10-05T06:31:13.278778Z",
     "shell.execute_reply": "2022-10-05T06:31:13.277727Z"
    },
    "papermill": {
     "duration": 0.028061,
     "end_time": "2022-10-05T06:31:13.281083",
     "exception": false,
     "start_time": "2022-10-05T06:31:13.253022",
     "status": "completed"
    },
    "tags": []
   },
   "outputs": [
    {
     "data": {
      "text/plain": [
       "tensor([[[0., 0., 0., 0.],\n",
       "         [0., 0., 0., 0.],\n",
       "         [0., 0., 0., 0.]],\n",
       "\n",
       "        [[1., 1., 1., 1.],\n",
       "         [1., 1., 1., 1.],\n",
       "         [1., 1., 1., 1.]]])"
      ]
     },
     "execution_count": 10,
     "metadata": {},
     "output_type": "execute_result"
    }
   ],
   "source": [
    "t4 = torch.ones(3,4)\n",
    "t5 = torch.stack([t2, t4], dim=0)\n",
    "t5"
   ]
  },
  {
   "cell_type": "code",
   "execution_count": null,
   "id": "22c7fa18",
   "metadata": {
    "papermill": {
     "duration": 0.013966,
     "end_time": "2022-10-05T06:31:13.310232",
     "exception": false,
     "start_time": "2022-10-05T06:31:13.296266",
     "status": "completed"
    },
    "tags": []
   },
   "outputs": [],
   "source": []
  },
  {
   "cell_type": "markdown",
   "id": "c09f9e79",
   "metadata": {
    "papermill": {
     "duration": 0.01392,
     "end_time": "2022-10-05T06:31:13.338341",
     "exception": false,
     "start_time": "2022-10-05T06:31:13.324421",
     "status": "completed"
    },
    "tags": []
   },
   "source": [
    "### Arithmatic Opearations"
   ]
  },
  {
   "cell_type": "markdown",
   "id": "30644d3e",
   "metadata": {
    "papermill": {
     "duration": 0.014113,
     "end_time": "2022-10-05T06:31:13.366957",
     "exception": false,
     "start_time": "2022-10-05T06:31:13.352844",
     "status": "completed"
    },
    "tags": []
   },
   "source": [
    "Multiplication"
   ]
  },
  {
   "cell_type": "code",
   "execution_count": 11,
   "id": "ade1e762",
   "metadata": {
    "execution": {
     "iopub.execute_input": "2022-10-05T06:31:13.397427Z",
     "iopub.status.busy": "2022-10-05T06:31:13.397029Z",
     "iopub.status.idle": "2022-10-05T06:31:13.413893Z",
     "shell.execute_reply": "2022-10-05T06:31:13.412717Z"
    },
    "papermill": {
     "duration": 0.035249,
     "end_time": "2022-10-05T06:31:13.416591",
     "exception": false,
     "start_time": "2022-10-05T06:31:13.381342",
     "status": "completed"
    },
    "tags": []
   },
   "outputs": [
    {
     "name": "stdout",
     "output_type": "stream",
     "text": [
      "tensor([[1.0688, 1.9080, 1.5911],\n",
      "        [1.0688, 1.9080, 1.5911],\n",
      "        [1.0688, 1.9080, 1.5911]])\n",
      "tensor([[1.0688, 1.9080, 1.5911],\n",
      "        [1.0688, 1.9080, 1.5911],\n",
      "        [1.0688, 1.9080, 1.5911]])\n",
      "tensor([[1.0688, 1.9080, 1.5911],\n",
      "        [1.0688, 1.9080, 1.5911],\n",
      "        [1.0688, 1.9080, 1.5911]])\n"
     ]
    }
   ],
   "source": [
    "t5 = torch.rand(3, 3)\n",
    "multi1 = t1 @ t5.T\n",
    "multi2 = t1.matmul(t5.T)\n",
    "multi3 = torch.rand_like(t1)\n",
    "torch.matmul(t1, t5.T, out=multi3)\n",
    "\n",
    "print(multi1)\n",
    "print(multi2)\n",
    "print(multi3)"
   ]
  },
  {
   "cell_type": "markdown",
   "id": "65662946",
   "metadata": {
    "papermill": {
     "duration": 0.013982,
     "end_time": "2022-10-05T06:31:13.445119",
     "exception": false,
     "start_time": "2022-10-05T06:31:13.431137",
     "status": "completed"
    },
    "tags": []
   },
   "source": [
    "Sum"
   ]
  },
  {
   "cell_type": "code",
   "execution_count": 12,
   "id": "77f0efe9",
   "metadata": {
    "execution": {
     "iopub.execute_input": "2022-10-05T06:31:13.476223Z",
     "iopub.status.busy": "2022-10-05T06:31:13.475031Z",
     "iopub.status.idle": "2022-10-05T06:31:13.485141Z",
     "shell.execute_reply": "2022-10-05T06:31:13.483311Z"
    },
    "papermill": {
     "duration": 0.028468,
     "end_time": "2022-10-05T06:31:13.487888",
     "exception": false,
     "start_time": "2022-10-05T06:31:13.459420",
     "status": "completed"
    },
    "tags": []
   },
   "outputs": [
    {
     "name": "stdout",
     "output_type": "stream",
     "text": [
      "tensor(4.5680)\n",
      "4.567959785461426\n"
     ]
    }
   ],
   "source": [
    "agg = t5.sum()\n",
    "agg_item = agg.item()\n",
    "\n",
    "print(agg)\n",
    "print(agg_item)"
   ]
  },
  {
   "cell_type": "markdown",
   "id": "21d9ddc1",
   "metadata": {
    "papermill": {
     "duration": 0.014103,
     "end_time": "2022-10-05T06:31:13.516601",
     "exception": false,
     "start_time": "2022-10-05T06:31:13.502498",
     "status": "completed"
    },
    "tags": []
   },
   "source": [
    "In-place operations Operations that store the result into the operand are called in-place. They are denoted by a _ suffix. For example: x.copy_(y), x.t_(), will change x."
   ]
  },
  {
   "cell_type": "code",
   "execution_count": 13,
   "id": "89444a79",
   "metadata": {
    "execution": {
     "iopub.execute_input": "2022-10-05T06:31:13.547214Z",
     "iopub.status.busy": "2022-10-05T06:31:13.546818Z",
     "iopub.status.idle": "2022-10-05T06:31:13.554538Z",
     "shell.execute_reply": "2022-10-05T06:31:13.553404Z"
    },
    "papermill": {
     "duration": 0.02557,
     "end_time": "2022-10-05T06:31:13.556674",
     "exception": false,
     "start_time": "2022-10-05T06:31:13.531104",
     "status": "completed"
    },
    "tags": []
   },
   "outputs": [
    {
     "data": {
      "text/plain": [
       "tensor([[3.0075, 3.2513, 3.8101],\n",
       "        [3.7434, 3.8673, 3.2974],\n",
       "        [3.0528, 3.8739, 3.6644]])"
      ]
     },
     "execution_count": 13,
     "metadata": {},
     "output_type": "execute_result"
    }
   ],
   "source": [
    "t5.add_(3)\n",
    "t5"
   ]
  },
  {
   "cell_type": "code",
   "execution_count": 14,
   "id": "6b8ee5f9",
   "metadata": {
    "execution": {
     "iopub.execute_input": "2022-10-05T06:31:13.588933Z",
     "iopub.status.busy": "2022-10-05T06:31:13.587874Z",
     "iopub.status.idle": "2022-10-05T06:31:13.597440Z",
     "shell.execute_reply": "2022-10-05T06:31:13.596343Z"
    },
    "papermill": {
     "duration": 0.027408,
     "end_time": "2022-10-05T06:31:13.599614",
     "exception": false,
     "start_time": "2022-10-05T06:31:13.572206",
     "status": "completed"
    },
    "tags": []
   },
   "outputs": [
    {
     "data": {
      "text/plain": [
       "tensor([[6.0075, 6.2513, 6.8101],\n",
       "        [6.7434, 6.8673, 6.2974],\n",
       "        [6.0528, 6.8739, 6.6644]])"
      ]
     },
     "execution_count": 14,
     "metadata": {},
     "output_type": "execute_result"
    }
   ],
   "source": [
    "t7 = t5 + 3\n",
    "t7"
   ]
  },
  {
   "cell_type": "markdown",
   "id": "34283aed",
   "metadata": {
    "papermill": {
     "duration": 0.014425,
     "end_time": "2022-10-05T06:31:13.629093",
     "exception": false,
     "start_time": "2022-10-05T06:31:13.614668",
     "status": "completed"
    },
    "tags": []
   },
   "source": [
    "Tensors on the CPU and NumPy arrays can share their underlying memory locations, and changing one will change the other."
   ]
  },
  {
   "cell_type": "markdown",
   "id": "56f50db9",
   "metadata": {
    "papermill": {
     "duration": 0.014504,
     "end_time": "2022-10-05T06:31:13.658346",
     "exception": false,
     "start_time": "2022-10-05T06:31:13.643842",
     "status": "completed"
    },
    "tags": []
   },
   "source": [
    "# Datasets and Dataloaders"
   ]
  },
  {
   "cell_type": "markdown",
   "id": "edd3d959",
   "metadata": {
    "papermill": {
     "duration": 0.014543,
     "end_time": "2022-10-05T06:31:13.687801",
     "exception": false,
     "start_time": "2022-10-05T06:31:13.673258",
     "status": "completed"
    },
    "tags": []
   },
   "source": [
    "### Loading dataset"
   ]
  },
  {
   "cell_type": "code",
   "execution_count": 15,
   "id": "2aef946a",
   "metadata": {
    "execution": {
     "iopub.execute_input": "2022-10-05T06:31:13.720105Z",
     "iopub.status.busy": "2022-10-05T06:31:13.719674Z",
     "iopub.status.idle": "2022-10-05T06:31:13.982099Z",
     "shell.execute_reply": "2022-10-05T06:31:13.980977Z"
    },
    "papermill": {
     "duration": 0.281261,
     "end_time": "2022-10-05T06:31:13.984695",
     "exception": false,
     "start_time": "2022-10-05T06:31:13.703434",
     "status": "completed"
    },
    "tags": []
   },
   "outputs": [],
   "source": [
    "import torch\n",
    "from torch.utils.data import Dataset\n",
    "from torchvision import datasets\n",
    "from torchvision.transforms import ToTensor\n",
    "import matplotlib.pyplot as plt"
   ]
  },
  {
   "cell_type": "code",
   "execution_count": 16,
   "id": "8e28f756",
   "metadata": {
    "execution": {
     "iopub.execute_input": "2022-10-05T06:31:14.016354Z",
     "iopub.status.busy": "2022-10-05T06:31:14.015894Z",
     "iopub.status.idle": "2022-10-05T06:31:19.270543Z",
     "shell.execute_reply": "2022-10-05T06:31:19.269326Z"
    },
    "papermill": {
     "duration": 5.273506,
     "end_time": "2022-10-05T06:31:19.273153",
     "exception": false,
     "start_time": "2022-10-05T06:31:13.999647",
     "status": "completed"
    },
    "tags": []
   },
   "outputs": [
    {
     "name": "stdout",
     "output_type": "stream",
     "text": [
      "Downloading http://fashion-mnist.s3-website.eu-central-1.amazonaws.com/train-images-idx3-ubyte.gz\n",
      "Downloading http://fashion-mnist.s3-website.eu-central-1.amazonaws.com/train-images-idx3-ubyte.gz to data/FashionMNIST/raw/train-images-idx3-ubyte.gz\n"
     ]
    },
    {
     "data": {
      "application/vnd.jupyter.widget-view+json": {
       "model_id": "25804ad4de0c4102b3732ec1fb102721",
       "version_major": 2,
       "version_minor": 0
      },
      "text/plain": [
       "  0%|          | 0/26421880 [00:00<?, ?it/s]"
      ]
     },
     "metadata": {},
     "output_type": "display_data"
    },
    {
     "name": "stdout",
     "output_type": "stream",
     "text": [
      "Extracting data/FashionMNIST/raw/train-images-idx3-ubyte.gz to data/FashionMNIST/raw\n",
      "\n",
      "Downloading http://fashion-mnist.s3-website.eu-central-1.amazonaws.com/train-labels-idx1-ubyte.gz\n",
      "Downloading http://fashion-mnist.s3-website.eu-central-1.amazonaws.com/train-labels-idx1-ubyte.gz to data/FashionMNIST/raw/train-labels-idx1-ubyte.gz\n"
     ]
    },
    {
     "data": {
      "application/vnd.jupyter.widget-view+json": {
       "model_id": "583c680cce354b73bccc67ad8a391233",
       "version_major": 2,
       "version_minor": 0
      },
      "text/plain": [
       "  0%|          | 0/29515 [00:00<?, ?it/s]"
      ]
     },
     "metadata": {},
     "output_type": "display_data"
    },
    {
     "name": "stdout",
     "output_type": "stream",
     "text": [
      "Extracting data/FashionMNIST/raw/train-labels-idx1-ubyte.gz to data/FashionMNIST/raw\n",
      "\n",
      "Downloading http://fashion-mnist.s3-website.eu-central-1.amazonaws.com/t10k-images-idx3-ubyte.gz\n",
      "Downloading http://fashion-mnist.s3-website.eu-central-1.amazonaws.com/t10k-images-idx3-ubyte.gz to data/FashionMNIST/raw/t10k-images-idx3-ubyte.gz\n"
     ]
    },
    {
     "data": {
      "application/vnd.jupyter.widget-view+json": {
       "model_id": "e43fa1a14c8c423fa67435ea72ad0e02",
       "version_major": 2,
       "version_minor": 0
      },
      "text/plain": [
       "  0%|          | 0/4422102 [00:00<?, ?it/s]"
      ]
     },
     "metadata": {},
     "output_type": "display_data"
    },
    {
     "name": "stdout",
     "output_type": "stream",
     "text": [
      "Extracting data/FashionMNIST/raw/t10k-images-idx3-ubyte.gz to data/FashionMNIST/raw\n",
      "\n",
      "Downloading http://fashion-mnist.s3-website.eu-central-1.amazonaws.com/t10k-labels-idx1-ubyte.gz\n",
      "Downloading http://fashion-mnist.s3-website.eu-central-1.amazonaws.com/t10k-labels-idx1-ubyte.gz to data/FashionMNIST/raw/t10k-labels-idx1-ubyte.gz\n"
     ]
    },
    {
     "data": {
      "application/vnd.jupyter.widget-view+json": {
       "model_id": "aa4e93dd85864322886e24006f349056",
       "version_major": 2,
       "version_minor": 0
      },
      "text/plain": [
       "  0%|          | 0/5148 [00:00<?, ?it/s]"
      ]
     },
     "metadata": {},
     "output_type": "display_data"
    },
    {
     "name": "stdout",
     "output_type": "stream",
     "text": [
      "Extracting data/FashionMNIST/raw/t10k-labels-idx1-ubyte.gz to data/FashionMNIST/raw\n",
      "\n"
     ]
    }
   ],
   "source": [
    "training_data = datasets.FashionMNIST(\n",
    "    root = \"data\",\n",
    "    train = True,\n",
    "    download = True,\n",
    "    transform = ToTensor()\n",
    ")\n",
    "\n",
    "test_data = datasets.FashionMNIST(\n",
    "    root = \"data\",\n",
    "    train = False,\n",
    "    download = True,\n",
    "    transform = ToTensor()\n",
    ")"
   ]
  },
  {
   "cell_type": "markdown",
   "id": "784fceee",
   "metadata": {
    "papermill": {
     "duration": 0.016446,
     "end_time": "2022-10-05T06:31:19.306487",
     "exception": false,
     "start_time": "2022-10-05T06:31:19.290041",
     "status": "completed"
    },
    "tags": []
   },
   "source": [
    "### Visualizing dataset"
   ]
  },
  {
   "cell_type": "code",
   "execution_count": 17,
   "id": "9515aecf",
   "metadata": {
    "execution": {
     "iopub.execute_input": "2022-10-05T06:31:19.341438Z",
     "iopub.status.busy": "2022-10-05T06:31:19.340820Z",
     "iopub.status.idle": "2022-10-05T06:31:19.345404Z",
     "shell.execute_reply": "2022-10-05T06:31:19.344226Z"
    },
    "papermill": {
     "duration": 0.024757,
     "end_time": "2022-10-05T06:31:19.347642",
     "exception": false,
     "start_time": "2022-10-05T06:31:19.322885",
     "status": "completed"
    },
    "tags": []
   },
   "outputs": [],
   "source": [
    "import pandas as pd"
   ]
  },
  {
   "cell_type": "code",
   "execution_count": 18,
   "id": "d478a534",
   "metadata": {
    "execution": {
     "iopub.execute_input": "2022-10-05T06:31:19.382460Z",
     "iopub.status.busy": "2022-10-05T06:31:19.382014Z",
     "iopub.status.idle": "2022-10-05T06:31:19.386346Z",
     "shell.execute_reply": "2022-10-05T06:31:19.385169Z"
    },
    "papermill": {
     "duration": 0.024379,
     "end_time": "2022-10-05T06:31:19.388483",
     "exception": false,
     "start_time": "2022-10-05T06:31:19.364104",
     "status": "completed"
    },
    "tags": []
   },
   "outputs": [],
   "source": [
    "# for i, j in training_data:\n",
    "#     print(j)"
   ]
  },
  {
   "cell_type": "code",
   "execution_count": 19,
   "id": "9907e760",
   "metadata": {
    "execution": {
     "iopub.execute_input": "2022-10-05T06:31:19.422957Z",
     "iopub.status.busy": "2022-10-05T06:31:19.422530Z",
     "iopub.status.idle": "2022-10-05T06:31:19.920472Z",
     "shell.execute_reply": "2022-10-05T06:31:19.919357Z"
    },
    "papermill": {
     "duration": 0.518068,
     "end_time": "2022-10-05T06:31:19.922922",
     "exception": false,
     "start_time": "2022-10-05T06:31:19.404854",
     "status": "completed"
    },
    "tags": []
   },
   "outputs": [
    {
     "data": {
      "image/png": "[encoded data removed]",
      "text/plain": [
       "<Figure size 720x720 with 9 Axes>"
      ]
     },
     "metadata": {
      "needs_background": "light"
     },
     "output_type": "display_data"
    }
   ],
   "source": [
    "labels_map = {0: \"T-Shirt\",\n",
    "    1: \"Trouser\",\n",
    "    2: \"Pullover\",\n",
    "    3: \"Dress\",\n",
    "    4: \"Coat\",\n",
    "    5: \"Sandal\",\n",
    "    6: \"Shirt\",\n",
    "    7: \"Sneaker\",\n",
    "    8: \"Bag\",\n",
    "    9: \"Ankle Boot\",}\n",
    "\n",
    "figure = plt.figure(figsize = (10,10))\n",
    "cols ,rows = 3, 3\n",
    "\n",
    "for i in range (1, rows*cols+1):\n",
    "    sample_idx = torch.randint(len(training_data), size=(1,)).item()\n",
    "    img, label = training_data[sample_idx]\n",
    "    figure.add_subplot(rows, cols, i)\n",
    "    plt.title(labels_map[label])\n",
    "    plt.axis(\"off\")\n",
    "    plt.imshow(img.squeeze(), cmap=\"gray\")\n",
    "plt.show()"
   ]
  },
  {
   "cell_type": "markdown",
   "id": "ccb9b4fe",
   "metadata": {
    "papermill": {
     "duration": 0.016451,
     "end_time": "2022-10-05T06:31:19.956528",
     "exception": false,
     "start_time": "2022-10-05T06:31:19.940077",
     "status": "completed"
    },
    "tags": []
   },
   "source": [
    "Custom dataset"
   ]
  },
  {
   "cell_type": "code",
   "execution_count": 20,
   "id": "89649c91",
   "metadata": {
    "execution": {
     "iopub.execute_input": "2022-10-05T06:31:19.992592Z",
     "iopub.status.busy": "2022-10-05T06:31:19.991469Z",
     "iopub.status.idle": "2022-10-05T06:31:20.000569Z",
     "shell.execute_reply": "2022-10-05T06:31:19.999814Z"
    },
    "papermill": {
     "duration": 0.029497,
     "end_time": "2022-10-05T06:31:20.002809",
     "exception": false,
     "start_time": "2022-10-05T06:31:19.973312",
     "status": "completed"
    },
    "tags": []
   },
   "outputs": [],
   "source": [
    "import os\n",
    "import pandas as pd\n",
    "from torchvision.io import read_image\n",
    "\n",
    "class CustomImageDataset(Dataset):\n",
    "    def __init__(self, annotations_file, img_dir, transform=None, target_transform=None):\n",
    "        self.img_labels = pd.read_csv(annotations_file)\n",
    "        self.img_dir = img_dir\n",
    "        self.transform = transform\n",
    "        self.target_transform = target_transform\n",
    "\n",
    "    def __len__(self):\n",
    "        return len(self.img_labels)\n",
    "\n",
    "    def __getitem__(self, idx):\n",
    "        img_path = os.path.join(self.img_dir, self.img_labels.iloc[idx, 0])\n",
    "        image = read_image(img_path)\n",
    "        label = self.img_labels.iloc[idx, 1]\n",
    "        if self.transform:\n",
    "            image = self.transform(image)\n",
    "        if self.target_transform:\n",
    "            label = self.target_transform(label)\n",
    "        return image, label"
   ]
  },
  {
   "cell_type": "markdown",
   "id": "c67d80c9",
   "metadata": {
    "papermill": {
     "duration": 0.016429,
     "end_time": "2022-10-05T06:31:20.036031",
     "exception": false,
     "start_time": "2022-10-05T06:31:20.019602",
     "status": "completed"
    },
    "tags": []
   },
   "source": [
    "Preparing your data for training with DataLoaders"
   ]
  },
  {
   "cell_type": "code",
   "execution_count": 21,
   "id": "8720b6a9",
   "metadata": {
    "execution": {
     "iopub.execute_input": "2022-10-05T06:31:20.071170Z",
     "iopub.status.busy": "2022-10-05T06:31:20.070769Z",
     "iopub.status.idle": "2022-10-05T06:31:20.076341Z",
     "shell.execute_reply": "2022-10-05T06:31:20.075131Z"
    },
    "papermill": {
     "duration": 0.026266,
     "end_time": "2022-10-05T06:31:20.078975",
     "exception": false,
     "start_time": "2022-10-05T06:31:20.052709",
     "status": "completed"
    },
    "tags": []
   },
   "outputs": [],
   "source": [
    "from torch.utils.data import DataLoader\n",
    "\n",
    "train_dataloader = DataLoader(training_data, batch_size=64, shuffle=True)\n",
    "test_dataloader = DataLoader(test_data, batch_size=64, shuffle=True)"
   ]
  },
  {
   "cell_type": "markdown",
   "id": "c086abaa",
   "metadata": {
    "papermill": {
     "duration": 0.016629,
     "end_time": "2022-10-05T06:31:20.112634",
     "exception": false,
     "start_time": "2022-10-05T06:31:20.096005",
     "status": "completed"
    },
    "tags": []
   },
   "source": [
    "Iterate through dataset"
   ]
  },
  {
   "cell_type": "code",
   "execution_count": 22,
   "id": "9f9653bb",
   "metadata": {
    "execution": {
     "iopub.execute_input": "2022-10-05T06:31:20.148727Z",
     "iopub.status.busy": "2022-10-05T06:31:20.147968Z",
     "iopub.status.idle": "2022-10-05T06:31:20.351863Z",
     "shell.execute_reply": "2022-10-05T06:31:20.349996Z"
    },
    "papermill": {
     "duration": 0.224909,
     "end_time": "2022-10-05T06:31:20.354482",
     "exception": false,
     "start_time": "2022-10-05T06:31:20.129573",
     "status": "completed"
    },
    "tags": []
   },
   "outputs": [
    {
     "name": "stdout",
     "output_type": "stream",
     "text": [
      "Feature batch shape: torch.Size([64, 1, 28, 28])\n",
      "Labels batch shape: torch.Size([64])\n"
     ]
    },
    {
     "data": {
      "image/png": "[encoded data removed]",
      "text/plain": [
       "<Figure size 432x288 with 1 Axes>"
      ]
     },
     "metadata": {
      "needs_background": "light"
     },
     "output_type": "display_data"
    },
    {
     "name": "stdout",
     "output_type": "stream",
     "text": [
      "Label: 1\n"
     ]
    }
   ],
   "source": [
    "train_features, train_labels = next(iter(train_dataloader))\n",
    "print(f\"Feature batch shape: {train_features.size()}\")\n",
    "print(f\"Labels batch shape: {train_labels.size()}\")\n",
    "img = train_features[0].squeeze()\n",
    "label = train_labels[0]\n",
    "plt.imshow(img, cmap=\"gray\")\n",
    "plt.show()\n",
    "print(f\"Label: {label}\")"
   ]
  },
  {
   "cell_type": "markdown",
   "id": "e89516b8",
   "metadata": {
    "papermill": {
     "duration": 0.016947,
     "end_time": "2022-10-05T06:31:20.388918",
     "exception": false,
     "start_time": "2022-10-05T06:31:20.371971",
     "status": "completed"
    },
    "tags": []
   },
   "source": [
    "#### For further reading - https://pytorch.org/docs/stable/data.html"
   ]
  },
  {
   "cell_type": "markdown",
   "id": "d9537394",
   "metadata": {
    "papermill": {
     "duration": 0.016857,
     "end_time": "2022-10-05T06:31:20.423209",
     "exception": false,
     "start_time": "2022-10-05T06:31:20.406352",
     "status": "completed"
    },
    "tags": []
   },
   "source": [
    "# Transform for data manipulation"
   ]
  },
  {
   "cell_type": "markdown",
   "id": "26eb3ca4",
   "metadata": {
    "papermill": {
     "duration": 0.016677,
     "end_time": "2022-10-05T06:31:20.457509",
     "exception": false,
     "start_time": "2022-10-05T06:31:20.440832",
     "status": "completed"
    },
    "tags": []
   },
   "source": [
    "All TorchVision datasets have two parameters -transform to modify the features and target_transform to modify the labels - that accept callables containing the transformation logic. "
   ]
  },
  {
   "cell_type": "code",
   "execution_count": 23,
   "id": "37b45dbf",
   "metadata": {
    "execution": {
     "iopub.execute_input": "2022-10-05T06:31:20.493706Z",
     "iopub.status.busy": "2022-10-05T06:31:20.493291Z",
     "iopub.status.idle": "2022-10-05T06:31:20.498135Z",
     "shell.execute_reply": "2022-10-05T06:31:20.497096Z"
    },
    "papermill": {
     "duration": 0.025429,
     "end_time": "2022-10-05T06:31:20.500217",
     "exception": false,
     "start_time": "2022-10-05T06:31:20.474788",
     "status": "completed"
    },
    "tags": []
   },
   "outputs": [],
   "source": [
    "import torch \n",
    "from torchvision import datasets\n",
    "from torchvision.transforms import ToTensor, Lambda"
   ]
  },
  {
   "cell_type": "code",
   "execution_count": 24,
   "id": "47e4069e",
   "metadata": {
    "execution": {
     "iopub.execute_input": "2022-10-05T06:31:20.536954Z",
     "iopub.status.busy": "2022-10-05T06:31:20.536527Z",
     "iopub.status.idle": "2022-10-05T06:31:20.626299Z",
     "shell.execute_reply": "2022-10-05T06:31:20.625133Z"
    },
    "papermill": {
     "duration": 0.110924,
     "end_time": "2022-10-05T06:31:20.628613",
     "exception": false,
     "start_time": "2022-10-05T06:31:20.517689",
     "status": "completed"
    },
    "tags": []
   },
   "outputs": [
    {
     "data": {
      "text/plain": [
       "Dataset FashionMNIST\n",
       "    Number of datapoints: 60000\n",
       "    Root location: data\n",
       "    Split: Train\n",
       "    StandardTransform\n",
       "Transform: ToTensor()\n",
       "Target transform: Lambda()"
      ]
     },
     "execution_count": 24,
     "metadata": {},
     "output_type": "execute_result"
    }
   ],
   "source": [
    "ds = datasets.FashionMNIST(\n",
    "    root=\"data\",\n",
    "    train=True,\n",
    "    download=True,\n",
    "    transform=ToTensor(),\n",
    "    target_transform=Lambda(lambda y: torch.zeros(10, dtype=torch.float).scatter_(0, torch.tensor(y), value=1))\n",
    ")\n",
    "\n",
    "ds"
   ]
  },
  {
   "cell_type": "markdown",
   "id": "0353bd78",
   "metadata": {
    "papermill": {
     "duration": 0.01793,
     "end_time": "2022-10-05T06:31:20.665814",
     "exception": false,
     "start_time": "2022-10-05T06:31:20.647884",
     "status": "completed"
    },
    "tags": []
   },
   "source": [
    "ToTensor converts a PIL image or NumPy ndarray into a FloatTensor. and scales the image’s pixel intensity values in the range [0., 1.], \n",
    "\n",
    "Lambda transforms apply any user-defined lambda function. Here, we define a function to turn the integer into a one-hot encoded tensor. It first creates a zero tensor of size 10 (the number of labels in our dataset) and calls scatter_ which assigns a value=1 on the index as given by the label y.\n"
   ]
  },
  {
   "cell_type": "markdown",
   "id": "e200373c",
   "metadata": {
    "papermill": {
     "duration": 0.017741,
     "end_time": "2022-10-05T06:31:20.701413",
     "exception": false,
     "start_time": "2022-10-05T06:31:20.683672",
     "status": "completed"
    },
    "tags": []
   },
   "source": [
    "#### For further info - https://pytorch.org/vision/stable/transforms.html"
   ]
  },
  {
   "cell_type": "markdown",
   "id": "12c20a07",
   "metadata": {
    "papermill": {
     "duration": 0.01713,
     "end_time": "2022-10-05T06:31:20.736907",
     "exception": false,
     "start_time": "2022-10-05T06:31:20.719777",
     "status": "completed"
    },
    "tags": []
   },
   "source": [
    "# Building a simple Neural Network"
   ]
  },
  {
   "cell_type": "code",
   "execution_count": 25,
   "id": "2c2b7041",
   "metadata": {
    "execution": {
     "iopub.execute_input": "2022-10-05T06:31:20.773696Z",
     "iopub.status.busy": "2022-10-05T06:31:20.773272Z",
     "iopub.status.idle": "2022-10-05T06:31:20.778503Z",
     "shell.execute_reply": "2022-10-05T06:31:20.777628Z"
    },
    "papermill": {
     "duration": 0.026452,
     "end_time": "2022-10-05T06:31:20.780873",
     "exception": false,
     "start_time": "2022-10-05T06:31:20.754421",
     "status": "completed"
    },
    "tags": []
   },
   "outputs": [],
   "source": [
    "import os\n",
    "import torch\n",
    "from torch import nn\n",
    "from torch.utils.data import DataLoader\n",
    "from torchvision import datasets, transforms"
   ]
  },
  {
   "cell_type": "code",
   "execution_count": 26,
   "id": "7f64bd8b",
   "metadata": {
    "execution": {
     "iopub.execute_input": "2022-10-05T06:31:20.818720Z",
     "iopub.status.busy": "2022-10-05T06:31:20.817581Z",
     "iopub.status.idle": "2022-10-05T06:31:20.823842Z",
     "shell.execute_reply": "2022-10-05T06:31:20.822452Z"
    },
    "papermill": {
     "duration": 0.027993,
     "end_time": "2022-10-05T06:31:20.826428",
     "exception": false,
     "start_time": "2022-10-05T06:31:20.798435",
     "status": "completed"
    },
    "tags": []
   },
   "outputs": [
    {
     "name": "stdout",
     "output_type": "stream",
     "text": [
      "Using cpu device\n"
     ]
    }
   ],
   "source": [
    "device = \"cuda\" if torch.cuda.is_available() else \"cpu\"\n",
    "print(f\"Using {device} device\")"
   ]
  },
  {
   "cell_type": "code",
   "execution_count": 27,
   "id": "8f9e3231",
   "metadata": {
    "execution": {
     "iopub.execute_input": "2022-10-05T06:31:20.864505Z",
     "iopub.status.busy": "2022-10-05T06:31:20.863489Z",
     "iopub.status.idle": "2022-10-05T06:31:20.871222Z",
     "shell.execute_reply": "2022-10-05T06:31:20.870279Z"
    },
    "papermill": {
     "duration": 0.028561,
     "end_time": "2022-10-05T06:31:20.873476",
     "exception": false,
     "start_time": "2022-10-05T06:31:20.844915",
     "status": "completed"
    },
    "tags": []
   },
   "outputs": [],
   "source": [
    "class NeuralNetwork(nn.Module):\n",
    "    def __init__(self):\n",
    "        super(NeuralNetwork, self).__init__()\n",
    "        self.flatten = nn.Flatten()\n",
    "        self.linear_relu_stack = nn.Sequential(\n",
    "            nn.Linear(28*28, 512),\n",
    "            nn.ReLU(),\n",
    "            nn.Linear(512, 512),\n",
    "            nn.ReLU(),\n",
    "            nn.Linear(512, 10),\n",
    "        )\n",
    "        \n",
    "    def forward(self, x):\n",
    "        x = self.flatten(x)\n",
    "        logits = self.linear_relu_stack(x)\n",
    "        return logits"
   ]
  },
  {
   "cell_type": "code",
   "execution_count": 28,
   "id": "46781af8",
   "metadata": {
    "execution": {
     "iopub.execute_input": "2022-10-05T06:31:20.910930Z",
     "iopub.status.busy": "2022-10-05T06:31:20.910518Z",
     "iopub.status.idle": "2022-10-05T06:31:20.923297Z",
     "shell.execute_reply": "2022-10-05T06:31:20.921750Z"
    },
    "papermill": {
     "duration": 0.034398,
     "end_time": "2022-10-05T06:31:20.925527",
     "exception": false,
     "start_time": "2022-10-05T06:31:20.891129",
     "status": "completed"
    },
    "tags": []
   },
   "outputs": [
    {
     "name": "stdout",
     "output_type": "stream",
     "text": [
      "NeuralNetwork(\n",
      "  (flatten): Flatten(start_dim=1, end_dim=-1)\n",
      "  (linear_relu_stack): Sequential(\n",
      "    (0): Linear(in_features=784, out_features=512, bias=True)\n",
      "    (1): ReLU()\n",
      "    (2): Linear(in_features=512, out_features=512, bias=True)\n",
      "    (3): ReLU()\n",
      "    (4): Linear(in_features=512, out_features=10, bias=True)\n",
      "  )\n",
      ")\n"
     ]
    }
   ],
   "source": [
    "model = NeuralNetwork().to(device)\n",
    "print(model)"
   ]
  },
  {
   "cell_type": "code",
   "execution_count": 29,
   "id": "bf0c3b0c",
   "metadata": {
    "execution": {
     "iopub.execute_input": "2022-10-05T06:31:20.962579Z",
     "iopub.status.busy": "2022-10-05T06:31:20.962169Z",
     "iopub.status.idle": "2022-10-05T06:31:20.985258Z",
     "shell.execute_reply": "2022-10-05T06:31:20.983693Z"
    },
    "papermill": {
     "duration": 0.044328,
     "end_time": "2022-10-05T06:31:20.987674",
     "exception": false,
     "start_time": "2022-10-05T06:31:20.943346",
     "status": "completed"
    },
    "tags": []
   },
   "outputs": [
    {
     "name": "stdout",
     "output_type": "stream",
     "text": [
      "Predicted class: tensor([7])\n"
     ]
    }
   ],
   "source": [
    "X = torch.rand(1, 28, 28, device=device)\n",
    "logits = model(X)\n",
    "pred_probab = nn.Softmax(dim=1)(logits)\n",
    "y_pred = pred_probab.argmax(1)\n",
    "print(f\"Predicted class: {y_pred}\")"
   ]
  },
  {
   "cell_type": "markdown",
   "id": "00ee4977",
   "metadata": {
    "papermill": {
     "duration": 0.017466,
     "end_time": "2022-10-05T06:31:21.023885",
     "exception": false,
     "start_time": "2022-10-05T06:31:21.006419",
     "status": "completed"
    },
    "tags": []
   },
   "source": [
    "## Backpropagation"
   ]
  },
  {
   "cell_type": "markdown",
   "id": "511faf84",
   "metadata": {
    "papermill": {
     "duration": 0.017354,
     "end_time": "2022-10-05T06:31:21.058937",
     "exception": false,
     "start_time": "2022-10-05T06:31:21.041583",
     "status": "completed"
    },
    "tags": []
   },
   "source": [
    "Here the different matrices are - x input , w weight, b bias and y output\n",
    "\n",
    "Since w and b are the one who need to be optimized, they have requires_grad = True\n",
    "\n",
    "Loss function used here is Cross entropy"
   ]
  },
  {
   "cell_type": "code",
   "execution_count": 30,
   "id": "5fef9bfc",
   "metadata": {
    "execution": {
     "iopub.execute_input": "2022-10-05T06:31:21.097336Z",
     "iopub.status.busy": "2022-10-05T06:31:21.096929Z",
     "iopub.status.idle": "2022-10-05T06:31:21.117496Z",
     "shell.execute_reply": "2022-10-05T06:31:21.116394Z"
    },
    "papermill": {
     "duration": 0.042876,
     "end_time": "2022-10-05T06:31:21.120011",
     "exception": false,
     "start_time": "2022-10-05T06:31:21.077135",
     "status": "completed"
    },
    "tags": []
   },
   "outputs": [
    {
     "data": {
      "text/plain": [
       "tensor(0.5663, grad_fn=<BinaryCrossEntropyWithLogitsBackward0>)"
      ]
     },
     "execution_count": 30,
     "metadata": {},
     "output_type": "execute_result"
    }
   ],
   "source": [
    "x = torch.ones(5)  # input tensor\n",
    "y = torch.zeros(3)  # expected output\n",
    "w = torch.randn(5, 3, requires_grad=True)\n",
    "b = torch.randn(3, requires_grad=True)\n",
    "z = torch.matmul(x, w)+b\n",
    "loss = torch.nn.functional.binary_cross_entropy_with_logits(z, y)\n",
    "loss"
   ]
  },
  {
   "cell_type": "markdown",
   "id": "1f771388",
   "metadata": {
    "papermill": {
     "duration": 0.017551,
     "end_time": "2022-10-05T06:31:21.155478",
     "exception": false,
     "start_time": "2022-10-05T06:31:21.137927",
     "status": "completed"
    },
    "tags": []
   },
   "source": [
    "A function that we apply to tensors to construct computational graph is in fact an object of class Function. This object knows how to compute the function in the forward direction, and also how to compute its derivative during the backward propagation step. A reference to the backward propagation function is stored in grad_fn property of a tensor. You can find more information of Function in the documentation - https://pytorch.org/docs/stable/autograd.html#function"
   ]
  },
  {
   "cell_type": "code",
   "execution_count": 31,
   "id": "d4a311cc",
   "metadata": {
    "execution": {
     "iopub.execute_input": "2022-10-05T06:31:21.192638Z",
     "iopub.status.busy": "2022-10-05T06:31:21.192265Z",
     "iopub.status.idle": "2022-10-05T06:31:21.197714Z",
     "shell.execute_reply": "2022-10-05T06:31:21.196670Z"
    },
    "papermill": {
     "duration": 0.027328,
     "end_time": "2022-10-05T06:31:21.200342",
     "exception": false,
     "start_time": "2022-10-05T06:31:21.173014",
     "status": "completed"
    },
    "tags": []
   },
   "outputs": [
    {
     "name": "stdout",
     "output_type": "stream",
     "text": [
      "Gradient function for z = <AddBackward0 object at 0x7f2b212ce610>\n",
      "Gradient function for loss = <BinaryCrossEntropyWithLogitsBackward0 object at 0x7f2b212ce910>\n"
     ]
    }
   ],
   "source": [
    "print(f\"Gradient function for z = {z.grad_fn}\")\n",
    "print(f\"Gradient function for loss = {loss.grad_fn}\")"
   ]
  },
  {
   "cell_type": "markdown",
   "id": "9e51e8fa",
   "metadata": {
    "papermill": {
     "duration": 0.01745,
     "end_time": "2022-10-05T06:31:21.235814",
     "exception": false,
     "start_time": "2022-10-05T06:31:21.218364",
     "status": "completed"
    },
    "tags": []
   },
   "source": [
    "Computing gradients"
   ]
  },
  {
   "cell_type": "code",
   "execution_count": 32,
   "id": "0289e85f",
   "metadata": {
    "execution": {
     "iopub.execute_input": "2022-10-05T06:31:21.273014Z",
     "iopub.status.busy": "2022-10-05T06:31:21.272576Z",
     "iopub.status.idle": "2022-10-05T06:31:21.291012Z",
     "shell.execute_reply": "2022-10-05T06:31:21.288796Z"
    },
    "papermill": {
     "duration": 0.039918,
     "end_time": "2022-10-05T06:31:21.293493",
     "exception": false,
     "start_time": "2022-10-05T06:31:21.253575",
     "status": "completed"
    },
    "tags": []
   },
   "outputs": [
    {
     "name": "stdout",
     "output_type": "stream",
     "text": [
      "tensor([[0.2113, 0.0761, 0.1176],\n",
      "        [0.2113, 0.0761, 0.1176],\n",
      "        [0.2113, 0.0761, 0.1176],\n",
      "        [0.2113, 0.0761, 0.1176],\n",
      "        [0.2113, 0.0761, 0.1176]])\n",
      "tensor([0.2113, 0.0761, 0.1176])\n"
     ]
    }
   ],
   "source": [
    "loss.backward()\n",
    "print(w.grad)\n",
    "print(b.grad)"
   ]
  },
  {
   "cell_type": "markdown",
   "id": "f78eeb01",
   "metadata": {
    "papermill": {
     "duration": 0.017824,
     "end_time": "2022-10-05T06:31:21.329312",
     "exception": false,
     "start_time": "2022-10-05T06:31:21.311488",
     "status": "completed"
    },
    "tags": []
   },
   "source": [
    "We can only perform gradient calculations using backward once on a given graph, for performance reasons. If we need to do several backward calls on the same graph, we need to pass retain_graph=True to the backward call."
   ]
  },
  {
   "cell_type": "markdown",
   "id": "eb33bc54",
   "metadata": {
    "papermill": {
     "duration": 0.017468,
     "end_time": "2022-10-05T06:31:21.364729",
     "exception": false,
     "start_time": "2022-10-05T06:31:21.347261",
     "status": "completed"
    },
    "tags": []
   },
   "source": [
    "Disabling gradient tracking with no_grad() and detach()"
   ]
  },
  {
   "cell_type": "code",
   "execution_count": 33,
   "id": "ac61f8fa",
   "metadata": {
    "execution": {
     "iopub.execute_input": "2022-10-05T06:31:21.402937Z",
     "iopub.status.busy": "2022-10-05T06:31:21.401711Z",
     "iopub.status.idle": "2022-10-05T06:31:21.409861Z",
     "shell.execute_reply": "2022-10-05T06:31:21.408180Z"
    },
    "papermill": {
     "duration": 0.029561,
     "end_time": "2022-10-05T06:31:21.412122",
     "exception": false,
     "start_time": "2022-10-05T06:31:21.382561",
     "status": "completed"
    },
    "tags": []
   },
   "outputs": [
    {
     "name": "stdout",
     "output_type": "stream",
     "text": [
      "True\n",
      "False\n",
      "False\n"
     ]
    }
   ],
   "source": [
    "z = torch.matmul(x, w)+b\n",
    "print(z.requires_grad)\n",
    "\n",
    "with torch.no_grad():\n",
    "    z = torch.matmul(x, w)+b\n",
    "print(z.requires_grad)\n",
    "\n",
    "z = torch.matmul(x, w)+b\n",
    "z_det = z.detach()\n",
    "print(z_det.requires_grad)"
   ]
  },
  {
   "cell_type": "markdown",
   "id": "0593b183",
   "metadata": {
    "papermill": {
     "duration": 0.017789,
     "end_time": "2022-10-05T06:31:21.447813",
     "exception": false,
     "start_time": "2022-10-05T06:31:21.430024",
     "status": "completed"
    },
    "tags": []
   },
   "source": [
    "There are reasons you might want to disable gradient tracking:\n",
    "\n",
    "* To mark some parameters in your neural network as frozen parameters. This is a very common scenario for finetuning a pretrained network\n",
    "\n",
    "* To speed up computations when you are only doing forward pass, because computations on tensors that do not track gradients would be more efficient.\n",
    "\n"
   ]
  },
  {
   "cell_type": "markdown",
   "id": "cd1b1885",
   "metadata": {
    "papermill": {
     "duration": 0.01784,
     "end_time": "2022-10-05T06:31:21.483540",
     "exception": false,
     "start_time": "2022-10-05T06:31:21.465700",
     "status": "completed"
    },
    "tags": []
   },
   "source": [
    "In many cases, we have a scalar loss function, and we need to compute the gradient with respect to some parameters. However, there are cases when the output function is an arbitrary tensor. In this case, PyTorch allows you to compute so-called Jacobian product, and not the actual gradient."
   ]
  },
  {
   "cell_type": "code",
   "execution_count": 34,
   "id": "d18f9cc8",
   "metadata": {
    "execution": {
     "iopub.execute_input": "2022-10-05T06:31:21.522516Z",
     "iopub.status.busy": "2022-10-05T06:31:21.521830Z",
     "iopub.status.idle": "2022-10-05T06:31:21.534730Z",
     "shell.execute_reply": "2022-10-05T06:31:21.533151Z"
    },
    "papermill": {
     "duration": 0.035405,
     "end_time": "2022-10-05T06:31:21.537558",
     "exception": false,
     "start_time": "2022-10-05T06:31:21.502153",
     "status": "completed"
    },
    "tags": []
   },
   "outputs": [
    {
     "name": "stdout",
     "output_type": "stream",
     "text": [
      "First call\n",
      "tensor([[4., 2., 2., 2., 2.],\n",
      "        [2., 4., 2., 2., 2.],\n",
      "        [2., 2., 4., 2., 2.],\n",
      "        [2., 2., 2., 4., 2.],\n",
      "        [2., 2., 2., 2., 4.]])\n",
      "\n",
      "Second call\n",
      "tensor([[8., 4., 4., 4., 4.],\n",
      "        [4., 8., 4., 4., 4.],\n",
      "        [4., 4., 8., 4., 4.],\n",
      "        [4., 4., 4., 8., 4.],\n",
      "        [4., 4., 4., 4., 8.]])\n",
      "\n",
      "Call after zeroing gradients\n",
      "tensor([[4., 2., 2., 2., 2.],\n",
      "        [2., 4., 2., 2., 2.],\n",
      "        [2., 2., 4., 2., 2.],\n",
      "        [2., 2., 2., 4., 2.],\n",
      "        [2., 2., 2., 2., 4.]])\n"
     ]
    }
   ],
   "source": [
    "inp = torch.eye(5, requires_grad=True)\n",
    "out = (inp+1).pow(2)\n",
    "out.backward(torch.ones_like(inp), retain_graph=True)\n",
    "print(f\"First call\\n{inp.grad}\")\n",
    "out.backward(torch.ones_like(inp), retain_graph=True)\n",
    "print(f\"\\nSecond call\\n{inp.grad}\")\n",
    "inp.grad.zero_()\n",
    "out.backward(torch.ones_like(inp), retain_graph=True)\n",
    "print(f\"\\nCall after zeroing gradients\\n{inp.grad}\")"
   ]
  },
  {
   "cell_type": "markdown",
   "id": "02e05d64",
   "metadata": {
    "papermill": {
     "duration": 0.017585,
     "end_time": "2022-10-05T06:31:21.573944",
     "exception": false,
     "start_time": "2022-10-05T06:31:21.556359",
     "status": "completed"
    },
    "tags": []
   },
   "source": [
    "### Optimzing model parameters"
   ]
  },
  {
   "cell_type": "code",
   "execution_count": 35,
   "id": "d4077ab2",
   "metadata": {
    "execution": {
     "iopub.execute_input": "2022-10-05T06:31:21.611230Z",
     "iopub.status.busy": "2022-10-05T06:31:21.610835Z",
     "iopub.status.idle": "2022-10-05T06:31:21.616196Z",
     "shell.execute_reply": "2022-10-05T06:31:21.615072Z"
    },
    "papermill": {
     "duration": 0.026647,
     "end_time": "2022-10-05T06:31:21.618417",
     "exception": false,
     "start_time": "2022-10-05T06:31:21.591770",
     "status": "completed"
    },
    "tags": []
   },
   "outputs": [],
   "source": [
    "learning_rate = 1e-3\n",
    "batch_size = 64\n",
    "epochs = 5"
   ]
  },
  {
   "cell_type": "markdown",
   "id": "76bb6930",
   "metadata": {
    "papermill": {
     "duration": 0.017966,
     "end_time": "2022-10-05T06:31:21.654539",
     "exception": false,
     "start_time": "2022-10-05T06:31:21.636573",
     "status": "completed"
    },
    "tags": []
   },
   "source": [
    "Loss function\n",
    "\n",
    "Common loss functions include nn.MSELoss (Mean Square Error) for regression tasks, and nn.NLLLoss (Negative Log Likelihood) for classification. nn.CrossEntropyLoss combines nn.LogSoftmax and nn.NLLLoss.\n"
   ]
  },
  {
   "cell_type": "code",
   "execution_count": 36,
   "id": "f3b64805",
   "metadata": {
    "execution": {
     "iopub.execute_input": "2022-10-05T06:31:21.692438Z",
     "iopub.status.busy": "2022-10-05T06:31:21.692030Z",
     "iopub.status.idle": "2022-10-05T06:31:21.697283Z",
     "shell.execute_reply": "2022-10-05T06:31:21.696171Z"
    },
    "papermill": {
     "duration": 0.026878,
     "end_time": "2022-10-05T06:31:21.699338",
     "exception": false,
     "start_time": "2022-10-05T06:31:21.672460",
     "status": "completed"
    },
    "tags": []
   },
   "outputs": [],
   "source": [
    "loss_fn = nn.CrossEntropyLoss()"
   ]
  },
  {
   "cell_type": "markdown",
   "id": "3753c1bc",
   "metadata": {
    "papermill": {
     "duration": 0.018029,
     "end_time": "2022-10-05T06:31:21.735808",
     "exception": false,
     "start_time": "2022-10-05T06:31:21.717779",
     "status": "completed"
    },
    "tags": []
   },
   "source": [
    "Optimizer\n",
    "\n",
    "PyTorch suppoort all commonly used optimizersa like ADAM and RMSProp, we are using Stochastic Gradient Descent here"
   ]
  },
  {
   "cell_type": "code",
   "execution_count": 37,
   "id": "9617cc0f",
   "metadata": {
    "execution": {
     "iopub.execute_input": "2022-10-05T06:31:21.773457Z",
     "iopub.status.busy": "2022-10-05T06:31:21.773009Z",
     "iopub.status.idle": "2022-10-05T06:31:21.778004Z",
     "shell.execute_reply": "2022-10-05T06:31:21.777036Z"
    },
    "papermill": {
     "duration": 0.026694,
     "end_time": "2022-10-05T06:31:21.780372",
     "exception": false,
     "start_time": "2022-10-05T06:31:21.753678",
     "status": "completed"
    },
    "tags": []
   },
   "outputs": [],
   "source": [
    "optimizer = torch.optim.SGD(model.parameters(), lr=learning_rate)"
   ]
  },
  {
   "cell_type": "code",
   "execution_count": null,
   "id": "d3b269eb",
   "metadata": {
    "papermill": {
     "duration": 0.017901,
     "end_time": "2022-10-05T06:31:21.816863",
     "exception": false,
     "start_time": "2022-10-05T06:31:21.798962",
     "status": "completed"
    },
    "tags": []
   },
   "outputs": [],
   "source": []
  }
 ],
 "metadata": {
  "kernelspec": {
   "display_name": "Python 3",
   "language": "python",
   "name": "python3"
  },
  "language_info": {
   "codemirror_mode": {
    "name": "ipython",
    "version": 3
   },
   "file_extension": ".py",
   "mimetype": "text/x-python",
   "name": "python",
   "nbconvert_exporter": "python",
   "pygments_lexer": "ipython3",
   "version": "3.7.12"
  },
  "papermill": {
   "default_parameters": {},
   "duration": 20.742533,
   "end_time": "2022-10-05T06:31:22.657487",
   "environment_variables": {},
   "exception": null,
   "input_path": "__notebook__.ipynb",
   "output_path": "__notebook__.ipynb",
   "parameters": {},
   "start_time": "2022-10-05T06:31:01.914954",
   "version": "2.3.4"
  },
  "widgets": {
   "application/vnd.jupyter.widget-state+json": {
    "state": {
     "051e21f9605b46ac9bc08f571f0cd8a6": {
      "model_module": "@jupyter-widgets/controls",
      "model_module_version": "1.5.0",
      "model_name": "HTMLModel",
      "state": {
       "_dom_classes": [],
       "_model_module": "@jupyter-widgets/controls",
       "_model_module_version": "1.5.0",
       "_model_name": "HTMLModel",
       "_view_count": null,
       "_view_module": "@jupyter-widgets/controls",
       "_view_module_version": "1.5.0",
       "_view_name": "HTMLView",
       "description": "",
       "description_tooltip": null,
       "layout": "IPY_MODEL_f7b248843a6246b88661efd7d939aaa9",
       "placeholder": "​",
       "style": "IPY_MODEL_2ca065877f5e4100af1aa572368980c4",
       "value": " 4422656/? [00:00&lt;00:00, 8621337.45it/s]"
      }
     },
     "0f9abfddefc34f7eb70e3502e693ac0b": {
      "model_module": "@jupyter-widgets/controls",
      "model_module_version": "1.5.0",
      "model_name": "HTMLModel",
      "state": {
       "_dom_classes": [],
       "_model_module": "@jupyter-widgets/controls",
       "_model_module_version": "1.5.0",
       "_model_name": "HTMLModel",
       "_view_count": null,
       "_view_module": "@jupyter-widgets/controls",
       "_view_module_version": "1.5.0",
       "_view_name": "HTMLView",
       "description": "",
       "description_tooltip": null,
       "layout": "IPY_MODEL_ec43a6d2f5f64652bf4a4d5eb43f1f44",
       "placeholder": "​",
       "style": "IPY_MODEL_0fd46e70547f47bb9a4d91a757ca4de9",
       "value": ""
      }
     },
     "0fd46e70547f47bb9a4d91a757ca4de9": {
      "model_module": "@jupyter-widgets/controls",
      "model_module_version": "1.5.0",
      "model_name": "DescriptionStyleModel",
      "state": {
       "_model_module": "@jupyter-widgets/controls",
       "_model_module_version": "1.5.0",
       "_model_name": "DescriptionStyleModel",
       "_view_count": null,
       "_view_module": "@jupyter-widgets/base",
       "_view_module_version": "1.2.0",
       "_view_name": "StyleView",
       "description_width": ""
      }
     },
     "10f9ea145b15482093749973ce12b8db": {
      "model_module": "@jupyter-widgets/controls",
      "model_module_version": "1.5.0",
      "model_name": "ProgressStyleModel",
      "state": {
       "_model_module": "@jupyter-widgets/controls",
       "_model_module_version": "1.5.0",
       "_model_name": "ProgressStyleModel",
       "_view_count": null,
       "_view_module": "@jupyter-widgets/base",
       "_view_module_version": "1.2.0",
       "_view_name": "StyleView",
       "bar_color": null,
       "description_width": ""
      }
     },
     "11a972792ed044df8fce6fa50323d2bf": {
      "model_module": "@jupyter-widgets/controls",
      "model_module_version": "1.5.0",
      "model_name": "FloatProgressModel",
      "state": {
       "_dom_classes": [],
       "_model_module": "@jupyter-widgets/controls",
       "_model_module_version": "1.5.0",
       "_model_name": "FloatProgressModel",
       "_view_count": null,
       "_view_module": "@jupyter-widgets/controls",
       "_view_module_version": "1.5.0",
       "_view_name": "ProgressView",
       "bar_style": "success",
       "description": "",
       "description_tooltip": null,
       "layout": "IPY_MODEL_fb3b23122e8d4624888c3f8fcb41b692",
       "max": 26421880.0,
       "min": 0.0,
       "orientation": "horizontal",
       "style": "IPY_MODEL_3d6bbf71637f490bb180fd9fe6fe05f9",
       "value": 26421880.0
      }
     },
     "193c61441ace4cc0aa98ae80253d0b1e": {
      "model_module": "@jupyter-widgets/base",
      "model_module_version": "1.2.0",
      "model_name": "LayoutModel",
      "state": {
       "_model_module": "@jupyter-widgets/base",
       "_model_module_version": "1.2.0",
       "_model_name": "LayoutModel",
       "_view_count": null,
       "_view_module": "@jupyter-widgets/base",
       "_view_module_version": "1.2.0",
       "_view_name": "LayoutView",
       "align_content": null,
       "align_items": null,
       "align_self": null,
       "border": null,
       "bottom": null,
       "display": null,
       "flex": null,
       "flex_flow": null,
       "grid_area": null,
       "grid_auto_columns": null,
       "grid_auto_flow": null,
       "grid_auto_rows": null,
       "grid_column": null,
       "grid_gap": null,
       "grid_row": null,
       "grid_template_areas": null,
       "grid_template_columns": null,
       "grid_template_rows": null,
       "height": null,
       "justify_content": null,
       "justify_items": null,
       "left": null,
       "margin": null,
       "max_height": null,
       "max_width": null,
       "min_height": null,
       "min_width": null,
       "object_fit": null,
       "object_position": null,
       "order": null,
       "overflow": null,
       "overflow_x": null,
       "overflow_y": null,
       "padding": null,
       "right": null,
       "top": null,
       "visibility": null,
       "width": null
      }
     },
     "23f0d06f3e2b4e91b6d98e27106043c8": {
      "model_module": "@jupyter-widgets/base",
      "model_module_version": "1.2.0",
      "model_name": "LayoutModel",
      "state": {
       "_model_module": "@jupyter-widgets/base",
       "_model_module_version": "1.2.0",
       "_model_name": "LayoutModel",
       "_view_count": null,
       "_view_module": "@jupyter-widgets/base",
       "_view_module_version": "1.2.0",
       "_view_name": "LayoutView",
       "align_content": null,
       "align_items": null,
       "align_self": null,
       "border": null,
       "bottom": null,
       "display": null,
       "flex": null,
       "flex_flow": null,
       "grid_area": null,
       "grid_auto_columns": null,
       "grid_auto_flow": null,
       "grid_auto_rows": null,
       "grid_column": null,
       "grid_gap": null,
       "grid_row": null,
       "grid_template_areas": null,
       "grid_template_columns": null,
       "grid_template_rows": null,
       "height": null,
       "justify_content": null,
       "justify_items": null,
       "left": null,
       "margin": null,
       "max_height": null,
       "max_width": null,
       "min_height": null,
       "min_width": null,
       "object_fit": null,
       "object_position": null,
       "order": null,
       "overflow": null,
       "overflow_x": null,
       "overflow_y": null,
       "padding": null,
       "right": null,
       "top": null,
       "visibility": null,
       "width": null
      }
     },
     "25804ad4de0c4102b3732ec1fb102721": {
      "model_module": "@jupyter-widgets/controls",
      "model_module_version": "1.5.0",
      "model_name": "HBoxModel",
      "state": {
       "_dom_classes": [],
       "_model_module": "@jupyter-widgets/controls",
       "_model_module_version": "1.5.0",
       "_model_name": "HBoxModel",
       "_view_count": null,
       "_view_module": "@jupyter-widgets/controls",
       "_view_module_version": "1.5.0",
       "_view_name": "HBoxView",
       "box_style": "",
       "children": [
        "IPY_MODEL_9db2dec7d9f2467b97eefbae51918a63",
        "IPY_MODEL_11a972792ed044df8fce6fa50323d2bf",
        "IPY_MODEL_3aff09f2fa0e40adb18fbfb91976b468"
       ],
       "layout": "IPY_MODEL_cfb8b92578ac47ae8b3098d278956ce6"
      }
     },
     "2ca065877f5e4100af1aa572368980c4": {
      "model_module": "@jupyter-widgets/controls",
      "model_module_version": "1.5.0",
      "model_name": "DescriptionStyleModel",
      "state": {
       "_model_module": "@jupyter-widgets/controls",
       "_model_module_version": "1.5.0",
       "_model_name": "DescriptionStyleModel",
       "_view_count": null,
       "_view_module": "@jupyter-widgets/base",
       "_view_module_version": "1.2.0",
       "_view_name": "StyleView",
       "description_width": ""
      }
     },
     "30663fb77e4d413c8e861a8095e1528b": {
      "model_module": "@jupyter-widgets/controls",
      "model_module_version": "1.5.0",
      "model_name": "FloatProgressModel",
      "state": {
       "_dom_classes": [],
       "_model_module": "@jupyter-widgets/controls",
       "_model_module_version": "1.5.0",
       "_model_name": "FloatProgressModel",
       "_view_count": null,
       "_view_module": "@jupyter-widgets/controls",
       "_view_module_version": "1.5.0",
       "_view_name": "ProgressView",
       "bar_style": "success",
       "description": "",
       "description_tooltip": null,
       "layout": "IPY_MODEL_c07d5a0985b74fd89b3da35ffc293757",
       "max": 4422102.0,
       "min": 0.0,
       "orientation": "horizontal",
       "style": "IPY_MODEL_a44d77dbb39c413693ec381099485eef",
       "value": 4422102.0
      }
     },
     "31c1cc3078db482aa694cab1b441eb8e": {
      "model_module": "@jupyter-widgets/base",
      "model_module_version": "1.2.0",
      "model_name": "LayoutModel",
      "state": {
       "_model_module": "@jupyter-widgets/base",
       "_model_module_version": "1.2.0",
       "_model_name": "LayoutModel",
       "_view_count": null,
       "_view_module": "@jupyter-widgets/base",
       "_view_module_version": "1.2.0",
       "_view_name": "LayoutView",
       "align_content": null,
       "align_items": null,
       "align_self": null,
       "border": null,
       "bottom": null,
       "display": null,
       "flex": null,
       "flex_flow": null,
       "grid_area": null,
       "grid_auto_columns": null,
       "grid_auto_flow": null,
       "grid_auto_rows": null,
       "grid_column": null,
       "grid_gap": null,
       "grid_row": null,
       "grid_template_areas": null,
       "grid_template_columns": null,
       "grid_template_rows": null,
       "height": null,
       "justify_content": null,
       "justify_items": null,
       "left": null,
       "margin": null,
       "max_height": null,
       "max_width": null,
       "min_height": null,
       "min_width": null,
       "object_fit": null,
       "object_position": null,
       "order": null,
       "overflow": null,
       "overflow_x": null,
       "overflow_y": null,
       "padding": null,
       "right": null,
       "top": null,
       "visibility": null,
       "width": null
      }
     },
     "32d494884aee45bea615025d79fe6b83": {
      "model_module": "@jupyter-widgets/base",
      "model_module_version": "1.2.0",
      "model_name": "LayoutModel",
      "state": {
       "_model_module": "@jupyter-widgets/base",
       "_model_module_version": "1.2.0",
       "_model_name": "LayoutModel",
       "_view_count": null,
       "_view_module": "@jupyter-widgets/base",
       "_view_module_version": "1.2.0",
       "_view_name": "LayoutView",
       "align_content": null,
       "align_items": null,
       "align_self": null,
       "border": null,
       "bottom": null,
       "display": null,
       "flex": null,
       "flex_flow": null,
       "grid_area": null,
       "grid_auto_columns": null,
       "grid_auto_flow": null,
       "grid_auto_rows": null,
       "grid_column": null,
       "grid_gap": null,
       "grid_row": null,
       "grid_template_areas": null,
       "grid_template_columns": null,
       "grid_template_rows": null,
       "height": null,
       "justify_content": null,
       "justify_items": null,
       "left": null,
       "margin": null,
       "max_height": null,
       "max_width": null,
       "min_height": null,
       "min_width": null,
       "object_fit": null,
       "object_position": null,
       "order": null,
       "overflow": null,
       "overflow_x": null,
       "overflow_y": null,
       "padding": null,
       "right": null,
       "top": null,
       "visibility": null,
       "width": null
      }
     },
     "37e9db14672e4e3f8962798afcbb6bb9": {
      "model_module": "@jupyter-widgets/controls",
      "model_module_version": "1.5.0",
      "model_name": "FloatProgressModel",
      "state": {
       "_dom_classes": [],
       "_model_module": "@jupyter-widgets/controls",
       "_model_module_version": "1.5.0",
       "_model_name": "FloatProgressModel",
       "_view_count": null,
       "_view_module": "@jupyter-widgets/controls",
       "_view_module_version": "1.5.0",
       "_view_name": "ProgressView",
       "bar_style": "success",
       "description": "",
       "description_tooltip": null,
       "layout": "IPY_MODEL_db4ccec78c8449179867c988a6abb8f1",
       "max": 5148.0,
       "min": 0.0,
       "orientation": "horizontal",
       "style": "IPY_MODEL_6945338e4f0048199716867e4afdcfdc",
       "value": 5148.0
      }
     },
     "3aeaf70f2734439b9255872103d566a3": {
      "model_module": "@jupyter-widgets/controls",
      "model_module_version": "1.5.0",
      "model_name": "DescriptionStyleModel",
      "state": {
       "_model_module": "@jupyter-widgets/controls",
       "_model_module_version": "1.5.0",
       "_model_name": "DescriptionStyleModel",
       "_view_count": null,
       "_view_module": "@jupyter-widgets/base",
       "_view_module_version": "1.2.0",
       "_view_name": "StyleView",
       "description_width": ""
      }
     },
     "3aff09f2fa0e40adb18fbfb91976b468": {
      "model_module": "@jupyter-widgets/controls",
      "model_module_version": "1.5.0",
      "model_name": "HTMLModel",
      "state": {
       "_dom_classes": [],
       "_model_module": "@jupyter-widgets/controls",
       "_model_module_version": "1.5.0",
       "_model_name": "HTMLModel",
       "_view_count": null,
       "_view_module": "@jupyter-widgets/controls",
       "_view_module_version": "1.5.0",
       "_view_name": "HTMLView",
       "description": "",
       "description_tooltip": null,
       "layout": "IPY_MODEL_b408a976ed2740ca9c05f256423ee2ae",
       "placeholder": "​",
       "style": "IPY_MODEL_b87d2b9a68c54eb694b33376e7b9a004",
       "value": " 26422272/? [00:01&lt;00:00, 25165693.80it/s]"
      }
     },
     "3d6bbf71637f490bb180fd9fe6fe05f9": {
      "model_module": "@jupyter-widgets/controls",
      "model_module_version": "1.5.0",
      "model_name": "ProgressStyleModel",
      "state": {
       "_model_module": "@jupyter-widgets/controls",
       "_model_module_version": "1.5.0",
       "_model_name": "ProgressStyleModel",
       "_view_count": null,
       "_view_module": "@jupyter-widgets/base",
       "_view_module_version": "1.2.0",
       "_view_name": "StyleView",
       "bar_color": null,
       "description_width": ""
      }
     },
     "4c347c17a2a446d48775b380f7095e3f": {
      "model_module": "@jupyter-widgets/controls",
      "model_module_version": "1.5.0",
      "model_name": "HTMLModel",
      "state": {
       "_dom_classes": [],
       "_model_module": "@jupyter-widgets/controls",
       "_model_module_version": "1.5.0",
       "_model_name": "HTMLModel",
       "_view_count": null,
       "_view_module": "@jupyter-widgets/controls",
       "_view_module_version": "1.5.0",
       "_view_name": "HTMLView",
       "description": "",
       "description_tooltip": null,
       "layout": "IPY_MODEL_32d494884aee45bea615025d79fe6b83",
       "placeholder": "​",
       "style": "IPY_MODEL_c0b5dddf96724b8eb6f1d5fc556ce6e2",
       "value": " 29696/? [00:00&lt;00:00, 174078.92it/s]"
      }
     },
     "583c680cce354b73bccc67ad8a391233": {
      "model_module": "@jupyter-widgets/controls",
      "model_module_version": "1.5.0",
      "model_name": "HBoxModel",
      "state": {
       "_dom_classes": [],
       "_model_module": "@jupyter-widgets/controls",
       "_model_module_version": "1.5.0",
       "_model_name": "HBoxModel",
       "_view_count": null,
       "_view_module": "@jupyter-widgets/controls",
       "_view_module_version": "1.5.0",
       "_view_name": "HBoxView",
       "box_style": "",
       "children": [
        "IPY_MODEL_59837b82d1fd4b4f91296601ea2eabef",
        "IPY_MODEL_9dd8da6b664c43bfbb612af2c0691818",
        "IPY_MODEL_4c347c17a2a446d48775b380f7095e3f"
       ],
       "layout": "IPY_MODEL_8955556b491142c6964e8c5524cf5227"
      }
     },
     "59837b82d1fd4b4f91296601ea2eabef": {
      "model_module": "@jupyter-widgets/controls",
      "model_module_version": "1.5.0",
      "model_name": "HTMLModel",
      "state": {
       "_dom_classes": [],
       "_model_module": "@jupyter-widgets/controls",
       "_model_module_version": "1.5.0",
       "_model_name": "HTMLModel",
       "_view_count": null,
       "_view_module": "@jupyter-widgets/controls",
       "_view_module_version": "1.5.0",
       "_view_name": "HTMLView",
       "description": "",
       "description_tooltip": null,
       "layout": "IPY_MODEL_9b0c4c966b184575ba342cde48eccba4",
       "placeholder": "​",
       "style": "IPY_MODEL_3aeaf70f2734439b9255872103d566a3",
       "value": ""
      }
     },
     "6945338e4f0048199716867e4afdcfdc": {
      "model_module": "@jupyter-widgets/controls",
      "model_module_version": "1.5.0",
      "model_name": "ProgressStyleModel",
      "state": {
       "_model_module": "@jupyter-widgets/controls",
       "_model_module_version": "1.5.0",
       "_model_name": "ProgressStyleModel",
       "_view_count": null,
       "_view_module": "@jupyter-widgets/base",
       "_view_module_version": "1.2.0",
       "_view_name": "StyleView",
       "bar_color": null,
       "description_width": ""
      }
     },
     "83d5db9912d14053b2b18cc09fee18bd": {
      "model_module": "@jupyter-widgets/base",
      "model_module_version": "1.2.0",
      "model_name": "LayoutModel",
      "state": {
       "_model_module": "@jupyter-widgets/base",
       "_model_module_version": "1.2.0",
       "_model_name": "LayoutModel",
       "_view_count": null,
       "_view_module": "@jupyter-widgets/base",
       "_view_module_version": "1.2.0",
       "_view_name": "LayoutView",
       "align_content": null,
       "align_items": null,
       "align_self": null,
       "border": null,
       "bottom": null,
       "display": null,
       "flex": null,
       "flex_flow": null,
       "grid_area": null,
       "grid_auto_columns": null,
       "grid_auto_flow": null,
       "grid_auto_rows": null,
       "grid_column": null,
       "grid_gap": null,
       "grid_row": null,
       "grid_template_areas": null,
       "grid_template_columns": null,
       "grid_template_rows": null,
       "height": null,
       "justify_content": null,
       "justify_items": null,
       "left": null,
       "margin": null,
       "max_height": null,
       "max_width": null,
       "min_height": null,
       "min_width": null,
       "object_fit": null,
       "object_position": null,
       "order": null,
       "overflow": null,
       "overflow_x": null,
       "overflow_y": null,
       "padding": null,
       "right": null,
       "top": null,
       "visibility": null,
       "width": null
      }
     },
     "8955556b491142c6964e8c5524cf5227": {
      "model_module": "@jupyter-widgets/base",
      "model_module_version": "1.2.0",
      "model_name": "LayoutModel",
      "state": {
       "_model_module": "@jupyter-widgets/base",
       "_model_module_version": "1.2.0",
       "_model_name": "LayoutModel",
       "_view_count": null,
       "_view_module": "@jupyter-widgets/base",
       "_view_module_version": "1.2.0",
       "_view_name": "LayoutView",
       "align_content": null,
       "align_items": null,
       "align_self": null,
       "border": null,
       "bottom": null,
       "display": null,
       "flex": null,
       "flex_flow": null,
       "grid_area": null,
       "grid_auto_columns": null,
       "grid_auto_flow": null,
       "grid_auto_rows": null,
       "grid_column": null,
       "grid_gap": null,
       "grid_row": null,
       "grid_template_areas": null,
       "grid_template_columns": null,
       "grid_template_rows": null,
       "height": null,
       "justify_content": null,
       "justify_items": null,
       "left": null,
       "margin": null,
       "max_height": null,
       "max_width": null,
       "min_height": null,
       "min_width": null,
       "object_fit": null,
       "object_position": null,
       "order": null,
       "overflow": null,
       "overflow_x": null,
       "overflow_y": null,
       "padding": null,
       "right": null,
       "top": null,
       "visibility": null,
       "width": null
      }
     },
     "8e29bac088e744ea8c8efce25692cc52": {
      "model_module": "@jupyter-widgets/controls",
      "model_module_version": "1.5.0",
      "model_name": "DescriptionStyleModel",
      "state": {
       "_model_module": "@jupyter-widgets/controls",
       "_model_module_version": "1.5.0",
       "_model_name": "DescriptionStyleModel",
       "_view_count": null,
       "_view_module": "@jupyter-widgets/base",
       "_view_module_version": "1.2.0",
       "_view_name": "StyleView",
       "description_width": ""
      }
     },
     "9b0c4c966b184575ba342cde48eccba4": {
      "model_module": "@jupyter-widgets/base",
      "model_module_version": "1.2.0",
      "model_name": "LayoutModel",
      "state": {
       "_model_module": "@jupyter-widgets/base",
       "_model_module_version": "1.2.0",
       "_model_name": "LayoutModel",
       "_view_count": null,
       "_view_module": "@jupyter-widgets/base",
       "_view_module_version": "1.2.0",
       "_view_name": "LayoutView",
       "align_content": null,
       "align_items": null,
       "align_self": null,
       "border": null,
       "bottom": null,
       "display": null,
       "flex": null,
       "flex_flow": null,
       "grid_area": null,
       "grid_auto_columns": null,
       "grid_auto_flow": null,
       "grid_auto_rows": null,
       "grid_column": null,
       "grid_gap": null,
       "grid_row": null,
       "grid_template_areas": null,
       "grid_template_columns": null,
       "grid_template_rows": null,
       "height": null,
       "justify_content": null,
       "justify_items": null,
       "left": null,
       "margin": null,
       "max_height": null,
       "max_width": null,
       "min_height": null,
       "min_width": null,
       "object_fit": null,
       "object_position": null,
       "order": null,
       "overflow": null,
       "overflow_x": null,
       "overflow_y": null,
       "padding": null,
       "right": null,
       "top": null,
       "visibility": null,
       "width": null
      }
     },
     "9db2dec7d9f2467b97eefbae51918a63": {
      "model_module": "@jupyter-widgets/controls",
      "model_module_version": "1.5.0",
      "model_name": "HTMLModel",
      "state": {
       "_dom_classes": [],
       "_model_module": "@jupyter-widgets/controls",
       "_model_module_version": "1.5.0",
       "_model_name": "HTMLModel",
       "_view_count": null,
       "_view_module": "@jupyter-widgets/controls",
       "_view_module_version": "1.5.0",
       "_view_name": "HTMLView",
       "description": "",
       "description_tooltip": null,
       "layout": "IPY_MODEL_23f0d06f3e2b4e91b6d98e27106043c8",
       "placeholder": "​",
       "style": "IPY_MODEL_8e29bac088e744ea8c8efce25692cc52",
       "value": ""
      }
     },
     "9dd8da6b664c43bfbb612af2c0691818": {
      "model_module": "@jupyter-widgets/controls",
      "model_module_version": "1.5.0",
      "model_name": "FloatProgressModel",
      "state": {
       "_dom_classes": [],
       "_model_module": "@jupyter-widgets/controls",
       "_model_module_version": "1.5.0",
       "_model_name": "FloatProgressModel",
       "_view_count": null,
       "_view_module": "@jupyter-widgets/controls",
       "_view_module_version": "1.5.0",
       "_view_name": "ProgressView",
       "bar_style": "success",
       "description": "",
       "description_tooltip": null,
       "layout": "IPY_MODEL_193c61441ace4cc0aa98ae80253d0b1e",
       "max": 29515.0,
       "min": 0.0,
       "orientation": "horizontal",
       "style": "IPY_MODEL_10f9ea145b15482093749973ce12b8db",
       "value": 29515.0
      }
     },
     "a44d77dbb39c413693ec381099485eef": {
      "model_module": "@jupyter-widgets/controls",
      "model_module_version": "1.5.0",
      "model_name": "ProgressStyleModel",
      "state": {
       "_model_module": "@jupyter-widgets/controls",
       "_model_module_version": "1.5.0",
       "_model_name": "ProgressStyleModel",
       "_view_count": null,
       "_view_module": "@jupyter-widgets/base",
       "_view_module_version": "1.2.0",
       "_view_name": "StyleView",
       "bar_color": null,
       "description_width": ""
      }
     },
     "aa4e93dd85864322886e24006f349056": {
      "model_module": "@jupyter-widgets/controls",
      "model_module_version": "1.5.0",
      "model_name": "HBoxModel",
      "state": {
       "_dom_classes": [],
       "_model_module": "@jupyter-widgets/controls",
       "_model_module_version": "1.5.0",
       "_model_name": "HBoxModel",
       "_view_count": null,
       "_view_module": "@jupyter-widgets/controls",
       "_view_module_version": "1.5.0",
       "_view_name": "HBoxView",
       "box_style": "",
       "children": [
        "IPY_MODEL_0f9abfddefc34f7eb70e3502e693ac0b",
        "IPY_MODEL_37e9db14672e4e3f8962798afcbb6bb9",
        "IPY_MODEL_d706b7e163c348b5bd2866dfff340f14"
       ],
       "layout": "IPY_MODEL_b82035f3a98d40e59b597833097ad15f"
      }
     },
     "b025b531ded54ce996bb672a7571df1f": {
      "model_module": "@jupyter-widgets/controls",
      "model_module_version": "1.5.0",
      "model_name": "DescriptionStyleModel",
      "state": {
       "_model_module": "@jupyter-widgets/controls",
       "_model_module_version": "1.5.0",
       "_model_name": "DescriptionStyleModel",
       "_view_count": null,
       "_view_module": "@jupyter-widgets/base",
       "_view_module_version": "1.2.0",
       "_view_name": "StyleView",
       "description_width": ""
      }
     },
     "b408a976ed2740ca9c05f256423ee2ae": {
      "model_module": "@jupyter-widgets/base",
      "model_module_version": "1.2.0",
      "model_name": "LayoutModel",
      "state": {
       "_model_module": "@jupyter-widgets/base",
       "_model_module_version": "1.2.0",
       "_model_name": "LayoutModel",
       "_view_count": null,
       "_view_module": "@jupyter-widgets/base",
       "_view_module_version": "1.2.0",
       "_view_name": "LayoutView",
       "align_content": null,
       "align_items": null,
       "align_self": null,
       "border": null,
       "bottom": null,
       "display": null,
       "flex": null,
       "flex_flow": null,
       "grid_area": null,
       "grid_auto_columns": null,
       "grid_auto_flow": null,
       "grid_auto_rows": null,
       "grid_column": null,
       "grid_gap": null,
       "grid_row": null,
       "grid_template_areas": null,
       "grid_template_columns": null,
       "grid_template_rows": null,
       "height": null,
       "justify_content": null,
       "justify_items": null,
       "left": null,
       "margin": null,
       "max_height": null,
       "max_width": null,
       "min_height": null,
       "min_width": null,
       "object_fit": null,
       "object_position": null,
       "order": null,
       "overflow": null,
       "overflow_x": null,
       "overflow_y": null,
       "padding": null,
       "right": null,
       "top": null,
       "visibility": null,
       "width": null
      }
     },
     "b82035f3a98d40e59b597833097ad15f": {
      "model_module": "@jupyter-widgets/base",
      "model_module_version": "1.2.0",
      "model_name": "LayoutModel",
      "state": {
       "_model_module": "@jupyter-widgets/base",
       "_model_module_version": "1.2.0",
       "_model_name": "LayoutModel",
       "_view_count": null,
       "_view_module": "@jupyter-widgets/base",
       "_view_module_version": "1.2.0",
       "_view_name": "LayoutView",
       "align_content": null,
       "align_items": null,
       "align_self": null,
       "border": null,
       "bottom": null,
       "display": null,
       "flex": null,
       "flex_flow": null,
       "grid_area": null,
       "grid_auto_columns": null,
       "grid_auto_flow": null,
       "grid_auto_rows": null,
       "grid_column": null,
       "grid_gap": null,
       "grid_row": null,
       "grid_template_areas": null,
       "grid_template_columns": null,
       "grid_template_rows": null,
       "height": null,
       "justify_content": null,
       "justify_items": null,
       "left": null,
       "margin": null,
       "max_height": null,
       "max_width": null,
       "min_height": null,
       "min_width": null,
       "object_fit": null,
       "object_position": null,
       "order": null,
       "overflow": null,
       "overflow_x": null,
       "overflow_y": null,
       "padding": null,
       "right": null,
       "top": null,
       "visibility": null,
       "width": null
      }
     },
     "b87d2b9a68c54eb694b33376e7b9a004": {
      "model_module": "@jupyter-widgets/controls",
      "model_module_version": "1.5.0",
      "model_name": "DescriptionStyleModel",
      "state": {
       "_model_module": "@jupyter-widgets/controls",
       "_model_module_version": "1.5.0",
       "_model_name": "DescriptionStyleModel",
       "_view_count": null,
       "_view_module": "@jupyter-widgets/base",
       "_view_module_version": "1.2.0",
       "_view_name": "StyleView",
       "description_width": ""
      }
     },
     "c07d5a0985b74fd89b3da35ffc293757": {
      "model_module": "@jupyter-widgets/base",
      "model_module_version": "1.2.0",
      "model_name": "LayoutModel",
      "state": {
       "_model_module": "@jupyter-widgets/base",
       "_model_module_version": "1.2.0",
       "_model_name": "LayoutModel",
       "_view_count": null,
       "_view_module": "@jupyter-widgets/base",
       "_view_module_version": "1.2.0",
       "_view_name": "LayoutView",
       "align_content": null,
       "align_items": null,
       "align_self": null,
       "border": null,
       "bottom": null,
       "display": null,
       "flex": null,
       "flex_flow": null,
       "grid_area": null,
       "grid_auto_columns": null,
       "grid_auto_flow": null,
       "grid_auto_rows": null,
       "grid_column": null,
       "grid_gap": null,
       "grid_row": null,
       "grid_template_areas": null,
       "grid_template_columns": null,
       "grid_template_rows": null,
       "height": null,
       "justify_content": null,
       "justify_items": null,
       "left": null,
       "margin": null,
       "max_height": null,
       "max_width": null,
       "min_height": null,
       "min_width": null,
       "object_fit": null,
       "object_position": null,
       "order": null,
       "overflow": null,
       "overflow_x": null,
       "overflow_y": null,
       "padding": null,
       "right": null,
       "top": null,
       "visibility": null,
       "width": null
      }
     },
     "c0b5dddf96724b8eb6f1d5fc556ce6e2": {
      "model_module": "@jupyter-widgets/controls",
      "model_module_version": "1.5.0",
      "model_name": "DescriptionStyleModel",
      "state": {
       "_model_module": "@jupyter-widgets/controls",
       "_model_module_version": "1.5.0",
       "_model_name": "DescriptionStyleModel",
       "_view_count": null,
       "_view_module": "@jupyter-widgets/base",
       "_view_module_version": "1.2.0",
       "_view_name": "StyleView",
       "description_width": ""
      }
     },
     "cad39c971eaf4d03ab3b2e7c5e9886f4": {
      "model_module": "@jupyter-widgets/controls",
      "model_module_version": "1.5.0",
      "model_name": "DescriptionStyleModel",
      "state": {
       "_model_module": "@jupyter-widgets/controls",
       "_model_module_version": "1.5.0",
       "_model_name": "DescriptionStyleModel",
       "_view_count": null,
       "_view_module": "@jupyter-widgets/base",
       "_view_module_version": "1.2.0",
       "_view_name": "StyleView",
       "description_width": ""
      }
     },
     "cfb8b92578ac47ae8b3098d278956ce6": {
      "model_module": "@jupyter-widgets/base",
      "model_module_version": "1.2.0",
      "model_name": "LayoutModel",
      "state": {
       "_model_module": "@jupyter-widgets/base",
       "_model_module_version": "1.2.0",
       "_model_name": "LayoutModel",
       "_view_count": null,
       "_view_module": "@jupyter-widgets/base",
       "_view_module_version": "1.2.0",
       "_view_name": "LayoutView",
       "align_content": null,
       "align_items": null,
       "align_self": null,
       "border": null,
       "bottom": null,
       "display": null,
       "flex": null,
       "flex_flow": null,
       "grid_area": null,
       "grid_auto_columns": null,
       "grid_auto_flow": null,
       "grid_auto_rows": null,
       "grid_column": null,
       "grid_gap": null,
       "grid_row": null,
       "grid_template_areas": null,
       "grid_template_columns": null,
       "grid_template_rows": null,
       "height": null,
       "justify_content": null,
       "justify_items": null,
       "left": null,
       "margin": null,
       "max_height": null,
       "max_width": null,
       "min_height": null,
       "min_width": null,
       "object_fit": null,
       "object_position": null,
       "order": null,
       "overflow": null,
       "overflow_x": null,
       "overflow_y": null,
       "padding": null,
       "right": null,
       "top": null,
       "visibility": null,
       "width": null
      }
     },
     "d706b7e163c348b5bd2866dfff340f14": {
      "model_module": "@jupyter-widgets/controls",
      "model_module_version": "1.5.0",
      "model_name": "HTMLModel",
      "state": {
       "_dom_classes": [],
       "_model_module": "@jupyter-widgets/controls",
       "_model_module_version": "1.5.0",
       "_model_name": "HTMLModel",
       "_view_count": null,
       "_view_module": "@jupyter-widgets/controls",
       "_view_module_version": "1.5.0",
       "_view_name": "HTMLView",
       "description": "",
       "description_tooltip": null,
       "layout": "IPY_MODEL_31c1cc3078db482aa694cab1b441eb8e",
       "placeholder": "​",
       "style": "IPY_MODEL_b025b531ded54ce996bb672a7571df1f",
       "value": " 6144/? [00:00&lt;00:00, 223775.86it/s]"
      }
     },
     "db4ccec78c8449179867c988a6abb8f1": {
      "model_module": "@jupyter-widgets/base",
      "model_module_version": "1.2.0",
      "model_name": "LayoutModel",
      "state": {
       "_model_module": "@jupyter-widgets/base",
       "_model_module_version": "1.2.0",
       "_model_name": "LayoutModel",
       "_view_count": null,
       "_view_module": "@jupyter-widgets/base",
       "_view_module_version": "1.2.0",
       "_view_name": "LayoutView",
       "align_content": null,
       "align_items": null,
       "align_self": null,
       "border": null,
       "bottom": null,
       "display": null,
       "flex": null,
       "flex_flow": null,
       "grid_area": null,
       "grid_auto_columns": null,
       "grid_auto_flow": null,
       "grid_auto_rows": null,
       "grid_column": null,
       "grid_gap": null,
       "grid_row": null,
       "grid_template_areas": null,
       "grid_template_columns": null,
       "grid_template_rows": null,
       "height": null,
       "justify_content": null,
       "justify_items": null,
       "left": null,
       "margin": null,
       "max_height": null,
       "max_width": null,
       "min_height": null,
       "min_width": null,
       "object_fit": null,
       "object_position": null,
       "order": null,
       "overflow": null,
       "overflow_x": null,
       "overflow_y": null,
       "padding": null,
       "right": null,
       "top": null,
       "visibility": null,
       "width": null
      }
     },
     "df593474c8804b86886c7f63f842e388": {
      "model_module": "@jupyter-widgets/controls",
      "model_module_version": "1.5.0",
      "model_name": "HTMLModel",
      "state": {
       "_dom_classes": [],
       "_model_module": "@jupyter-widgets/controls",
       "_model_module_version": "1.5.0",
       "_model_name": "HTMLModel",
       "_view_count": null,
       "_view_module": "@jupyter-widgets/controls",
       "_view_module_version": "1.5.0",
       "_view_name": "HTMLView",
       "description": "",
       "description_tooltip": null,
       "layout": "IPY_MODEL_83d5db9912d14053b2b18cc09fee18bd",
       "placeholder": "​",
       "style": "IPY_MODEL_cad39c971eaf4d03ab3b2e7c5e9886f4",
       "value": ""
      }
     },
     "e43fa1a14c8c423fa67435ea72ad0e02": {
      "model_module": "@jupyter-widgets/controls",
      "model_module_version": "1.5.0",
      "model_name": "HBoxModel",
      "state": {
       "_dom_classes": [],
       "_model_module": "@jupyter-widgets/controls",
       "_model_module_version": "1.5.0",
       "_model_name": "HBoxModel",
       "_view_count": null,
       "_view_module": "@jupyter-widgets/controls",
       "_view_module_version": "1.5.0",
       "_view_name": "HBoxView",
       "box_style": "",
       "children": [
        "IPY_MODEL_df593474c8804b86886c7f63f842e388",
        "IPY_MODEL_30663fb77e4d413c8e861a8095e1528b",
        "IPY_MODEL_051e21f9605b46ac9bc08f571f0cd8a6"
       ],
       "layout": "IPY_MODEL_f6c429511fba489692ef25ff788fd973"
      }
     },
     "ec43a6d2f5f64652bf4a4d5eb43f1f44": {
      "model_module": "@jupyter-widgets/base",
      "model_module_version": "1.2.0",
      "model_name": "LayoutModel",
      "state": {
       "_model_module": "@jupyter-widgets/base",
       "_model_module_version": "1.2.0",
       "_model_name": "LayoutModel",
       "_view_count": null,
       "_view_module": "@jupyter-widgets/base",
       "_view_module_version": "1.2.0",
       "_view_name": "LayoutView",
       "align_content": null,
       "align_items": null,
       "align_self": null,
       "border": null,
       "bottom": null,
       "display": null,
       "flex": null,
       "flex_flow": null,
       "grid_area": null,
       "grid_auto_columns": null,
       "grid_auto_flow": null,
       "grid_auto_rows": null,
       "grid_column": null,
       "grid_gap": null,
       "grid_row": null,
       "grid_template_areas": null,
       "grid_template_columns": null,
       "grid_template_rows": null,
       "height": null,
       "justify_content": null,
       "justify_items": null,
       "left": null,
       "margin": null,
       "max_height": null,
       "max_width": null,
       "min_height": null,
       "min_width": null,
       "object_fit": null,
       "object_position": null,
       "order": null,
       "overflow": null,
       "overflow_x": null,
       "overflow_y": null,
       "padding": null,
       "right": null,
       "top": null,
       "visibility": null,
       "width": null
      }
     },
     "f6c429511fba489692ef25ff788fd973": {
      "model_module": "@jupyter-widgets/base",
      "model_module_version": "1.2.0",
      "model_name": "LayoutModel",
      "state": {
       "_model_module": "@jupyter-widgets/base",
       "_model_module_version": "1.2.0",
       "_model_name": "LayoutModel",
       "_view_count": null,
       "_view_module": "@jupyter-widgets/base",
       "_view_module_version": "1.2.0",
       "_view_name": "LayoutView",
       "align_content": null,
       "align_items": null,
       "align_self": null,
       "border": null,
       "bottom": null,
       "display": null,
       "flex": null,
       "flex_flow": null,
       "grid_area": null,
       "grid_auto_columns": null,
       "grid_auto_flow": null,
       "grid_auto_rows": null,
       "grid_column": null,
       "grid_gap": null,
       "grid_row": null,
       "grid_template_areas": null,
       "grid_template_columns": null,
       "grid_template_rows": null,
       "height": null,
       "justify_content": null,
       "justify_items": null,
       "left": null,
       "margin": null,
       "max_height": null,
       "max_width": null,
       "min_height": null,
       "min_width": null,
       "object_fit": null,
       "object_position": null,
       "order": null,
       "overflow": null,
       "overflow_x": null,
       "overflow_y": null,
       "padding": null,
       "right": null,
       "top": null,
       "visibility": null,
       "width": null
      }
     },
     "f7b248843a6246b88661efd7d939aaa9": {
      "model_module": "@jupyter-widgets/base",
      "model_module_version": "1.2.0",
      "model_name": "LayoutModel",
      "state": {
       "_model_module": "@jupyter-widgets/base",
       "_model_module_version": "1.2.0",
       "_model_name": "LayoutModel",
       "_view_count": null,
       "_view_module": "@jupyter-widgets/base",
       "_view_module_version": "1.2.0",
       "_view_name": "LayoutView",
       "align_content": null,
       "align_items": null,
       "align_self": null,
       "border": null,
       "bottom": null,
       "display": null,
       "flex": null,
       "flex_flow": null,
       "grid_area": null,
       "grid_auto_columns": null,
       "grid_auto_flow": null,
       "grid_auto_rows": null,
       "grid_column": null,
       "grid_gap": null,
       "grid_row": null,
       "grid_template_areas": null,
       "grid_template_columns": null,
       "grid_template_rows": null,
       "height": null,
       "justify_content": null,
       "justify_items": null,
       "left": null,
       "margin": null,
       "max_height": null,
       "max_width": null,
       "min_height": null,
       "min_width": null,
       "object_fit": null,
       "object_position": null,
       "order": null,
       "overflow": null,
       "overflow_x": null,
       "overflow_y": null,
       "padding": null,
       "right": null,
       "top": null,
       "visibility": null,
       "width": null
      }
     },
     "fb3b23122e8d4624888c3f8fcb41b692": {
      "model_module": "@jupyter-widgets/base",
      "model_module_version": "1.2.0",
      "model_name": "LayoutModel",
      "state": {
       "_model_module": "@jupyter-widgets/base",
       "_model_module_version": "1.2.0",
       "_model_name": "LayoutModel",
       "_view_count": null,
       "_view_module": "@jupyter-widgets/base",
       "_view_module_version": "1.2.0",
       "_view_name": "LayoutView",
       "align_content": null,
       "align_items": null,
       "align_self": null,
       "border": null,
       "bottom": null,
       "display": null,
       "flex": null,
       "flex_flow": null,
       "grid_area": null,
       "grid_auto_columns": null,
       "grid_auto_flow": null,
       "grid_auto_rows": null,
       "grid_column": null,
       "grid_gap": null,
       "grid_row": null,
       "grid_template_areas": null,
       "grid_template_columns": null,
       "grid_template_rows": null,
       "height": null,
       "justify_content": null,
       "justify_items": null,
       "left": null,
       "margin": null,
       "max_height": null,
       "max_width": null,
       "min_height": null,
       "min_width": null,
       "object_fit": null,
       "object_position": null,
       "order": null,
       "overflow": null,
       "overflow_x": null,
       "overflow_y": null,
       "padding": null,
       "right": null,
       "top": null,
       "visibility": null,
       "width": null
      }
     }
    },
    "version_major": 2,
    "version_minor": 0
   }
  }
 },
 "nbformat": 4,
 "nbformat_minor": 5
}
